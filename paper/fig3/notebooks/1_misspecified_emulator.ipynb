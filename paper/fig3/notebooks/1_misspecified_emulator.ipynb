{
 "cells": [
  {
   "cell_type": "markdown",
   "id": "e2b7046c-c2a4-400f-99d1-128b340b3bcc",
   "metadata": {},
   "source": [
    "# Effect of misspecification on GBI samples learned via emulator\n",
    "...and normalizing constant.\n",
    "\n",
    "Learn an emulator (e.g., SNLE) and sample from that to generate GBI distances, which is then used for GBI sampling"
   ]
  },
  {
   "cell_type": "code",
   "execution_count": 20,
   "id": "2af53870-343a-45ce-94c9-c37d5139c6a7",
   "metadata": {},
   "outputs": [
    {
     "name": "stdout",
     "output_type": "stream",
     "text": [
      "The autoreload extension is already loaded. To reload it, use:\n",
      "  %reload_ext autoreload\n"
     ]
    }
   ],
   "source": [
    "%load_ext autoreload\n",
    "%autoreload 2"
   ]
  },
  {
   "cell_type": "code",
   "execution_count": 32,
   "id": "dd0dcdb4-3754-443b-9ca8-6f426e1c0e6c",
   "metadata": {},
   "outputs": [],
   "source": [
    "import matplotlib.pyplot as plt\n",
    "import torch\n",
    "from torch import zeros, ones, sqrt\n",
    "\n",
    "from sbi.utils import BoxUniform, likelihood_nn\n",
    "from sbi.utils.gbi import build_generalized_log_likelihood, GBIPotential, mse_dist\n",
    "from sbi.inference import SNLE, RejectionPosterior, likelihood_estimator_based_potential"
   ]
  },
  {
   "cell_type": "markdown",
   "id": "1a209f35-1b2b-4fb7-9cf0-a3664053e7f1",
   "metadata": {},
   "source": [
    "### Define simulator, simulate, train emulator"
   ]
  },
  {
   "cell_type": "code",
   "execution_count": 22,
   "id": "bfe3a18b-9e18-422a-9d75-a54443027b1f",
   "metadata": {},
   "outputs": [],
   "source": [
    "prior = BoxUniform(-ones(2), ones(2))\n",
    "def simulator(theta):\n",
    "    return theta ** 2 + torch.randn(theta.shape) * 0.1"
   ]
  },
  {
   "cell_type": "code",
   "execution_count": 23,
   "id": "0cfc7fbc-b753-44b0-85a5-8993f696128c",
   "metadata": {},
   "outputs": [
    {
     "name": "stdout",
     "output_type": "stream",
     "text": [
      " Training neural network. Epochs trained: 31"
     ]
    }
   ],
   "source": [
    "_ = torch.manual_seed(0)\n",
    "theta = prior.sample((1_000,))\n",
    "x = simulator(theta)\n",
    "\n",
    "density_estimator = likelihood_nn(\"nsf\")\n",
    "inference = SNLE(prior, density_estimator=density_estimator)\n",
    "net = inference.append_simulations(theta, x).train(max_num_epochs=30)"
   ]
  },
  {
   "cell_type": "markdown",
   "id": "f6e467d3-b803-48fb-8e93-c79a9fb6dffc",
   "metadata": {},
   "source": [
    "### Emulator samples are used to compute distances for theta"
   ]
  },
  {
   "cell_type": "code",
   "execution_count": 25,
   "id": "48c8e440-2423-460d-be90-b8033a237145",
   "metadata": {},
   "outputs": [],
   "source": [
    "generalized_likelihood = build_generalized_log_likelihood(\n",
    "    emulator=net,\n",
    "    x_o=-0.5*torch.ones((1,2)),\n",
    "    dist_func=mse_dist,\n",
    "    n_per_theta=1_000\n",
    ")\n",
    "emulator_dists = generalized_likelihood(theta).detach()"
   ]
  },
  {
   "cell_type": "code",
   "execution_count": 26,
   "id": "ff4bd6e4-c1d0-4256-9703-accb299061a6",
   "metadata": {},
   "outputs": [
    {
     "data": {
      "text/plain": [
       "(torch.Size([1000]), torch.Size([1000, 2]), torch.Size([1000, 2]))"
      ]
     },
     "execution_count": 26,
     "metadata": {},
     "output_type": "execute_result"
    }
   ],
   "source": [
    "emulator_dists.shape, theta.shape, x.shape"
   ]
  },
  {
   "cell_type": "markdown",
   "id": "407346b6-8f88-4b91-8cf0-70e4696330b6",
   "metadata": {},
   "source": [
    "### Example 1"
   ]
  },
  {
   "cell_type": "code",
   "execution_count": 142,
   "id": "d3e7b1fe-b961-4b9e-84ef-9d320e1321bd",
   "metadata": {},
   "outputs": [],
   "source": [
    "thetas = torch.linspace(-4, 4, 100)\n",
    "# x = (thetas**2 - 2)**2\n",
    "\n",
    "xo = -25*ones(1)"
   ]
  },
  {
   "cell_type": "code",
   "execution_count": 143,
   "id": "3f29d7ec-a48f-41d8-acc2-05a6b5ce74f6",
   "metadata": {},
   "outputs": [
    {
     "data": {
      "image/png": "[encoded data removed]",
      "text/plain": [
       "<Figure size 288x288 with 1 Axes>"
      ]
     },
     "metadata": {
      "needs_background": "light"
     },
     "output_type": "display_data"
    }
   ],
   "source": [
    "fig, ax = plt.subplots(1, 1, figsize=(4, 4))\n",
    "_ = ax.plot(thetas.numpy(), x.numpy())\n",
    "ax.axhline(xo.numpy(), c=\"r\")\n",
    "plt.show()"
   ]
  },
  {
   "cell_type": "code",
   "execution_count": 161,
   "id": "f8e14c10-aad7-4819-a72b-09c02036456d",
   "metadata": {},
   "outputs": [],
   "source": [
    "likelihoods = torch.distributions.Normal((thetas**2 - 2)**2, 0.1*torch.ones(1))\n",
    "s = likelihoods.sample((1000,))"
   ]
  },
  {
   "cell_type": "code",
   "execution_count": 162,
   "id": "4a59de00-5ed9-4da4-baee-0639242dfc2a",
   "metadata": {},
   "outputs": [],
   "source": [
    "dists = ((s - xo)**2).mean(dim=0)"
   ]
  },
  {
   "cell_type": "code",
   "execution_count": 163,
   "id": "f213db48-8a45-4f3d-88b0-19142d8dd615",
   "metadata": {},
   "outputs": [],
   "source": [
    "from torch import tensor"
   ]
  },
  {
   "cell_type": "code",
   "execution_count": 169,
   "id": "1f31bc16-17c3-499b-a007-2de1c1dc8602",
   "metadata": {},
   "outputs": [],
   "source": [
    "all_z = []\n",
    "all_beta = list(range(1, 2000, 1))\n",
    "for beta in all_beta:\n",
    "    func1 = torch.exp(-1/beta*dists) / sqrt(tensor(beta))\n",
    "    normalizer = func1.max()\n",
    "    # print(beta, normalizer)\n",
    "    \n",
    "    # fig, ax = plt.subplots(1, 1, figsize=(2, 2))\n",
    "    # _ = ax.plot(thetas.numpy(), func1.numpy())\n",
    "    # plt.show()\n",
    "    all_z.append(normalizer)"
   ]
  },
  {
   "cell_type": "code",
   "execution_count": 170,
   "id": "311fa2a9-9222-41db-84f3-660988a9ade5",
   "metadata": {},
   "outputs": [
    {
     "data": {
      "text/plain": [
       "[<matplotlib.lines.Line2D at 0x7fd205bbca30>]"
      ]
     },
     "execution_count": 170,
     "metadata": {},
     "output_type": "execute_result"
    },
    {
     "data": {
      "image/png": "[encoded data removed]",
      "text/plain": [
       "<Figure size 504x432 with 1 Axes>"
      ]
     },
     "metadata": {
      "needs_background": "light"
     },
     "output_type": "display_data"
    }
   ],
   "source": [
    "fig, ax = plt.subplots(1, 1, figsize=(7, 6))\n",
    "ax.plot(all_beta, all_z)"
   ]
  },
  {
   "cell_type": "code",
   "execution_count": 171,
   "id": "309194e8-c58a-4d78-a1d7-66a6ae37c3a3",
   "metadata": {},
   "outputs": [
    {
     "name": "stdout",
     "output_type": "stream",
     "text": [
      "1249\n"
     ]
    }
   ],
   "source": [
    "import numpy as np\n",
    "optimal_beta = all_beta[np.argmax(all_z)]\n",
    "print(optimal_beta)"
   ]
  },
  {
   "cell_type": "code",
   "execution_count": 172,
   "id": "4c821388-0e04-4bcd-92e0-60b56d8ca811",
   "metadata": {},
   "outputs": [
    {
     "data": {
      "image/png": "[encoded data removed]",
      "text/plain": [
       "<Figure size 144x144 with 1 Axes>"
      ]
     },
     "metadata": {
      "needs_background": "light"
     },
     "output_type": "display_data"
    }
   ],
   "source": [
    "func1 = torch.exp(-1/optimal_beta*dists) / sqrt(tensor(optimal_beta))\n",
    "normalizer = func1.sum()\n",
    "fig, ax = plt.subplots(1, 1, figsize=(2, 2))\n",
    "_ = ax.plot(thetas.numpy(), func1.numpy())\n",
    "plt.show()"
   ]
  },
  {
   "cell_type": "markdown",
   "id": "d42e8903-46a4-4c2a-ba88-0500e9e51cc3",
   "metadata": {},
   "source": [
    "### Example 2"
   ]
  },
  {
   "cell_type": "code",
   "execution_count": 28,
   "id": "19c33c0d-fff9-4a1f-a809-04ec788410d4",
   "metadata": {},
   "outputs": [
    {
     "name": "stdout",
     "output_type": "stream",
     "text": [
      "tensor(0.0029)\n"
     ]
    }
   ],
   "source": [
    "p_of_x = func1[-1]\n",
    "print(p_of_x)"
   ]
  },
  {
   "cell_type": "code",
   "execution_count": 29,
   "id": "b4a1b24a-f09f-45c7-a5a7-9a94283971d9",
   "metadata": {},
   "outputs": [
    {
     "name": "stdout",
     "output_type": "stream",
     "text": [
      "beta tensor(1.0000e-05)\n"
     ]
    },
    {
     "name": "stderr",
     "output_type": "stream",
     "text": [
      "/home/rdgao/miniconda3/envs/gbi/lib/python3.8/site-packages/nflows/transforms/lu.py:80: UserWarning: torch.triangular_solve is deprecated in favor of torch.linalg.solve_triangularand will be removed in a future PyTorch release.\n",
      "torch.linalg.solve_triangular has its arguments reversed and does not return a copy of one of the inputs.\n",
      "X = torch.triangular_solve(B, A).solution\n",
      "should be replaced with\n",
      "X = torch.linalg.solve_triangular(A, B). (Triggered internally at  ../aten/src/ATen/native/BatchLinearAlgebra.cpp:2189.)\n",
      "  outputs, _ = torch.triangular_solve(\n"
     ]
    },
    {
     "ename": "ValueError",
     "evalue": "Number of input items must be equal to number of context items.",
     "output_type": "error",
     "traceback": [
      "\u001b[0;31m---------------------------------------------------------------------------\u001b[0m",
      "\u001b[0;31mValueError\u001b[0m                                Traceback (most recent call last)",
      "Cell \u001b[0;32mIn [29], line 14\u001b[0m\n\u001b[1;32m     12\u001b[0m theta_samples \u001b[38;5;241m=\u001b[39m prior\u001b[38;5;241m.\u001b[39msample((\u001b[38;5;241m1000\u001b[39m,))\n\u001b[1;32m     13\u001b[0m x_samples \u001b[38;5;241m=\u001b[39m net\u001b[38;5;241m.\u001b[39msample(\u001b[38;5;241m1\u001b[39m, context\u001b[38;5;241m=\u001b[39mtheta_samples)[\u001b[38;5;241m0\u001b[39m]\n\u001b[0;32m---> 14\u001b[0m x_probs \u001b[38;5;241m=\u001b[39m \u001b[43mnet\u001b[49m\u001b[38;5;241;43m.\u001b[39;49m\u001b[43mlog_prob\u001b[49m\u001b[43m(\u001b[49m\u001b[43mx_samples\u001b[49m\u001b[43m,\u001b[49m\u001b[43m \u001b[49m\u001b[43mcontext\u001b[49m\u001b[38;5;241;43m=\u001b[39;49m\u001b[43mtheta_samples\u001b[49m\u001b[43m)\u001b[49m\u001b[38;5;241m.\u001b[39mexp()\u001b[38;5;241m.\u001b[39mmean(dim\u001b[38;5;241m=\u001b[39m\u001b[38;5;241m1\u001b[39m)\n\u001b[1;32m     15\u001b[0m z1_of_beta \u001b[38;5;241m=\u001b[39m (gbi_potential(x_samples, track_gradients\u001b[38;5;241m=\u001b[39m\u001b[38;5;28;01mFalse\u001b[39;00m)\u001b[38;5;241m.\u001b[39mexp() \u001b[38;5;241m/\u001b[39m x_probs)\u001b[38;5;241m.\u001b[39mmean()\n\u001b[1;32m     17\u001b[0m \u001b[38;5;66;03m# Estimate Z_2\u001b[39;00m\n",
      "File \u001b[0;32m~/miniconda3/envs/gbi/lib/python3.8/site-packages/nflows/distributions/base.py:37\u001b[0m, in \u001b[0;36mDistribution.log_prob\u001b[0;34m(self, inputs, context)\u001b[0m\n\u001b[1;32m     35\u001b[0m     context \u001b[38;5;241m=\u001b[39m torch\u001b[38;5;241m.\u001b[39mas_tensor(context)\n\u001b[1;32m     36\u001b[0m     \u001b[38;5;28;01mif\u001b[39;00m inputs\u001b[38;5;241m.\u001b[39mshape[\u001b[38;5;241m0\u001b[39m] \u001b[38;5;241m!=\u001b[39m context\u001b[38;5;241m.\u001b[39mshape[\u001b[38;5;241m0\u001b[39m]:\n\u001b[0;32m---> 37\u001b[0m         \u001b[38;5;28;01mraise\u001b[39;00m \u001b[38;5;167;01mValueError\u001b[39;00m(\n\u001b[1;32m     38\u001b[0m             \u001b[38;5;124m\"\u001b[39m\u001b[38;5;124mNumber of input items must be equal to number of context items.\u001b[39m\u001b[38;5;124m\"\u001b[39m\n\u001b[1;32m     39\u001b[0m         )\n\u001b[1;32m     40\u001b[0m \u001b[38;5;28;01mreturn\u001b[39;00m \u001b[38;5;28mself\u001b[39m\u001b[38;5;241m.\u001b[39m_log_prob(inputs, context)\n",
      "\u001b[0;31mValueError\u001b[0m: Number of input items must be equal to number of context items."
     ]
    }
   ],
   "source": [
    "beta_range = torch.logspace(-5, 4, 10)\n",
    "normalizing_constants = []\n",
    "for beta in beta_range:\n",
    "    print(\"beta\", beta)\n",
    "    gbi_potential = GBIPotential(\n",
    "        prior=prior,\n",
    "        gen_llh_fn=generalized_likelihood,\n",
    "        beta=beta,\n",
    "    )\n",
    "    \n",
    "    # Estimate Z_1(beta)\n",
    "    theta_samples = prior.sample((1000,))\n",
    "    x_samples = net.sample(1, context=theta_samples)[0]\n",
    "    x_probs = net.log_prob(x_samples, context=theta_samples).exp().mean(dim=1)\n",
    "    z1_of_beta = (gbi_potential(x_samples, track_gradients=False).exp() / x_probs).mean()\n",
    "    \n",
    "    # Estimate Z_2\n",
    "    norm_constant = 0.0\n",
    "    num_runs = 10\n",
    "    for _ in range(num_runs):\n",
    "        prior_samples = prior.sample((10,))\n",
    "        norm_constant += gbi_potential(prior_samples, track_gradients=False).exp().mean() / z1_of_beta\n",
    "    norm_constant /= num_runs\n",
    "    normalizing_constants.append(norm_constant)"
   ]
  },
  {
   "cell_type": "code",
   "execution_count": 31,
   "id": "59f549aa-279b-4a50-bb5a-6c3715e955d2",
   "metadata": {},
   "outputs": [],
   "source": [
    "normalizing_constants = torch.stack(normalizing_constants)"
   ]
  },
  {
   "cell_type": "code",
   "execution_count": 32,
   "id": "fa5cde92-77af-4b7e-8a86-d554fb16b279",
   "metadata": {},
   "outputs": [],
   "source": [
    "import matplotlib.pyplot as plt\n",
    "import matplotlib as mpl"
   ]
  },
  {
   "cell_type": "code",
   "execution_count": 33,
   "id": "fd8b5cb6-03f5-412d-87d9-bd72dae1278c",
   "metadata": {},
   "outputs": [
    {
     "data": {
      "image/png": "[encoded data removed]",
      "text/plain": [
       "<Figure size 500x500 with 1 Axes>"
      ]
     },
     "metadata": {},
     "output_type": "display_data"
    }
   ],
   "source": [
    "with mpl.rc_context(fname=\"../../../.matplotlibrc\"):\n",
    "    fig, ax = plt.subplots(1, 1, figsize=(5, 5))\n",
    "    ax.scatter(beta_range.log10().numpy(), normalizing_constants.numpy())\n",
    "    ax.plot(beta_range.log10().numpy(), normalizing_constants.numpy())\n",
    "    plt.show()"
   ]
  },
  {
   "cell_type": "code",
   "execution_count": null,
   "id": "93f666e0-5d74-49fa-973e-0ae184cf29dc",
   "metadata": {},
   "outputs": [],
   "source": []
  }
 ],
 "metadata": {
  "kernelspec": {
   "display_name": "Python 3",
   "language": "python",
   "name": "python3"
  },
  "language_info": {
   "codemirror_mode": {
    "name": "ipython",
    "version": 3
   },
   "file_extension": ".py",
   "mimetype": "text/x-python",
   "name": "python",
   "nbconvert_exporter": "python",
   "pygments_lexer": "ipython3",
   "version": "3.8.13"
  }
 },
 "nbformat": 4,
 "nbformat_minor": 5
}
