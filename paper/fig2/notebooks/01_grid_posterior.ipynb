{
 "cells": [
  {
   "cell_type": "code",
   "execution_count": 102,
   "id": "562f3402-520d-42b7-80de-cfb562d4e65c",
   "metadata": {},
   "outputs": [],
   "source": [
    "import sbibm\n",
    "import torch\n",
    "import matplotlib.pyplot as plt\n",
    "\n",
    "task = sbibm.get_task(\"two_moons\")\n",
    "prior = task.get_prior()\n",
    "observation = task.get_observation(num_observation=3)"
   ]
  },
  {
   "cell_type": "code",
   "execution_count": 103,
   "id": "42231340-40d0-4c30-9cf4-83c9875ddd7c",
   "metadata": {},
   "outputs": [],
   "source": [
    "log_prob_fn = task._likelihood"
   ]
  },
  {
   "cell_type": "code",
   "execution_count": 104,
   "id": "1c7a20fe-f863-4bf0-b8ea-8f3615bd3fff",
   "metadata": {},
   "outputs": [],
   "source": [
    "def generalized_likelihood(theta):\n",
    "    resolution = 200\n",
    "    x_dim1 = torch.linspace(-1, 1, resolution)\n",
    "    x_dim2 = torch.linspace(-1.5, 1.5, resolution)\n",
    "    x, y = torch.meshgrid(x_dim1, x_dim2)\n",
    "    xy = torch.stack([x, y])\n",
    "    xy = torch.reshape(xy, (2, resolution**2)).T\n",
    "    repeated_theta = theta.repeat((resolution**2, 1))\n",
    "    likelihoods = log_prob_fn(repeated_theta, xy).exp()\n",
    "    distances = torch.exp(-1000.0*torch.mean((xy - observation)**2, dim=1))\n",
    "    integrand = likelihoods * distances\n",
    "    integral = torch.sum(integrand)\n",
    "    return integral"
   ]
  },
  {
   "cell_type": "code",
   "execution_count": 105,
   "id": "64a10d64-d3c3-42d2-a82e-de767bb929aa",
   "metadata": {},
   "outputs": [],
   "source": [
    "theta_resolution = 100\n",
    "theta1 = torch.linspace(-1, 1, theta_resolution)\n",
    "theta2 = torch.linspace(-1, 1, theta_resolution)\n",
    "x, y = torch.meshgrid(theta1, theta2)\n",
    "thetas = torch.stack([x, y])\n",
    "thetas = torch.reshape(thetas, (2, theta_resolution**2)).T\n",
    "\n",
    "ls = []\n",
    "for theta in thetas:\n",
    "    ls.append(generalized_likelihood(theta))"
   ]
  },
  {
   "cell_type": "code",
   "execution_count": 106,
   "id": "bb45eff1-5103-4d9e-9bae-c4a010d6e672",
   "metadata": {},
   "outputs": [],
   "source": [
    "ls = torch.stack(ls)\n",
    "ls = torch.reshape(ls, (theta_resolution, theta_resolution))"
   ]
  },
  {
   "cell_type": "code",
   "execution_count": 107,
   "id": "efb45d6e-c40c-4dad-ae8e-ae85e93d2439",
   "metadata": {},
   "outputs": [
    {
     "data": {
      "image/png": "[encoded data removed]",
      "text/plain": [
       "<Figure size 640x480 with 1 Axes>"
      ]
     },
     "metadata": {},
     "output_type": "display_data"
    }
   ],
   "source": [
    "_ = plt.imshow(ls.numpy())"
   ]
  },
  {
   "cell_type": "code",
   "execution_count": null,
   "id": "c44adcfa-7b9d-43b2-aa99-e8e3f4866ce9",
   "metadata": {},
   "outputs": [],
   "source": []
  }
 ],
 "metadata": {
  "kernelspec": {
   "display_name": "Python 3 (ipykernel)",
   "language": "python",
   "name": "python3"
  },
  "language_info": {
   "codemirror_mode": {
    "name": "ipython",
    "version": 3
   },
   "file_extension": ".py",
   "mimetype": "text/x-python",
   "name": "python",
   "nbconvert_exporter": "python",
   "pygments_lexer": "ipython3",
   "version": "3.8.13"
  }
 },
 "nbformat": 4,
 "nbformat_minor": 5
}
