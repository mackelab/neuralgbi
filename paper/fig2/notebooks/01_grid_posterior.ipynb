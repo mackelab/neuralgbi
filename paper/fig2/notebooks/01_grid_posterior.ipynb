{
 "cells": [
  {
   "cell_type": "markdown",
   "id": "dd0b4988-5c36-45b0-acd0-9a42006b29f3",
   "metadata": {},
   "source": [
    "# Computing ground-truth generalized likelihood\n",
    "via the integral:\n",
    "\n",
    "$$ L(\\theta|x_o) = \\int{p(x|\\theta)e^{-\\beta d(x,x_o)}}dx$$\n",
    "\n",
    "where\n",
    "\n",
    "- $p(x|\\theta)$ is given analytically by the simulator,\n",
    "- $d(x,x_o)$ is the chosen distance function in data space,\n",
    "- $\\beta$ is a scaling factor over distance (temperature).\n",
    "\n",
    "---\n",
    "\n",
    "to dos:\n",
    "- make generalized_likelihood handle batch thetas\n",
    "- write likelihood_fn for the other tasks"
   ]
  },
  {
   "cell_type": "code",
   "execution_count": 1,
   "id": "1b115f29-079c-4634-9fea-ad100d54d832",
   "metadata": {},
   "outputs": [
    {
     "name": "stderr",
     "output_type": "stream",
     "text": [
      "/home/rdgao/miniconda3/envs/gbi/lib/python3.8/site-packages/tqdm/auto.py:22: TqdmWarning: IProgress not found. Please update jupyter and ipywidgets. See https://ipywidgets.readthedocs.io/en/stable/user_install.html\n",
      "  from .autonotebook import tqdm as notebook_tqdm\n"
     ]
    }
   ],
   "source": [
    "import sbibm\n",
    "import torch\n",
    "import matplotlib.pyplot as plt"
   ]
  },
  {
   "cell_type": "code",
   "execution_count": 34,
   "id": "474b3d09-78a6-417d-9f2c-dbd314b7950d",
   "metadata": {},
   "outputs": [],
   "source": [
    "def mse_dist(xs, x_o):\n",
    "    return torch.mean((xs - x_o)**2, dim=1)\n",
    "\n",
    "def make_2d_grid(d1_bounds, d2_bounds, d1_res=100, d2_res=100):\n",
    "    x1 = torch.linspace(*d1_bounds, d1_res)\n",
    "    x2 = torch.linspace(*d2_bounds, d2_res)\n",
    "    xs = torch.stack(torch.meshgrid(x1, x2))\n",
    "    xs = torch.reshape(xs, (2, d1_res*d2_res)).T\n",
    "    return xs\n",
    "\n",
    "def generalized_likelihood(thetas, x_o, xs, dist_func, log_prob_fn, beta=1.):\n",
    "    \n",
    "    ### TO DO: MAKE THIS DO BATCHES\n",
    "    \n",
    "    integrals = []\n",
    "    for theta in thetas:\n",
    "        # tile theta like xs\n",
    "        repeated_theta = theta.repeat((xs.shape[0], 1))\n",
    "\n",
    "        # print(repeated_theta.shape, xs.shape, x_o.shape)\n",
    "\n",
    "        # get tiled likelihoods\n",
    "        likelihoods = log_prob_fn(repeated_theta, xs).exp()\n",
    "\n",
    "        # compute distances\n",
    "        distances = dist_func(xs, x_o)\n",
    "\n",
    "        # integrate\n",
    "        integrand = torch.exp(-beta * distances) * likelihoods\n",
    "        integral = torch.sum(integrand)\n",
    "        integrals.append(integral)\n",
    "\n",
    "    integral = torch.stack(integrals)\n",
    "    return integral"
   ]
  },
  {
   "cell_type": "code",
   "execution_count": 4,
   "id": "7dd75dbf-5047-4cdc-b1f0-fc797b940c20",
   "metadata": {},
   "outputs": [
    {
     "name": "stdout",
     "output_type": "stream",
     "text": [
      "['two_moons', 'gaussian_mixture', 'gaussian_linear', 'bernoulli_glm', 'gaussian_linear_uniform', 'slcp', 'sir', 'lotka_volterra', 'slcp_distractors', 'bernoulli_glm_raw']\n"
     ]
    }
   ],
   "source": [
    "print(sbibm.get_available_tasks())\n",
    "\n",
    "task_name =  \"two_moons\" # \"gaussian mixture\" has no likelihood\n",
    "obs_num = 3\n",
    "\n",
    "task = sbibm.get_task(task_name)\n",
    "log_prob_fn = task._likelihood\n",
    "prior = task.get_prior()\n",
    "x_o = task.get_observation(num_observation=obs_num)\n",
    "beta = 1000.\n",
    "\n",
    "xs = make_2d_grid((-1,1), (-1.5, 1.5), 100,100)\n",
    "th_res = (50, 50)\n",
    "thetas = make_2d_grid((-1,1), (-1,1), th_res[0], th_res[1])\n",
    "\n",
    "# theta = torch.Tensor([1,1])\n",
    "# generalized_likelihood(theta, x_o, xs, mse_dist, log_prob_fn, beta=1000.)"
   ]
  },
  {
   "cell_type": "code",
   "execution_count": 5,
   "id": "64a10d64-d3c3-42d2-a82e-de767bb929aa",
   "metadata": {},
   "outputs": [],
   "source": [
    "# loop over x_o\n",
    "\n",
    "# run and get likelihood over grid\n",
    "ls = [generalized_likelihood(theta, x_o, xs, mse_dist, log_prob_fn, beta) for theta in thetas]\n",
    "ls = torch.reshape(torch.stack(ls), th_res)\n",
    "\n",
    "# (sample and) compute metric (c2st, mse, etc.)"
   ]
  },
  {
   "cell_type": "code",
   "execution_count": null,
   "id": "5d6643fa-0a8c-4531-98c3-9f933b2e9a5a",
   "metadata": {},
   "outputs": [],
   "source": [
    "_ = plt.imshow(ls.numpy())"
   ]
  },
  {
   "cell_type": "code",
   "execution_count": 52,
   "id": "dc8a8e70-022d-443d-ae7c-8b5ae4cd2bde",
   "metadata": {},
   "outputs": [],
   "source": [
    "from sbi.inference import MCMCPosterior, RejectionPosterior\n",
    "from sbi.inference.potentials.base_potential import BasePotential\n",
    "from sbi.utils import BoxUniform"
   ]
  },
  {
   "cell_type": "code",
   "execution_count": 12,
   "id": "51805f5f-9bc5-468c-b19c-cda50509ba04",
   "metadata": {},
   "outputs": [],
   "source": [
    "prior = BoxUniform(low=torch.Tensor((-1, -1)), high=torch.Tensor((1, 1)))"
   ]
  },
  {
   "cell_type": "code",
   "execution_count": 22,
   "id": "44d7a68a-5f9f-4a35-9b22-d7077028e14d",
   "metadata": {},
   "outputs": [
    {
     "data": {
      "text/plain": [
       "tensor([0.])"
      ]
     },
     "execution_count": 22,
     "metadata": {},
     "output_type": "execute_result"
    }
   ],
   "source": [
    "generalized_likelihood(thetas[:1], x_o, xs, mse_dist, log_prob_fn, beta).unsqueeze(0)"
   ]
  },
  {
   "cell_type": "code",
   "execution_count": null,
   "id": "d25cc29d-cf71-4ebe-91e8-a4333c27c872",
   "metadata": {},
   "outputs": [],
   "source": []
  },
  {
   "cell_type": "code",
   "execution_count": null,
   "id": "d2c48eb4-f5e6-42c5-a00a-11ca09949de8",
   "metadata": {},
   "outputs": [
    {
     "name": "stderr",
     "output_type": "stream",
     "text": [
      "Tuning bracket width...: 100%|████████████████████████████████████████████████████████████████████████████████████████████████████████████████| 50/50 [00:00<00:00, 89.72it/s]\n",
      "Generating samples:  48%|██████████████████████████████████████████████████████                                                           | 2440/5100 [04:30<05:06,  8.68it/s]"
     ]
    }
   ],
   "source": [
    "class MyPotential(BasePotential):\n",
    "    allow_iid_x = False\n",
    "    def __init__(self, prior, x_o):\n",
    "        super().__init__(prior, x_o)\n",
    "        \n",
    "    def __call__(self, theta, track_gradients = True):\n",
    "        return generalized_likelihood(theta, x_o, xs, mse_dist, log_prob_fn, beta).log() + prior.log_prob(theta)\n",
    "    \n",
    "gbi_potential = MyPotential(prior, x_o)\n",
    "sampler = MCMCPosterior(gbi_potential, prior)\n",
    "# sampler = RejectionPosterior(gbi_potential, prior)\n",
    "theta_posterior_samples = sampler.sample((500,))"
   ]
  },
  {
   "cell_type": "code",
   "execution_count": 88,
   "id": "9b61f041-37cd-4cd4-8502-dc060733f4fd",
   "metadata": {},
   "outputs": [
    {
     "data": {
      "text/plain": [
       "(-1.0, 1.0)"
      ]
     },
     "execution_count": 88,
     "metadata": {},
     "output_type": "execute_result"
    },
    {
     "data": {
      "image/png": "[encoded data removed]",
      "text/plain": [
       "<Figure size 400x400 with 1 Axes>"
      ]
     },
     "metadata": {},
     "output_type": "display_data"
    }
   ],
   "source": [
    "theta_np = theta_posterior_samples.numpy()\n",
    "\n",
    "plt.figure(figsize=(4,4))\n",
    "plt.imshow(ls.numpy().T, extent=[-1,1,-1,1], origin='lower')\n",
    "plt.plot(theta_np[:,0], theta_np[:,1], 'r.', ms=1, alpha=0.8)\n",
    "plt.xlim([-1,1]); plt.ylim([-1,1])"
   ]
  },
  {
   "cell_type": "code",
   "execution_count": null,
   "id": "d1c658c1-232a-40b5-a63b-abba090f8b3c",
   "metadata": {},
   "outputs": [],
   "source": []
  }
 ],
 "metadata": {
  "kernelspec": {
   "display_name": "Python 3 (ipykernel)",
   "language": "python",
   "name": "python3"
  },
  "language_info": {
   "codemirror_mode": {
    "name": "ipython",
    "version": 3
   },
   "file_extension": ".py",
   "mimetype": "text/x-python",
   "name": "python",
   "nbconvert_exporter": "python",
   "pygments_lexer": "ipython3",
   "version": "3.8.13"
  }
 },
 "nbformat": 4,
 "nbformat_minor": 5
}
