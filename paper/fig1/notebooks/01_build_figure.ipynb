{
 "cells": [
  {
   "cell_type": "code",
   "execution_count": 1,
   "id": "c43c62a6-4551-458e-b3fe-294a846888bc",
   "metadata": {},
   "outputs": [],
   "source": [
    "%load_ext autoreload\n",
    "%autoreload 2"
   ]
  },
  {
   "cell_type": "code",
   "execution_count": 2,
   "id": "e9707a29-c8f4-4acb-ad82-83b146b9fc0e",
   "metadata": {},
   "outputs": [
    {
     "name": "stderr",
     "output_type": "stream",
     "text": [
      "/home/macke/rgao97/.conda/envs/gbi/lib/python3.8/site-packages/tqdm/auto.py:22: TqdmWarning: IProgress not found. Please update jupyter and ipywidgets. See https://ipywidgets.readthedocs.io/en/stable/user_install.html\n",
      "  from .autonotebook import tqdm as notebook_tqdm\n"
     ]
    }
   ],
   "source": [
    "%matplotlib inline\n",
    "import IPython.display as IPd\n",
    "import time\n",
    "import matplotlib as mpl\n",
    "import matplotlib.pyplot as plt\n",
    "from sbi.utils import BoxUniform\n",
    "import numpy as np\n",
    "\n",
    "import torch\n",
    "from torch import ones, zeros, eye\n",
    "from svgutils.compose import *\n",
    "import svgutils.transform as sg\n",
    "\n",
    "import matplotlib.font_manager\n",
    "font_files = matplotlib.font_manager.findSystemFonts(fontpaths=['../../fonts/'], fontext='ttf')\n",
    "matplotlib.font_manager.fontManager.addfont(font_files[0])\n",
    "\n",
    "# specify matplotlib rc file\n",
    "plt.style.use('../../../.matplotlibrc')\n",
    "mpl.rcParams['font.family'] = 'Arial'"
   ]
  },
  {
   "cell_type": "code",
   "execution_count": 3,
   "id": "31fb30e7-7d63-41a2-a047-6403dc7893b9",
   "metadata": {},
   "outputs": [],
   "source": [
    "PANEL_A = \"../svg/panel_a.svg\"\n",
    "PANEL_B = \"../svg/panel_b.svg\"\n",
    "PANEL_C = \"../svg/panel_c.svg\"\n",
    "PANEL_D = \"../svg/panel_d.svg\"\n",
    "PANEL_E = \"../svg/panel_e.svg\"\n",
    "PANEL_F = \"../svg/panel_f.svg\"\n",
    "PANEL_G = \"../svg/panel_g.svg\"\n",
    "PANEL_H = \"../svg/panel_h.svg\"\n",
    "PANEL_I = \"../svg/panel_i.svg\""
   ]
  },
  {
   "cell_type": "code",
   "execution_count": 4,
   "id": "c5137b29-4ac0-4cb7-9fbd-184035da3c2e",
   "metadata": {},
   "outputs": [],
   "source": [
    "_ = torch.manual_seed(0)"
   ]
  },
  {
   "cell_type": "code",
   "execution_count": 5,
   "id": "e87132cb-0ac4-4eef-bc2f-d77fcfb4e0d3",
   "metadata": {},
   "outputs": [],
   "source": [
    "size = 1"
   ]
  },
  {
   "cell_type": "code",
   "execution_count": 6,
   "id": "b77d647b-af95-42e4-a051-febcabb48d40",
   "metadata": {},
   "outputs": [],
   "source": [
    "prior = BoxUniform(-2.8*ones(1), 2.8*ones(1))\n",
    "theta = prior.sample((100,))\n",
    "x = ((theta**2 - 2)**2 + 1 * torch.randn(theta.shape)+ 5.0) / 30 \n",
    "\n",
    "xo1 = 0.5*ones(1)\n",
    "xo2 = -0.1*ones(1)"
   ]
  },
  {
   "cell_type": "code",
   "execution_count": 22,
   "id": "b1b6f9ac-49ba-42cb-9cd5-f56ab763639d",
   "metadata": {},
   "outputs": [
    {
     "data": {
      "image/png": "[encoded data removed]",
      "text/plain": [
       "<Figure size 225x225 with 1 Axes>"
      ]
     },
     "metadata": {},
     "output_type": "display_data"
    }
   ],
   "source": [
    "# with mpl.rc_context(fname=\"../../../.matplotlibrc\"):\n",
    "# fig, ax = plt.subplots(1, 1, figsize=(size, size))\n",
    "size=0.75\n",
    "fig, ax = plt.subplots(1, 1, figsize=(size, size), dpi=300)\n",
    "ax.scatter(theta.numpy(), x.numpy(), s=1, alpha=0.8, color='gray')\n",
    "ax.set_ylim([0, 1])\n",
    "ax.axhline(xo1.numpy(), color='C3', alpha=0.5)\n",
    "ax.axhline(xo2.numpy(), color='C3', alpha=0.5, linestyle='--')\n",
    "ax.set_yticks([-.2, 1])\n",
    "ax.set_xticks([]);ax.set_yticks([]);\n",
    "ax.set_xlim([-3, 3])\n",
    "ax.set_xlabel(r\"$\\theta$\", labelpad=-1)\n",
    "ax.set_ylabel(r\"$x$\", labelpad=-3)\n",
    "plt.tight_layout()\n",
    "plt.savefig(PANEL_A, facecolor=\"None\", transparent=True)\n"
   ]
  },
  {
   "cell_type": "code",
   "execution_count": 23,
   "id": "3e98109d-9436-42e7-870d-881a5df09e59",
   "metadata": {},
   "outputs": [],
   "source": [
    "theta_lin = torch.linspace(-2.8, 2.8, 100).unsqueeze(0).repeat(1000, 1)\n",
    "x_lin1 = ((theta_lin**2 - 2)**2 + 1 * torch.randn(theta_lin.shape)+ 5.0) / 30 \n",
    "d_lin1 = ((x_lin1 - xo1)**2).mean(dim=0)\n",
    "d_lin2 = ((x_lin1 - xo2)**2).mean(dim=0)"
   ]
  },
  {
   "cell_type": "code",
   "execution_count": 50,
   "id": "ca05bdf4-1157-487b-90ac-80aeab1ee170",
   "metadata": {},
   "outputs": [
    {
     "data": {
      "image/png": "[encoded data removed]",
      "text/plain": [
       "<Figure size 225x225 with 1 Axes>"
      ]
     },
     "metadata": {},
     "output_type": "display_data"
    }
   ],
   "source": [
    "# with mpl.rc_context(fname=\"../../../.matplotlibrc\"):\n",
    "#     fig, ax = plt.subplots(1, 1, figsize=(size, size))\n",
    "fig, ax = plt.subplots(1, 1, figsize=(size,size), dpi=300)\n",
    "ax.plot(theta_lin.numpy()[0], d_lin1.numpy(), color='C1', alpha=0.8, lw=1)\n",
    "# ax.plot(theta_lin.numpy()[0], d_lin2.numpy(), color='C4', alpha=0.8, ls='--', dashes=(1, 1),lw=1)\n",
    "ax.set_ylim([0, 0.5])\n",
    "ax.set_yticks([0])\n",
    "ax.set_xticks([])\n",
    "ax.set_xlim([-3, 3])\n",
    "ax.set_xlabel(r\"$\\theta$\", labelpad=-2)\n",
    "ax.spines[\"left\"].set_visible(False)\n",
    "plt.savefig(PANEL_B, facecolor=\"None\", transparent=True)\n",
    "plt.tight_layout()"
   ]
  },
  {
   "cell_type": "code",
   "execution_count": 51,
   "id": "304d8986",
   "metadata": {},
   "outputs": [],
   "source": [
    "# with mpl.rc_context(fname=\"../../../.matplotlibrc\"):\n",
    "#     fig, ax = plt.subplots(1, 1, figsize=(size, size))\n",
    "fig, ax = plt.subplots(1, 1, figsize=(size,size), dpi=300)\n",
    "ax.plot(theta_lin.numpy()[0], d_lin2.numpy(), color='C1', alpha=0.8, ls='--', dashes=(1, 1),lw=1)\n",
    "ax.set_ylim([0, 0.5])\n",
    "ax.set_yticks([0])\n",
    "ax.set_xticks([])\n",
    "ax.set_xlim([-3, 3])\n",
    "ax.set_xlabel(r\"$\\theta$\", labelpad=-2)\n",
    "ax.spines[\"left\"].set_visible(False)\n",
    "plt.savefig(PANEL_C, facecolor=\"None\", transparent=True)\n",
    "plt.tight_layout()"
   ]
  },
  {
   "cell_type": "code",
   "execution_count": 35,
   "id": "3dfc48e8-9a02-4a80-9551-8d64884d5f31",
   "metadata": {},
   "outputs": [],
   "source": [
    "cols = [\n",
    "    \"#eff3ff\",\n",
    "    \"#c6dbef\",\n",
    "    \"#9ecae1\",\n",
    "    \"#6baed6\",\n",
    "    \"#3182bd\",\n",
    "    \"#08519c\",\n",
    "]"
   ]
  },
  {
   "cell_type": "code",
   "execution_count": 44,
   "id": "75ebe3e3-466e-4575-9621-92a6bc03ad7d",
   "metadata": {},
   "outputs": [
    {
     "data": {
      "image/png": "[encoded data removed]",
      "text/plain": [
       "<Figure size 225x225 with 1 Axes>"
      ]
     },
     "metadata": {},
     "output_type": "display_data"
    }
   ],
   "source": [
    "# with mpl.rc_context(fname=\"../../../.matplotlibrc\"):\n",
    "fig, ax = plt.subplots(1, 1, figsize=(size,size), dpi=300)\n",
    "for i, beta in enumerate([4.0, 8.0, 16.0, 32.0, 64.0, 128.0]):\n",
    "    ax.plot(theta_lin.numpy()[0], np.exp(-beta * d_lin1.numpy()), c=cols[i], lw=.75)\n",
    "ax.set_ylim([0, 1.0])\n",
    "ax.set_yticks([0, 1])\n",
    "ax.set_xticks([])\n",
    "ax.set_xlim([-3, 3])\n",
    "ax.set_xlabel(r\"$\\theta$\", labelpad=-2) \n",
    "# ax.set_title(r\"$\\exp(-\\beta \\cdot f(\\theta; x_o))$\")\n",
    "ax.set_yticks([])\n",
    "ax.spines[\"left\"].set_visible(False)\n",
    "plt.savefig(PANEL_D, facecolor=\"None\", transparent=True)\n",
    "plt.tight_layout()"
   ]
  },
  {
   "cell_type": "code",
   "execution_count": 49,
   "id": "27931d0e",
   "metadata": {},
   "outputs": [
    {
     "data": {
      "image/png": "[encoded data removed]",
      "text/plain": [
       "<Figure size 225x225 with 1 Axes>"
      ]
     },
     "metadata": {},
     "output_type": "display_data"
    }
   ],
   "source": [
    "# with mpl.rc_context(fname=\"../../../.matplotlibrc\"):\n",
    "fig, ax = plt.subplots(1, 1, figsize=(size,size), dpi=300)\n",
    "for i, beta in enumerate([4.0, 8.0, 16.0, 32.0, 64.0, 128.0]):\n",
    "    ax.plot(theta_lin.numpy()[0], np.exp(-beta * d_lin2.numpy()), c=cols[i], lw=.75, dashes=(2, 1))\n",
    "ax.set_ylim([0, 1.0])\n",
    "ax.set_yticks([0, 1])\n",
    "ax.set_xticks([])\n",
    "ax.set_xlim([-3, 3])\n",
    "ax.set_xlabel(r\"$\\theta$\", labelpad=-2) \n",
    "# ax.set_title(r\"$\\exp(-\\beta \\cdot f(\\theta; x_o))$\")\n",
    "ax.set_yticks([])\n",
    "ax.spines[\"left\"].set_visible(False)\n",
    "plt.savefig(PANEL_E, facecolor=\"None\", transparent=True)\n",
    "plt.tight_layout()"
   ]
  },
  {
   "cell_type": "code",
   "execution_count": 79,
   "id": "2e0d8be9-3e44-4c8b-b9e3-ad1d4d3cc530",
   "metadata": {},
   "outputs": [
    {
     "data": {
      "image/png": "[encoded data removed]",
      "text/plain": [
       "<Figure size 150x150 with 1 Axes>"
      ]
     },
     "metadata": {},
     "output_type": "display_data"
    }
   ],
   "source": [
    "with mpl.rc_context(fname=\"../../../.matplotlibrc\"):\n",
    "    fig, ax = plt.subplots(1, 1, figsize=(size, size))\n",
    "    for i, beta in enumerate([4.0, 8.0, 16.0, 32.0, 64.0, 128.0]):\n",
    "        ax.plot(theta_lin.numpy()[0], np.exp(-beta * d_lin2.numpy()), c=cols[i])\n",
    "    ax.set_ylim([0, 1.0])\n",
    "    ax.set_yticks([0, 1])\n",
    "    ax.set_xticks([])\n",
    "    ax.set_xlim([-3, 3])\n",
    "    ax.set_xlabel(r\"$\\theta$\")\n",
    "    ax.set_yticks([])\n",
    "    ax.spines[\"left\"].set_visible(False)\n",
    "    plt.savefig(PANEL_E, facecolor=\"None\", transparent=True)\n",
    "    plt.show()"
   ]
  },
  {
   "cell_type": "code",
   "execution_count": 80,
   "id": "93b8a7cf-eee6-4b13-85ca-2160dd2ccd39",
   "metadata": {},
   "outputs": [
    {
     "data": {
      "image/png": "[encoded data removed]",
      "text/plain": [
       "<Figure size 150x150 with 1 Axes>"
      ]
     },
     "metadata": {},
     "output_type": "display_data"
    }
   ],
   "source": [
    "with mpl.rc_context(fname=\"../../../.matplotlibrc\"):\n",
    "    fig, ax = plt.subplots(1, 1, figsize=(size, size))\n",
    "    beta_opt1 = 32.0\n",
    "    ax.plot(theta_lin.numpy()[0], np.exp(-beta_opt1 * d_lin1.numpy()), c=cols[i])\n",
    "    ax.set_ylim([0, 1.0])\n",
    "    ax.set_yticks([0, 1])\n",
    "    ax.set_xticks([])\n",
    "    ax.set_xlim([-3, 3])\n",
    "    ax.set_xlabel(r\"$\\theta$\")\n",
    "    ax.set_title(r\"$\\exp(-\\beta_{opt} \\cdot f(\\theta; x_o))$\")\n",
    "    ax.set_yticks([])\n",
    "    ax.spines[\"left\"].set_visible(False)\n",
    "    plt.savefig(PANEL_F, facecolor=\"None\", transparent=True)\n",
    "    plt.show()"
   ]
  },
  {
   "cell_type": "code",
   "execution_count": 81,
   "id": "6b10f592-6312-4371-9c22-70ec57bcb31e",
   "metadata": {},
   "outputs": [
    {
     "data": {
      "image/png": "[encoded data removed]",
      "text/plain": [
       "<Figure size 150x150 with 1 Axes>"
      ]
     },
     "metadata": {},
     "output_type": "display_data"
    }
   ],
   "source": [
    "with mpl.rc_context(fname=\"../../../.matplotlibrc\"):\n",
    "    fig, ax = plt.subplots(1, 1, figsize=(size, size))\n",
    "    beta_opt2 = 64.0\n",
    "    ax.plot(theta_lin.numpy()[0], np.exp(-beta_opt2 * d_lin2.numpy()), c=cols[i])\n",
    "    ax.set_ylim([0, 1.0])\n",
    "    ax.set_yticks([0, 1])\n",
    "    ax.set_xticks([])\n",
    "    ax.set_xlim([-3, 3])\n",
    "    ax.set_yticks([])\n",
    "    ax.spines[\"left\"].set_visible(False)\n",
    "    ax.set_xlabel(r\"$\\theta$\")\n",
    "    plt.savefig(PANEL_G, facecolor=\"None\", transparent=True)\n",
    "    plt.show()"
   ]
  },
  {
   "cell_type": "code",
   "execution_count": 82,
   "id": "cada088a-f26b-4910-96b9-48bff1b3e899",
   "metadata": {},
   "outputs": [],
   "source": [
    "proposal_samples = prior.sample((10_000,)).repeat(1, 1000).T\n",
    "x_lin_prop = ((proposal_samples**2 - 2)**2 + 1 * torch.randn(proposal_samples.shape)+ 5.0) / 30 \n",
    "d_lin_prop = ((x_lin_prop - xo1)**2).mean(dim=0)\n",
    "cost = np.exp(-beta_opt1 * d_lin_prop.numpy())\n",
    "max_cost = np.max(cost)\n",
    "rands = torch.rand((10_000,)).numpy()\n",
    "fun = (cost / max_cost)\n",
    "accepted = fun > rands\n",
    "samples = proposal_samples[0, accepted]"
   ]
  },
  {
   "cell_type": "code",
   "execution_count": 83,
   "id": "abcba193-20b0-4fe0-9182-f13fb4f3075c",
   "metadata": {},
   "outputs": [
    {
     "data": {
      "image/png": "[encoded data removed]",
      "text/plain": [
       "<Figure size 150x150 with 1 Axes>"
      ]
     },
     "metadata": {},
     "output_type": "display_data"
    }
   ],
   "source": [
    "with mpl.rc_context(fname=\"../../../.matplotlibrc\"):\n",
    "    fig, ax = plt.subplots(1, 1, figsize=(size, size))\n",
    "    ax.hist(samples.numpy(), bins=100)\n",
    "    ax.set_yticks([])\n",
    "    ax.spines[\"left\"].set_visible(False)\n",
    "    ax.set_xlabel(r\"$\\theta$\")\n",
    "    ax.set_title(r\"$p(\\theta | x_o)$\")\n",
    "    ax.set_xlim([-3, 3])\n",
    "    ax.set_xticks([])\n",
    "    plt.savefig(PANEL_H, facecolor=\"None\", transparent=True)\n",
    "    plt.show()"
   ]
  },
  {
   "cell_type": "code",
   "execution_count": 84,
   "id": "f85f48ba-f416-45ac-8d4f-75f40f13d23d",
   "metadata": {},
   "outputs": [],
   "source": [
    "proposal_samples = prior.sample((10_000,)).repeat(1, 1000).T\n",
    "x_lin_prop = ((proposal_samples**2 - 2)**2 + 1 * torch.randn(proposal_samples.shape)+ 5.0) / 30 \n",
    "d_lin_prop = ((x_lin_prop - xo2)**2).mean(dim=0)\n",
    "cost = np.exp(-beta_opt2 * d_lin_prop.numpy())\n",
    "max_cost = np.max(cost)\n",
    "rands = torch.rand((10_000,)).numpy()\n",
    "fun = (cost / max_cost)\n",
    "accepted = fun > rands\n",
    "samples = proposal_samples[0, accepted]"
   ]
  },
  {
   "cell_type": "code",
   "execution_count": 85,
   "id": "5b73f220-3b3d-4718-99e9-4fe695bd956c",
   "metadata": {},
   "outputs": [
    {
     "data": {
      "image/png": "[encoded data removed]",
      "text/plain": [
       "<Figure size 150x150 with 1 Axes>"
      ]
     },
     "metadata": {},
     "output_type": "display_data"
    }
   ],
   "source": [
    "with mpl.rc_context(fname=\"../../../.matplotlibrc\"):\n",
    "    fig, ax = plt.subplots(1, 1, figsize=(size, size))\n",
    "    ax.hist(samples.numpy(), bins=100)\n",
    "    ax.set_yticks([])\n",
    "    ax.spines[\"left\"].set_visible(False)\n",
    "    ax.set_xlabel(r\"$\\theta$\")\n",
    "    ax.set_xlim([-3, 3])\n",
    "    ax.set_xticks([])\n",
    "    plt.savefig(PANEL_I, facecolor=\"None\", transparent=True)\n",
    "    plt.show()"
   ]
  },
  {
   "cell_type": "code",
   "execution_count": 86,
   "id": "a2d87fc0-839d-42de-83cd-245f92d97051",
   "metadata": {},
   "outputs": [],
   "source": [
    "def svg(img):\n",
    "    IPd.display(IPd.HTML('<img src=\"{}\" / >'.format(img, time.time())))"
   ]
  },
  {
   "cell_type": "code",
   "execution_count": 94,
   "id": "d643fe6e-9db6-40f9-82af-e63772df4cf2",
   "metadata": {},
   "outputs": [
    {
     "data": {
      "text/html": [
       "<img src=\"../fig/fig1.svg\" / >"
      ],
      "text/plain": [
       "<IPython.core.display.HTML object>"
      ]
     },
     "metadata": {},
     "output_type": "display_data"
    }
   ],
   "source": [
    "# Panel letters in Helvetica Neue, 12pt, Medium\n",
    "kwargs_text = {'size': '12pt', 'font': 'Arial', 'weight': '800'}\n",
    "kwargs_text8pt = {'size': '7.7pt', 'font': 'Arial'}\n",
    "\n",
    "f = Figure(\"20.3cm\", \"6.2cm\",\n",
    "\n",
    "    Panel(\n",
    "          SVG(PANEL_A).move(0, 0),\n",
    "    ).move(0, 60),\n",
    "    Panel(\n",
    "          SVG(\"../svg/fig1.svg\").move(0, 0),\n",
    "    ).move(150, 60),\n",
    "    Panel(\n",
    "          SVG(PANEL_B).move(0, 0),\n",
    "    ).move(280, 0),\n",
    "    Panel(\n",
    "          SVG(PANEL_C).move(0, 0),\n",
    "    ).move(280, 120),\n",
    "    Panel(\n",
    "          SVG(PANEL_D).move(0, 0),\n",
    "    ).move(400, 0),\n",
    "    Panel(\n",
    "          SVG(PANEL_E).move(0, 0),\n",
    "    ).move(400, 120),\n",
    "    Panel(\n",
    "          SVG(PANEL_F).move(0, 0),\n",
    "    ).move(520, 0),\n",
    "    Panel(\n",
    "          SVG(PANEL_G).move(0, 0),\n",
    "    ).move(520, 120),\n",
    "    Panel(\n",
    "          SVG(PANEL_H).move(0, 0),\n",
    "    ).move(640, 0),\n",
    "    Panel(\n",
    "          SVG(PANEL_I).move(0, 0),\n",
    "    ).move(640, 120),\n",
    ")\n",
    "\n",
    "f.save(\"../fig/fig1.svg\")\n",
    "svg('../fig/fig1.svg')"
   ]
  },
  {
   "cell_type": "code",
   "execution_count": null,
   "id": "3d6ecb4d-6d2d-4a06-aa93-90c9165613db",
   "metadata": {},
   "outputs": [],
   "source": []
  }
 ],
 "metadata": {
  "kernelspec": {
   "display_name": "Python 3",
   "language": "python",
   "name": "python3"
  },
  "language_info": {
   "codemirror_mode": {
    "name": "ipython",
    "version": 3
   },
   "file_extension": ".py",
   "mimetype": "text/x-python",
   "name": "python",
   "nbconvert_exporter": "python",
   "pygments_lexer": "ipython3",
   "version": "3.8.13"
  }
 },
 "nbformat": 4,
 "nbformat_minor": 5
}
