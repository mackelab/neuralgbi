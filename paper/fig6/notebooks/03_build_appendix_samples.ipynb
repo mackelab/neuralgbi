{
 "cells": [
  {
   "cell_type": "code",
   "execution_count": 1,
   "id": "f2711ef0",
   "metadata": {},
   "outputs": [],
   "source": [
    "%load_ext autoreload\n",
    "%autoreload 2"
   ]
  },
  {
   "cell_type": "code",
   "execution_count": 2,
   "id": "c6ba0ab4",
   "metadata": {},
   "outputs": [
    {
     "name": "stderr",
     "output_type": "stream",
     "text": [
      "/home/michael/anaconda3/envs/gbi/lib/python3.8/site-packages/tqdm/auto.py:22: TqdmWarning: IProgress not found. Please update jupyter and ipywidgets. See https://ipywidgets.readthedocs.io/en/stable/user_install.html\n",
      "  from .autonotebook import tqdm as notebook_tqdm\n"
     ]
    }
   ],
   "source": [
    "import time\n",
    "import pickle\n",
    "import matplotlib as mpl\n",
    "import matplotlib.pyplot as plt\n",
    "import numpy as np\n",
    "import torch\n",
    "from torch import float32, zeros, ones, eye, as_tensor, tensor\n",
    "\n",
    "from sbi.inference import MCMCPosterior, VIPosterior, ImportanceSamplingPosterior\n",
    "from sbi.analysis import pairplot\n",
    "from sbi.utils import mcmc_transform\n",
    "\n",
    "from gbi.GBI import GBInference\n",
    "from gbi.hh.train_gbi import MaeDistZ\n",
    "import gbi.hh.utils as utils\n",
    "from gbi.hh.HodgkinHuxley import HodgkinHuxley\n",
    "from gbi.hh.HodgkinHuxleyStatsMoments import HodgkinHuxleyStatsMoments"
   ]
  },
  {
   "cell_type": "code",
   "execution_count": 6,
   "id": "495c6f2c",
   "metadata": {},
   "outputs": [],
   "source": [
    "plt.style.use('../../../.matplotlibrc')"
   ]
  },
  {
   "cell_type": "code",
   "execution_count": 19,
   "id": "0c03c749",
   "metadata": {},
   "outputs": [],
   "source": [
    "col_xo = \"k\"\n",
    "col_npe = \"C2\"\n",
    "col_gbi = \"C1\"\n",
    "col_gbi1 = \"#74a9cf\"\n",
    "col_gbi2 = \"#3690c0\"\n",
    "col_gbi3 = \"#045a8d\""
   ]
  },
  {
   "cell_type": "markdown",
   "id": "140cf8c1",
   "metadata": {},
   "source": [
    "### Load data"
   ]
  },
  {
   "cell_type": "code",
   "execution_count": 8,
   "id": "1dd448cc",
   "metadata": {},
   "outputs": [],
   "source": [
    "obs_stats_ls, all_obs = utils.load_all_allen()"
   ]
  },
  {
   "cell_type": "code",
   "execution_count": 9,
   "id": "0ddd47bc",
   "metadata": {},
   "outputs": [],
   "source": [
    "path = \"/home/michael/Documents/neuralgbi/results/hh_allen\""
   ]
  },
  {
   "cell_type": "code",
   "execution_count": 10,
   "id": "afb38b73",
   "metadata": {},
   "outputs": [],
   "source": [
    "with open(f\"{path}/gbi_pred_m/0/03_posterior_predictive_traces_gbi.pkl\", \"rb\") as handle:\n",
    "    gbi_posterior_traces = pickle.load(handle)\n",
    "with open(f\"{path}/npe_pred_m/0_allen_100000/04_npe_traces.pkl\", \"rb\") as handle:\n",
    "    npe_posterior_traces = pickle.load(handle)"
   ]
  },
  {
   "cell_type": "markdown",
   "id": "1b82764e",
   "metadata": {},
   "source": [
    "### Set up simulator"
   ]
  },
  {
   "cell_type": "code",
   "execution_count": 11,
   "id": "3c84ff4a",
   "metadata": {},
   "outputs": [],
   "source": [
    "true_params, labels_params = utils.obs_params(reduced_model=False)\n",
    "\n",
    "list_cells_AllenDB = [518290966, 57, 0.0234 / 126]\n",
    "\n",
    "ephys_cell = list_cells_AllenDB[0]\n",
    "sweep_number = list_cells_AllenDB[1]\n",
    "A_soma = list_cells_AllenDB[2]\n",
    "junction_potential = -14\n",
    "\n",
    "obs = utils.allen_obs_data(\n",
    "    ephys_cell=ephys_cell, sweep_number=sweep_number, A_soma=A_soma\n",
    ")\n",
    "obs[\"data\"] = obs[\"data\"] + junction_potential\n",
    "I = obs[\"I\"]\n",
    "dt = obs[\"dt\"]\n",
    "t_on = obs[\"t_on\"]\n",
    "t_off = obs[\"t_off\"]\n",
    "\n",
    "sim = HodgkinHuxley(\n",
    "    I, dt, V0=obs[\"data\"][0], reduced_model=False, cython=True, prior_log=False\n",
    ")"
   ]
  },
  {
   "cell_type": "code",
   "execution_count": 12,
   "id": "c36db384",
   "metadata": {},
   "outputs": [],
   "source": [
    "time_vec_obs = np.linspace(np.min(sim.t), np.max(sim.t), len(all_obs[0][\"data\"]))"
   ]
  },
  {
   "cell_type": "code",
   "execution_count": 14,
   "id": "9c68428d",
   "metadata": {},
   "outputs": [],
   "source": [
    "def plot_samples(predictives, sample_cols):\n",
    "    nsamples = 10\n",
    "    nxo = 10\n",
    "    \n",
    "    fig, ax = plt.subplots(nsamples, nxo, figsize=(13, 8))\n",
    "        \n",
    "    for i in range(nxo):\n",
    "        xo  = all_obs[i]\n",
    "        _ = ax[0, i].plot(time_vec_obs, xo[\"data\"], c=\"k\")\n",
    "        \n",
    "        for j in range(1, nsamples):\n",
    "            xo = predictives[i][j]\n",
    "            _ = ax[j, i].plot(time_vec_obs, xo[\"data\"], c=sample_cols)\n",
    "\n",
    "    \n",
    "    for i in range(nxo):\n",
    "        for j in range(nsamples):\n",
    "            _ = ax[j, i].set_xlabel(\"\")\n",
    "            _ = ax[j, i].set_ylabel(\"\")\n",
    "            _ = ax[j, i].set_ylim([-100, 60])\n",
    "            _ = ax[j, i].spines[\"left\"].set_visible(False)\n",
    "            _ = ax[j, i].spines[\"bottom\"].set_visible(False)\n",
    "            _ = ax[j, i].set_xticks([])\n",
    "            _ = ax[j, i].set_yticks([])\n",
    "    return fig, ax"
   ]
  },
  {
   "cell_type": "markdown",
   "id": "1c460cc0",
   "metadata": {},
   "source": [
    "### GBI"
   ]
  },
  {
   "cell_type": "code",
   "execution_count": null,
   "id": "b846f584",
   "metadata": {},
   "outputs": [],
   "source": [
    "with mpl.rc_context(fname=\"../../../.matplotlibrc\"):\n",
    "    fig, ax = plot_samples(gbi_posterior_traces[\"beta_25\"], sample_cols=col_gbi1)\n",
    "    ax[0, 4].set_title(\"                         GBI (β = 25)\", fontsize=10.0)\n",
    "    plt.savefig(\"../fig/fig6_appendix1.svg\")\n",
    "    plt.show()"
   ]
  },
  {
   "cell_type": "code",
   "execution_count": null,
   "id": "2a8a3362",
   "metadata": {},
   "outputs": [],
   "source": [
    "with mpl.rc_context(fname=\"../../../.matplotlibrc\"):\n",
    "    fig, ax = plot_samples(gbi_posterior_traces[\"beta_50\"], sample_cols=col_gbi2)\n",
    "    ax[0, 4].set_title(\"                         GBI (β = 50)\", fontsize=10.0)\n",
    "    plt.savefig(\"../fig/fig6_appendix2.svg\")\n",
    "    plt.show()"
   ]
  },
  {
   "cell_type": "code",
   "execution_count": null,
   "id": "e9e902ee",
   "metadata": {},
   "outputs": [],
   "source": [
    "with mpl.rc_context(fname=\"../../../.matplotlibrc\"):\n",
    "    fig, ax = plot_samples(gbi_posterior_traces[\"beta_100\"], sample_cols=col_gbi3)\n",
    "    ax[0, 4].set_title(\"                       GBI (β = 100)\", fontsize=10.0)\n",
    "    plt.savefig(\"../fig/fig6_appendix3.svg\")\n",
    "    plt.show()"
   ]
  },
  {
   "cell_type": "markdown",
   "id": "53438159",
   "metadata": {},
   "source": [
    "### NPE"
   ]
  },
  {
   "cell_type": "code",
   "execution_count": null,
   "id": "e57da320",
   "metadata": {},
   "outputs": [],
   "source": [
    "with mpl.rc_context(fname=\"../../../.matplotlibrc\"):\n",
    "    fig, ax = plot_samples(npe_posterior_traces, sample_cols=col_npe)\n",
    "    ax[0, 4].set_title(\"                         NPE\", fontsize=10.0)\n",
    "    plt.savefig(\"../fig/fig6_appendix4.svg\")\n",
    "    plt.show()"
   ]
  },
  {
   "cell_type": "code",
   "execution_count": null,
   "id": "8b133589",
   "metadata": {},
   "outputs": [],
   "source": []
  }
 ],
 "metadata": {
  "kernelspec": {
   "display_name": "Python 3 (ipykernel)",
   "language": "python",
   "name": "python3"
  },
  "language_info": {
   "codemirror_mode": {
    "name": "ipython",
    "version": 3
   },
   "file_extension": ".py",
   "mimetype": "text/x-python",
   "name": "python",
   "nbconvert_exporter": "python",
   "pygments_lexer": "ipython3",
   "version": "3.8.13"
  }
 },
 "nbformat": 4,
 "nbformat_minor": 5
}
