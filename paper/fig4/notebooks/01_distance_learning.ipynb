{
 "cells": [
  {
   "cell_type": "markdown",
   "id": "055e4bfa-be70-47a4-9055-29da942ce641",
   "metadata": {},
   "source": [
    "# (Amortized) distance learning directly using a feedforward network\n",
    "- define prior $p(\\theta)$ and sample\n",
    "- produce simulations $x \\sim p(x|\\theta)$\n",
    "- append observations $x_o$\n",
    "- compute $d(\\theta_i, x_j) := d(x(\\theta_i),x_j), x_j \\in \\{X_{simulated}, X_{observed}\\}$\n",
    "- train network $NN_{\\phi}(\\theta_i, x_j) \\rightarrow d(x(\\theta_i),x_j)$\n",
    "- at inference time, define generalized likelihood $e^{-\\beta \\times NN_{\\phi}(\\theta, x_o)}$, and sample GBI posterior"
   ]
  },
  {
   "cell_type": "code",
   "execution_count": 1,
   "id": "aaaac7fd-40bc-47c8-b8b7-38afc7f38e28",
   "metadata": {},
   "outputs": [],
   "source": [
    "%load_ext autoreload\n",
    "%autoreload 2"
   ]
  },
  {
   "cell_type": "code",
   "execution_count": 51,
   "id": "aefd7612-c8ab-4abe-a600-b3e79a2efd36",
   "metadata": {},
   "outputs": [],
   "source": [
    "import matplotlib.pyplot as plt\n",
    "import torch\n",
    "from torch import zeros, ones, nn, Tensor\n",
    "\n",
    "from sbi.utils import BoxUniform, likelihood_nn\n",
    "from sbi.utils.gbi import build_generalized_log_likelihood, GBIPotential, mse_dist\n",
    "# from sbi.inference import SNLE, RejectionPosterior, likelihood_estimator_based_potential"
   ]
  },
  {
   "cell_type": "code",
   "execution_count": 5,
   "id": "78b120c4-2251-4bb3-9b1e-c887dbc68bab",
   "metadata": {},
   "outputs": [],
   "source": [
    "prior = BoxUniform(-ones(2), ones(2))\n",
    "def simulator(theta):\n",
    "    return theta ** 2 + torch.randn(theta.shape) * 0.1"
   ]
  },
  {
   "cell_type": "code",
   "execution_count": 96,
   "id": "c6bea176-ce10-43bc-b212-5d3e3fcf0089",
   "metadata": {},
   "outputs": [],
   "source": [
    "_ = torch.manual_seed(0)\n",
    "\n",
    "# simulate\n",
    "theta = prior.sample((500,))\n",
    "x = simulator(theta)\n",
    "\n",
    "# make \"observations\"\n",
    "theta_obs = prior.sample((20,))\n",
    "x_obs = simulator(theta_obs)\n",
    "\n",
    "# make some misspecified examples\n",
    "x_obs[10:] -= torch.randn(x_obs[10:].shape)\n",
    "xs = torch.concat((x, x_obs), 0)\n",
    "\n",
    "# compute distances\n",
    "dists = torch.vstack([mse_dist(x.unsqueeze(1), x_i) for x_i in xs]).T"
   ]
  },
  {
   "cell_type": "code",
   "execution_count": 98,
   "id": "e3c8450d-d919-458e-a13b-c3f485faeac5",
   "metadata": {},
   "outputs": [
    {
     "data": {
      "text/plain": [
       "520"
      ]
     },
     "execution_count": 98,
     "metadata": {},
     "output_type": "execute_result"
    }
   ],
   "source": [
    "xs.shape[0]"
   ]
  },
  {
   "cell_type": "code",
   "execution_count": 103,
   "id": "a66e461f-8e17-475b-b28c-809611729dff",
   "metadata": {},
   "outputs": [
    {
     "data": {
      "text/plain": [
       "(torch.Size([500, 2, 520]), torch.Size([520, 2, 500]))"
      ]
     },
     "execution_count": 103,
     "metadata": {},
     "output_type": "execute_result"
    }
   ],
   "source": [
    "dists.shape, theta.shape, xs.shape\n",
    "\n",
    "# dists are in chunks of 520 i.e., the second dim\n",
    "dists.reshape((-1,)).shape, theta.repeat((xs.shape[0],1)).shape\n",
    "\n",
    "theta.shape\n",
    "\n",
    "theta.unsqueeze(2).repeat((1,1, xs.shape[0])).shape, xs.unsqueeze(2).repeat((1,1, theta.shape[0])).shape\n",
    "\n",
    "\n",
    "# plt.imshow(torch.log(dists).numpy())"
   ]
  },
  {
   "cell_type": "code",
   "execution_count": null,
   "id": "8f5dc5e6-6869-49aa-976d-423330a148f3",
   "metadata": {},
   "outputs": [],
   "source": [
    "# construct dataset where X = [theta, xs], Y = dist\n"
   ]
  },
  {
   "cell_type": "code",
   "execution_count": 52,
   "id": "3d76b17d-c3e3-42e8-9537-20715f68271e",
   "metadata": {},
   "outputs": [],
   "source": [
    "# train network\n",
    "class DistanceRegressionEstimator(nn.Module):\n",
    "    def __init__(self, theta_dim, x_dim, hidden_features, num_layers):\n",
    "        super().__init__()\n",
    "        # self.beta_sampling = 1\n",
    "\n",
    "        input_dim = theta_dim + x_dim\n",
    "        output_dim = 1\n",
    "\n",
    "        layers = [nn.Linear(input_dim, hidden_features), nn.ReLU()]\n",
    "        for _ in range(num_layers - 1):\n",
    "            layers.append(nn.Linear(hidden_features, hidden_features))\n",
    "            layers.append(nn.ReLU())\n",
    "            \n",
    "        layers.append(nn.Linear(hidden_features, output_dim))\n",
    "        self.net = nn.Sequential(*layers)\n",
    "        \n",
    "    def forward(self, theta, x_o_batched):\n",
    "        \"\"\"\n",
    "        Predicts distance between theta and x_o (repeated to be same batch size).\n",
    "        \"\"\"        \n",
    "        return self.net(torch.concat((theta, x_o_batched), dim=-1))"
   ]
  },
  {
   "cell_type": "code",
   "execution_count": 39,
   "id": "ae61e849-31e7-4e5e-8079-a4a09d95dd12",
   "metadata": {},
   "outputs": [
    {
     "data": {
      "text/plain": [
       "(torch.Size([1000, 1, 2]), torch.Size([1020, 2]))"
      ]
     },
     "execution_count": 39,
     "metadata": {},
     "output_type": "execute_result"
    }
   ],
   "source": [
    "x.unsqueeze(1).shape, xs.shape"
   ]
  },
  {
   "cell_type": "code",
   "execution_count": 35,
   "id": "cc5e7aa1-6fa2-4054-b655-7e37dc6b7351",
   "metadata": {},
   "outputs": [
    {
     "data": {
      "text/plain": [
       "tensor([[[ 0.0000,  0.0000],\n",
       "         [ 0.7577,  0.1028],\n",
       "         [ 0.2724, -0.3911],\n",
       "         ...,\n",
       "         [ 0.2755, -0.0628],\n",
       "         [-0.0267, -0.3459],\n",
       "         [ 0.1376,  0.1303]]])"
      ]
     },
     "execution_count": 35,
     "metadata": {},
     "output_type": "execute_result"
    }
   ],
   "source": [
    "x.unsqueeze(0) - xs[0]"
   ]
  },
  {
   "cell_type": "code",
   "execution_count": null,
   "id": "29610701-dc46-4d3b-a244-fafbe024817c",
   "metadata": {},
   "outputs": [],
   "source": []
  }
 ],
 "metadata": {
  "kernelspec": {
   "display_name": "Python 3",
   "language": "python",
   "name": "python3"
  },
  "language_info": {
   "codemirror_mode": {
    "name": "ipython",
    "version": 3
   },
   "file_extension": ".py",
   "mimetype": "text/x-python",
   "name": "python",
   "nbconvert_exporter": "python",
   "pygments_lexer": "ipython3",
   "version": "3.8.13"
  }
 },
 "nbformat": 4,
 "nbformat_minor": 5
}
