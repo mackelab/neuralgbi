{
 "cells": [
  {
   "cell_type": "code",
   "execution_count": 1,
   "id": "3dc57918",
   "metadata": {},
   "outputs": [],
   "source": [
    "%load_ext autoreload\n",
    "%autoreload 2"
   ]
  },
  {
   "cell_type": "code",
   "execution_count": 6,
   "id": "d1de3608",
   "metadata": {},
   "outputs": [],
   "source": [
    "import time\n",
    "import pickle\n",
    "import matplotlib as mpl\n",
    "import matplotlib.pyplot as plt\n",
    "import numpy as np\n",
    "import torch\n",
    "from torch import float32, zeros, ones, eye, as_tensor, tensor\n",
    "\n",
    "from sbi.inference import MCMCPosterior, VIPosterior, ImportanceSamplingPosterior\n",
    "from sbi.analysis import pairplot\n",
    "from sbi.utils import mcmc_transform\n",
    "\n",
    "from gbi.GBI import GBInference\n",
    "from gbi.hh.train_gbi import MaeDistZ\n",
    "import gbi.hh.utils as utils\n",
    "from gbi.hh.HodgkinHuxley import HodgkinHuxley\n",
    "from gbi.hh.HodgkinHuxleyStatsMoments import HodgkinHuxleyStatsMoments"
   ]
  },
  {
   "cell_type": "markdown",
   "id": "eaf98279",
   "metadata": {},
   "source": [
    "### Main figure is with 1 Million simulations"
   ]
  },
  {
   "cell_type": "code",
   "execution_count": 3,
   "id": "75d75563",
   "metadata": {},
   "outputs": [],
   "source": [
    "gbi_path = \"/home/michael/Documents/neuralgbi/results/hh/gbi/2023_05_05__09_51_04_m/0_nsims_10000\"\n",
    "npe_path = \"/home/michael/Documents/neuralgbi/results/hh/gbi/2023_05_05__09_51_04_m/0_nsims_10000\""
   ]
  },
  {
   "cell_type": "code",
   "execution_count": 3,
   "id": "d84ac8b1",
   "metadata": {},
   "outputs": [
    {
     "ename": "AttributeError",
     "evalue": "Can't get attribute 'MaeDistZ' on <module '__main__'>",
     "output_type": "error",
     "traceback": [
      "\u001b[0;31m---------------------------------------------------------------------------\u001b[0m",
      "\u001b[0;31mAttributeError\u001b[0m                            Traceback (most recent call last)",
      "Cell \u001b[0;32mIn [3], line 2\u001b[0m\n\u001b[1;32m      1\u001b[0m \u001b[38;5;28;01mwith\u001b[39;00m \u001b[38;5;28mopen\u001b[39m(\u001b[38;5;124mf\u001b[39m\u001b[38;5;124m\"\u001b[39m\u001b[38;5;132;01m{\u001b[39;00mgbi_path\u001b[38;5;132;01m}\u001b[39;00m\u001b[38;5;124m/inference_gbi.pkl\u001b[39m\u001b[38;5;124m\"\u001b[39m, \u001b[38;5;124m\"\u001b[39m\u001b[38;5;124mrb\u001b[39m\u001b[38;5;124m\"\u001b[39m) \u001b[38;5;28;01mas\u001b[39;00m handle:\n\u001b[0;32m----> 2\u001b[0m     inference_gbi \u001b[38;5;241m=\u001b[39m pickle\u001b[38;5;241m.\u001b[39mload(handle)\n\u001b[1;32m      3\u001b[0m \u001b[38;5;28;01mwith\u001b[39;00m \u001b[38;5;28mopen\u001b[39m(\u001b[38;5;124mf\u001b[39m\u001b[38;5;124m\"\u001b[39m\u001b[38;5;132;01m{\u001b[39;00mnpe_path\u001b[38;5;132;01m}\u001b[39;00m\u001b[38;5;124m/inference_npe.pkl\u001b[39m\u001b[38;5;124m\"\u001b[39m, \u001b[38;5;124m\"\u001b[39m\u001b[38;5;124mrb\u001b[39m\u001b[38;5;124m\"\u001b[39m) \u001b[38;5;28;01mas\u001b[39;00m handle:\n\u001b[1;32m      4\u001b[0m     inference_npe \u001b[38;5;241m=\u001b[39m pickle\u001b[38;5;241m.\u001b[39mload(handle)\n",
      "\u001b[0;31mAttributeError\u001b[0m: Can't get attribute 'MaeDistZ' on <module '__main__'>"
     ]
    }
   ],
   "source": [
    "with open(f\"{gbi_path}/inference_gbi.pkl\", \"rb\") as handle:\n",
    "    inference_gbi = pickle.load(handle)\n",
    "with open(f\"{npe_path}/inference_npe.pkl\", \"rb\") as handle:\n",
    "    inference_npe = pickle.load(handle)"
   ]
  },
  {
   "cell_type": "markdown",
   "id": "cca185a8",
   "metadata": {},
   "source": [
    "### Load simulator"
   ]
  },
  {
   "cell_type": "code",
   "execution_count": null,
   "id": "c014a037",
   "metadata": {},
   "outputs": [],
   "source": [
    "I, t_on, t_off, dt = utils.syn_current()\n",
    "obs = utils.syn_obs_data(I, dt, true_params, seed=seed, cython=True)\n",
    "\n",
    "sim = HodgkinHuxley(\n",
    "    I, dt, V0=obs[\"data\"][0], reduced_model=False, cython=True, prior_log=False\n",
    ")\n",
    "stats = HodgkinHuxleyStatsMoments(\n",
    "    t_on=t_on, t_off=t_off, n_xcorr=n_xcorr, n_mom=n_mom, n_summary=n_summary\n",
    ")"
   ]
  },
  {
   "cell_type": "markdown",
   "id": "beb5fff3",
   "metadata": {},
   "source": [
    "### Load prior"
   ]
  },
  {
   "cell_type": "code",
   "execution_count": null,
   "id": "9e6098ee",
   "metadata": {},
   "outputs": [],
   "source": [
    "true_params, labels_params = utils.obs_params(reduced_model=False)\n",
    "prior = utils.prior(\n",
    "    true_params=true_params,\n",
    "    prior_uniform=True,\n",
    "    prior_extent=True,\n",
    "    prior_log=False,\n",
    "    seed=0,\n",
    ")\n",
    "limits = torch.stack(\n",
    "    [\n",
    "        prior.support.base_constraint.lower_bound,\n",
    "        prior.support.base_constraint.upper_bound,\n",
    "    ]\n",
    ").T"
   ]
  },
  {
   "cell_type": "markdown",
   "id": "43068e03",
   "metadata": {},
   "source": [
    "### Load allen cell data"
   ]
  },
  {
   "cell_type": "code",
   "execution_count": 33,
   "id": "90b6050f",
   "metadata": {},
   "outputs": [],
   "source": [
    "seed = 1\n",
    "n_xcorr = 0\n",
    "n_mom = 4\n",
    "n_summary = 7"
   ]
  },
  {
   "cell_type": "code",
   "execution_count": 29,
   "id": "f1c75109",
   "metadata": {},
   "outputs": [],
   "source": [
    "# list of all Allen recordings\n",
    "list_cells_AllenDB = [[518290966,57,0.0234/126],[509881736,39,0.0153/184],[566517779,46,0.0195/198],\n",
    "                      [567399060,38,0.0259/161],[569469018,44,0.033/403],[532571720,42,0.0139/127],\n",
    "                      [555060623,34,0.0294/320],[534524026,29,0.027/209],[532355382,33,0.0199/230],\n",
    "                      [526950199,37,0.0186/218]]\n",
    "\n",
    "n_cells = len(list_cells_AllenDB)\n",
    "\n",
    "# define model, summary statistics and generator\n",
    "obs_stats_ls = []\n",
    "m_ls = []\n",
    "s_ls = []\n",
    "g_ls = []\n",
    "all_obs = []\n",
    "for cell_num in range(n_cells):\n",
    "    ephys_cell = list_cells_AllenDB[cell_num][0]\n",
    "    sweep_number = list_cells_AllenDB[cell_num][1]\n",
    "    A_soma = list_cells_AllenDB[cell_num][2]\n",
    "    junction_potential = -14\n",
    "\n",
    "    obs = utils.allen_obs_data(ephys_cell=ephys_cell,sweep_number=sweep_number,A_soma=A_soma)\n",
    "    all_obs.append(obs)\n",
    "\n",
    "    obs['data'] = obs['data'] + junction_potential\n",
    "    I = obs['I']\n",
    "    dt = obs['dt']\n",
    "    t_on = obs['t_on']\n",
    "    t_off = obs['t_off']\n",
    "\n",
    "    obs_stats = utils.allen_obs_stats(data=obs,ephys_cell=ephys_cell,sweep_number=sweep_number,\n",
    "                                      n_xcorr=n_xcorr,n_mom=n_mom,\n",
    "                                      n_summary=n_summary)\n",
    "    obs_stats_ls.append(obs_stats)"
   ]
  },
  {
   "cell_type": "code",
   "execution_count": 30,
   "id": "8dde05ba",
   "metadata": {},
   "outputs": [],
   "source": [
    "with open(\"data/theta.pkl\", \"rb\") as handle:\n",
    "    theta = pickle.load(handle)\n",
    "\n",
    "with open(\"data/summstats.pkl\", \"rb\") as handle:\n",
    "    x = pickle.load(handle)"
   ]
  },
  {
   "cell_type": "code",
   "execution_count": 31,
   "id": "60f767ce",
   "metadata": {},
   "outputs": [
    {
     "data": {
      "image/png": "[encoded data removed]",
      "text/plain": [
       "<Figure size 2000x200 with 7 Axes>"
      ]
     },
     "metadata": {},
     "output_type": "display_data"
    }
   ],
   "source": [
    "fig, ax = plt.subplots(1, 7, figsize=(20, 2))\n",
    "for i in range(7):\n",
    "    _ = ax[i].hist(x[:, i].numpy(), bins=30)\n",
    "    for o in obs_stats_ls:\n",
    "        ax[i].axvline(o[0, i], c=\"r\")"
   ]
  },
  {
   "cell_type": "markdown",
   "id": "0fcb77af",
   "metadata": {},
   "source": [
    "# GBI"
   ]
  },
  {
   "cell_type": "markdown",
   "id": "93f833d2",
   "metadata": {},
   "source": [
    "### Evaluate the distance estimator"
   ]
  },
  {
   "cell_type": "code",
   "execution_count": null,
   "id": "16db5308",
   "metadata": {},
   "outputs": [],
   "source": [
    "# Generate, for 10 simulations for 100 thetas\n",
    "theta_vals = prior.sample((100,))\n",
    "seeds = torch.randint(0, 100000, (100, 10))\n",
    "final_stats = []\n",
    "for theta_ind, theta_val in enumerate(theta_vals):\n",
    "    all_summstats = []\n",
    "    for iter_ in range(10):  # 10 sims per theta\n",
    "        x_val = sim.gen_single(theta, seed=seeds[theta_ind, iter_])\n",
    "        summstats = stats([x_val])\n",
    "        all_summstats.append(summstats)\n",
    "    final_stats.append(all_summstats)\n",
    "\n",
    "final_stats = np.asarray(final_stats)"
   ]
  },
  {
   "cell_type": "code",
   "execution_count": null,
   "id": "5d481884",
   "metadata": {},
   "outputs": [],
   "source": [
    "# Generate 10 synthetic observations\n",
    "theta_vals = prior.sample((10,))\n",
    "seeds = torch.randint(0, 100000, (10,))\n",
    "x_target_vals = []\n",
    "for theta_ind, theta_val in enumerate(theta_vals):\n",
    "    x_val = sim.gen_single(theta, seed=seeds[theta_ind])\n",
    "    summstats = stats([x_val])\n",
    "    x_target_vals.append(summstats)\n",
    "\n",
    "x_target_vals = np.asarray(x_target_vals)"
   ]
  },
  {
   "cell_type": "code",
   "execution_count": null,
   "id": "ea0883c7",
   "metadata": {},
   "outputs": [],
   "source": [
    "pred_dists = [distance_net.forward(theta_vals, x_target_val).detach().numpy() for x_target_val in x_target_vals]\n",
    "true_dists = [inference_gbi.distance_func(final_stats, x_target_val).numpy() for x_target_val in x_target_vals]"
   ]
  },
  {
   "cell_type": "code",
   "execution_count": null,
   "id": "2167b206",
   "metadata": {},
   "outputs": [],
   "source": [
    "cols = [\n",
    "    \"#a6cee3\",\n",
    "    \"#1f78b4\",\n",
    "    \"#b2df8a\",\n",
    "    \"#33a02c\",\n",
    "    \"#fb9a99\",\n",
    "    \"#e31a1c\",\n",
    "    \"#fdbf6f\",\n",
    "    \"#ff7f00\",\n",
    "    \"#cab2d6\",\n",
    "    \"#6a3d9a\",\n",
    "]\n",
    "with mpl.rc_context(fname=\"../../../.matplotlibrc\"):\n",
    "    fig, ax = plt.subplots(1, 8, figsize=(6, 4))\n",
    "    for i in range(10):\n",
    "        t = true_dists[i]\n",
    "        p = pred_dists[i]\n",
    "        _ = ax.scatter(t, p, c=cols[i], alpha=.3)\n",
    "        _ = ax.set_xlabel(\"True dist\")\n",
    "        _ = ax.set_ylabel(\"Pred dist\")\n",
    "    plt.savefig(\"svg/panel_aa.svg\")"
   ]
  },
  {
   "cell_type": "markdown",
   "id": "3693fe5d",
   "metadata": {},
   "source": [
    "### Draw samples from posterior"
   ]
  },
  {
   "cell_type": "code",
   "execution_count": null,
   "id": "48322de8",
   "metadata": {},
   "outputs": [],
   "source": [
    "def sample_gbi_all_xo(beta):\n",
    "    all_samples = []\n",
    "    for xo in obs_stats_ls:\n",
    "        xo = as_tensor(xo)\n",
    "        potential_fn = inference_gbi.get_potential(x_o=xo, beta=beta)\n",
    "        theta_transform = mcmc_transform(prior)\n",
    "\n",
    "        posterior = MCMCPosterior(\n",
    "            potential_fn,\n",
    "            theta_transform=theta_transform,\n",
    "            proposal=prior,\n",
    "            method=\"slice_np_vectorized\",\n",
    "            thin=10,\n",
    "            warmup_steps=100,\n",
    "            num_chains=100,\n",
    "            init_strategy=\"resample\",\n",
    "            frac_chains_to_finish=0.9,\n",
    "        )\n",
    "        posterior_samples = posterior.sample((1_000,), frac_chains_to_finish=0.9)\n",
    "        all_samples.append(posterior_samples)\n",
    "    return all_samples"
   ]
  },
  {
   "cell_type": "code",
   "execution_count": null,
   "id": "f94da628",
   "metadata": {},
   "outputs": [],
   "source": [
    "betas = [10.0, 50.0, 250.0]"
   ]
  },
  {
   "cell_type": "code",
   "execution_count": null,
   "id": "95449d08",
   "metadata": {},
   "outputs": [],
   "source": [
    "samples_gbi_beta10 = sample_gbi_all_xo(betas[0])\n",
    "samples_gbi_beta50 = sample_gbi_all_xo(betas[1])\n",
    "samples_gbi_beta250 = sample_gbi_all_xo(betas[2])\n",
    "with open(\"samples_gbi_beta10.pkl\", \"wb\") as handle:\n",
    "    pickle.dump(samples_gbi_beta10, handle)\n",
    "with open(\"samples_gbi_beta50.pkl\", \"wb\") as handle:\n",
    "    pickle.dump(samples_gbi_beta50, handle)\n",
    "with open(\"samples_gbi_beta250.pkl\", \"wb\") as handle:\n",
    "    pickle.dump(samples_gbi_beta250, handle)"
   ]
  },
  {
   "cell_type": "code",
   "execution_count": null,
   "id": "5514f8aa",
   "metadata": {},
   "outputs": [],
   "source": [
    "with open(\"samples_gbi_beta10.pkl\", \"rb\") as handle:\n",
    "    samples_gbi_beta10 = pickle.load(handle)\n",
    "with open(\"samples_gbi_beta50.pkl\", \"rb\") as handle:\n",
    "    samples_gbi_beta50 = pickle.load(handle)\n",
    "with open(\"samples_gbi_beta250.pkl\", \"rb\") as handle:\n",
    "    samples_gbi_beta250 = pickle.load(handle)"
   ]
  },
  {
   "cell_type": "markdown",
   "id": "cf109c95",
   "metadata": {},
   "source": [
    "### Posterior predictives"
   ]
  },
  {
   "cell_type": "code",
   "execution_count": null,
   "id": "b3859ec4",
   "metadata": {},
   "outputs": [],
   "source": [
    "all_predictives_gbi250 = []\n",
    "for posterior_samples in samples_gbi_beta250:\n",
    "    r = [sim.gen_single(theta.numpy(), seed=0) for theta in posterior_samples]\n",
    "    all_predictives_gbi250.append(r)\n",
    "\n",
    "all_predictives_gbi50 = []\n",
    "for posterior_samples in samples_gbi_beta50:\n",
    "    r = [sim.gen_single(theta.numpy(), seed=0) for theta in posterior_samples]\n",
    "    all_predictives_gbi50.append(r)\n",
    "\n",
    "all_predictives_gbi10 = []\n",
    "for posterior_samples in samples_gbi_beta10:\n",
    "    r = [sim.gen_single(theta.numpy(), seed=0) for theta in posterior_samples]\n",
    "    all_predictives_gbi10.append(r)"
   ]
  },
  {
   "cell_type": "code",
   "execution_count": null,
   "id": "6578cec7",
   "metadata": {},
   "outputs": [],
   "source": [
    "gbi250_av_dists = []\n",
    "for predictives, xo in zip(all_predictives_gbi250, obs_stats_ls):\n",
    "    dists = inference_gbi.distance_func(predictives.unsqueeze(1), xo)\n",
    "    gbi250_av_dists.append(torch.mean(dists))\n",
    "\n",
    "gbi50_av_dists = []\n",
    "for predictives, xo in zip(all_predictives_gbi50, obs_stats_ls):\n",
    "    dists = inference_gbi.distance_func(predictives.unsqueeze(1), xo)\n",
    "    gbi50_av_dists.append(torch.mean(dists))\n",
    "\n",
    "gbi10_av_dists = []\n",
    "for predictives, xo in zip(all_predictives_gbi10, obs_stats_ls):\n",
    "    dists = inference_gbi.distance_func(predictives.unsqueeze(1), xo)\n",
    "    gbi10_av_dists.append(torch.mean(dists))"
   ]
  },
  {
   "cell_type": "code",
   "execution_count": null,
   "id": "ee2089fe",
   "metadata": {},
   "outputs": [],
   "source": [
    "with mpl.rc_context(fname=\"../../../.matplotlibrc\"):\n",
    "    fig, ax = plt.subplots(1, 8, figsize=(6, 4))\n",
    "    for i in range(8):\n",
    "        predictives = all_predictives_gbi250[i]\n",
    "        xo  = all_obs[i]\n",
    "        for p in predictives:\n",
    "            _ = ax[i].plot(p[\"data\"], c=\"grey\", alpha=0.4)\n",
    "        _ = ax[i].plot(xo[\"data\"], c=\"k\")\n",
    "        _ = ax[i].set_xlabel(\"Index\")\n",
    "        _ = ax[i].set_ylabel(\"Voltage (mV)\")\n",
    "        plt.savefig(\"svg/panel_b.svg\")"
   ]
  },
  {
   "cell_type": "markdown",
   "id": "1767d531",
   "metadata": {},
   "source": [
    "# NPE"
   ]
  },
  {
   "cell_type": "code",
   "execution_count": null,
   "id": "7fd02883",
   "metadata": {},
   "outputs": [],
   "source": [
    "npe_all_samples = []\n",
    "for xo in obs_stats_ls:\n",
    "    xo = as_tensor(xo)\n",
    "    posterior = inference_npe.build_posterior()\n",
    "    posterior_samples = posterior.sample((1_000,), x=xo)\n",
    "    npe_all_samples.append(posterior_samples)"
   ]
  },
  {
   "cell_type": "code",
   "execution_count": null,
   "id": "151862bb",
   "metadata": {},
   "outputs": [],
   "source": [
    "all_predictives = []\n",
    "for posterior_samples in npe_all_samples:\n",
    "    r = [sim.gen_single(theta.numpy(), seed=0) for theta in posterior_samples]\n",
    "    all_predictives.append(r)"
   ]
  },
  {
   "cell_type": "code",
   "execution_count": null,
   "id": "287fb0a1",
   "metadata": {},
   "outputs": [],
   "source": [
    "npe_av_dists = []\n",
    "for predictives, xo in zip(all_predictives, obs_stats_ls):\n",
    "    dists = inference_gbi.distance_func(predictives.unsqueeze(1), xo)\n",
    "    npe_av_dists.append(torch.mean(dists))"
   ]
  },
  {
   "cell_type": "code",
   "execution_count": null,
   "id": "ba32ff39",
   "metadata": {},
   "outputs": [],
   "source": [
    "with mpl.rc_context(fname=\"../../../.matplotlibrc\"):\n",
    "    fig, ax = plt.subplots(1, 8, figsize=(6, 4))\n",
    "    for i in range(8):\n",
    "        predictives = all_predictives[i]\n",
    "        xo  = all_obs[i]\n",
    "        for p in predictives:\n",
    "            _ = ax[i].plot(p[\"data\"], c=\"grey\", alpha=0.4)\n",
    "        _ = ax[i].plot(xo[\"data\"], c=\"k\")\n",
    "        _ = ax[i].set_xlabel(\"Index\")\n",
    "        _ = ax[i].set_ylabel(\"Voltage (mV)\")\n",
    "        plt.savefig(\"svg/panel_a.svg\")"
   ]
  },
  {
   "cell_type": "markdown",
   "id": "4cc0d9b8",
   "metadata": {},
   "source": [
    "# Compare NPE and GBI"
   ]
  },
  {
   "cell_type": "code",
   "execution_count": null,
   "id": "be8d08db",
   "metadata": {},
   "outputs": [],
   "source": [
    "with mpl.rc_context(fname=\"../../../.matplotlibrc\"):\n",
    "    fig, ax = plt.subplots(1, 1, figsize=(3, 3))\n",
    "    _ = ax.scatter([0], [np.mean(npe_av_dists)], c=\"k\")\n",
    "    _ = ax.plot([1, 2, 3], [np.mean(gbi10_av_dists), np.mean(gbi50_av_dists), np.mean(gbi250_av_dists)])\n",
    "    plt.savefig(\"svg/panel_c.svg\")"
   ]
  },
  {
   "cell_type": "code",
   "execution_count": null,
   "id": "d2931e92",
   "metadata": {},
   "outputs": [],
   "source": [
    "with mpl.rc_context(fname=\"../../../.matplotlibrc\"):\n",
    "    fig, ax = pairplot(\n",
    "        [\n",
    "            npe_all_samples[0], \n",
    "            samples_gbi_beta10[0], \n",
    "            samples_gbi_beta50[0], \n",
    "            samples_gbi_beta250[0], \n",
    "        ],\n",
    "        limits=limits,\n",
    "        ticks=limits,\n",
    "        upper=\"contour\",\n",
    "        contour_offdiag={\"levels\": [0.68], \"percentile\": True},\n",
    "        figsize=(6, 6),\n",
    "    )\n",
    "    _ = ax.set_title(f\"ID {list_cells_AllenDB[0][0]}\")\n",
    "    plt.savefig(\"svg/panel_d.svg\")"
   ]
  },
  {
   "cell_type": "markdown",
   "id": "52c8f764",
   "metadata": {},
   "source": [
    "### Assemble figure"
   ]
  },
  {
   "cell_type": "code",
   "execution_count": 34,
   "id": "671db861",
   "metadata": {},
   "outputs": [],
   "source": [
    "import time\n",
    "import IPython.display as IPd\n",
    "from svgutils.compose import *"
   ]
  },
  {
   "cell_type": "code",
   "execution_count": null,
   "id": "4af92f08",
   "metadata": {},
   "outputs": [],
   "source": [
    "def svg(img):\n",
    "    IPd.display(IPd.HTML('<img src=\"{}\" / >'.format(img, time.time())))\n",
    "\n",
    "# > Inkscape pixel is 1/90 of an inch, other software usually uses 1/72.\n",
    "# > http://www.inkscapeforum.com/viewtopic.php?f=6&t=5964\n",
    "svg_scale = 1.25  # set this to 1.25 for Inkscape, 1.0 otherwise\n",
    "\n",
    "# Panel letters in Helvetica Neue, 12pt, Medium\n",
    "kwargs_text = {'size': '12pt', 'font': 'Arial', 'weight': '800'}\n",
    "\n",
    "f = Figure(\"15.3cm\", \"7.1cm\",\n",
    "           \n",
    "    Panel(\n",
    "          SVG(\"../svg/illustration.svg\").scale(svg_scale),\n",
    "          Text(\"a\", -5, 2.0, **kwargs_text),\n",
    "    ).move(10, 20),\n",
    "           \n",
    "    Panel(\n",
    "          SVG(\"../svg/panel_a.svg\").scale(svg_scale),\n",
    "          Text(\"b\", -5, 2.0, **kwargs_text),\n",
    "    ).move(10, 20),\n",
    "    \n",
    "    Panel(\n",
    "          SVG(\"../svg/panel_b.svg\").scale(svg_scale),\n",
    "          Text(\"c\", -5, 2.0, **kwargs_text),\n",
    "    ).move(400, 20),\n",
    "           \n",
    "    Panel(\n",
    "          SVG(\"../svg/panel_c.svg\").scale(svg_scale),\n",
    "          Text(\"d\", -5, 2.0, **kwargs_text),\n",
    "    ).move(400, 20),\n",
    "           \n",
    "    Panel(\n",
    "          SVG(\"../svg/panel_d.svg\").scale(svg_scale),\n",
    "          Text(\"e\", -5, 2.0, **kwargs_text),\n",
    "    ).move(400, 20),\n",
    ")\n",
    "\n",
    "!mkdir -p fig\n",
    "f.save(\"fig/fig.svg\")\n",
    "svg(\"fig/fig.svg\")"
   ]
  }
 ],
 "metadata": {
  "kernelspec": {
   "display_name": "Python 3 (ipykernel)",
   "language": "python",
   "name": "python3"
  },
  "language_info": {
   "codemirror_mode": {
    "name": "ipython",
    "version": 3
   },
   "file_extension": ".py",
   "mimetype": "text/x-python",
   "name": "python",
   "nbconvert_exporter": "python",
   "pygments_lexer": "ipython3",
   "version": "3.8.13"
  }
 },
 "nbformat": 4,
 "nbformat_minor": 5
}
