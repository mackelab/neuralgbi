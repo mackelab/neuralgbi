{
 "cells": [
  {
   "cell_type": "code",
   "execution_count": 1,
   "id": "28b920bb",
   "metadata": {},
   "outputs": [],
   "source": [
    "%load_ext autoreload\n",
    "%autoreload 2"
   ]
  },
  {
   "cell_type": "code",
   "execution_count": 2,
   "id": "8fa22bee",
   "metadata": {},
   "outputs": [
    {
     "name": "stderr",
     "output_type": "stream",
     "text": [
      "/home/michael/anaconda3/envs/gbi/lib/python3.8/site-packages/tqdm/auto.py:22: TqdmWarning: IProgress not found. Please update jupyter and ipywidgets. See https://ipywidgets.readthedocs.io/en/stable/user_install.html\n",
      "  from .autonotebook import tqdm as notebook_tqdm\n"
     ]
    }
   ],
   "source": [
    "import pickle\n",
    "import torch\n",
    "import matplotlib.pyplot as plt\n",
    "import numpy as np\n",
    "\n",
    "from gbi.GBI import GBInference\n",
    "from gbi.distances import mse_dist\n",
    "import gbi.hh.utils as utils"
   ]
  },
  {
   "cell_type": "code",
   "execution_count": 3,
   "id": "3d6c20ae",
   "metadata": {},
   "outputs": [],
   "source": [
    "with open(\"data/theta.pkl\", \"rb\") as handle:\n",
    "    theta = pickle.load(handle)\n",
    "\n",
    "with open(\"data/summstats.pkl\", \"rb\") as handle:\n",
    "    x = pickle.load(handle)"
   ]
  },
  {
   "cell_type": "code",
   "execution_count": 4,
   "id": "90159f1a",
   "metadata": {},
   "outputs": [],
   "source": [
    "nsims = 100_000"
   ]
  },
  {
   "cell_type": "code",
   "execution_count": 5,
   "id": "47ccf494",
   "metadata": {},
   "outputs": [],
   "source": [
    "theta = theta[:nsims]\n",
    "x = x[:nsims]"
   ]
  },
  {
   "cell_type": "code",
   "execution_count": 6,
   "id": "8d3d8162",
   "metadata": {},
   "outputs": [],
   "source": [
    "n_nonaug_x = nsims\n",
    "n_augmented_x = nsims\n",
    "noise_level = 2.0"
   ]
  },
  {
   "cell_type": "code",
   "execution_count": 7,
   "id": "916ef796",
   "metadata": {},
   "outputs": [],
   "source": [
    "x_aug = x[torch.randint(x.shape[0], size=(n_augmented_x,))]\n",
    "x_aug = x_aug + torch.randn(x_aug.shape) * x.std(dim=0) * noise_level\n",
    "x_target = torch.cat([x[:n_nonaug_x], x_aug])"
   ]
  },
  {
   "cell_type": "code",
   "execution_count": 20,
   "id": "a1ebe2fe",
   "metadata": {},
   "outputs": [],
   "source": [
    "true_params, labels_params = utils.obs_params(reduced_model=False)\n",
    "\n",
    "prior = utils.prior(\n",
    "    true_params=true_params,\n",
    "    prior_uniform=True,\n",
    "    prior_extent=True,\n",
    "    prior_log=False,\n",
    "    seed=0,\n",
    ")"
   ]
  },
  {
   "cell_type": "code",
   "execution_count": 29,
   "id": "75eb700c",
   "metadata": {},
   "outputs": [],
   "source": [
    "inference = GBInference(prior, mse_dist, do_precompute_distances=False)"
   ]
  },
  {
   "cell_type": "code",
   "execution_count": 30,
   "id": "ac78f7ec",
   "metadata": {},
   "outputs": [],
   "source": [
    "inference = inference.append_simulations(theta, x, x_target)"
   ]
  },
  {
   "cell_type": "code",
   "execution_count": 31,
   "id": "82841e1f",
   "metadata": {},
   "outputs": [
    {
     "name": "stdout",
     "output_type": "stream",
     "text": [
      "score!\n"
     ]
    }
   ],
   "source": [
    "inference.initialize_distance_estimator(\n",
    "    3, \n",
    "    50, \n",
    "    positive_constraint_fn=\"relu\",\n",
    "    net_kwargs={\n",
    "        \"z_score_theta\": True,\n",
    "        \"z_score_x\": True,\n",
    "        \"z_score_dists\": True,\n",
    "    }\n",
    ")"
   ]
  },
  {
   "cell_type": "code",
   "execution_count": 32,
   "id": "8de375db",
   "metadata": {},
   "outputs": [
    {
     "name": "stdout",
     "output_type": "stream",
     "text": [
      "0: train loss: 11928334336.000000, val loss: 12887667712.000000, 0.7905 seconds per epoch.\n",
      "1: train loss: 7758052864.000000, val loss: 7719913472.000000, 0.7899 seconds per epoch.\n",
      "2: train loss: 3222807040.000000, val loss: 3516105984.000000, 0.7821 seconds per epoch.\n",
      "3: train loss: 2862745856.000000, val loss: 3164363776.000000, 0.8208 seconds per epoch.\n",
      "4: train loss: 2766015232.000000, val loss: 2676595712.000000, 0.7972 seconds per epoch.\n",
      "5: train loss: 2326179328.000000, val loss: 2650714624.000000, 0.7933 seconds per epoch.\n",
      "6: train loss: 2571389952.000000, val loss: 2322112768.000000, 0.7963 seconds per epoch.\n",
      "7: train loss: 2114278400.000000, val loss: 2424312832.000000, 0.7904 seconds per epoch.\n",
      "8: train loss: 2112657280.000000, val loss: 2235979008.000000, 0.7873 seconds per epoch.\n",
      "9: train loss: 1955136640.000000, val loss: 2035965440.000000, 0.7847 seconds per epoch.\n",
      "10: train loss: 2089278464.000000, val loss: 1893696640.000000, 0.7944 seconds per epoch.\n",
      "11: train loss: 1898586368.000000, val loss: 1917246336.000000, 0.8056 seconds per epoch.\n",
      "12: train loss: 1465637760.000000, val loss: 1762357248.000000, 0.8071 seconds per epoch.\n",
      "13: train loss: 1701948288.000000, val loss: 1639184640.000000, 0.8117 seconds per epoch.\n",
      "14: train loss: 1380494848.000000, val loss: 1566434048.000000, 0.8000 seconds per epoch.\n",
      "15: train loss: 1442975488.000000, val loss: 1448787200.000000, 0.7960 seconds per epoch.\n",
      "16: train loss: 1459552128.000000, val loss: 1359101568.000000, 0.7918 seconds per epoch.\n",
      "17: train loss: 1217486592.000000, val loss: 1186755712.000000, 0.7914 seconds per epoch.\n",
      "18: train loss: 1124834944.000000, val loss: 1254985728.000000, 0.7910 seconds per epoch.\n",
      "19: train loss: 1186755456.000000, val loss: 1162539776.000000, 0.7884 seconds per epoch.\n",
      "20: train loss: 1010821376.000000, val loss: 1119015296.000000, 0.7810 seconds per epoch.\n",
      "21: train loss: 935616576.000000, val loss: 1003766784.000000, 0.7772 seconds per epoch.\n",
      "22: train loss: 933129984.000000, val loss: 985473536.000000, 0.7710 seconds per epoch.\n",
      "23: train loss: 906155456.000000, val loss: 811066944.000000, 0.7827 seconds per epoch.\n",
      "24: train loss: 896603136.000000, val loss: 845722944.000000, 0.7873 seconds per epoch.\n",
      "25: train loss: 714525440.000000, val loss: 787231616.000000, 0.8030 seconds per epoch.\n",
      "26: train loss: 777046784.000000, val loss: 740693952.000000, 0.8055 seconds per epoch.\n",
      "27: train loss: 692787520.000000, val loss: 723878784.000000, 0.7798 seconds per epoch.\n",
      "28: train loss: 779041344.000000, val loss: 665607232.000000, 0.8056 seconds per epoch.\n",
      "29: train loss: 724978304.000000, val loss: 601726784.000000, 0.7985 seconds per epoch.\n",
      "30: train loss: 678343360.000000, val loss: 661585664.000000, 0.8035 seconds per epoch.\n",
      "31: train loss: 474748064.000000, val loss: 555255040.000000, 0.7836 seconds per epoch.\n",
      "32: train loss: 593096576.000000, val loss: 547305536.000000, 0.7685 seconds per epoch.\n",
      "33: train loss: 530628544.000000, val loss: 595942272.000000, 0.7787 seconds per epoch.\n",
      "34: train loss: 487998720.000000, val loss: 594539904.000000, 0.7875 seconds per epoch.\n",
      "35: train loss: 526012448.000000, val loss: 528738560.000000, 0.7874 seconds per epoch.\n",
      "36: train loss: 532911072.000000, val loss: 486538272.000000, 0.7763 seconds per epoch.\n",
      "37: train loss: 470520736.000000, val loss: 463880704.000000, 0.7859 seconds per epoch.\n",
      "38: train loss: 420612256.000000, val loss: 479247200.000000, 0.8184 seconds per epoch.\n",
      "39: train loss: 421593888.000000, val loss: 406559168.000000, 0.8111 seconds per epoch.\n",
      "40: train loss: 402103488.000000, val loss: 467602304.000000, 0.8234 seconds per epoch.\n",
      "41: train loss: 382406432.000000, val loss: 421845888.000000, 0.7985 seconds per epoch.\n",
      "42: train loss: 399132576.000000, val loss: 405326144.000000, 0.8054 seconds per epoch.\n",
      "43: train loss: 400634880.000000, val loss: 408332224.000000, 0.7850 seconds per epoch.\n",
      "44: train loss: 360586400.000000, val loss: 390614048.000000, 0.7821 seconds per epoch.\n",
      "45: train loss: 393406880.000000, val loss: 384042560.000000, 0.7931 seconds per epoch.\n",
      "46: train loss: 378523712.000000, val loss: 389430560.000000, 0.8074 seconds per epoch.\n",
      "47: train loss: 368158368.000000, val loss: 332342624.000000, 0.7978 seconds per epoch.\n",
      "48: train loss: 322222624.000000, val loss: 390096256.000000, 0.7989 seconds per epoch.\n",
      "49: train loss: 335973024.000000, val loss: 384561536.000000, 0.7951 seconds per epoch.\n",
      "50: train loss: 314273536.000000, val loss: 376646912.000000, 0.7921 seconds per epoch.\n",
      "Network converged after 50 of 50 epochs.\n"
     ]
    }
   ],
   "source": [
    "distance_net = inference.train(\n",
    "    training_batch_size=5_000,\n",
    "    max_n_epochs=50,\n",
    "    stop_after_counter_reaches=20,\n",
    "    print_every_n=1,\n",
    "    plot_losses=False,\n",
    ")"
   ]
  },
  {
   "cell_type": "code",
   "execution_count": 33,
   "id": "ec51befd",
   "metadata": {},
   "outputs": [],
   "source": [
    "inds1 = torch.randint(0, 1000, (100,))\n",
    "inds2 = torch.randint(0, 1000, (100,))\n",
    "pred_dists = distance_net.forward(theta[inds1], x_target[inds2]).detach()\n",
    "true_dists = torch.mean((x[inds1] - x_target[inds2])**2, dim=1)"
   ]
  },
  {
   "cell_type": "code",
   "execution_count": 34,
   "id": "c097f9e8",
   "metadata": {},
   "outputs": [
    {
     "data": {
      "image/png": "[encoded data removed]",
      "text/plain": [
       "<Figure size 400x400 with 1 Axes>"
      ]
     },
     "metadata": {},
     "output_type": "display_data"
    }
   ],
   "source": [
    "fig, ax = plt.subplots(1, 1, figsize=(4, 4))\n",
    "_ = ax.scatter(pred_dists.numpy(), true_dists.numpy())\n",
    "_ = ax.plot([0, np.max(true_dists.numpy())], [0, np.max(true_dists.numpy())], c=\"grey\", alpha=0.4)\n",
    "_ = ax.set_xlabel(\"Predicted distance\")\n",
    "_ = ax.set_ylabel(\"True distance\")\n",
    "ax.set_title(\"With z-scoring\")\n",
    "plt.savefig(\"z-score.png\", dpi=200, bbox_inches=\"tight\")"
   ]
  },
  {
   "cell_type": "code",
   "execution_count": null,
   "id": "417c50f5",
   "metadata": {},
   "outputs": [],
   "source": []
  }
 ],
 "metadata": {
  "kernelspec": {
   "display_name": "Python 3 (ipykernel)",
   "language": "python",
   "name": "python3"
  },
  "language_info": {
   "codemirror_mode": {
    "name": "ipython",
    "version": 3
   },
   "file_extension": ".py",
   "mimetype": "text/x-python",
   "name": "python",
   "nbconvert_exporter": "python",
   "pygments_lexer": "ipython3",
   "version": "3.8.13"
  }
 },
 "nbformat": 4,
 "nbformat_minor": 5
}
