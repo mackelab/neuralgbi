{
 "cells": [
  {
   "cell_type": "code",
   "execution_count": 1,
   "id": "32b335b6",
   "metadata": {},
   "outputs": [],
   "source": [
    "%load_ext autoreload\n",
    "%autoreload 2"
   ]
  },
  {
   "cell_type": "code",
   "execution_count": 2,
   "id": "3aff2939",
   "metadata": {},
   "outputs": [
    {
     "name": "stderr",
     "output_type": "stream",
     "text": [
      "/home/michael/anaconda3/envs/gbi/lib/python3.8/site-packages/tqdm/auto.py:22: TqdmWarning: IProgress not found. Please update jupyter and ipywidgets. See https://ipywidgets.readthedocs.io/en/stable/user_install.html\n",
      "  from .autonotebook import tqdm as notebook_tqdm\n"
     ]
    }
   ],
   "source": [
    "import pickle\n",
    "import torch\n",
    "\n",
    "from gbi.GBI import GBInference\n",
    "from gbi.distances import mse_dist\n",
    "import gbi.hh.utils as utils"
   ]
  },
  {
   "cell_type": "code",
   "execution_count": 3,
   "id": "3470836b",
   "metadata": {},
   "outputs": [],
   "source": [
    "with open(\"data/theta.pkl\", \"rb\") as handle:\n",
    "    theta = pickle.load(handle)\n",
    "\n",
    "with open(\"data/summstats.pkl\", \"rb\") as handle:\n",
    "    x = pickle.load(handle)"
   ]
  },
  {
   "cell_type": "code",
   "execution_count": 4,
   "id": "368a036c",
   "metadata": {},
   "outputs": [],
   "source": [
    "nsims = 1_000_000"
   ]
  },
  {
   "cell_type": "code",
   "execution_count": 5,
   "id": "a659d590",
   "metadata": {},
   "outputs": [],
   "source": [
    "theta = theta[:nsims]\n",
    "x = x[:nsims]"
   ]
  },
  {
   "cell_type": "code",
   "execution_count": 6,
   "id": "06412c81",
   "metadata": {},
   "outputs": [],
   "source": [
    "n_nonaug_x = nsims\n",
    "n_augmented_x = nsims\n",
    "noise_level = 2.0"
   ]
  },
  {
   "cell_type": "code",
   "execution_count": 7,
   "id": "a0ef7214",
   "metadata": {},
   "outputs": [],
   "source": [
    "x_aug = x[torch.randint(x.shape[0], size=(n_augmented_x,))]\n",
    "x_aug = x_aug + torch.randn(x_aug.shape) * x.std(dim=0) * noise_level\n",
    "x_target = torch.cat([x[:n_nonaug_x], x_aug])"
   ]
  },
  {
   "cell_type": "code",
   "execution_count": 8,
   "id": "aa37f910",
   "metadata": {},
   "outputs": [],
   "source": [
    "true_params, labels_params = utils.obs_params(reduced_model=False)\n",
    "\n",
    "prior = utils.prior(\n",
    "    true_params=true_params,\n",
    "    prior_uniform=True,\n",
    "    prior_extent=True,\n",
    "    prior_log=False,\n",
    "    seed=0,\n",
    ")"
   ]
  },
  {
   "cell_type": "code",
   "execution_count": 9,
   "id": "acc708d2",
   "metadata": {},
   "outputs": [],
   "source": [
    "inference = GBInference(prior, mse_dist, do_precompute_distances=False)"
   ]
  },
  {
   "cell_type": "code",
   "execution_count": 10,
   "id": "04b10f23",
   "metadata": {},
   "outputs": [],
   "source": [
    "inference = inference.append_simulations(theta, x, x_target)"
   ]
  },
  {
   "cell_type": "code",
   "execution_count": 11,
   "id": "456fec3c",
   "metadata": {},
   "outputs": [],
   "source": [
    "inference.initialize_distance_estimator(3, 50)"
   ]
  },
  {
   "cell_type": "code",
   "execution_count": null,
   "id": "718f735d",
   "metadata": {},
   "outputs": [
    {
     "name": "stdout",
     "output_type": "stream",
     "text": [
      "0: train loss: 2003638272.000000, val loss: 2079056384.000000, 16.1006 seconds per epoch.\n",
      "1: train loss: 1087765504.000000, val loss: 1240209280.000000, 16.2929 seconds per epoch.\n",
      "2: train loss: 813593792.000000, val loss: 778252544.000000, 15.9289 seconds per epoch.\n",
      "3: train loss: 672664768.000000, val loss: 580353408.000000, 16.4091 seconds per epoch.\n",
      "4: train loss: 460065984.000000, val loss: 494529280.000000, 16.4309 seconds per epoch.\n",
      "5: train loss: 402335648.000000, val loss: 376760896.000000, 16.2109 seconds per epoch.\n",
      "6: train loss: 344716864.000000, val loss: 334997472.000000, 16.5731 seconds per epoch.\n",
      "7: train loss: 284170560.000000, val loss: 296903360.000000, 16.5012 seconds per epoch.\n",
      "8: train loss: 272512576.000000, val loss: 283559104.000000, 16.5289 seconds per epoch.\n",
      "9: train loss: 213363856.000000, val loss: 233506448.000000, 16.0687 seconds per epoch.\n",
      "10: train loss: 208039552.000000, val loss: 201923280.000000, 16.0522 seconds per epoch.\n"
     ]
    }
   ],
   "source": [
    "distance_net = inference.train(\n",
    "    training_batch_size=5_000,\n",
    "    max_n_epochs=50,\n",
    "    stop_after_counter_reaches=20,\n",
    "    print_every_n=1,\n",
    "    plot_losses=False,\n",
    ")"
   ]
  },
  {
   "cell_type": "code",
   "execution_count": null,
   "id": "637659d6",
   "metadata": {},
   "outputs": [],
   "source": []
  }
 ],
 "metadata": {
  "kernelspec": {
   "display_name": "Python 3 (ipykernel)",
   "language": "python",
   "name": "python3"
  },
  "language_info": {
   "codemirror_mode": {
    "name": "ipython",
    "version": 3
   },
   "file_extension": ".py",
   "mimetype": "text/x-python",
   "name": "python",
   "nbconvert_exporter": "python",
   "pygments_lexer": "ipython3",
   "version": "3.8.13"
  }
 },
 "nbformat": 4,
 "nbformat_minor": 5
}
