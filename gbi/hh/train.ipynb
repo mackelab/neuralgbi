{
 "cells": [
  {
   "cell_type": "code",
   "execution_count": 1,
   "id": "c391c49f",
   "metadata": {},
   "outputs": [
    {
     "name": "stderr",
     "output_type": "stream",
     "text": [
      "/home/michael/anaconda3/envs/gbi/lib/python3.8/site-packages/tqdm/auto.py:22: TqdmWarning: IProgress not found. Please update jupyter and ipywidgets. See https://ipywidgets.readthedocs.io/en/stable/user_install.html\n",
      "  from .autonotebook import tqdm as notebook_tqdm\n"
     ]
    }
   ],
   "source": [
    "import pickle\n",
    "import torch\n",
    "\n",
    "from gbi.GBI import GBInference\n",
    "from gbi.distances import mse_dist\n",
    "import gbi.hh.utils as utils"
   ]
  },
  {
   "cell_type": "code",
   "execution_count": 2,
   "id": "a7cf457b",
   "metadata": {},
   "outputs": [],
   "source": [
    "with open(\"data/theta.pkl\", \"rb\") as handle:\n",
    "    theta = pickle.load(handle)\n",
    "\n",
    "with open(\"data/summstats.pkl\", \"rb\") as handle:\n",
    "    x = pickle.load(handle)"
   ]
  },
  {
   "cell_type": "code",
   "execution_count": 3,
   "id": "2b6273c0",
   "metadata": {},
   "outputs": [],
   "source": [
    "nsims = 10_000"
   ]
  },
  {
   "cell_type": "code",
   "execution_count": 4,
   "id": "69e39443",
   "metadata": {},
   "outputs": [],
   "source": [
    "theta = theta[:nsims]\n",
    "x = x[:nsims]"
   ]
  },
  {
   "cell_type": "code",
   "execution_count": 5,
   "id": "58ced80b",
   "metadata": {},
   "outputs": [],
   "source": [
    "n_nonaug_x = nsims\n",
    "n_augmented_x = nsims\n",
    "noise_level = 2.0"
   ]
  },
  {
   "cell_type": "code",
   "execution_count": 6,
   "id": "df7ed514",
   "metadata": {},
   "outputs": [],
   "source": [
    "x_aug = x[torch.randint(x.shape[0], size=(n_augmented_x,))]\n",
    "x_aug = x_aug + torch.randn(x_aug.shape) * x.std(dim=0) * noise_level\n",
    "x_target = torch.cat([x[:n_nonaug_x], x_aug])"
   ]
  },
  {
   "cell_type": "code",
   "execution_count": 7,
   "id": "665280b5",
   "metadata": {},
   "outputs": [],
   "source": [
    "true_params, labels_params = utils.obs_params(reduced_model=False)\n",
    "\n",
    "prior = utils.prior(\n",
    "    true_params=true_params,\n",
    "    prior_uniform=True,\n",
    "    prior_extent=True,\n",
    "    prior_log=False,\n",
    "    seed=0,\n",
    ")"
   ]
  },
  {
   "cell_type": "code",
   "execution_count": 12,
   "id": "9067f735",
   "metadata": {},
   "outputs": [],
   "source": [
    "inference = GBInference(prior, mse_dist, do_precompute_distances=True)"
   ]
  },
  {
   "cell_type": "code",
   "execution_count": 13,
   "id": "f734fe0e",
   "metadata": {},
   "outputs": [],
   "source": [
    "inference = inference.append_simulations(theta, x, x_target)"
   ]
  },
  {
   "cell_type": "code",
   "execution_count": 14,
   "id": "1f6d317c",
   "metadata": {},
   "outputs": [],
   "source": [
    "inference.initialize_distance_estimator(3, 50)"
   ]
  },
  {
   "cell_type": "code",
   "execution_count": 15,
   "id": "0d1fdcd7",
   "metadata": {},
   "outputs": [
    {
     "name": "stdout",
     "output_type": "stream",
     "text": [
      "0: train loss: 21103493120.000000, val loss: 21395851264.000000\n",
      "1: train loss: 22961315840.000000, val loss: 21381824512.000000\n",
      "2: train loss: 22647048192.000000, val loss: 21365981184.000000\n",
      "3: train loss: 22572337152.000000, val loss: 21347833856.000000\n",
      "4: train loss: 21458485248.000000, val loss: 21326751744.000000\n",
      "5: train loss: 20096442368.000000, val loss: 21301848064.000000\n",
      "6: train loss: 19771578368.000000, val loss: 21271871488.000000\n",
      "7: train loss: 21761746944.000000, val loss: 21234984960.000000\n",
      "8: train loss: 22722154496.000000, val loss: 21188538368.000000\n",
      "9: train loss: 21683525632.000000, val loss: 21129003008.000000\n"
     ]
    },
    {
     "name": "stderr",
     "output_type": "stream",
     "text": [
      "\n",
      "KeyboardInterrupt\n",
      "\n"
     ]
    }
   ],
   "source": [
    "distance_net = inference.train(\n",
    "    training_batch_size=5_000,\n",
    "    max_n_epochs=50,\n",
    "    stop_after_counter_reaches=20,\n",
    "    print_every_n=1,\n",
    "    plot_losses=False,\n",
    ")"
   ]
  },
  {
   "cell_type": "code",
   "execution_count": null,
   "id": "1d09cbac",
   "metadata": {},
   "outputs": [],
   "source": []
  }
 ],
 "metadata": {
  "kernelspec": {
   "display_name": "Python 3 (ipykernel)",
   "language": "python",
   "name": "python3"
  },
  "language_info": {
   "codemirror_mode": {
    "name": "ipython",
    "version": 3
   },
   "file_extension": ".py",
   "mimetype": "text/x-python",
   "name": "python",
   "nbconvert_exporter": "python",
   "pygments_lexer": "ipython3",
   "version": "3.8.13"
  }
 },
 "nbformat": 4,
 "nbformat_minor": 5
}
