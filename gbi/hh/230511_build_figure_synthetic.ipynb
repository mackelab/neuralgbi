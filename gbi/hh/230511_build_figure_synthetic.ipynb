{
 "cells": [
  {
   "cell_type": "code",
   "execution_count": 1,
   "id": "e8924207",
   "metadata": {},
   "outputs": [],
   "source": [
    "%load_ext autoreload\n",
    "%autoreload 2"
   ]
  },
  {
   "cell_type": "code",
   "execution_count": 2,
   "id": "e47b65bb",
   "metadata": {},
   "outputs": [
    {
     "name": "stderr",
     "output_type": "stream",
     "text": [
      "/home/michael/anaconda3/envs/gbi/lib/python3.8/site-packages/tqdm/auto.py:22: TqdmWarning: IProgress not found. Please update jupyter and ipywidgets. See https://ipywidgets.readthedocs.io/en/stable/user_install.html\n",
      "  from .autonotebook import tqdm as notebook_tqdm\n"
     ]
    }
   ],
   "source": [
    "import time\n",
    "import pickle\n",
    "import matplotlib as mpl\n",
    "import matplotlib.pyplot as plt\n",
    "import numpy as np\n",
    "import torch\n",
    "from torch import float32, zeros, ones, eye, as_tensor, tensor\n",
    "\n",
    "from sbi.inference import MCMCPosterior, VIPosterior, ImportanceSamplingPosterior\n",
    "from sbi.analysis import pairplot\n",
    "from sbi.utils import mcmc_transform\n",
    "\n",
    "from gbi.GBI import GBInference\n",
    "from gbi.hh.train_gbi import MaeDistZ\n",
    "import gbi.hh.utils as utils\n",
    "from gbi.hh.HodgkinHuxley import HodgkinHuxley\n",
    "from gbi.hh.HodgkinHuxleyStatsMoments import HodgkinHuxleyStatsMoments"
   ]
  },
  {
   "cell_type": "markdown",
   "id": "1b72da39",
   "metadata": {},
   "source": [
    "### Main figure is with 1 Million simulations"
   ]
  },
  {
   "cell_type": "code",
   "execution_count": 4,
   "id": "5abec872",
   "metadata": {},
   "outputs": [],
   "source": [
    "mode = \"100K\"\n",
    "use_xo = \"use_five\"  # use 5 does not use xo but it only uses x with more than 5 spikes"
   ]
  },
  {
   "cell_type": "code",
   "execution_count": 5,
   "id": "cff6b31d",
   "metadata": {},
   "outputs": [],
   "source": [
    "if mode == \"1M\":\n",
    "    gbi_path = \"/home/michael/Documents/neuralgbi/results/hh/gbi/2023_05_11__20_27_12_m/1_nsims_1000000\"\n",
    "    npe_path = \"/home/michael/Documents/neuralgbi/results/hh/npe/2023_05_11__21_45_52_m/1_nsims_1000000\"\n",
    "elif mode == \"100K\":\n",
    "    if use_xo == \"use\":\n",
    "        gbi_path = \"/home/michael/Documents/neuralgbi/results/hh/gbi/2023_05_12__15_58_05\"\n",
    "    elif use_xo == \"do_not_use\":\n",
    "        gbi_path = \"/home/michael/Documents/neuralgbi/results/hh/gbi/2023_05_11__20_27_12_m/0_nsims_100000\"\n",
    "    elif use_xo == \"append\":\n",
    "        gbi_path = \"/home/michael/Documents/neuralgbi/results/hh/gbi/2023_05_12__17_45_22\"\n",
    "    elif use_xo == \"use_five\":\n",
    "        gbi_path = \"/home/michael/Documents/neuralgbi/results/hh/gbi/2023_05_12__20_15_13\"\n",
    "    else:\n",
    "        raise NameError\n",
    "    npe_path = \"/home/michael/Documents/neuralgbi/results/hh/npe/2023_05_11__21_45_52_m/0_nsims_100000\"\n",
    "else:\n",
    "    raise NameError"
   ]
  },
  {
   "cell_type": "code",
   "execution_count": 6,
   "id": "9fb64adf",
   "metadata": {},
   "outputs": [],
   "source": [
    "with open(f\"{gbi_path}/inference_gbi.pkl\", \"rb\") as handle:\n",
    "    inference_gbi = pickle.load(handle)\n",
    "with open(f\"{npe_path}/inference_npe.pkl\", \"rb\") as handle:\n",
    "    inference_npe = pickle.load(handle)"
   ]
  },
  {
   "cell_type": "markdown",
   "id": "00eb9936",
   "metadata": {},
   "source": [
    "### Load simulator"
   ]
  },
  {
   "cell_type": "code",
   "execution_count": 7,
   "id": "eb2e1fdf",
   "metadata": {},
   "outputs": [],
   "source": [
    "cols = [\n",
    "    \"#a6cee3\",\n",
    "    \"#1f78b4\",\n",
    "    \"#b2df8a\",\n",
    "    \"#33a02c\",\n",
    "    \"#fb9a99\",\n",
    "    \"#e31a1c\",\n",
    "    \"#fdbf6f\",\n",
    "    \"#ff7f00\",\n",
    "    \"#cab2d6\",\n",
    "    \"#6a3d9a\",\n",
    "]"
   ]
  },
  {
   "cell_type": "code",
   "execution_count": 8,
   "id": "26d18f66",
   "metadata": {},
   "outputs": [],
   "source": [
    "seed = 1\n",
    "n_xcorr = 0\n",
    "n_mom = 4\n",
    "n_summary = 7"
   ]
  },
  {
   "cell_type": "code",
   "execution_count": 43,
   "id": "13bb2a1c",
   "metadata": {},
   "outputs": [],
   "source": [
    "true_params, labels_params = utils.obs_params(reduced_model=False)\n",
    "\n",
    "list_cells_AllenDB = [518290966, 57, 0.0234 / 126]\n",
    "\n",
    "ephys_cell = list_cells_AllenDB[0]\n",
    "sweep_number = list_cells_AllenDB[1]\n",
    "A_soma = list_cells_AllenDB[2]\n",
    "junction_potential = -14\n",
    "\n",
    "obs = utils.allen_obs_data(\n",
    "    ephys_cell=ephys_cell, sweep_number=sweep_number, A_soma=A_soma\n",
    ")\n",
    "obs[\"data\"] = obs[\"data\"] + junction_potential\n",
    "I = obs[\"I\"]\n",
    "dt = obs[\"dt\"]\n",
    "t_on = obs[\"t_on\"]\n",
    "t_off = obs[\"t_off\"]\n",
    "\n",
    "sim = HodgkinHuxley(\n",
    "    I, dt, V0=obs[\"data\"][0], reduced_model=False, cython=True, prior_log=False\n",
    ")\n",
    "stats = HodgkinHuxleyStatsMoments(\n",
    "    t_on=t_on, t_off=t_off, n_xcorr=n_xcorr, n_mom=n_mom, n_summary=n_summary\n",
    ")"
   ]
  },
  {
   "cell_type": "markdown",
   "id": "6825cedc",
   "metadata": {},
   "source": [
    "### Load prior"
   ]
  },
  {
   "cell_type": "code",
   "execution_count": 10,
   "id": "eda149e3",
   "metadata": {},
   "outputs": [],
   "source": [
    "prior = utils.prior(\n",
    "    true_params=true_params,\n",
    "    prior_uniform=True,\n",
    "    prior_extent=True,\n",
    "    prior_log=False,\n",
    "    seed=0,\n",
    ")\n",
    "limits = torch.stack(\n",
    "    [\n",
    "        prior.support.base_constraint.lower_bound,\n",
    "        prior.support.base_constraint.upper_bound,\n",
    "    ]\n",
    ").T"
   ]
  },
  {
   "cell_type": "markdown",
   "id": "2f86eb5b",
   "metadata": {},
   "source": [
    "### Generate xo"
   ]
  },
  {
   "cell_type": "code",
   "execution_count": 30,
   "id": "7ef32ebc",
   "metadata": {},
   "outputs": [],
   "source": [
    "# Generate 10 simulations for 100 thetas\n",
    "_ = torch.manual_seed(1)\n",
    "\n",
    "nsims = 100\n",
    "theta_vals = prior.sample((nsims,))\n",
    "seeds = torch.randint(0, 100000, (nsims,))\n",
    "obs_stats_ls = []\n",
    "all_obs = []\n",
    "for theta_ind, theta_val in enumerate(theta_vals):\n",
    "    x_val = sim.gen_single(theta_val, seed=seeds[theta_ind])\n",
    "    all_obs.append(x_val)\n",
    "    summstats = stats.calc([x_val])\n",
    "    obs_stats_ls.append(summstats)\n",
    "\n",
    "obs_stats_ls = np.asarray(obs_stats_ls)\n",
    "obs_stats_ls = torch.as_tensor(obs_stats_ls, dtype=torch.float32)"
   ]
  },
  {
   "cell_type": "code",
   "execution_count": 31,
   "id": "d0dd5f62",
   "metadata": {},
   "outputs": [],
   "source": [
    "obs_stats_ls_condition = obs_stats_ls[:, :, 0] > 5.0\n",
    "obs_stats_ls = obs_stats_ls[obs_stats_ls_condition].unsqueeze(1)"
   ]
  },
  {
   "cell_type": "code",
   "execution_count": 12,
   "id": "2b48f100",
   "metadata": {},
   "outputs": [],
   "source": [
    "with open(\"allen_data/allen_theta.pkl\", \"rb\") as handle:\n",
    "    theta = pickle.load(handle)\n",
    "\n",
    "with open(\"allen_data/allen_summstats.pkl\", \"rb\") as handle:\n",
    "    x = pickle.load(handle)"
   ]
  },
  {
   "cell_type": "code",
   "execution_count": 13,
   "id": "42c9515e",
   "metadata": {},
   "outputs": [],
   "source": [
    "prior_av_dists = []\n",
    "for xo in obs_stats_ls:\n",
    "    dists = inference_gbi.distance_func(x[:1000].unsqueeze(1), xo)\n",
    "    prior_av_dists.append(torch.mean(dists))"
   ]
  },
  {
   "cell_type": "markdown",
   "id": "e8b50386",
   "metadata": {},
   "source": [
    "# GBI"
   ]
  },
  {
   "cell_type": "code",
   "execution_count": 15,
   "id": "a08ee085",
   "metadata": {},
   "outputs": [],
   "source": [
    "with open(f\"../../results/hh/notebook/{mode}/01_prior_theta_{use_xo}.pkl\", \"rb\") as handle:\n",
    "    theta_vals = pickle.load(handle)\n",
    "with open(f\"../../results/hh/notebook/{mode}/01_prior_pred_{use_xo}.pkl\", \"rb\") as handle:\n",
    "    final_stats = pickle.load(handle)\n",
    "\n",
    "x_target_vals = torch.as_tensor(obs_stats_ls, dtype=torch.float32)\n",
    "\n",
    "pred_dists = np.asarray([inference_gbi.predict_distance(theta_vals, x_target_val).detach().numpy() for x_target_val in x_target_vals])\n",
    "true_dists = np.asarray([inference_gbi.distance_func(final_stats, x_target_val).numpy() for x_target_val in x_target_vals])"
   ]
  },
  {
   "cell_type": "markdown",
   "id": "7a3bd70c",
   "metadata": {},
   "source": [
    "### Draw samples from posterior"
   ]
  },
  {
   "cell_type": "code",
   "execution_count": 16,
   "id": "2b30c4db",
   "metadata": {},
   "outputs": [],
   "source": [
    "def sample_gbi_all_xo(beta):\n",
    "    all_samples = []\n",
    "    for xo in x_target_vals:\n",
    "        xo = as_tensor(xo)\n",
    "        potential_fn = inference_gbi.get_potential(x_o=xo, beta=beta)\n",
    "        theta_transform = mcmc_transform(prior)\n",
    "\n",
    "        posterior = MCMCPosterior(\n",
    "            potential_fn,\n",
    "            theta_transform=theta_transform,\n",
    "            proposal=prior,\n",
    "            method=\"slice_np_vectorized\",\n",
    "            thin=10,\n",
    "            warmup_steps=50,\n",
    "            num_chains=100,\n",
    "            init_strategy=\"resample\",\n",
    "            frac_chains_to_finish=0.9,\n",
    "        )\n",
    "        posterior_samples = posterior.sample((1_000,), frac_chains_to_finish=0.9)\n",
    "        all_samples.append(posterior_samples)\n",
    "    return all_samples"
   ]
  },
  {
   "cell_type": "code",
   "execution_count": 17,
   "id": "cbbf0fd5",
   "metadata": {},
   "outputs": [],
   "source": [
    "betas = [25.0, 50.0, 100.0]"
   ]
  },
  {
   "cell_type": "code",
   "execution_count": 18,
   "id": "11bc49b6",
   "metadata": {},
   "outputs": [
    {
     "name": "stderr",
     "output_type": "stream",
     "text": [
      "Running vectorized MCMC with 100 chains:  14%|█████████████▉                                                                                   | 8800/61200 [00:24<01:18, 668.22it/s]\n",
      "KeyboardInterrupt\n",
      "\n"
     ]
    }
   ],
   "source": [
    "_ = torch.manual_seed(222)\n",
    "\n",
    "all_posterior_gbi_samples = {}\n",
    "for beta in betas:\n",
    "    samples_gbi = sample_gbi_all_xo(beta)\n",
    "    all_posterior_gbi_samples[f\"beta_{int(beta)}\"] = samples_gbi\n",
    "    \n",
    "with open(f\"../../results/hh/notebook/{mode}/12_posterior_samples_gbi_allen_{use_xo}.pkl\", \"wb\") as handle:\n",
    "    pickle.dump(all_posterior_gbi_samples, handle)"
   ]
  },
  {
   "cell_type": "code",
   "execution_count": null,
   "id": "b240ea6d",
   "metadata": {},
   "outputs": [],
   "source": [
    "with open(f\"../../results/hh/notebook/{mode}/12_posterior_samples_gbi_allen_{use_xo}.pkl\", \"rb\") as handle:\n",
    "    all_posterior_gbi_samples = pickle.load(handle)"
   ]
  },
  {
   "cell_type": "markdown",
   "id": "7ebea760",
   "metadata": {},
   "source": [
    "### Posterior predictives"
   ]
  },
  {
   "cell_type": "code",
   "execution_count": null,
   "id": "61d82f3a",
   "metadata": {},
   "outputs": [],
   "source": [
    "final_predictive_stats_gbi = {}\n",
    "final_predictive_traces_gbi = {}\n",
    "for key in all_posterior_gbi_samples.keys():\n",
    "    posterior_samples_all_xos = all_posterior_gbi_samples[key]\n",
    "    all_predictive_stats_gbi = []\n",
    "    all_predictive_traces_gbi = []\n",
    "    for posterior_samples in posterior_samples_all_xos:\n",
    "        r = [sim.gen_single(theta.numpy(), seed=0) for theta in posterior_samples[:100]]\n",
    "        stats_ = stats.calc(r)\n",
    "        all_predictive_stats_gbi.append(torch.as_tensor(stats_, dtype=torch.float32))\n",
    "        all_predictive_traces_gbi.append(r)\n",
    "        \n",
    "    final_predictive_stats_gbi[key] = all_predictive_stats_gbi\n",
    "    final_predictive_traces_gbi[key] = all_predictive_traces_gbi\n",
    "\n",
    "with open(f\"../../results/hh/notebook/{mode}/13_posterior_predictive_stats_gbi_allen_{use_xo}.pkl\", \"wb\") as handle:\n",
    "    pickle.dump(final_predictive_stats_gbi, handle)\n",
    "with open(f\"../../results/hh/notebook/{mode}/13_posterior_predictive_traces_gbi_allen_{use_xo}.pkl\", \"wb\") as handle:\n",
    "    pickle.dump(final_predictive_traces_gbi, handle)"
   ]
  },
  {
   "cell_type": "code",
   "execution_count": null,
   "id": "a21b4bb3",
   "metadata": {},
   "outputs": [],
   "source": [
    "with open(f\"../../results/hh/notebook/{mode}/13_posterior_predictive_stats_gbi_allen_{use_xo}.pkl\", \"rb\") as handle:\n",
    "    final_predictive_stats_gbi = pickle.load(handle)\n",
    "with open(f\"../../results/hh/notebook/{mode}/13_posterior_predictive_traces_gbi_allen_{use_xo}.pkl\", \"rb\") as handle:\n",
    "    final_predictive_traces_gbi = pickle.load(handle)"
   ]
  },
  {
   "cell_type": "markdown",
   "id": "a239dd5a",
   "metadata": {},
   "source": [
    "### Panel A"
   ]
  },
  {
   "cell_type": "code",
   "execution_count": null,
   "id": "56b9aa6f",
   "metadata": {},
   "outputs": [
    {
     "name": "stderr",
     "output_type": "stream",
     "text": [
      "Running vectorized MCMC with 100 chains:  14%|█████████████▉                                                                                   | 8830/61200 [00:39<01:18, 668.22it/s]"
     ]
    }
   ],
   "source": [
    "time_vec_obs = np.linspace(np.min(sim.t), np.max(sim.t), len(all_obs[0][\"data\"]))"
   ]
  },
  {
   "cell_type": "code",
   "execution_count": 79,
   "id": "1c75c8eb",
   "metadata": {},
   "outputs": [
    {
     "data": {
      "image/png": "[encoded data removed]",
      "text/plain": [
       "<Figure size 240x70 with 3 Axes>"
      ]
     },
     "metadata": {},
     "output_type": "display_data"
    }
   ],
   "source": [
    "with mpl.rc_context(fname=\"../../.matplotlibrc\"):\n",
    "    fig, ax = plt.subplots(1, 3, figsize=(2.4, 0.7))\n",
    "        \n",
    "    for i in range(3):\n",
    "        xo  = all_obs[i]\n",
    "        _ = ax[i].plot(time_vec_obs, xo[\"data\"], c=\"k\")\n",
    "\n",
    "        _ = ax[i].set_xlabel(\"\")\n",
    "        _ = ax[i].set_ylabel(\"\")\n",
    "        _ = ax[i].set_ylim([-100, 60])\n",
    "        _ = ax[i].spines[\"left\"].set_visible(False)\n",
    "        _ = ax[i].spines[\"bottom\"].set_visible(False)\n",
    "        _ = ax[i].set_xticks([])\n",
    "        _ = ax[i].set_yticks([])\n",
    "    plt.savefig(\"svg/appendix1_panel_a.svg\")\n",
    "    plt.show()"
   ]
  },
  {
   "cell_type": "markdown",
   "id": "3f007d6a",
   "metadata": {},
   "source": [
    "### Evaluate distance estimator on posterior samples"
   ]
  },
  {
   "cell_type": "code",
   "execution_count": 80,
   "id": "7b88f7dc",
   "metadata": {},
   "outputs": [
    {
     "data": {
      "image/png": "[encoded data removed]",
      "text/plain": [
       "<Figure size 90x90 with 1 Axes>"
      ]
     },
     "metadata": {},
     "output_type": "display_data"
    }
   ],
   "source": [
    "with mpl.rc_context(fname=\"../../.matplotlibrc\"):\n",
    "    fig, ax = plt.subplots(1, 1, figsize=(0.9, 0.9))\n",
    "    with open(\"01_prior_theta.pkl\", \"rb\") as handle:\n",
    "        theta_vals = pickle.load(handle)\n",
    "    with open(\"01_prior_pred.pkl\", \"rb\") as handle:\n",
    "        final_stats = pickle.load(handle)\n",
    "\n",
    "    x_target_vals = torch.as_tensor(obs_stats_ls, dtype=torch.float32)[:5]\n",
    "\n",
    "    pred_dists = np.asarray([inference_gbi.predict_distance(theta_vals, x_target_val).detach().numpy() for x_target_val in x_target_vals])\n",
    "    true_dists = np.asarray([inference_gbi.distance_func(final_stats, x_target_val).numpy() for x_target_val in x_target_vals])\n",
    "    \n",
    "    _ = ax.plot([0, 2.5], [0, 2.5], c=\"grey\", alpha=0.5)\n",
    "    for i in range(5):\n",
    "        t = true_dists[i]\n",
    "        p = pred_dists[i]\n",
    "        _ = ax.scatter(t, p, c=cols[i], alpha=.3)\n",
    "        ax.set_xticks([0, 2.5])\n",
    "        ax.set_yticks([0, 2.5])\n",
    "\n",
    "    ax.set_xlim([0, 2.5])\n",
    "    ax.set_ylim([0, 2.5])\n",
    "    ax.set_xlabel(\"True distance\")\n",
    "    ax.set_ylabel(\"Predicted distance\")\n",
    "    \n",
    "    plt.savefig(\"svg/appendix1_panel_b.svg\")"
   ]
  },
  {
   "cell_type": "markdown",
   "id": "6614f394",
   "metadata": {},
   "source": [
    "### Panel D"
   ]
  },
  {
   "cell_type": "code",
   "execution_count": 81,
   "id": "9337262d",
   "metadata": {},
   "outputs": [],
   "source": [
    "all_gbi_distances = []\n",
    "for key in final_predictive_stats_gbi.keys():\n",
    "    pred_stats = final_predictive_stats_gbi[key]\n",
    "    gbi_av_dists = []\n",
    "    for predictives, xo in zip(pred_stats, obs_stats_ls):\n",
    "        dists = inference_gbi.distance_func(predictives.unsqueeze(1), xo)\n",
    "        gbi_av_dists.append(torch.mean(dists))\n",
    "    all_gbi_distances.append(gbi_av_dists)"
   ]
  },
  {
   "cell_type": "code",
   "execution_count": 82,
   "id": "f60d0ab7",
   "metadata": {},
   "outputs": [],
   "source": [
    "time_vec_obs = np.linspace(np.min(sim.t), np.max(sim.t), len(all_obs[0][\"data\"]))"
   ]
  },
  {
   "cell_type": "code",
   "execution_count": 83,
   "id": "a524bdbc",
   "metadata": {},
   "outputs": [
    {
     "data": {
      "image/png": "[encoded data removed]",
      "text/plain": [
       "<Figure size 240x70 with 3 Axes>"
      ]
     },
     "metadata": {},
     "output_type": "display_data"
    }
   ],
   "source": [
    "with mpl.rc_context(fname=\"../../.matplotlibrc\"):\n",
    "    fig, ax = plt.subplots(1, 3, figsize=(2.4, 0.7))\n",
    "        \n",
    "    for i in range(3):\n",
    "        predictive = final_predictive_traces_gbi[\"beta_300\"][i][0]\n",
    "        _ = ax[i].plot(sim.t, predictive[\"data\"], c=\"green\", alpha=0.9)\n",
    "\n",
    "        _ = ax[i].set_xlabel(\"\")\n",
    "        _ = ax[i].set_ylabel(\"\")\n",
    "        _ = ax[i].set_ylim([-100, 60])\n",
    "        _ = ax[i].spines[\"left\"].set_visible(False)\n",
    "        _ = ax[i].spines[\"bottom\"].set_visible(False)\n",
    "        _ = ax[i].set_xticks([])\n",
    "        _ = ax[i].set_yticks([])\n",
    "    plt.savefig(\"svg/appendix1_panel_d1.svg\")\n",
    "    plt.show()"
   ]
  },
  {
   "cell_type": "markdown",
   "id": "b6558c7f",
   "metadata": {},
   "source": [
    "### Panel C"
   ]
  },
  {
   "cell_type": "code",
   "execution_count": 84,
   "id": "23a896c2",
   "metadata": {},
   "outputs": [
    {
     "name": "stderr",
     "output_type": "stream",
     "text": [
      "Drawing 1000 posterior samples: 100%|█████████████████████████████████████████████████████████████████████████████████████████████████████████| 1000/1000 [00:00<00:00, 37425.42it/s]\n",
      "Drawing 1000 posterior samples: 100%|█████████████████████████████████████████████████████████████████████████████████████████████████████████| 1000/1000 [00:00<00:00, 36562.82it/s]\n",
      "Drawing 1000 posterior samples: 100%|█████████████████████████████████████████████████████████████████████████████████████████████████████████| 1000/1000 [00:00<00:00, 33791.79it/s]\n",
      "Drawing 1000 posterior samples: 100%|█████████████████████████████████████████████████████████████████████████████████████████████████████████| 1000/1000 [00:00<00:00, 36168.71it/s]\n",
      "Drawing 1000 posterior samples: 100%|█████████████████████████████████████████████████████████████████████████████████████████████████████████| 1000/1000 [00:00<00:00, 37474.57it/s]\n",
      "Drawing 1000 posterior samples: 100%|█████████████████████████████████████████████████████████████████████████████████████████████████████████| 1000/1000 [00:00<00:00, 39021.50it/s]\n",
      "Drawing 1000 posterior samples: 100%|█████████████████████████████████████████████████████████████████████████████████████████████████████████| 1000/1000 [00:00<00:00, 40661.79it/s]\n",
      "Drawing 1000 posterior samples: 100%|█████████████████████████████████████████████████████████████████████████████████████████████████████████| 1000/1000 [00:00<00:00, 38589.25it/s]\n",
      "Drawing 1000 posterior samples: 100%|█████████████████████████████████████████████████████████████████████████████████████████████████████████| 1000/1000 [00:00<00:00, 40994.83it/s]\n",
      "Drawing 1000 posterior samples: 100%|█████████████████████████████████████████████████████████████████████████████████████████████████████████| 1000/1000 [00:00<00:00, 40834.39it/s]\n"
     ]
    }
   ],
   "source": [
    "_ = torch.manual_seed(2222)\n",
    "\n",
    "npe_all_samples = []\n",
    "maps = []\n",
    "for xo in obs_stats_ls:\n",
    "    xo = as_tensor(xo)\n",
    "    posterior = inference_npe.build_posterior()\n",
    "    posterior_samples = posterior.sample((1_000,), x=xo)\n",
    "    npe_all_samples.append(posterior_samples)"
   ]
  },
  {
   "cell_type": "code",
   "execution_count": 85,
   "id": "1da4a226",
   "metadata": {},
   "outputs": [
    {
     "name": "stderr",
     "output_type": "stream",
     "text": [
      "/home/michael/Documents/neuralgbi/packages/sbi/sbi/analysis/plot.py:390: UserWarning: No contour levels were found within the data range.\n",
      "  plt.contour(\n",
      "/home/michael/Documents/neuralgbi/packages/sbi/sbi/analysis/plot.py:390: UserWarning: No contour levels were found within the data range.\n",
      "  plt.contour(\n",
      "/home/michael/Documents/neuralgbi/packages/sbi/sbi/analysis/plot.py:390: UserWarning: No contour levels were found within the data range.\n",
      "  plt.contour(\n",
      "/home/michael/Documents/neuralgbi/packages/sbi/sbi/analysis/plot.py:390: UserWarning: No contour levels were found within the data range.\n",
      "  plt.contour(\n"
     ]
    },
    {
     "data": {
      "image/png": "[encoded data removed]",
      "text/plain": [
       "<Figure size 240x240 with 25 Axes>"
      ]
     },
     "metadata": {},
     "output_type": "display_data"
    }
   ],
   "source": [
    "with mpl.rc_context(fname=\"../../.matplotlibrc\"):\n",
    "    fig, ax = pairplot(\n",
    "        [\n",
    "            npe_all_samples[0], \n",
    "            all_posterior_gbi_samples[\"beta_25\"][0], \n",
    "            all_posterior_gbi_samples[\"beta_80\"][0], \n",
    "        ],\n",
    "        limits=limits,\n",
    "        ticks=limits,\n",
    "        upper=\"contour\",\n",
    "        contour_offdiag={\"levels\": [0.68], \"percentile\": True},\n",
    "        figsize=(2.4, 2.4),\n",
    "        diag=\"kde\",\n",
    "        subset=[0, 1, 2, 5, 7]\n",
    "    )\n",
    "    plt.savefig(\"svg/appendix1_panel_c.svg\")"
   ]
  },
  {
   "cell_type": "markdown",
   "id": "2520a12d",
   "metadata": {},
   "source": [
    "### Panel D2"
   ]
  },
  {
   "cell_type": "code",
   "execution_count": 86,
   "id": "c0dcd016",
   "metadata": {},
   "outputs": [],
   "source": [
    "_ = torch.manual_seed(3333)\n",
    "\n",
    "all_predictive_traces = []\n",
    "all_predictive_stats = []\n",
    "for posterior_samples in npe_all_samples:\n",
    "    r = [sim.gen_single(theta.numpy(), seed=0) for theta in posterior_samples[:100]]\n",
    "    all_predictive_traces.append(r)\n",
    "    stats_ = stats.calc(r)\n",
    "    all_predictive_stats.append(torch.as_tensor(stats_, dtype=torch.float32))\n",
    "\n",
    "with open(f\"../../results/hh/notebook/{mode}/14_npe_theta_amo.pkl\", \"wb\") as handle:\n",
    "    pickle.dump(npe_all_samples, handle)\n",
    "with open(f\"../../results/hh/notebook/{mode}/14_npe_stats_amo.pkl\", \"wb\") as handle:\n",
    "    pickle.dump(all_predictive_stats, handle)\n",
    "with open(f\"../../results/hh/notebook/{mode}/14_npe_traces_amo.pkl\", \"wb\") as handle:\n",
    "    pickle.dump(all_predictive_traces, handle)"
   ]
  },
  {
   "cell_type": "code",
   "execution_count": 87,
   "id": "c13b969a",
   "metadata": {},
   "outputs": [],
   "source": [
    "with open(f\"../../results/hh/notebook/{mode}/14_npe_theta_amo.pkl\", \"rb\") as handle:\n",
    "    npe_all_samples = pickle.load(handle)\n",
    "with open(f\"../../results/hh/notebook/{mode}/14_npe_stats_amo.pkl\", \"rb\") as handle:\n",
    "    all_predictive_stats = pickle.load(handle)\n",
    "with open(f\"../../results/hh/notebook/{mode}/14_npe_traces_amo.pkl\", \"rb\") as handle:\n",
    "    all_predictive_traces = pickle.load(handle)"
   ]
  },
  {
   "cell_type": "code",
   "execution_count": 88,
   "id": "b94a9b45",
   "metadata": {},
   "outputs": [],
   "source": [
    "npe_av_dists = []\n",
    "for predictives, xo in zip(all_predictive_stats, obs_stats_ls):\n",
    "    dists = inference_gbi.distance_func(predictives.unsqueeze(1), xo)\n",
    "    npe_av_dists.append(torch.mean(dists))"
   ]
  },
  {
   "cell_type": "code",
   "execution_count": 89,
   "id": "75ad4588",
   "metadata": {},
   "outputs": [
    {
     "data": {
      "image/png": "[encoded data removed]",
      "text/plain": [
       "<Figure size 240x70 with 3 Axes>"
      ]
     },
     "metadata": {},
     "output_type": "display_data"
    }
   ],
   "source": [
    "with mpl.rc_context(fname=\"../../.matplotlibrc\"):\n",
    "    fig, ax = plt.subplots(1, 3, figsize=(2.4, 0.7))\n",
    "        \n",
    "    for i in range(3):\n",
    "        predictive = all_predictive_traces[i][5]\n",
    "        _ = ax[i].plot(sim.t, predictive[\"data\"], c=\"green\", alpha=0.9)\n",
    "\n",
    "        _ = ax[i].set_xlabel(\"\")\n",
    "        _ = ax[i].set_ylabel(\"\")\n",
    "        _ = ax[i].set_ylim([-100, 60])\n",
    "        _ = ax[i].spines[\"left\"].set_visible(False)\n",
    "        _ = ax[i].spines[\"bottom\"].set_visible(False)\n",
    "        _ = ax[i].set_xticks([])\n",
    "        _ = ax[i].set_yticks([])\n",
    "    plt.savefig(\"svg/appendix1_panel_d2.svg\")\n",
    "    plt.show()"
   ]
  },
  {
   "cell_type": "markdown",
   "id": "d9bf6793",
   "metadata": {},
   "source": [
    "### Panel E"
   ]
  },
  {
   "cell_type": "code",
   "execution_count": 90,
   "id": "a552f176",
   "metadata": {},
   "outputs": [
    {
     "data": {
      "image/png": "[encoded data removed]",
      "text/plain": [
       "<Figure size 90x90 with 1 Axes>"
      ]
     },
     "metadata": {},
     "output_type": "display_data"
    }
   ],
   "source": [
    "with mpl.rc_context(fname=\"../../.matplotlibrc\"):\n",
    "    fig, ax = plt.subplots(1, 1, figsize=(0.9, 0.9))\n",
    "    _ = ax.scatter([0], [np.mean(npe_av_dists)], c=\"k\")\n",
    "    _ = ax.plot([1, 2, 3], [np.mean(dist) for dist in all_gbi_distances])\n",
    "    _ = ax.scatter([1, 2, 3], [np.mean(dist) for dist in all_gbi_distances], s=15)\n",
    "    ax.set_xticks([0, 1, 2, 3])\n",
    "    ax.set_xticklabels([\"NPE\", \"GBI\\nb=25\", \"GBI\\nb=60\", \"GBI\\nb=300\"])\n",
    "    ax.set_ylabel(\"Predictive dist\")\n",
    "    ax.set_yticks([0, 0.5])\n",
    "    ax.set_ylim([0, 0.5])\n",
    "    plt.savefig(\"svg/appendix1_panel_e.svg\")"
   ]
  },
  {
   "cell_type": "markdown",
   "id": "1d0a78d3",
   "metadata": {},
   "source": [
    "### Assemble figure"
   ]
  },
  {
   "cell_type": "code",
   "execution_count": 56,
   "id": "d8db6e0c",
   "metadata": {},
   "outputs": [],
   "source": [
    "import time\n",
    "import IPython.display as IPd\n",
    "from svgutils.compose import *"
   ]
  },
  {
   "cell_type": "code",
   "execution_count": 58,
   "id": "17596035",
   "metadata": {},
   "outputs": [
    {
     "data": {
      "text/html": [
       "<img src=\"fig/fig_allen.svg\" / >"
      ],
      "text/plain": [
       "<IPython.core.display.HTML object>"
      ]
     },
     "metadata": {},
     "output_type": "display_data"
    }
   ],
   "source": [
    "def svg(img):\n",
    "    IPd.display(IPd.HTML('<img src=\"{}\" / >'.format(img, time.time())))\n",
    "\n",
    "# > Inkscape pixel is 1/90 of an inch, other software usually uses 1/72.\n",
    "# > http://www.inkscapeforum.com/viewtopic.php?f=6&t=5964\n",
    "svg_scale = 1.25  # set this to 1.25 for Inkscape, 1.0 otherwise\n",
    "\n",
    "# Panel letters in Helvetica Neue, 12pt, Medium\n",
    "kwargs_text = {'size': '12pt', 'font': 'Arial', 'weight': '800'}\n",
    "\n",
    "f = Figure(\"15.2cm\", \"6.1cm\",\n",
    "    \n",
    "    Panel(\n",
    "          SVG(\"svg/appendix1_panel_a.svg\").scale(svg_scale),\n",
    "          Text(\"a\", -5, 15.0, **kwargs_text),\n",
    "    ).move(10, 0),\n",
    "           \n",
    "    Panel(\n",
    "          SVG(\"svg/appendix1_panel_b.svg\").scale(svg_scale),\n",
    "          Text(\"b\", -5, 10.0, **kwargs_text),\n",
    "    ).move(220, 5),\n",
    "    \n",
    "    Panel(\n",
    "          SVG(\"svg/appendix1_panel_c.svg\").scale(svg_scale),\n",
    "          Text(\"c\", -5, 15.0, **kwargs_text),\n",
    "    ).move(350, 0),\n",
    "           \n",
    "    Panel(\n",
    "          SVG(\"svg/appendix1_panel_d1.svg\").scale(svg_scale),\n",
    "          Text(\"d\", -5, 2.0, **kwargs_text),\n",
    "    ).move(10, 90),\n",
    "    Panel(\n",
    "          SVG(\"svg/appendix1_panel_d2.svg\").scale(svg_scale),\n",
    "    ).move(10, 160),\n",
    "           \n",
    "    Panel(\n",
    "          SVG(\"svg/appendix1_panel_e.svg\").scale(svg_scale),\n",
    "          Text(\"e\", -5, 2.0, **kwargs_text),\n",
    "    ).move(220, 120),\n",
    ")\n",
    "\n",
    "!mkdir -p fig\n",
    "f.save(\"fig/fig_allen.svg\")\n",
    "svg(\"fig/fig_allen.svg\")"
   ]
  },
  {
   "cell_type": "code",
   "execution_count": null,
   "id": "eeb2d022",
   "metadata": {},
   "outputs": [],
   "source": []
  }
 ],
 "metadata": {
  "kernelspec": {
   "display_name": "Python 3 (ipykernel)",
   "language": "python",
   "name": "python3"
  },
  "language_info": {
   "codemirror_mode": {
    "name": "ipython",
    "version": 3
   },
   "file_extension": ".py",
   "mimetype": "text/x-python",
   "name": "python",
   "nbconvert_exporter": "python",
   "pygments_lexer": "ipython3",
   "version": "3.8.13"
  }
 },
 "nbformat": 4,
 "nbformat_minor": 5
}
