{
 "cells": [
  {
   "cell_type": "code",
   "execution_count": 1,
   "id": "1ab74b9c",
   "metadata": {},
   "outputs": [],
   "source": [
    "%load_ext autoreload\n",
    "%autoreload 2"
   ]
  },
  {
   "cell_type": "code",
   "execution_count": 2,
   "id": "7970c473",
   "metadata": {},
   "outputs": [
    {
     "name": "stderr",
     "output_type": "stream",
     "text": [
      "/home/michael/anaconda3/envs/gbi/lib/python3.8/site-packages/tqdm/auto.py:22: TqdmWarning: IProgress not found. Please update jupyter and ipywidgets. See https://ipywidgets.readthedocs.io/en/stable/user_install.html\n",
      "  from .autonotebook import tqdm as notebook_tqdm\n"
     ]
    }
   ],
   "source": [
    "import time\n",
    "import pickle\n",
    "import matplotlib as mpl\n",
    "import matplotlib.pyplot as plt\n",
    "import numpy as np\n",
    "import torch\n",
    "from torch import float32, zeros, ones, eye, as_tensor, tensor\n",
    "\n",
    "from sbi.inference import MCMCPosterior, VIPosterior, ImportanceSamplingPosterior\n",
    "from sbi.analysis import pairplot\n",
    "from sbi.utils import mcmc_transform\n",
    "\n",
    "from gbi.GBI import GBInference\n",
    "from gbi.hh.train_gbi import MaeDistZ\n",
    "import gbi.hh.utils as utils\n",
    "from gbi.hh.HodgkinHuxley import HodgkinHuxley\n",
    "from gbi.hh.HodgkinHuxleyStatsMoments import HodgkinHuxleyStatsMoments"
   ]
  },
  {
   "cell_type": "markdown",
   "id": "5a097295",
   "metadata": {},
   "source": [
    "### Main figure is with 1 Million simulations"
   ]
  },
  {
   "cell_type": "code",
   "execution_count": 32,
   "id": "cf48ff88",
   "metadata": {},
   "outputs": [],
   "source": [
    "mode = \"100K\"\n",
    "use_xo = \"use_five_option3\"  # use 5 does not use xo but it only uses x with more than 5 spikes"
   ]
  },
  {
   "cell_type": "code",
   "execution_count": 33,
   "id": "271ac609",
   "metadata": {},
   "outputs": [],
   "source": [
    "if mode == \"1M\":\n",
    "    gbi_path = \"/home/michael/Documents/neuralgbi/results/hh/gbi/2023_05_11__20_27_12_m/1_nsims_1000000\"\n",
    "    npe_path = \"/home/michael/Documents/neuralgbi/results/hh/npe/2023_05_11__21_45_52_m/1_nsims_1000000\"\n",
    "elif mode == \"100K\":\n",
    "    if use_xo == \"use\":\n",
    "        gbi_path = \"/home/michael/Documents/neuralgbi/results/hh/gbi/2023_05_12__15_58_05\"\n",
    "    elif use_xo == \"do_not_use\":\n",
    "        gbi_path = \"/home/michael/Documents/neuralgbi/results/hh/gbi/2023_05_11__20_27_12_m/0_nsims_100000\"\n",
    "    elif use_xo == \"append\":\n",
    "        gbi_path = \"/home/michael/Documents/neuralgbi/results/hh/gbi/2023_05_12__17_45_22\"\n",
    "    elif use_xo == \"use_five\":\n",
    "        gbi_path = \"/home/michael/Documents/neuralgbi/results/hh/gbi/2023_05_13__13_22_49_m/0_nsims_100000\"\n",
    "    elif use_xo == \"use_five_option2\":\n",
    "        gbi_path = \"/home/michael/Documents/neuralgbi/results/hh/gbi/2023_05_13__09_34_57_m/0_nsims_100000\"\n",
    "    elif use_xo == \"use_five_option3\":\n",
    "        gbi_path = \"/home/michael/Documents/neuralgbi/results/hh/gbi/2023_05_13__19_10_49\"\n",
    "    elif use_xo == \"use_five_option4\":\n",
    "        gbi_path = \"/home/michael/Documents/neuralgbi/results/hh/gbi/2023_05_14__10_03_53\"\n",
    "    else:\n",
    "        raise NameError\n",
    "    npe_path = \"/home/michael/Documents/neuralgbi/results/hh/npe/2023_05_11__21_45_52_m/0_nsims_100000\"\n",
    "else:\n",
    "    raise NameError"
   ]
  },
  {
   "cell_type": "code",
   "execution_count": 34,
   "id": "52ab7c87",
   "metadata": {},
   "outputs": [],
   "source": [
    "with open(f\"{gbi_path}/inference_gbi.pkl\", \"rb\") as handle:\n",
    "    inference_gbi = pickle.load(handle)\n",
    "with open(f\"{npe_path}/inference_npe.pkl\", \"rb\") as handle:\n",
    "    inference_npe = pickle.load(handle)"
   ]
  },
  {
   "cell_type": "markdown",
   "id": "2f4182e4",
   "metadata": {},
   "source": [
    "### Colors"
   ]
  },
  {
   "cell_type": "code",
   "execution_count": 35,
   "id": "80d94cb0",
   "metadata": {},
   "outputs": [],
   "source": [
    "col_npe = \"k\"\n",
    "col_gbi = \"g\""
   ]
  },
  {
   "cell_type": "markdown",
   "id": "9c364af8",
   "metadata": {},
   "source": [
    "### Load simulator"
   ]
  },
  {
   "cell_type": "code",
   "execution_count": 36,
   "id": "93ee8ae7",
   "metadata": {},
   "outputs": [],
   "source": [
    "cols = [\n",
    "    \"#a6cee3\",\n",
    "    \"#1f78b4\",\n",
    "    \"#b2df8a\",\n",
    "    \"#33a02c\",\n",
    "    \"#fb9a99\",\n",
    "    \"#e31a1c\",\n",
    "    \"#fdbf6f\",\n",
    "    \"#ff7f00\",\n",
    "    \"#cab2d6\",\n",
    "    \"#6a3d9a\",\n",
    "]"
   ]
  },
  {
   "cell_type": "code",
   "execution_count": 37,
   "id": "821688f2",
   "metadata": {},
   "outputs": [],
   "source": [
    "seed = 1\n",
    "n_xcorr = 0\n",
    "n_mom = 4\n",
    "n_summary = 7"
   ]
  },
  {
   "cell_type": "code",
   "execution_count": 38,
   "id": "31e48a24",
   "metadata": {},
   "outputs": [],
   "source": [
    "true_params, labels_params = utils.obs_params(reduced_model=False)\n",
    "\n",
    "list_cells_AllenDB = [518290966, 57, 0.0234 / 126]\n",
    "\n",
    "ephys_cell = list_cells_AllenDB[0]\n",
    "sweep_number = list_cells_AllenDB[1]\n",
    "A_soma = list_cells_AllenDB[2]\n",
    "junction_potential = -14\n",
    "\n",
    "obs = utils.allen_obs_data(\n",
    "    ephys_cell=ephys_cell, sweep_number=sweep_number, A_soma=A_soma\n",
    ")\n",
    "obs[\"data\"] = obs[\"data\"] + junction_potential\n",
    "I = obs[\"I\"]\n",
    "dt = obs[\"dt\"]\n",
    "t_on = obs[\"t_on\"]\n",
    "t_off = obs[\"t_off\"]\n",
    "\n",
    "sim = HodgkinHuxley(\n",
    "    I, dt, V0=obs[\"data\"][0], reduced_model=False, cython=True, prior_log=False\n",
    ")\n",
    "stats = HodgkinHuxleyStatsMoments(\n",
    "    t_on=t_on, t_off=t_off, n_xcorr=n_xcorr, n_mom=n_mom, n_summary=n_summary\n",
    ")"
   ]
  },
  {
   "cell_type": "markdown",
   "id": "315b8829",
   "metadata": {},
   "source": [
    "### Load prior"
   ]
  },
  {
   "cell_type": "code",
   "execution_count": 39,
   "id": "0dca1f48",
   "metadata": {},
   "outputs": [],
   "source": [
    "prior = utils.prior(\n",
    "    true_params=true_params,\n",
    "    prior_uniform=True,\n",
    "    prior_extent=True,\n",
    "    prior_log=False,\n",
    "    seed=0,\n",
    ")\n",
    "limits = torch.stack(\n",
    "    [\n",
    "        prior.support.base_constraint.lower_bound,\n",
    "        prior.support.base_constraint.upper_bound,\n",
    "    ]\n",
    ").T"
   ]
  },
  {
   "cell_type": "markdown",
   "id": "009f1303",
   "metadata": {},
   "source": [
    "### Load allen cell data"
   ]
  },
  {
   "cell_type": "code",
   "execution_count": 40,
   "id": "644b1550",
   "metadata": {},
   "outputs": [],
   "source": [
    "obs_stats_ls, all_obs = utils.load_all_allen()"
   ]
  },
  {
   "cell_type": "markdown",
   "id": "b75d4a87",
   "metadata": {},
   "source": [
    "# GBI"
   ]
  },
  {
   "cell_type": "markdown",
   "id": "38973ae7",
   "metadata": {},
   "source": [
    "### Generate some prior predictives (where every theta is simulated 10 times)"
   ]
  },
  {
   "cell_type": "code",
   "execution_count": 41,
   "id": "14909c25",
   "metadata": {},
   "outputs": [],
   "source": [
    "# # Generate 10 simulations for 100 thetas\n",
    "# _ = torch.manual_seed(111)\n",
    "\n",
    "# theta_vals = prior.sample((100,))\n",
    "# seeds = torch.randint(0, 100000, (100, 10))\n",
    "# final_stats = []\n",
    "# for theta_ind, theta_val in enumerate(theta_vals):\n",
    "#     all_summstats = []\n",
    "#     for iter_ in range(10):  # 10 sims per theta\n",
    "#         x_val = sim.gen_single(theta_val, seed=seeds[theta_ind, iter_])\n",
    "#         summstats = stats.calc([x_val])\n",
    "#         all_summstats.append(summstats)\n",
    "#     final_stats.append(all_summstats)\n",
    "\n",
    "# final_stats = np.asarray(final_stats)\n",
    "# final_stats = torch.as_tensor(final_stats, dtype=torch.float32)\n",
    "# final_stats = final_stats.squeeze()\n",
    "\n",
    "# with open(f\"../../results/hh/notebook/{mode}/01_prior_theta_{use_xo}.pkl\", \"wb\") as handle:\n",
    "#     pickle.dump(theta_vals, handle)\n",
    "# with open(f\"../../results/hh/notebook/{mode}/01_prior_pred_{use_xo}.pkl\", \"wb\") as handle:\n",
    "#     pickle.dump(final_stats, handle)"
   ]
  },
  {
   "cell_type": "code",
   "execution_count": 42,
   "id": "890b249a",
   "metadata": {},
   "outputs": [],
   "source": [
    "with open(f\"../../results/hh/notebook/{mode}/01_prior_theta_{use_xo}.pkl\", \"rb\") as handle:\n",
    "    theta_vals = pickle.load(handle)\n",
    "with open(f\"../../results/hh/notebook/{mode}/01_prior_pred_{use_xo}.pkl\", \"rb\") as handle:\n",
    "    final_stats = pickle.load(handle)\n",
    "\n",
    "x_target_vals = torch.as_tensor(obs_stats_ls, dtype=torch.float32)\n",
    "\n",
    "pred_dists = np.asarray([inference_gbi.predict_distance(theta_vals, x_target_val).detach().numpy() for x_target_val in x_target_vals])\n",
    "true_dists = np.asarray([inference_gbi.distance_func(final_stats, x_target_val).numpy() for x_target_val in x_target_vals])"
   ]
  },
  {
   "cell_type": "markdown",
   "id": "2ec77c03",
   "metadata": {},
   "source": [
    "### Draw samples from posterior"
   ]
  },
  {
   "cell_type": "code",
   "execution_count": 43,
   "id": "1d84c4f1",
   "metadata": {},
   "outputs": [],
   "source": [
    "def sample_gbi_all_xo(beta):\n",
    "    all_samples = []\n",
    "    for xo in x_target_vals:\n",
    "        xo = as_tensor(xo)\n",
    "        potential_fn = inference_gbi.get_potential(x_o=xo, beta=beta)\n",
    "        theta_transform = mcmc_transform(prior)\n",
    "\n",
    "        posterior = MCMCPosterior(\n",
    "            potential_fn,\n",
    "            theta_transform=theta_transform,\n",
    "            proposal=prior,\n",
    "            method=\"slice_np_vectorized\",\n",
    "            thin=10,\n",
    "            warmup_steps=50,\n",
    "            num_chains=100,\n",
    "            init_strategy=\"resample\",\n",
    "            frac_chains_to_finish=0.9,\n",
    "        )\n",
    "        posterior_samples = posterior.sample((1_000,), frac_chains_to_finish=0.9)\n",
    "        all_samples.append(posterior_samples)\n",
    "    return all_samples"
   ]
  },
  {
   "cell_type": "code",
   "execution_count": 44,
   "id": "5dfec31d",
   "metadata": {},
   "outputs": [],
   "source": [
    "betas = [25.0, 50.0, 100.0]"
   ]
  },
  {
   "cell_type": "code",
   "execution_count": 45,
   "id": "4fe23fe0",
   "metadata": {},
   "outputs": [],
   "source": [
    "# _ = torch.manual_seed(222)\n",
    "\n",
    "# all_posterior_gbi_samples = {}\n",
    "# for beta in betas:\n",
    "#     samples_gbi = sample_gbi_all_xo(beta)\n",
    "#     all_posterior_gbi_samples[f\"beta_{int(beta)}\"] = samples_gbi\n",
    "    \n",
    "# with open(f\"../../results/hh/notebook/{mode}/02_posterior_samples_gbi_allen_{use_xo}.pkl\", \"wb\") as handle:\n",
    "#     pickle.dump(all_posterior_gbi_samples, handle)"
   ]
  },
  {
   "cell_type": "code",
   "execution_count": 46,
   "id": "d03ab2ca",
   "metadata": {},
   "outputs": [],
   "source": [
    "with open(f\"../../results/hh/notebook/{mode}/02_posterior_samples_gbi_allen_{use_xo}.pkl\", \"rb\") as handle:\n",
    "    all_posterior_gbi_samples = pickle.load(handle)"
   ]
  },
  {
   "cell_type": "markdown",
   "id": "aa154fe2",
   "metadata": {},
   "source": [
    "### Posterior predictives"
   ]
  },
  {
   "cell_type": "code",
   "execution_count": 47,
   "id": "1b6b366b",
   "metadata": {},
   "outputs": [],
   "source": [
    "# final_predictive_stats_gbi = {}\n",
    "# final_predictive_traces_gbi = {}\n",
    "# for key in all_posterior_gbi_samples.keys():\n",
    "#     posterior_samples_all_xos = all_posterior_gbi_samples[key]\n",
    "#     all_predictive_stats_gbi = []\n",
    "#     all_predictive_traces_gbi = []\n",
    "#     for posterior_samples in posterior_samples_all_xos:\n",
    "#         r = [sim.gen_single(theta.numpy(), seed=0) for theta in posterior_samples[:100]]\n",
    "#         stats_ = stats.calc(r)\n",
    "#         all_predictive_stats_gbi.append(torch.as_tensor(stats_, dtype=torch.float32))\n",
    "#         all_predictive_traces_gbi.append(r)\n",
    "        \n",
    "#     final_predictive_stats_gbi[key] = all_predictive_stats_gbi\n",
    "#     final_predictive_traces_gbi[key] = all_predictive_traces_gbi\n",
    "\n",
    "# with open(f\"../../results/hh/notebook/{mode}/03_posterior_predictive_stats_gbi_allen_{use_xo}.pkl\", \"wb\") as handle:\n",
    "#     pickle.dump(final_predictive_stats_gbi, handle)\n",
    "# with open(f\"../../results/hh/notebook/{mode}/03_posterior_predictive_traces_gbi_allen_{use_xo}.pkl\", \"wb\") as handle:\n",
    "#     pickle.dump(final_predictive_traces_gbi, handle)"
   ]
  },
  {
   "cell_type": "code",
   "execution_count": 48,
   "id": "924c305c",
   "metadata": {},
   "outputs": [],
   "source": [
    "with open(f\"../../results/hh/notebook/{mode}/03_posterior_predictive_stats_gbi_allen_use.pkl\", \"rb\") as handle:\n",
    "    final_predictive_stats_gbi_only_xo = pickle.load(handle)\n",
    "with open(f\"../../results/hh/notebook/{mode}/03_posterior_predictive_traces_gbi_allen_use.pkl\", \"rb\") as handle:\n",
    "    final_predictive_traces_gbi_only_xo = pickle.load(handle)\n",
    "    \n",
    "with open(f\"../../results/hh/notebook/{mode}/03_posterior_predictive_stats_gbi_allen_{use_xo}.pkl\", \"rb\") as handle:\n",
    "    final_predictive_stats_gbi = pickle.load(handle)\n",
    "with open(f\"../../results/hh/notebook/{mode}/03_posterior_predictive_traces_gbi_allen_{use_xo}.pkl\", \"rb\") as handle:\n",
    "    final_predictive_traces_gbi = pickle.load(handle)"
   ]
  },
  {
   "cell_type": "markdown",
   "id": "e123901f",
   "metadata": {},
   "source": [
    "### Panel A"
   ]
  },
  {
   "cell_type": "code",
   "execution_count": 49,
   "id": "8f1e135b",
   "metadata": {},
   "outputs": [],
   "source": [
    "time_vec_obs = np.linspace(np.min(sim.t), np.max(sim.t), len(all_obs[0][\"data\"]))"
   ]
  },
  {
   "cell_type": "code",
   "execution_count": 21,
   "id": "6b5a64ad",
   "metadata": {},
   "outputs": [
    {
     "data": {
      "image/png": "[encoded data removed]",
      "text/plain": [
       "<Figure size 240x70 with 3 Axes>"
      ]
     },
     "metadata": {},
     "output_type": "display_data"
    }
   ],
   "source": [
    "with mpl.rc_context(fname=\"../../.matplotlibrc\"):\n",
    "    fig, ax = plt.subplots(1, 3, figsize=(2.4, 0.7))\n",
    "        \n",
    "    for i in range(3):\n",
    "        xo  = all_obs[i]\n",
    "        _ = ax[i].plot(time_vec_obs, xo[\"data\"], c=\"k\")\n",
    "\n",
    "        _ = ax[i].set_xlabel(\"\")\n",
    "        _ = ax[i].set_ylabel(\"\")\n",
    "        _ = ax[i].set_ylim([-100, 60])\n",
    "        _ = ax[i].spines[\"left\"].set_visible(False)\n",
    "        _ = ax[i].spines[\"bottom\"].set_visible(False)\n",
    "        _ = ax[i].set_xticks([])\n",
    "        _ = ax[i].set_yticks([])\n",
    "    plt.savefig(f\"svg/panel_a_{mode}.svg\")\n",
    "    plt.show()"
   ]
  },
  {
   "cell_type": "markdown",
   "id": "6452f830",
   "metadata": {},
   "source": [
    "### Evaluate distance estimator on posterior samples"
   ]
  },
  {
   "cell_type": "code",
   "execution_count": 22,
   "id": "5943773a",
   "metadata": {},
   "outputs": [
    {
     "data": {
      "image/png": "[encoded data removed]",
      "text/plain": [
       "<Figure size 90x90 with 1 Axes>"
      ]
     },
     "metadata": {},
     "output_type": "display_data"
    }
   ],
   "source": [
    "with mpl.rc_context(fname=\"../../.matplotlibrc\"):\n",
    "    fig, ax = plt.subplots(1, 1, figsize=(0.9, 0.9))\n",
    "    with open(f\"../../results/hh/notebook/{mode}/01_prior_theta_{use_xo}.pkl\", \"rb\") as handle:\n",
    "        theta_vals = pickle.load(handle)\n",
    "    with open(f\"../../results/hh/notebook/{mode}/01_prior_pred_{use_xo}.pkl\", \"rb\") as handle:\n",
    "        final_stats = pickle.load(handle)\n",
    "\n",
    "    x_target_vals = torch.as_tensor(obs_stats_ls, dtype=torch.float32)[:5]\n",
    "\n",
    "    pred_dists = np.asarray([inference_gbi.predict_distance(theta_vals, x_target_val).detach().numpy() for x_target_val in x_target_vals])\n",
    "    true_dists = np.asarray([inference_gbi.distance_func(final_stats, x_target_val).numpy() for x_target_val in x_target_vals])\n",
    "    \n",
    "    _ = ax.plot([0, 2.5], [0, 2.5], c=\"grey\", alpha=0.5)\n",
    "    for i in range(5):\n",
    "        t = true_dists[i]\n",
    "        p = pred_dists[i]\n",
    "        _ = ax.scatter(t, p, c=cols[i], alpha=.3)\n",
    "        ax.set_xticks([0, 2.5])\n",
    "        ax.set_yticks([0, 2.5])\n",
    "\n",
    "    ax.set_xlim([0, 2.5])\n",
    "    ax.set_ylim([0, 2.5])\n",
    "    ax.set_xlabel(\"True distance\")\n",
    "    ax.set_ylabel(\"Predicted distance\")\n",
    "    \n",
    "    plt.savefig(f\"svg/panel_b_{mode}.svg\")"
   ]
  },
  {
   "cell_type": "markdown",
   "id": "649aa904",
   "metadata": {},
   "source": [
    "### Panel D"
   ]
  },
  {
   "cell_type": "code",
   "execution_count": 50,
   "id": "96b5a120",
   "metadata": {},
   "outputs": [],
   "source": [
    "all_gbi_distances_only_xo = []\n",
    "for key in final_predictive_stats_gbi_only_xo.keys():\n",
    "    pred_stats = final_predictive_stats_gbi_only_xo[key]\n",
    "    gbi_av_dists = []\n",
    "    for predictives, xo in zip(pred_stats, obs_stats_ls):\n",
    "        dists = inference_gbi.distance_func(predictives.unsqueeze(1), xo)\n",
    "        gbi_av_dists.append(torch.mean(dists))\n",
    "    all_gbi_distances_only_xo.append(gbi_av_dists)\n",
    "    \n",
    "all_gbi_distances = []\n",
    "for key in final_predictive_stats_gbi.keys():\n",
    "    pred_stats = final_predictive_stats_gbi[key]\n",
    "    gbi_av_dists = []\n",
    "    for predictives, xo in zip(pred_stats, obs_stats_ls):\n",
    "        dists = inference_gbi.distance_func(predictives.unsqueeze(1), xo)\n",
    "        gbi_av_dists.append(torch.mean(dists))\n",
    "    all_gbi_distances.append(gbi_av_dists)"
   ]
  },
  {
   "cell_type": "code",
   "execution_count": 51,
   "id": "c49eac37",
   "metadata": {},
   "outputs": [],
   "source": [
    "time_vec_obs = np.linspace(np.min(sim.t), np.max(sim.t), len(all_obs[0][\"data\"]))"
   ]
  },
  {
   "cell_type": "code",
   "execution_count": 27,
   "id": "96e56ffc",
   "metadata": {},
   "outputs": [
    {
     "data": {
      "image/png": "[encoded data removed]",
      "text/plain": [
       "<Figure size 240x70 with 3 Axes>"
      ]
     },
     "metadata": {},
     "output_type": "display_data"
    }
   ],
   "source": [
    "with mpl.rc_context(fname=\"../../.matplotlibrc\"):\n",
    "    fig, ax = plt.subplots(1, 3, figsize=(2.4, 0.7))\n",
    "        \n",
    "    for i in range(3):\n",
    "        predictive = final_predictive_traces_gbi[\"beta_50\"][i][1]\n",
    "        _ = ax[i].plot(sim.t, predictive[\"data\"], c=\"green\", alpha=0.9)\n",
    "\n",
    "        _ = ax[i].set_xlabel(\"\")\n",
    "        _ = ax[i].set_ylabel(\"\")\n",
    "        _ = ax[i].set_ylim([-100, 60])\n",
    "        _ = ax[i].spines[\"left\"].set_visible(False)\n",
    "        _ = ax[i].spines[\"bottom\"].set_visible(False)\n",
    "        _ = ax[i].set_xticks([])\n",
    "        _ = ax[i].set_yticks([])\n",
    "    plt.savefig(f\"svg/panel_d1_{mode}.svg\")\n",
    "    plt.show()"
   ]
  },
  {
   "cell_type": "markdown",
   "id": "21e5ecaf",
   "metadata": {},
   "source": [
    "### Panel C"
   ]
  },
  {
   "cell_type": "code",
   "execution_count": 52,
   "id": "ba7b454b",
   "metadata": {},
   "outputs": [],
   "source": [
    "_ = torch.manual_seed(2222)\n",
    "\n",
    "npe_all_samples = []\n",
    "maps = []\n",
    "for xo in obs_stats_ls:\n",
    "    xo = as_tensor(xo)\n",
    "    posterior = inference_npe.build_posterior()\n",
    "    posterior_samples = posterior.sample((1_000,), x=xo, show_progress_bars=False)\n",
    "    npe_all_samples.append(posterior_samples)"
   ]
  },
  {
   "cell_type": "code",
   "execution_count": 53,
   "id": "4f1340ef",
   "metadata": {},
   "outputs": [],
   "source": [
    "labels_plot = [r\"$g_Na$\", r\"$g_K$\", r\"$g_{\\mathrm{leak}}$\", r\"$g_M$\", r\"$t_{max}$\", r\"$-V_T$\", r\"$noise$\", r\"$-E_{\\mathrm{leak}}$\"]"
   ]
  },
  {
   "cell_type": "code",
   "execution_count": 38,
   "id": "aec4b8f9",
   "metadata": {},
   "outputs": [
    {
     "name": "stderr",
     "output_type": "stream",
     "text": [
      "/home/michael/Documents/neuralgbi/packages/sbi/sbi/analysis/plot.py:390: UserWarning: No contour levels were found within the data range.\n",
      "  plt.contour(\n",
      "/home/michael/Documents/neuralgbi/packages/sbi/sbi/analysis/plot.py:390: UserWarning: No contour levels were found within the data range.\n",
      "  plt.contour(\n",
      "/home/michael/Documents/neuralgbi/packages/sbi/sbi/analysis/plot.py:390: UserWarning: No contour levels were found within the data range.\n",
      "  plt.contour(\n",
      "/home/michael/Documents/neuralgbi/packages/sbi/sbi/analysis/plot.py:390: UserWarning: No contour levels were found within the data range.\n",
      "  plt.contour(\n"
     ]
    },
    {
     "data": {
      "image/png": "[encoded data removed]",
      "text/plain": [
       "<Figure size 240x240 with 25 Axes>"
      ]
     },
     "metadata": {},
     "output_type": "display_data"
    }
   ],
   "source": [
    "with mpl.rc_context(fname=\"../../.matplotlibrc\"):\n",
    "    fig, ax = pairplot(\n",
    "        [\n",
    "            npe_all_samples[0], \n",
    "            all_posterior_gbi_samples[\"beta_25\"][0],\n",
    "            all_posterior_gbi_samples[\"beta_100\"][0],\n",
    "        ],\n",
    "        limits=limits,\n",
    "        ticks=limits,\n",
    "        upper=\"contour\",\n",
    "        contour_offdiag={\"levels\": [0.68], \"percentile\": True},\n",
    "        figsize=(2.4, 2.4),\n",
    "        diag=\"kde\",\n",
    "        subset=[0, 1, 2, 5, 7],\n",
    "        samples_colors=[\"k\", \"orange\", \"r\"],\n",
    "        labels=labels_plot,\n",
    "    )\n",
    "    plt.savefig(f\"svg/panel_c_{mode}.svg\")"
   ]
  },
  {
   "cell_type": "markdown",
   "id": "26ebd30c",
   "metadata": {},
   "source": [
    "### Panel D2"
   ]
  },
  {
   "cell_type": "code",
   "execution_count": 54,
   "id": "94f39da1",
   "metadata": {},
   "outputs": [],
   "source": [
    "# _ = torch.manual_seed(3333)\n",
    "\n",
    "# all_predictive_traces = []\n",
    "# all_predictive_stats = []\n",
    "# for posterior_samples in npe_all_samples:\n",
    "#     r = [sim.gen_single(theta.numpy(), seed=0) for theta in posterior_samples[:100]]\n",
    "#     all_predictive_traces.append(r)\n",
    "#     stats_ = stats.calc(r)\n",
    "#     all_predictive_stats.append(torch.as_tensor(stats_, dtype=torch.float32))\n",
    "\n",
    "# with open(f\"../../results/hh/notebook/{mode}/04_npe_theta_amo.pkl\", \"wb\") as handle:\n",
    "#     pickle.dump(npe_all_samples, handle)\n",
    "# with open(f\"../../results/hh/notebook/{mode}/04_npe_stats_amo.pkl\", \"wb\") as handle:\n",
    "#     pickle.dump(all_predictive_stats, handle)\n",
    "# with open(f\"../../results/hh/notebook/{mode}/04_npe_traces_amo.pkl\", \"wb\") as handle:\n",
    "#     pickle.dump(all_predictive_traces, handle)"
   ]
  },
  {
   "cell_type": "code",
   "execution_count": 55,
   "id": "d28f73d2",
   "metadata": {},
   "outputs": [],
   "source": [
    "with open(f\"../../results/hh/notebook/{mode}/04_npe_theta_amo.pkl\", \"rb\") as handle:\n",
    "    npe_all_samples = pickle.load(handle)\n",
    "with open(f\"../../results/hh/notebook/{mode}/04_npe_stats_amo.pkl\", \"rb\") as handle:\n",
    "    all_predictive_stats = pickle.load(handle)\n",
    "with open(f\"../../results/hh/notebook/{mode}/04_npe_traces_amo.pkl\", \"rb\") as handle:\n",
    "    all_predictive_traces = pickle.load(handle)"
   ]
  },
  {
   "cell_type": "code",
   "execution_count": 56,
   "id": "b6965751",
   "metadata": {},
   "outputs": [],
   "source": [
    "npe_av_dists = []\n",
    "for predictives, xo in zip(all_predictive_stats, obs_stats_ls):\n",
    "    dists = inference_gbi.distance_func(predictives.unsqueeze(1), xo)\n",
    "    npe_av_dists.append(torch.mean(dists))"
   ]
  },
  {
   "cell_type": "code",
   "execution_count": 43,
   "id": "90dd5829",
   "metadata": {},
   "outputs": [
    {
     "data": {
      "image/png": "[encoded data removed]",
      "text/plain": [
       "<Figure size 240x70 with 3 Axes>"
      ]
     },
     "metadata": {},
     "output_type": "display_data"
    }
   ],
   "source": [
    "with mpl.rc_context(fname=\"../../.matplotlibrc\"):\n",
    "    fig, ax = plt.subplots(1, 3, figsize=(2.4, 0.7))\n",
    "        \n",
    "    for i in range(3):\n",
    "        predictive = all_predictive_traces[i][5]\n",
    "        _ = ax[i].plot(sim.t, predictive[\"data\"], c=\"green\", alpha=0.9)\n",
    "\n",
    "        _ = ax[i].set_xlabel(\"\")\n",
    "        _ = ax[i].set_ylabel(\"\")\n",
    "        _ = ax[i].set_ylim([-100, 60])\n",
    "        _ = ax[i].spines[\"left\"].set_visible(False)\n",
    "        _ = ax[i].spines[\"bottom\"].set_visible(False)\n",
    "        _ = ax[i].set_xticks([])\n",
    "        _ = ax[i].set_yticks([])\n",
    "    plt.savefig(f\"svg/panel_d2_{mode}.svg\")\n",
    "    plt.show()"
   ]
  },
  {
   "cell_type": "markdown",
   "id": "bb40c01c",
   "metadata": {},
   "source": [
    "### Panel E"
   ]
  },
  {
   "cell_type": "code",
   "execution_count": 30,
   "id": "ecb88fee",
   "metadata": {},
   "outputs": [
    {
     "data": {
      "image/png": "[encoded data removed]",
      "text/plain": [
       "<Figure size 90x90 with 1 Axes>"
      ]
     },
     "metadata": {},
     "output_type": "display_data"
    }
   ],
   "source": [
    "with mpl.rc_context(fname=\"../../.matplotlibrc\"):\n",
    "    fig, ax = plt.subplots(1, 1, figsize=(0.9, 0.9))\n",
    "    _ = ax.errorbar([1, 2, 3], [np.mean(dist) for dist in all_gbi_distances], yerr=[np.std(dist) for dist in all_gbi_distances], fmt='--s', color=\"g\",label=\"NPE\", lw=1, alpha=0.7)\n",
    "\n",
    "    ax.errorbar([0], np.mean(npe_av_dists), yerr=np.std(npe_av_dists), fmt='--s', color=\"k\",label=\"NPE\", lw=1, alpha=0.7)\n",
    "    ax.axhline(np.mean(npe_av_dists), color=\"k\", ls='--', alpha=0.2, lw=1)\n",
    "\n",
    "    ax.set_xticks([0, 1, 2, 3])\n",
    "    ax.set_xlim([-0.5, 3.5])\n",
    "    ax.set_xticklabels([\"NPE\", \"GBI\\n25\", \"GBI\\n50\", \"GBI\\n100\"])\n",
    "    ax.set_ylabel(\"Predictive dist\")\n",
    "    ax.set_yticks([0, 0.1, 0.2, 0.3, 0.4])\n",
    "    ax.set_ylim([0, 0.4])\n",
    "    plt.savefig(f\"svg/panel_e_{mode}.svg\")"
   ]
  },
  {
   "cell_type": "code",
   "execution_count": 56,
   "id": "643f2bb0",
   "metadata": {},
   "outputs": [
    {
     "data": {
      "image/png": "[encoded data removed]",
      "text/plain": [
       "<Figure size 90x90 with 1 Axes>"
      ]
     },
     "metadata": {},
     "output_type": "display_data"
    }
   ],
   "source": [
    "with mpl.rc_context(fname=\"../../.matplotlibrc\"):\n",
    "    fig, ax = plt.subplots(1, 1, figsize=(0.9, 0.9))\n",
    "    _ = ax.errorbar([1, 2, 3], [np.mean(dist) for dist in all_gbi_distances], yerr=[np.std(dist) for dist in all_gbi_distances], fmt='--s', color=\"g\",label=\"NPE\", lw=1, alpha=0.7)\n",
    "\n",
    "    ax.errorbar([0], np.mean(npe_av_dists), yerr=np.std(npe_av_dists), fmt='--s', color=\"k\",label=\"NPE\", lw=1, alpha=0.7)\n",
    "    ax.axhline(np.mean(npe_av_dists), color=\"k\", ls='--', alpha=0.2, lw=1)\n",
    "\n",
    "    ax.set_xticks([0, 1, 2, 3])\n",
    "    ax.set_xlim([-0.5, 3.5])\n",
    "    ax.set_xticklabels([\"NPE\", \"GBI\\n25\", \"GBI\\n50\", \"GBI\\n100\"])\n",
    "    ax.set_ylabel(\"Predictive dist\")\n",
    "    ax.set_yticks([0, 0.1, 0.2, 0.3, 0.4])\n",
    "    ax.set_ylim([0, 0.4])\n",
    "    plt.savefig(f\"svg/panel_e_{mode}.svg\")"
   ]
  },
  {
   "cell_type": "markdown",
   "id": "7d62e6f7",
   "metadata": {},
   "source": [
    "### Assemble figure"
   ]
  },
  {
   "cell_type": "code",
   "execution_count": 168,
   "id": "f896ded5",
   "metadata": {},
   "outputs": [],
   "source": [
    "import time\n",
    "import IPython.display as IPd\n",
    "from svgutils.compose import *"
   ]
  },
  {
   "cell_type": "code",
   "execution_count": 169,
   "id": "57b2e764",
   "metadata": {},
   "outputs": [
    {
     "data": {
      "text/html": [
       "<img src=\"fig/fig_allen.svg\" / >"
      ],
      "text/plain": [
       "<IPython.core.display.HTML object>"
      ]
     },
     "metadata": {},
     "output_type": "display_data"
    }
   ],
   "source": [
    "def svg(img):\n",
    "    IPd.display(IPd.HTML('<img src=\"{}\" / >'.format(img, time.time())))\n",
    "\n",
    "# > Inkscape pixel is 1/90 of an inch, other software usually uses 1/72.\n",
    "# > http://www.inkscapeforum.com/viewtopic.php?f=6&t=5964\n",
    "svg_scale = 1.25  # set this to 1.25 for Inkscape, 1.0 otherwise\n",
    "\n",
    "# Panel letters in Helvetica Neue, 12pt, Medium\n",
    "kwargs_text = {'size': '12pt', 'font': 'Arial', 'weight': '800'}\n",
    "\n",
    "f = Figure(\"15.2cm\", \"6.1cm\",\n",
    "    \n",
    "    Panel(\n",
    "          SVG(f\"svg/panel_a_{mode}.svg\").scale(svg_scale),\n",
    "          Text(\"a\", -5, 15.0, **kwargs_text),\n",
    "    ).move(10, 0),\n",
    "           \n",
    "    Panel(\n",
    "          SVG(f\"svg/panel_b_{mode}.svg\").scale(svg_scale),\n",
    "          Text(\"b\", -5, 10.0, **kwargs_text),\n",
    "    ).move(220, 5),\n",
    "    \n",
    "    Panel(\n",
    "          SVG(f\"svg/panel_c_{mode}.svg\").scale(svg_scale),\n",
    "          Text(\"c\", -5, 15.0, **kwargs_text),\n",
    "    ).move(350, 0),\n",
    "           \n",
    "    Panel(\n",
    "          SVG(f\"svg/panel_d1_{mode}.svg\").scale(svg_scale),\n",
    "          Text(\"d\", -5, 2.0, **kwargs_text),\n",
    "    ).move(10, 90),\n",
    "    Panel(\n",
    "          SVG(f\"svg/panel_d2_{mode}.svg\").scale(svg_scale),\n",
    "    ).move(10, 160),\n",
    "    \n",
    "    Panel(\n",
    "          SVG(f\"svg/panel_e_{mode}.svg\").scale(svg_scale),\n",
    "          Text(\"e\", -5, 2.0, **kwargs_text),\n",
    "    ).move(220, 120),\n",
    ")\n",
    "\n",
    "!mkdir -p fig\n",
    "f.save(\"fig/fig_allen.svg\")\n",
    "svg(\"fig/fig_allen.svg\")"
   ]
  },
  {
   "cell_type": "code",
   "execution_count": null,
   "id": "1c707ba2",
   "metadata": {},
   "outputs": [],
   "source": []
  }
 ],
 "metadata": {
  "kernelspec": {
   "display_name": "Python 3 (ipykernel)",
   "language": "python",
   "name": "python3"
  },
  "language_info": {
   "codemirror_mode": {
    "name": "ipython",
    "version": 3
   },
   "file_extension": ".py",
   "mimetype": "text/x-python",
   "name": "python",
   "nbconvert_exporter": "python",
   "pygments_lexer": "ipython3",
   "version": "3.8.13"
  }
 },
 "nbformat": 4,
 "nbformat_minor": 5
}
