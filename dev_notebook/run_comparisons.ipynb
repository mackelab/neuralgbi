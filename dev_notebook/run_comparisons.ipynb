{
 "cells": [
  {
   "cell_type": "code",
   "execution_count": 238,
   "id": "5d99f12f-f145-4990-b330-dfec24c29d5b",
   "metadata": {},
   "outputs": [],
   "source": [
    "import torch\n",
    "import pickle\n",
    "import matplotlib.pyplot as plt\n",
    "import matplotlib as mpl\n",
    "import numpy as np\n",
    "from os import listdir, path\n",
    "from sbi.analysis import pairplot\n",
    "from sbi.utils.metrics import c2st as C2ST\n",
    "from scipy import stats\n",
    "import itertools\n",
    "import pandas as pd\n",
    "from gbi import distances\n",
    "from gbi.benchmark.tasks.uniform_1d.task import UniformNoise1D\n",
    "from gbi.benchmark.tasks.two_moons.task import TwoMoonsGBI\n",
    "from gbi.benchmark.tasks.linear_gaussian.task import LinearGaussian\n",
    "from gbi.benchmark.tasks.gaussian_mixture.task import GaussianMixture\n",
    "\n",
    "import gbi.utils.utils as gbi_utils\n"
   ]
  },
  {
   "cell_type": "code",
   "execution_count": 243,
   "id": "d27e347c-132e-4cf9-b1e5-b2f5ed62e94c",
   "metadata": {},
   "outputs": [
    {
     "name": "stdout",
     "output_type": "stream",
     "text": [
      "2023_04_07__19_18_18\n"
     ]
    }
   ],
   "source": [
    "task_name = \"uniform_1d\"\n",
    "inference_dir = \"../results/benchmark/algorithms/\"\n",
    "inference_datetime = np.sort(listdir(f\"{inference_dir}/{task_name}/\"))[-1]\n",
    "print(inference_datetime)\n",
    "df_summaries = pd.read_csv(f\"{inference_dir}/{task_name}/{inference_datetime}/comparison_summaries.csv\", index_col=0)\n",
    "\n",
    "df_summaries = df_summaries.drop(df_summaries[df_summaries['algorithm']=='eGBI'].index)\n",
    "\n",
    "betas = df_summaries[df_summaries['algorithm']=='GT']['beta'].unique()"
   ]
  },
  {
   "cell_type": "code",
   "execution_count": 244,
   "id": "16c9722e-2810-4ef0-8d11-5efab313da01",
   "metadata": {},
   "outputs": [
    {
     "data": {
      "text/html": [
       "<div>\n",
       "<style scoped>\n",
       "    .dataframe tbody tr th:only-of-type {\n",
       "        vertical-align: middle;\n",
       "    }\n",
       "\n",
       "    .dataframe tbody tr th {\n",
       "        vertical-align: top;\n",
       "    }\n",
       "\n",
       "    .dataframe thead th {\n",
       "        text-align: right;\n",
       "    }\n",
       "</style>\n",
       "<table border=\"1\" class=\"dataframe\">\n",
       "  <thead>\n",
       "    <tr style=\"text-align: right;\">\n",
       "      <th></th>\n",
       "      <th>task</th>\n",
       "      <th>xo_idx</th>\n",
       "      <th>xo_specified</th>\n",
       "      <th>xo_known</th>\n",
       "      <th>algorithm</th>\n",
       "      <th>beta</th>\n",
       "      <th>dist_gt_mean</th>\n",
       "      <th>dist_gt_std</th>\n",
       "      <th>dist_samples_mean</th>\n",
       "      <th>dist_samples_std</th>\n",
       "      <th>dist_estimate_mean</th>\n",
       "      <th>dist_estimate_std</th>\n",
       "      <th>r_dist_gt_estimate</th>\n",
       "      <th>mse_dist_gt_estimate</th>\n",
       "      <th>r_dist_samples_estimate</th>\n",
       "      <th>mse_dist_samples_estimate</th>\n",
       "      <th>c2st</th>\n",
       "    </tr>\n",
       "  </thead>\n",
       "  <tbody>\n",
       "    <tr>\n",
       "      <th>0</th>\n",
       "      <td>uniform_1d</td>\n",
       "      <td>0</td>\n",
       "      <td>specified</td>\n",
       "      <td>known</td>\n",
       "      <td>GT</td>\n",
       "      <td>4.0</td>\n",
       "      <td>0.063608</td>\n",
       "      <td>0.053286</td>\n",
       "      <td>0.062319</td>\n",
       "      <td>0.081702</td>\n",
       "      <td>0.062331</td>\n",
       "      <td>0.057806</td>\n",
       "      <td>0.907252</td>\n",
       "      <td>0.000593</td>\n",
       "      <td>0.597230</td>\n",
       "      <td>0.004375</td>\n",
       "      <td>NaN</td>\n",
       "    </tr>\n",
       "    <tr>\n",
       "      <th>1</th>\n",
       "      <td>uniform_1d</td>\n",
       "      <td>0</td>\n",
       "      <td>specified</td>\n",
       "      <td>known</td>\n",
       "      <td>GT</td>\n",
       "      <td>20.0</td>\n",
       "      <td>0.043390</td>\n",
       "      <td>0.025344</td>\n",
       "      <td>0.044129</td>\n",
       "      <td>0.054828</td>\n",
       "      <td>0.042959</td>\n",
       "      <td>0.030190</td>\n",
       "      <td>0.804716</td>\n",
       "      <td>0.000322</td>\n",
       "      <td>0.399012</td>\n",
       "      <td>0.002598</td>\n",
       "      <td>NaN</td>\n",
       "    </tr>\n",
       "    <tr>\n",
       "      <th>2</th>\n",
       "      <td>uniform_1d</td>\n",
       "      <td>0</td>\n",
       "      <td>specified</td>\n",
       "      <td>known</td>\n",
       "      <td>GT</td>\n",
       "      <td>100.0</td>\n",
       "      <td>0.026431</td>\n",
       "      <td>0.007952</td>\n",
       "      <td>0.026433</td>\n",
       "      <td>0.029839</td>\n",
       "      <td>0.027415</td>\n",
       "      <td>0.013114</td>\n",
       "      <td>0.552161</td>\n",
       "      <td>0.000121</td>\n",
       "      <td>0.160859</td>\n",
       "      <td>0.000937</td>\n",
       "      <td>NaN</td>\n",
       "    </tr>\n",
       "    <tr>\n",
       "      <th>3</th>\n",
       "      <td>uniform_1d</td>\n",
       "      <td>0</td>\n",
       "      <td>specified</td>\n",
       "      <td>known</td>\n",
       "      <td>GBI</td>\n",
       "      <td>4.0</td>\n",
       "      <td>0.063374</td>\n",
       "      <td>0.049341</td>\n",
       "      <td>0.062964</td>\n",
       "      <td>0.078372</td>\n",
       "      <td>0.060166</td>\n",
       "      <td>0.052144</td>\n",
       "      <td>0.896060</td>\n",
       "      <td>0.000553</td>\n",
       "      <td>0.531220</td>\n",
       "      <td>0.004527</td>\n",
       "      <td>NaN</td>\n",
       "    </tr>\n",
       "    <tr>\n",
       "      <th>4</th>\n",
       "      <td>uniform_1d</td>\n",
       "      <td>0</td>\n",
       "      <td>specified</td>\n",
       "      <td>known</td>\n",
       "      <td>GBI</td>\n",
       "      <td>20.0</td>\n",
       "      <td>0.046336</td>\n",
       "      <td>0.027944</td>\n",
       "      <td>0.047012</td>\n",
       "      <td>0.057889</td>\n",
       "      <td>0.040035</td>\n",
       "      <td>0.025989</td>\n",
       "      <td>0.815783</td>\n",
       "      <td>0.000311</td>\n",
       "      <td>0.392601</td>\n",
       "      <td>0.002894</td>\n",
       "      <td>NaN</td>\n",
       "    </tr>\n",
       "    <tr>\n",
       "      <th>...</th>\n",
       "      <td>...</td>\n",
       "      <td>...</td>\n",
       "      <td>...</td>\n",
       "      <td>...</td>\n",
       "      <td>...</td>\n",
       "      <td>...</td>\n",
       "      <td>...</td>\n",
       "      <td>...</td>\n",
       "      <td>...</td>\n",
       "      <td>...</td>\n",
       "      <td>...</td>\n",
       "      <td>...</td>\n",
       "      <td>...</td>\n",
       "      <td>...</td>\n",
       "      <td>...</td>\n",
       "      <td>...</td>\n",
       "      <td>...</td>\n",
       "    </tr>\n",
       "    <tr>\n",
       "      <th>459</th>\n",
       "      <td>uniform_1d</td>\n",
       "      <td>9</td>\n",
       "      <td>misspecified</td>\n",
       "      <td>unknown</td>\n",
       "      <td>NPE</td>\n",
       "      <td>1.0</td>\n",
       "      <td>0.890658</td>\n",
       "      <td>0.034579</td>\n",
       "      <td>0.890294</td>\n",
       "      <td>0.271719</td>\n",
       "      <td>0.899007</td>\n",
       "      <td>0.039605</td>\n",
       "      <td>0.921527</td>\n",
       "      <td>0.000310</td>\n",
       "      <td>0.121504</td>\n",
       "      <td>0.072853</td>\n",
       "      <td>NaN</td>\n",
       "    </tr>\n",
       "    <tr>\n",
       "      <th>460</th>\n",
       "      <td>uniform_1d</td>\n",
       "      <td>9</td>\n",
       "      <td>misspecified</td>\n",
       "      <td>unknown</td>\n",
       "      <td>NLE</td>\n",
       "      <td>1.0</td>\n",
       "      <td>1.377551</td>\n",
       "      <td>0.525466</td>\n",
       "      <td>1.378525</td>\n",
       "      <td>0.628866</td>\n",
       "      <td>1.384424</td>\n",
       "      <td>0.535743</td>\n",
       "      <td>0.971133</td>\n",
       "      <td>0.016404</td>\n",
       "      <td>0.821495</td>\n",
       "      <td>0.128975</td>\n",
       "      <td>NaN</td>\n",
       "    </tr>\n",
       "    <tr>\n",
       "      <th>461</th>\n",
       "      <td>uniform_1d</td>\n",
       "      <td>9</td>\n",
       "      <td>misspecified</td>\n",
       "      <td>unknown</td>\n",
       "      <td>ABC</td>\n",
       "      <td>4.0</td>\n",
       "      <td>0.390822</td>\n",
       "      <td>0.230072</td>\n",
       "      <td>0.427331</td>\n",
       "      <td>0.323442</td>\n",
       "      <td>0.412241</td>\n",
       "      <td>0.241459</td>\n",
       "      <td>0.986245</td>\n",
       "      <td>0.002083</td>\n",
       "      <td>0.847153</td>\n",
       "      <td>0.030211</td>\n",
       "      <td>NaN</td>\n",
       "    </tr>\n",
       "    <tr>\n",
       "      <th>462</th>\n",
       "      <td>uniform_1d</td>\n",
       "      <td>9</td>\n",
       "      <td>misspecified</td>\n",
       "      <td>unknown</td>\n",
       "      <td>ABC</td>\n",
       "      <td>20.0</td>\n",
       "      <td>0.610890</td>\n",
       "      <td>0.320750</td>\n",
       "      <td>0.642536</td>\n",
       "      <td>0.386502</td>\n",
       "      <td>0.596732</td>\n",
       "      <td>0.330938</td>\n",
       "      <td>0.958820</td>\n",
       "      <td>0.008870</td>\n",
       "      <td>0.789440</td>\n",
       "      <td>0.057911</td>\n",
       "      <td>NaN</td>\n",
       "    </tr>\n",
       "    <tr>\n",
       "      <th>463</th>\n",
       "      <td>uniform_1d</td>\n",
       "      <td>9</td>\n",
       "      <td>misspecified</td>\n",
       "      <td>unknown</td>\n",
       "      <td>ABC</td>\n",
       "      <td>100.0</td>\n",
       "      <td>0.672985</td>\n",
       "      <td>0.377560</td>\n",
       "      <td>0.709456</td>\n",
       "      <td>0.452697</td>\n",
       "      <td>0.660252</td>\n",
       "      <td>0.373661</td>\n",
       "      <td>0.954655</td>\n",
       "      <td>0.012716</td>\n",
       "      <td>0.833320</td>\n",
       "      <td>0.063805</td>\n",
       "      <td>NaN</td>\n",
       "    </tr>\n",
       "  </tbody>\n",
       "</table>\n",
       "<p>440 rows × 17 columns</p>\n",
       "</div>"
      ],
      "text/plain": [
       "           task  xo_idx  xo_specified xo_known algorithm   beta  dist_gt_mean  \\\n",
       "0    uniform_1d       0     specified    known        GT    4.0      0.063608   \n",
       "1    uniform_1d       0     specified    known        GT   20.0      0.043390   \n",
       "2    uniform_1d       0     specified    known        GT  100.0      0.026431   \n",
       "3    uniform_1d       0     specified    known       GBI    4.0      0.063374   \n",
       "4    uniform_1d       0     specified    known       GBI   20.0      0.046336   \n",
       "..          ...     ...           ...      ...       ...    ...           ...   \n",
       "459  uniform_1d       9  misspecified  unknown       NPE    1.0      0.890658   \n",
       "460  uniform_1d       9  misspecified  unknown       NLE    1.0      1.377551   \n",
       "461  uniform_1d       9  misspecified  unknown       ABC    4.0      0.390822   \n",
       "462  uniform_1d       9  misspecified  unknown       ABC   20.0      0.610890   \n",
       "463  uniform_1d       9  misspecified  unknown       ABC  100.0      0.672985   \n",
       "\n",
       "     dist_gt_std  dist_samples_mean  dist_samples_std  dist_estimate_mean  \\\n",
       "0       0.053286           0.062319          0.081702            0.062331   \n",
       "1       0.025344           0.044129          0.054828            0.042959   \n",
       "2       0.007952           0.026433          0.029839            0.027415   \n",
       "3       0.049341           0.062964          0.078372            0.060166   \n",
       "4       0.027944           0.047012          0.057889            0.040035   \n",
       "..           ...                ...               ...                 ...   \n",
       "459     0.034579           0.890294          0.271719            0.899007   \n",
       "460     0.525466           1.378525          0.628866            1.384424   \n",
       "461     0.230072           0.427331          0.323442            0.412241   \n",
       "462     0.320750           0.642536          0.386502            0.596732   \n",
       "463     0.377560           0.709456          0.452697            0.660252   \n",
       "\n",
       "     dist_estimate_std  r_dist_gt_estimate  mse_dist_gt_estimate  \\\n",
       "0             0.057806            0.907252              0.000593   \n",
       "1             0.030190            0.804716              0.000322   \n",
       "2             0.013114            0.552161              0.000121   \n",
       "3             0.052144            0.896060              0.000553   \n",
       "4             0.025989            0.815783              0.000311   \n",
       "..                 ...                 ...                   ...   \n",
       "459           0.039605            0.921527              0.000310   \n",
       "460           0.535743            0.971133              0.016404   \n",
       "461           0.241459            0.986245              0.002083   \n",
       "462           0.330938            0.958820              0.008870   \n",
       "463           0.373661            0.954655              0.012716   \n",
       "\n",
       "     r_dist_samples_estimate  mse_dist_samples_estimate  c2st  \n",
       "0                   0.597230                   0.004375   NaN  \n",
       "1                   0.399012                   0.002598   NaN  \n",
       "2                   0.160859                   0.000937   NaN  \n",
       "3                   0.531220                   0.004527   NaN  \n",
       "4                   0.392601                   0.002894   NaN  \n",
       "..                       ...                        ...   ...  \n",
       "459                 0.121504                   0.072853   NaN  \n",
       "460                 0.821495                   0.128975   NaN  \n",
       "461                 0.847153                   0.030211   NaN  \n",
       "462                 0.789440                   0.057911   NaN  \n",
       "463                 0.833320                   0.063805   NaN  \n",
       "\n",
       "[440 rows x 17 columns]"
      ]
     },
     "execution_count": 244,
     "metadata": {},
     "output_type": "execute_result"
    }
   ],
   "source": [
    "# gbi_utils.pickle_load('../results/benchmark/algorithms/two_moons/2023_04_08__12_42_12/posterior_samples_all.pkl')\n",
    "df_summaries"
   ]
  },
  {
   "cell_type": "code",
   "execution_count": 245,
   "id": "c8b4bd22-68d7-46a2-89bf-93e7fa784be1",
   "metadata": {},
   "outputs": [
    {
     "name": "stderr",
     "output_type": "stream",
     "text": [
      "No artists with labels found to put in legend.  Note that artists whose label start with an underscore are ignored when legend() is called with no argument.\n"
     ]
    },
    {
     "data": {
      "image/png": "[encoded data removed]",
      "text/plain": [
       "<Figure size 864x216 with 4 Axes>"
      ]
     },
     "metadata": {
      "needs_background": "light"
     },
     "output_type": "display_data"
    },
    {
     "data": {
      "image/png": "[encoded data removed]",
      "text/plain": [
       "<Figure size 1296x288 with 4 Axes>"
      ]
     },
     "metadata": {
      "needs_background": "light"
     },
     "output_type": "display_data"
    }
   ],
   "source": [
    "plt.figure(figsize=(12,3))\n",
    "\n",
    "for i_s, specified in enumerate(['specified', 'misspecified']):\n",
    "    for i_k, known in enumerate(['known', 'unknown']):\n",
    "        plt.subplot(1,4,i_s*2+i_k+1)            \n",
    "        for xo in range(10):\n",
    "            df_cur = df_summaries[(df_summaries['algorithm']==\"GBI\")&(df_summaries['xo_idx']==xo)&(df_summaries['xo_specified']==specified)&(df_summaries['xo_known']==known)]\n",
    "            plt.plot(range(len(df_cur['beta'])), df_cur['c2st'], 'o', color=f\"C{i_s*2+i_k}\", alpha=0.5)\n",
    "            \n",
    "        plt.xticks(ticks=range(3),labels=df_cur[df_cur['algorithm']=='GBI']['beta'].unique())        \n",
    "        plt.ylim([0.45,1.05]); plt.yticks([0.5,1])\n",
    "        plt.axhline(0.5, alpha=0.2, color='k', linestyle='--')\n",
    "        plt.title(f\"{specified}, {known}\")\n",
    "        plt.xlabel('beta')\n",
    "\n",
    "plt.subplot(1,4,1)\n",
    "plt.ylabel('C2ST(GT, nGBI)')\n",
    "plt.tight_layout()\n",
    "metric_to_plot = 'dist_samples_mean'\n",
    "# metric_to_plot = 'mse_gt_estimate'\n",
    "# metric_to_plot = 'r_gt_estimate'\n",
    "plt.figure(figsize=(18,4))\n",
    "for i_s, specified in enumerate(['specified', 'misspecified']):\n",
    "    for i_k, known in enumerate(['known', 'unknown']):\n",
    "        plt.subplot(1,4,i_s*2+i_k+1)            \n",
    "        for xo in range(10):\n",
    "            df_cur = df_summaries[(df_summaries['xo_idx']==xo)&(df_summaries['xo_specified']==specified)&(df_summaries['xo_known']==known)]            \n",
    "            for i_, i_b in enumerate([3,4,5]):\n",
    "#                 # GBI GT vs. GBI estimated\n",
    "#                 plt.plot(df_cur['dist_sample_mean'].iloc[-1], df_cur['dist_sample_mean'].iloc[i_b], 'o', color=f\"C{i_}\", label=betas[i_] if xo==0 else None, alpha=0.5)\n",
    "#                 # plt.errorbar(df_cur['dist_sample_mean'].iloc[-1], df_cur['dist_sample_mean'].iloc[i_b], xerr=df_cur['dist_sample_std'].iloc[-1], yerr=df_cur['dist_sample_std'].iloc[i_b], color=f\"C{i_}\", alpha=0.1)\n",
    "                \n",
    "#                 # NPE vs. GBI estimated\n",
    "#                 plt.plot(df_cur['dist_sample_mean'].iloc[i_b-3], df_cur['dist_sample_mean'].iloc[i_b], '*', color=f\"C{i_}\", alpha=0.5)\n",
    "\n",
    "                plt.plot(df_cur[metric_to_plot].values, 'ok-', alpha=0.1)\n",
    "        plt.xticks(range(len(df_cur)), labels=[f\"{row['algorithm']}\\n{row['beta']:.1f}\" for _, row in df_cur.iterrows()])\n",
    "        \n",
    "        # XL = [0,plt.ylim()[1]]\n",
    "        # plt.plot(XL, XL, 'k--', alpha=0.1)            \n",
    "        plt.title(f\"{specified}, {known}\")\n",
    "        plt.ylabel(metric_to_plot, fontsize=12)\n",
    "        # plt.ylim(0,df_summaries['dist_sample_mean'].max())\n",
    "        # plt.xticks(XL);plt.yticks(XL);\n",
    "        # plt.xlabel('GT/NPE'); plt.ylabel('GBI')\n",
    "        # plt.xscale('log')\n",
    "        # plt.yscale('log');\n",
    "\n",
    "plt.legend()\n",
    "plt.tight_layout()\n",
    "\n",
    "\n",
    "\n",
    "\n",
    "# df_summaries[(df_summaries['xo_idx']==xo)&(df_summaries['xo_specified']==specified)&(df_summaries['xo_known']==known)]"
   ]
  },
  {
   "cell_type": "code",
   "execution_count": 260,
   "id": "bc80abe5-0c8f-4195-9ed5-809fd2ce47a8",
   "metadata": {},
   "outputs": [
    {
     "data": {
      "text/plain": [
       "torch.Size([10, 4, 5])"
      ]
     },
     "execution_count": 260,
     "metadata": {},
     "output_type": "execute_result"
    }
   ],
   "source": [
    "x_o = torch.rand(1,4,5)\n",
    "x_o.repeat(10, *[1]*len(x_o[0].shape)).shape"
   ]
  },
  {
   "cell_type": "code",
   "execution_count": 155,
   "id": "e942b771-eabf-487e-8e41-7f767e757cff",
   "metadata": {},
   "outputs": [
    {
     "data": {
      "text/plain": [
       "([<matplotlib.axis.XTick at 0x7fcd990cd6a0>,\n",
       "  <matplotlib.axis.XTick at 0x7fcd990cd670>,\n",
       "  <matplotlib.axis.XTick at 0x7fcd991228e0>,\n",
       "  <matplotlib.axis.XTick at 0x7fcd990b83d0>,\n",
       "  <matplotlib.axis.XTick at 0x7fcd99085340>,\n",
       "  <matplotlib.axis.XTick at 0x7fcd9907e250>,\n",
       "  <matplotlib.axis.XTick at 0x7fcd99085d60>,\n",
       "  <matplotlib.axis.XTick at 0x7fcd9908e580>,\n",
       "  <matplotlib.axis.XTick at 0x7fcd9908ed60>,\n",
       "  <matplotlib.axis.XTick at 0x7fcd99098580>,\n",
       "  <matplotlib.axis.XTick at 0x7fcd9908e700>],\n",
       " [Text(0, 0, 'GT\\n0.1'),\n",
       "  Text(1, 0, 'GT\\n1.0'),\n",
       "  Text(2, 0, 'GT\\n10.0'),\n",
       "  Text(3, 0, 'GBI\\n0.1'),\n",
       "  Text(4, 0, 'GBI\\n1.0'),\n",
       "  Text(5, 0, 'GBI\\n10.0'),\n",
       "  Text(6, 0, 'NPE\\n1.0'),\n",
       "  Text(7, 0, 'NLE\\n1.0'),\n",
       "  Text(8, 0, 'ABC\\n0.1'),\n",
       "  Text(9, 0, 'ABC\\n1.0'),\n",
       "  Text(10, 0, 'ABC\\n10.0')])"
      ]
     },
     "execution_count": 155,
     "metadata": {},
     "output_type": "execute_result"
    },
    {
     "data": {
      "image/png": "[encoded data removed]",
      "text/plain": [
       "<Figure size 576x432 with 1 Axes>"
      ]
     },
     "metadata": {
      "needs_background": "light"
     },
     "output_type": "display_data"
    }
   ],
   "source": [
    "# plt.figure(figsize=(8,6))\n",
    "# plt.plot(df_cur['dist_sample_mean'].values, '.-')\n",
    "\n",
    "# plt.xticks(range(len(df_cur)), labels=[f\"{row['algorithm']}\\n{row['beta']}\" for _, row in df_cur.iterrows()])\n"
   ]
  },
  {
   "cell_type": "code",
   "execution_count": 189,
   "id": "1edf30cd-61ec-42a7-a3ae-772b8dddcacf",
   "metadata": {},
   "outputs": [
    {
     "data": {
      "text/html": [
       "<div>\n",
       "<style scoped>\n",
       "    .dataframe tbody tr th:only-of-type {\n",
       "        vertical-align: middle;\n",
       "    }\n",
       "\n",
       "    .dataframe tbody tr th {\n",
       "        vertical-align: top;\n",
       "    }\n",
       "\n",
       "    .dataframe thead th {\n",
       "        text-align: right;\n",
       "    }\n",
       "</style>\n",
       "<table border=\"1\" class=\"dataframe\">\n",
       "  <thead>\n",
       "    <tr style=\"text-align: right;\">\n",
       "      <th></th>\n",
       "      <th>task</th>\n",
       "      <th>xo_idx</th>\n",
       "      <th>xo_specified</th>\n",
       "      <th>xo_known</th>\n",
       "      <th>algorithm</th>\n",
       "      <th>beta</th>\n",
       "      <th>theta_mean</th>\n",
       "      <th>theta_std</th>\n",
       "      <th>x_pred_mean</th>\n",
       "      <th>x_pred_std</th>\n",
       "      <th>dist_gt_mean</th>\n",
       "      <th>dist_gt_std</th>\n",
       "      <th>dist_sample_mean</th>\n",
       "      <th>dist_sample_std</th>\n",
       "      <th>dist_estimate_mean</th>\n",
       "      <th>dist_estimate_std</th>\n",
       "      <th>r_gt_estimate</th>\n",
       "      <th>mse_gt_estimate</th>\n",
       "      <th>c2st</th>\n",
       "    </tr>\n",
       "  </thead>\n",
       "  <tbody>\n",
       "    <tr>\n",
       "      <th>430</th>\n",
       "      <td>linear_gaussian</td>\n",
       "      <td>9</td>\n",
       "      <td>misspecified</td>\n",
       "      <td>unknown</td>\n",
       "      <td>GT</td>\n",
       "      <td>0.1</td>\n",
       "      <td>[-0.60354733  0.73854727  0.2538359  -0.469959...</td>\n",
       "      <td>[0.9213561  0.9046386  0.9182231  0.9239822  0...</td>\n",
       "      <td>[ 0.9246588   0.44322157 -1.9320601   0.105068...</td>\n",
       "      <td>[1.2101465  1.0022993  1.3131821  1.4023372  1...</td>\n",
       "      <td>123.361060</td>\n",
       "      <td>19.308428</td>\n",
       "      <td>12.350277</td>\n",
       "      <td>2.633588</td>\n",
       "      <td>12.794785</td>\n",
       "      <td>3.212799</td>\n",
       "      <td>0.364763</td>\n",
       "      <td>12562.74700</td>\n",
       "      <td>NaN</td>\n",
       "    </tr>\n",
       "    <tr>\n",
       "      <th>431</th>\n",
       "      <td>linear_gaussian</td>\n",
       "      <td>9</td>\n",
       "      <td>misspecified</td>\n",
       "      <td>unknown</td>\n",
       "      <td>GT</td>\n",
       "      <td>1.0</td>\n",
       "      <td>[-2.4004538   2.977598    1.0612355  -1.895249...</td>\n",
       "      <td>[0.5753393  0.5769134  0.5799474  0.5774087  0...</td>\n",
       "      <td>[-0.87224764  2.6822722  -1.1246604  -1.320221...</td>\n",
       "      <td>[0.9612582 0.7214652 1.0807295 1.2091955 1.196...</td>\n",
       "      <td>27.747965</td>\n",
       "      <td>5.005708</td>\n",
       "      <td>2.775645</td>\n",
       "      <td>0.980968</td>\n",
       "      <td>8.965590</td>\n",
       "      <td>2.938405</td>\n",
       "      <td>-0.022683</td>\n",
       "      <td>387.13284</td>\n",
       "      <td>NaN</td>\n",
       "    </tr>\n",
       "    <tr>\n",
       "      <th>432</th>\n",
       "      <td>linear_gaussian</td>\n",
       "      <td>9</td>\n",
       "      <td>misspecified</td>\n",
       "      <td>unknown</td>\n",
       "      <td>GT</td>\n",
       "      <td>10.0</td>\n",
       "      <td>[-3.4211357   4.2457976   1.5114169  -2.708521...</td>\n",
       "      <td>[0.21839488 0.21864036 0.21745524 0.21871024 0...</td>\n",
       "      <td>[-1.8929297   3.9504724  -0.6744791  -2.133493...</td>\n",
       "      <td>[0.80996597 0.47754818 0.9415768  1.0767184  1...</td>\n",
       "      <td>8.095148</td>\n",
       "      <td>0.335715</td>\n",
       "      <td>0.807863</td>\n",
       "      <td>0.407285</td>\n",
       "      <td>12.022683</td>\n",
       "      <td>1.123166</td>\n",
       "      <td>-0.309322</td>\n",
       "      <td>17.03285</td>\n",
       "      <td>NaN</td>\n",
       "    </tr>\n",
       "    <tr>\n",
       "      <th>433</th>\n",
       "      <td>linear_gaussian</td>\n",
       "      <td>9</td>\n",
       "      <td>misspecified</td>\n",
       "      <td>unknown</td>\n",
       "      <td>GBI</td>\n",
       "      <td>0.1</td>\n",
       "      <td>[-0.08620115  0.10825652  0.03252724 -0.030709...</td>\n",
       "      <td>[0.9784684  0.97212577 0.95863575 0.97641724 0...</td>\n",
       "      <td>[ 1.4420049  -0.18706919 -2.1533687   0.544318...</td>\n",
       "      <td>[1.2551022 1.0622507 1.3298491 1.4210019 1.434...</td>\n",
       "      <td>165.690580</td>\n",
       "      <td>24.314410</td>\n",
       "      <td>16.578310</td>\n",
       "      <td>3.194215</td>\n",
       "      <td>15.690104</td>\n",
       "      <td>3.729531</td>\n",
       "      <td>0.681824</td>\n",
       "      <td>22981.53300</td>\n",
       "      <td>NaN</td>\n",
       "    </tr>\n",
       "    <tr>\n",
       "      <th>434</th>\n",
       "      <td>linear_gaussian</td>\n",
       "      <td>9</td>\n",
       "      <td>misspecified</td>\n",
       "      <td>unknown</td>\n",
       "      <td>GBI</td>\n",
       "      <td>1.0</td>\n",
       "      <td>[-0.8452158   0.8096459   0.21222548  0.066195...</td>\n",
       "      <td>[0.9324036 0.7693787 0.8173004 0.7988796 0.960...</td>\n",
       "      <td>[ 0.6829903   0.5143202  -1.9736704   0.641223...</td>\n",
       "      <td>[1.2204634  0.87974054 1.2450126  1.3310655  1...</td>\n",
       "      <td>129.883760</td>\n",
       "      <td>18.322557</td>\n",
       "      <td>13.007171</td>\n",
       "      <td>2.639495</td>\n",
       "      <td>7.221627</td>\n",
       "      <td>2.802953</td>\n",
       "      <td>0.537423</td>\n",
       "      <td>15334.34100</td>\n",
       "      <td>NaN</td>\n",
       "    </tr>\n",
       "    <tr>\n",
       "      <th>435</th>\n",
       "      <td>linear_gaussian</td>\n",
       "      <td>9</td>\n",
       "      <td>misspecified</td>\n",
       "      <td>unknown</td>\n",
       "      <td>GBI</td>\n",
       "      <td>10.0</td>\n",
       "      <td>[-1.7494082   1.7418195  -0.00708364  0.382673...</td>\n",
       "      <td>[0.91358036 0.5050502  0.70082587 0.6399297  1...</td>\n",
       "      <td>[-0.22120205  1.446494   -2.1929796   0.957702...</td>\n",
       "      <td>[1.1933396 0.6607025 1.1575685 1.2334466 1.589...</td>\n",
       "      <td>106.660484</td>\n",
       "      <td>15.128628</td>\n",
       "      <td>10.684113</td>\n",
       "      <td>2.336683</td>\n",
       "      <td>0.416513</td>\n",
       "      <td>0.348877</td>\n",
       "      <td>-0.062573</td>\n",
       "      <td>11517.41800</td>\n",
       "      <td>NaN</td>\n",
       "    </tr>\n",
       "    <tr>\n",
       "      <th>436</th>\n",
       "      <td>linear_gaussian</td>\n",
       "      <td>9</td>\n",
       "      <td>misspecified</td>\n",
       "      <td>unknown</td>\n",
       "      <td>NPE</td>\n",
       "      <td>1.0</td>\n",
       "      <td>[-1.9914154   2.5474265   0.76693666 -1.682985...</td>\n",
       "      <td>[0.5528962  0.12083537 0.62321573 0.7060223  0...</td>\n",
       "      <td>[-0.46320933  2.2521007  -1.4189593  -1.107957...</td>\n",
       "      <td>[0.9480283  0.4443868  1.1117085  1.2742189  1...</td>\n",
       "      <td>63.882650</td>\n",
       "      <td>9.702874</td>\n",
       "      <td>6.396645</td>\n",
       "      <td>1.674591</td>\n",
       "      <td>10.879135</td>\n",
       "      <td>3.120982</td>\n",
       "      <td>0.378669</td>\n",
       "      <td>2890.31710</td>\n",
       "      <td>NaN</td>\n",
       "    </tr>\n",
       "    <tr>\n",
       "      <th>437</th>\n",
       "      <td>linear_gaussian</td>\n",
       "      <td>9</td>\n",
       "      <td>misspecified</td>\n",
       "      <td>unknown</td>\n",
       "      <td>NLE</td>\n",
       "      <td>1.0</td>\n",
       "      <td>[-0.55271107  0.11375962  1.6671815  -1.005869...</td>\n",
       "      <td>[0.9633565  0.9436382  0.57575893 0.91592354 0...</td>\n",
       "      <td>[ 0.9754951  -0.18156606 -0.5187145  -0.430841...</td>\n",
       "      <td>[1.2386991 1.0373169 1.0876957 1.390054  1.350...</td>\n",
       "      <td>138.339520</td>\n",
       "      <td>21.856682</td>\n",
       "      <td>13.836873</td>\n",
       "      <td>2.864978</td>\n",
       "      <td>15.857097</td>\n",
       "      <td>4.399594</td>\n",
       "      <td>0.450613</td>\n",
       "      <td>15412.31300</td>\n",
       "      <td>NaN</td>\n",
       "    </tr>\n",
       "    <tr>\n",
       "      <th>438</th>\n",
       "      <td>linear_gaussian</td>\n",
       "      <td>9</td>\n",
       "      <td>misspecified</td>\n",
       "      <td>unknown</td>\n",
       "      <td>ABC</td>\n",
       "      <td>0.1</td>\n",
       "      <td>[ 0.06143041  0.01569465  0.08452255  0.104212...</td>\n",
       "      <td>[0.739764   0.98292154 0.9337798  0.9562398  1...</td>\n",
       "      <td>[ 1.6149579  -0.35258603 -2.0588696   0.500028...</td>\n",
       "      <td>[1.1136974  1.0172516  1.2996306  1.3601283  1...</td>\n",
       "      <td>167.537250</td>\n",
       "      <td>22.803680</td>\n",
       "      <td>16.646448</td>\n",
       "      <td>2.835982</td>\n",
       "      <td>15.673712</td>\n",
       "      <td>2.745912</td>\n",
       "      <td>0.719075</td>\n",
       "      <td>23491.27500</td>\n",
       "      <td>NaN</td>\n",
       "    </tr>\n",
       "    <tr>\n",
       "      <th>439</th>\n",
       "      <td>linear_gaussian</td>\n",
       "      <td>9</td>\n",
       "      <td>misspecified</td>\n",
       "      <td>unknown</td>\n",
       "      <td>ABC</td>\n",
       "      <td>1.0</td>\n",
       "      <td>[-0.0595414   0.14127073  0.145369   -0.360820...</td>\n",
       "      <td>[0.93406546 1.0659785  0.9279257  0.96338844 0...</td>\n",
       "      <td>[ 1.4939862  -0.22700995 -1.998023    0.034995...</td>\n",
       "      <td>[1.1966835 1.1408304 1.5755197 1.464859  1.618...</td>\n",
       "      <td>159.222050</td>\n",
       "      <td>22.605738</td>\n",
       "      <td>16.004494</td>\n",
       "      <td>2.662135</td>\n",
       "      <td>14.952102</td>\n",
       "      <td>2.712493</td>\n",
       "      <td>0.696851</td>\n",
       "      <td>21238.07200</td>\n",
       "      <td>NaN</td>\n",
       "    </tr>\n",
       "    <tr>\n",
       "      <th>440</th>\n",
       "      <td>linear_gaussian</td>\n",
       "      <td>9</td>\n",
       "      <td>misspecified</td>\n",
       "      <td>unknown</td>\n",
       "      <td>ABC</td>\n",
       "      <td>10.0</td>\n",
       "      <td>[-0.03569359  0.14989838  0.17391136  0.050512...</td>\n",
       "      <td>[1.009771   0.9724824  0.9537732  1.0315549  0...</td>\n",
       "      <td>[ 1.5178338  -0.21838227 -1.9694806   0.446327...</td>\n",
       "      <td>[1.2261035  1.035182   1.6045623  1.4532694  1...</td>\n",
       "      <td>165.849880</td>\n",
       "      <td>21.669924</td>\n",
       "      <td>16.619490</td>\n",
       "      <td>2.657741</td>\n",
       "      <td>15.560970</td>\n",
       "      <td>2.645443</td>\n",
       "      <td>0.719672</td>\n",
       "      <td>22972.94500</td>\n",
       "      <td>NaN</td>\n",
       "    </tr>\n",
       "  </tbody>\n",
       "</table>\n",
       "</div>"
      ],
      "text/plain": [
       "                task  xo_idx  xo_specified xo_known algorithm  beta  \\\n",
       "430  linear_gaussian       9  misspecified  unknown        GT   0.1   \n",
       "431  linear_gaussian       9  misspecified  unknown        GT   1.0   \n",
       "432  linear_gaussian       9  misspecified  unknown        GT  10.0   \n",
       "433  linear_gaussian       9  misspecified  unknown       GBI   0.1   \n",
       "434  linear_gaussian       9  misspecified  unknown       GBI   1.0   \n",
       "435  linear_gaussian       9  misspecified  unknown       GBI  10.0   \n",
       "436  linear_gaussian       9  misspecified  unknown       NPE   1.0   \n",
       "437  linear_gaussian       9  misspecified  unknown       NLE   1.0   \n",
       "438  linear_gaussian       9  misspecified  unknown       ABC   0.1   \n",
       "439  linear_gaussian       9  misspecified  unknown       ABC   1.0   \n",
       "440  linear_gaussian       9  misspecified  unknown       ABC  10.0   \n",
       "\n",
       "                                            theta_mean  \\\n",
       "430  [-0.60354733  0.73854727  0.2538359  -0.469959...   \n",
       "431  [-2.4004538   2.977598    1.0612355  -1.895249...   \n",
       "432  [-3.4211357   4.2457976   1.5114169  -2.708521...   \n",
       "433  [-0.08620115  0.10825652  0.03252724 -0.030709...   \n",
       "434  [-0.8452158   0.8096459   0.21222548  0.066195...   \n",
       "435  [-1.7494082   1.7418195  -0.00708364  0.382673...   \n",
       "436  [-1.9914154   2.5474265   0.76693666 -1.682985...   \n",
       "437  [-0.55271107  0.11375962  1.6671815  -1.005869...   \n",
       "438  [ 0.06143041  0.01569465  0.08452255  0.104212...   \n",
       "439  [-0.0595414   0.14127073  0.145369   -0.360820...   \n",
       "440  [-0.03569359  0.14989838  0.17391136  0.050512...   \n",
       "\n",
       "                                             theta_std  \\\n",
       "430  [0.9213561  0.9046386  0.9182231  0.9239822  0...   \n",
       "431  [0.5753393  0.5769134  0.5799474  0.5774087  0...   \n",
       "432  [0.21839488 0.21864036 0.21745524 0.21871024 0...   \n",
       "433  [0.9784684  0.97212577 0.95863575 0.97641724 0...   \n",
       "434  [0.9324036 0.7693787 0.8173004 0.7988796 0.960...   \n",
       "435  [0.91358036 0.5050502  0.70082587 0.6399297  1...   \n",
       "436  [0.5528962  0.12083537 0.62321573 0.7060223  0...   \n",
       "437  [0.9633565  0.9436382  0.57575893 0.91592354 0...   \n",
       "438  [0.739764   0.98292154 0.9337798  0.9562398  1...   \n",
       "439  [0.93406546 1.0659785  0.9279257  0.96338844 0...   \n",
       "440  [1.009771   0.9724824  0.9537732  1.0315549  0...   \n",
       "\n",
       "                                           x_pred_mean  \\\n",
       "430  [ 0.9246588   0.44322157 -1.9320601   0.105068...   \n",
       "431  [-0.87224764  2.6822722  -1.1246604  -1.320221...   \n",
       "432  [-1.8929297   3.9504724  -0.6744791  -2.133493...   \n",
       "433  [ 1.4420049  -0.18706919 -2.1533687   0.544318...   \n",
       "434  [ 0.6829903   0.5143202  -1.9736704   0.641223...   \n",
       "435  [-0.22120205  1.446494   -2.1929796   0.957702...   \n",
       "436  [-0.46320933  2.2521007  -1.4189593  -1.107957...   \n",
       "437  [ 0.9754951  -0.18156606 -0.5187145  -0.430841...   \n",
       "438  [ 1.6149579  -0.35258603 -2.0588696   0.500028...   \n",
       "439  [ 1.4939862  -0.22700995 -1.998023    0.034995...   \n",
       "440  [ 1.5178338  -0.21838227 -1.9694806   0.446327...   \n",
       "\n",
       "                                            x_pred_std  dist_gt_mean  \\\n",
       "430  [1.2101465  1.0022993  1.3131821  1.4023372  1...    123.361060   \n",
       "431  [0.9612582 0.7214652 1.0807295 1.2091955 1.196...     27.747965   \n",
       "432  [0.80996597 0.47754818 0.9415768  1.0767184  1...      8.095148   \n",
       "433  [1.2551022 1.0622507 1.3298491 1.4210019 1.434...    165.690580   \n",
       "434  [1.2204634  0.87974054 1.2450126  1.3310655  1...    129.883760   \n",
       "435  [1.1933396 0.6607025 1.1575685 1.2334466 1.589...    106.660484   \n",
       "436  [0.9480283  0.4443868  1.1117085  1.2742189  1...     63.882650   \n",
       "437  [1.2386991 1.0373169 1.0876957 1.390054  1.350...    138.339520   \n",
       "438  [1.1136974  1.0172516  1.2996306  1.3601283  1...    167.537250   \n",
       "439  [1.1966835 1.1408304 1.5755197 1.464859  1.618...    159.222050   \n",
       "440  [1.2261035  1.035182   1.6045623  1.4532694  1...    165.849880   \n",
       "\n",
       "     dist_gt_std  dist_sample_mean  dist_sample_std  dist_estimate_mean  \\\n",
       "430    19.308428         12.350277         2.633588           12.794785   \n",
       "431     5.005708          2.775645         0.980968            8.965590   \n",
       "432     0.335715          0.807863         0.407285           12.022683   \n",
       "433    24.314410         16.578310         3.194215           15.690104   \n",
       "434    18.322557         13.007171         2.639495            7.221627   \n",
       "435    15.128628         10.684113         2.336683            0.416513   \n",
       "436     9.702874          6.396645         1.674591           10.879135   \n",
       "437    21.856682         13.836873         2.864978           15.857097   \n",
       "438    22.803680         16.646448         2.835982           15.673712   \n",
       "439    22.605738         16.004494         2.662135           14.952102   \n",
       "440    21.669924         16.619490         2.657741           15.560970   \n",
       "\n",
       "     dist_estimate_std  r_gt_estimate  mse_gt_estimate  c2st  \n",
       "430           3.212799       0.364763      12562.74700   NaN  \n",
       "431           2.938405      -0.022683        387.13284   NaN  \n",
       "432           1.123166      -0.309322         17.03285   NaN  \n",
       "433           3.729531       0.681824      22981.53300   NaN  \n",
       "434           2.802953       0.537423      15334.34100   NaN  \n",
       "435           0.348877      -0.062573      11517.41800   NaN  \n",
       "436           3.120982       0.378669       2890.31710   NaN  \n",
       "437           4.399594       0.450613      15412.31300   NaN  \n",
       "438           2.745912       0.719075      23491.27500   NaN  \n",
       "439           2.712493       0.696851      21238.07200   NaN  \n",
       "440           2.645443       0.719672      22972.94500   NaN  "
      ]
     },
     "execution_count": 189,
     "metadata": {},
     "output_type": "execute_result"
    }
   ],
   "source": []
  },
  {
   "cell_type": "code",
   "execution_count": null,
   "id": "a0cece1e-c759-4372-bee8-bf7910885bc8",
   "metadata": {},
   "outputs": [],
   "source": []
  },
  {
   "cell_type": "code",
   "execution_count": null,
   "id": "299210cc-91ca-4381-a695-cbef9e368a21",
   "metadata": {},
   "outputs": [],
   "source": []
  },
  {
   "cell_type": "code",
   "execution_count": null,
   "id": "0bca677a-dc17-468e-882a-d2328f6c2057",
   "metadata": {},
   "outputs": [],
   "source": []
  },
  {
   "cell_type": "code",
   "execution_count": null,
   "id": "44e44e23-0f40-4a6d-9f2a-34ba8e657dcb",
   "metadata": {},
   "outputs": [],
   "source": []
  },
  {
   "cell_type": "code",
   "execution_count": null,
   "id": "82a7ca11-53f3-4282-994d-6e4a2181bcf0",
   "metadata": {},
   "outputs": [],
   "source": []
  },
  {
   "cell_type": "code",
   "execution_count": null,
   "id": "55eec3e9-6bd4-449c-9b91-be754169be35",
   "metadata": {},
   "outputs": [],
   "source": []
  },
  {
   "cell_type": "code",
   "execution_count": 3,
   "id": "4c1c82d1-b043-449c-be0d-21fe9968fbff",
   "metadata": {},
   "outputs": [],
   "source": [
    "gt_dir = \"../results/benchmark/ground_truths/\"\n",
    "inference_dir = \"../results/benchmark/algorithms/\"\n",
    "xo_dir = \"../gbi/benchmark/tasks/\"\n",
    "\n",
    "inference_dir = \"../results/benchmark/algorithms/\"\n",
    "task_classes = {\n",
    "    \"uniform_1d\": UniformNoise1D,\n",
    "    \"two_moons\": TwoMoonsGBI,\n",
    "    \"linear_gaussian\": LinearGaussian,\n",
    "    \"gaussian_mixture\": GaussianMixture\n",
    "}\n",
    "\n",
    "# task_betas = {\n",
    "#     \"uniform_1d\": [\"4\",\"20\",\"100\"],\n",
    "#     \"two_moons\": [\"10\",\"100\",\"1000\"],\n",
    "#     \"linear_gaussian\": [\"0.1\",\"1.0\",\"10.0\"],\n",
    "#     \"gaussian_mixture\": [\"2.0\",\"10.0\",\"50.0\"],    \n",
    "# }\n",
    "\n",
    "algos = ['GBI', 'NPE', 'NLE']"
   ]
  },
  {
   "cell_type": "code",
   "execution_count": 10,
   "id": "09075159-a2c9-4d5b-b4a8-c4519ec2a259",
   "metadata": {},
   "outputs": [],
   "source": [
    "# load xo, gt posterior samples, and inference samples\n",
    "task_name = \"uniform_1d\"\n",
    "if task_name == \"gaussian_mixture\":\n",
    "    distance_func = distances.mmd_dist\n",
    "else:\n",
    "    distance_func = distances.mse_dist\n",
    "\n",
    "betas = task_betas[task_name]\n",
    "xo_path = f\"{xo_dir}/{task_name}/xos/\"\n",
    "gt_datetime = np.sort(listdir(f\"{gt_dir}/{task_name}/\"))[-1]\n",
    "\n",
    "inference_dir = \"../results/benchmark/algorithms/\"\n",
    "inference_datetime = np.sort(listdir(f\"{inference_dir}/{task_name}/\"))[-1]"
   ]
  },
  {
   "cell_type": "code",
   "execution_count": 11,
   "id": "7234c949-b87d-418a-aa0f-74004f14f704",
   "metadata": {},
   "outputs": [],
   "source": [
    "xo_combs = [range(10), ['specified', 'misspecified'], ['known', 'unknown']]\n",
    "xo_info_combs = list(itertools.product(*xo_combs))"
   ]
  },
  {
   "cell_type": "code",
   "execution_count": 32,
   "id": "c5249aac-436d-4c12-89ae-db36d6a5a621",
   "metadata": {},
   "outputs": [],
   "source": [
    "posterior_samples_collected = []\n",
    "\n",
    "\n",
    "for xo_info in xo_info_combs:\n",
    "    # load xos and gt theta\n",
    "    with open(f\"{xo_path}/xo_{xo_info[1]}_{xo_info[2]}.pkl\", 'rb') as handle:\n",
    "        xos = pickle.load(handle)\n",
    "\n",
    "    if xo_info[1]=='specified':\n",
    "        with open(f\"{xo_path}/theta_gt_{xo_info[2]}.pkl\", 'rb') as handle:\n",
    "            theta_gt = pickle.load(handle)\n",
    "    else:\n",
    "        theta_gt = torch.ones_like(xos)*torch.nan\n",
    "\n",
    "    xo = xos[xo_info[0]]\n",
    "    theta = theta_gt[xo_info[0]]\n",
    "\n",
    "    # load gt posterior samples\n",
    "    posterior_samples = {}\n",
    "\n",
    "    # Take the latest run\n",
    "    posterior_samples['GT'] = {}\n",
    "    for beta in betas:\n",
    "        gt_path = f\"{gt_dir}/{task_name}/{gt_datetime}/beta_{beta}/obs_{xo_info[0]}_{xo_info[1]}_{xo_info[2]}\"\n",
    "        with open(gt_path + \"/rejection_samples.pkl\", \"rb\") as handle:\n",
    "            posterior_samples['GT'][f\"beta_{beta}\"] = pickle.load(handle)\n",
    "\n",
    "\n",
    "    # load inference samples\n",
    "    for algo in algos:\n",
    "        posterior_dir = f\"{inference_dir}/{task_name}/{inference_datetime}/{algo}/posterior_inference/\"    \n",
    "        if algo == \"GBI\":\n",
    "            with open(f\"{inference_dir}/{task_name}/{inference_datetime}/{algo}/inference.pickle\", 'rb') as handle:\n",
    "                gbi_inference = pickle.load(handle)\n",
    "\n",
    "        # Take the latest run\n",
    "        if path.isdir(posterior_dir):\n",
    "            posterior_datetime = np.sort(listdir(posterior_dir))[-1]\n",
    "            # print(algo)\n",
    "            posterior_samples[algo] = {}\n",
    "\n",
    "            for beta in betas:\n",
    "                ps_path = f\"{posterior_dir}/{posterior_datetime}/beta_{beta}/obs_{xo_info[0]}_{xo_info[1]}_{xo_info[2]}/posterior_samples.pkl\"\n",
    "                # print(ps_path)\n",
    "                if path.exists(ps_path):\n",
    "                    # posterior sample exists, load\n",
    "                    with open(ps_path, 'rb') as handle:\n",
    "                        if algo == \"GBI\":\n",
    "                            posterior_samples[algo][f\"beta_{beta}\"] = pickle.load(handle)                    \n",
    "                        else:\n",
    "                            posterior_samples[algo] = pickle.load(handle)\n",
    "                # else:\n",
    "                    # print(f\"{ps_path} does not exist.\")\n",
    "\n",
    "    posterior_samples_collected.append([xo_info, {\"xo\": xo, \"theta_gt\": theta,}, posterior_samples])"
   ]
  },
  {
   "cell_type": "code",
   "execution_count": null,
   "id": "c64f5407-6f71-4c8e-bef8-25405c9ad8d3",
   "metadata": {},
   "outputs": [],
   "source": []
  },
  {
   "cell_type": "code",
   "execution_count": 2,
   "id": "15ceaa3d-6c63-4aec-9f50-653545a75e18",
   "metadata": {},
   "outputs": [],
   "source": [
    "inference_dir = \"../results/benchmark/algorithms/\"\n",
    "task_classes = {\n",
    "    \"uniform_1d\": UniformNoise1D,\n",
    "    \"two_moons\": TwoMoonsGBI,\n",
    "    \"linear_gaussian\": LinearGaussian,\n",
    "    \"gaussian_mixture\": GaussianMixture\n",
    "}\n"
   ]
  },
  {
   "cell_type": "code",
   "execution_count": 3,
   "id": "87ad9524-ae80-45b6-98b9-d4e4c9099312",
   "metadata": {},
   "outputs": [],
   "source": [
    "task_name = 'uniform_1d'\n",
    "posterior_samples_collected = gbi_utils.pickle_load(f'../results/benchmark/algorithms/{task_name}/2023_02_06__19_18_26/posterior_samples_all.pkl')\n",
    "if task_name == \"gaussian_mixture\":\n",
    "    distance_func = distances.mmd_dist\n",
    "else:\n",
    "    distance_func = distances.mse_dist\n",
    "\n",
    "inference_dir = \"../results/benchmark/algorithms/\"\n",
    "inference_datetime = np.sort(listdir(f\"{inference_dir}/{task_name}/\"))[-1]\n",
    "\n",
    "gbi_inference = gbi_utils.pickle_load(f\"{inference_dir}/{task_name}/{inference_datetime}/GBI/inference.pickle\")"
   ]
  },
  {
   "cell_type": "code",
   "execution_count": 6,
   "id": "0519fb39-0f4d-4fda-8d00-3b79b2260f04",
   "metadata": {},
   "outputs": [],
   "source": [
    "# metrics to compute\n",
    "\n",
    "## GBI evals:\n",
    "# C2ST against GT posterior \n",
    "# posterior moments mean / std\n",
    "# distance estimate vs. true distance (i.e., task.distance_fn)\n",
    "\n",
    "\n",
    "## all alg evals\n",
    "# posterior predictive distance mean / std\n",
    "\n"
   ]
  },
  {
   "cell_type": "code",
   "execution_count": 7,
   "id": "d5d35029-0aee-4448-b21d-07245c6af8a4",
   "metadata": {},
   "outputs": [],
   "source": [
    "def compute_predictives(theta_samples, task, distance_fn_empirical, inference_obj=None):\n",
    "    predictives = {}\n",
    "    predictives['theta'] = theta_samples\n",
    "    # simulate posterior predictives\n",
    "    predictives['x_pred'] = task.simulate(theta_samples)\n",
    "    \n",
    "    # compute posterior predictive distances\n",
    "    predictives['dist_gt'] = task.distance_fn(theta_samples) # true average distance\n",
    "    predictives['dist_sample'] = distance_fn_empirical(predictives['x_pred'][:,None,:], task.x_o[None,None,:]) # sample-based estimate\n",
    "    if inference_obj:\n",
    "        with torch.no_grad():\n",
    "            predictives['dist_estimate'] = inference_obj.distance_net(theta_samples, task.x_o.repeat((theta_samples.shape[0], 1))).squeeze(1)\n",
    "            # predictives['dist_estimate'] = inference_obj.predict_distance(theta_samples, task.x_o) # doesn't exist yet\n",
    "    else: \n",
    "        predictives['dist_estimate'] = None\n",
    "    return predictives\n",
    "\n",
    "def compute_moments(predictives):\n",
    "    summaries = {}\n",
    "    for k,v in predictives.items():\n",
    "        summaries[f\"{k}_mean\"], summaries[f\"{k}_std\"] = v.mean(0), v.std(0)\n",
    "\n",
    "    # compute correlation and error between true and estimated distances\n",
    "    # summaries['r_gt_estimate'], _ = torch.Tensor(stats.pearsonr(predictives['dist_gt'], predictives['dist_estimate']))\n",
    "    summaries['r_gt_estimate'] = torch.corrcoef(torch.vstack((predictives['dist_gt'], predictives['dist_estimate'])))[0,1]\n",
    "    summaries['mse_gt_estimate'] = ((predictives['dist_gt']-predictives['dist_estimate'])**2).mean()\n",
    "    return summaries\n",
    "\n",
    "\n",
    "\n",
    "# c2st = C2ST(posterior_samples['GT'][f'beta_{beta}'], posterior_samples['GBI'][f'beta_{beta}'])\n",
    "# print(c2st)\n"
   ]
  },
  {
   "cell_type": "code",
   "execution_count": null,
   "id": "453c8b7b-47a9-4d4f-a76b-01ecb4a2d139",
   "metadata": {},
   "outputs": [
    {
     "name": "stdout",
     "output_type": "stream",
     "text": [
      "0|1|2|3|4|5|6|7|8|"
     ]
    }
   ],
   "source": [
    "df_collect = []\n",
    "for i_x in range(len(posterior_samples_collected)):\n",
    "    print(i_x, end='|')\n",
    "    xo_info, xo_theta, posterior_samples = posterior_samples_collected[i_x]\n",
    "    xo, theta_gt = xo_theta['xo'], xo_theta['theta_gt']\n",
    "\n",
    "    for alg, samples_alg in posterior_samples.items():\n",
    "        for beta_str, samples in samples_alg.items():\n",
    "            beta = float(beta_str.split('_')[-1])\n",
    "            task = task_classes[task_name](beta=beta, x_o=xo)            \n",
    "\n",
    "            # compute predictives and summary\n",
    "            predictives = compute_predictives(samples, task, distance_func, gbi_inference)\n",
    "            summary = compute_moments(predictives)\n",
    "            df_summary = pd.DataFrame(summary, dtype=float)\n",
    "\n",
    "            # compute C2ST against GT GBI posterior if it's a GBI algorithm\n",
    "            df_summary['c2st'] = torch.nan\n",
    "            if 'GBI' in alg:\n",
    "                df_summary['c2st'] = C2ST(samples, posterior_samples['GT'][beta_str])\n",
    "\n",
    "            df_info = pd.DataFrame([[task_name, *xo_info, alg, beta]], columns=['task', 'xo_idx', 'xo_specified', 'xo_known', 'algorithm', 'beta'])\n",
    "\n",
    "            df_collect.append(pd.concat((df_info, df_summary), axis=1))"
   ]
  },
  {
   "cell_type": "code",
   "execution_count": 12,
   "id": "3a74d710-06cf-4533-84ff-84f6076bc9fd",
   "metadata": {},
   "outputs": [],
   "source": [
    "# df_summaries = pd.concat(df_collect, ignore_index=True)\n",
    "# df_summaries\n",
    "\n"
   ]
  },
  {
   "cell_type": "code",
   "execution_count": 13,
   "id": "22bb2054-e407-47ce-99b9-2826c46cf95b",
   "metadata": {},
   "outputs": [],
   "source": [
    "df_summaries = pd.read_csv(f\"{inference_dir}/{task_name}/{inference_datetime}/comparison_summaries.csv\", index_col=0)\n",
    "betas = df_summaries[df_summaries['algorithm']=='GT']['beta'].unique()"
   ]
  },
  {
   "cell_type": "code",
   "execution_count": 14,
   "id": "601fc240-4d85-432d-a272-859deb2c1194",
   "metadata": {},
   "outputs": [
    {
     "data": {
      "image/png": "[encoded data removed]",
      "text/plain": [
       "<Figure size 864x216 with 4 Axes>"
      ]
     },
     "metadata": {
      "needs_background": "light"
     },
     "output_type": "display_data"
    }
   ],
   "source": [
    "plt.figure(figsize=(12,3))\n",
    "\n",
    "for i_s, specified in enumerate(['specified', 'misspecified']):\n",
    "    for i_k, known in enumerate(['known', 'unknown']):\n",
    "        plt.subplot(1,4,i_s*2+i_k+1)            \n",
    "        for xo in range(10):\n",
    "            df_cur = df_summaries[(df_summaries['xo_idx']==xo)&(df_summaries['xo_specified']==specified)&(df_summaries['xo_known']==known)]\n",
    "            \n",
    "            # plt.plot(df_cur['beta'], df_cur['c2st'], '.', color=f\"C{i_s*2+i_k}\")\n",
    "            \n",
    "            # plt.axhline(0.5, alpha=0.01, color='k')\n",
    "            # plt.ylim([0.4,1])\n",
    "            # plt.xticks(df_cur[df_cur['algorithm']=='GBI']['beta'].unique())\n",
    "            \n",
    "            for i_, i_b in enumerate([3,4,5]):\n",
    "                plt.plot(df_cur['dist_sample_mean'].iloc[-1], df_cur['dist_sample_mean'].iloc[i_b], 'o', color=f\"C{i_}\")\n",
    "                # plt.errorbar(df_cur['dist_sample_mean'].iloc[-1], df_cur['dist_sample_mean'].iloc[i_b], xerr=df_cur['dist_sample_std'].iloc[-1], yerr=df_cur['dist_sample_std'].iloc[i_b], color=f\"C{i_}\", alpha=0.1)\n",
    "        \n",
    "        XL = [0,plt.ylim()[1]]\n",
    "        plt.plot(XL, XL, 'k--', alpha=0.1)            \n",
    "        plt.title(f\"{specified}, {known}\")\n",
    "        plt.xticks(XL);plt.yticks(XL);\n",
    "        plt.xlabel('NPE'); plt.ylabel('GBI')\n",
    "        # plt.xscale('log');plt.yscale('log')\n",
    "\n",
    "plt.legend(betas)\n",
    "plt.tight_layout()\n",
    "\n",
    "\n",
    "\n",
    "# df_summaries[(df_summaries['xo_idx']==xo)&(df_summaries['xo_specified']==specified)&(df_summaries['xo_known']==known)]"
   ]
  },
  {
   "cell_type": "code",
   "execution_count": 46,
   "id": "b47aed63-cd46-473a-b1d5-3aef11b1b8d0",
   "metadata": {},
   "outputs": [
    {
     "data": {
      "image/png": "[encoded data removed]",
      "text/plain": [
       "<Figure size 432x288 with 1 Axes>"
      ]
     },
     "metadata": {
      "needs_background": "light"
     },
     "output_type": "display_data"
    }
   ],
   "source": [
    "\n",
    "for i_b in [3,4,5]:\n",
    "    plt.plot(df_cur['dist_sample_mean'].iloc[i_b], df_cur['dist_sample_mean'].iloc[-1], 'o')\n"
   ]
  },
  {
   "cell_type": "code",
   "execution_count": null,
   "id": "913087e2-3b30-4ac2-92b2-70a43e8dc17e",
   "metadata": {},
   "outputs": [],
   "source": [
    "task = task_classes[task_name](beta=float(beta), x_o=xo)\n",
    "compute_predictives(posterior_samples['NPE'], task, distance_func, gbi_inference)"
   ]
  },
  {
   "cell_type": "code",
   "execution_count": 45,
   "id": "b12bbda3-e0ec-494e-a765-13362d207155",
   "metadata": {},
   "outputs": [
    {
     "name": "stdout",
     "output_type": "stream",
     "text": [
      "theta\n",
      "x_pred\n",
      "dist_gt\n",
      "dist_sample\n",
      "dist_estimate\n",
      "tensor(0.5937) tensor(0.0002)\n"
     ]
    },
    {
     "data": {
      "image/png": "[encoded data removed]",
      "text/plain": [
       "<Figure size 288x432 with 2 Axes>"
      ]
     },
     "metadata": {
      "needs_background": "light"
     },
     "output_type": "display_data"
    }
   ],
   "source": [
    "i_x = 0\n",
    "xo_info, xo_theta, posterior_samples = posterior_samples_collected[i_x]\n",
    "xo, theta_gt = xo_theta['xo'], xo_theta['theta_gt']\n",
    "\n",
    "betas = [b.split('_')[-1] for b in posterior_samples['GT'].keys()]\n",
    "df_info = pd.DataFrame([[task_name, *xo_info, xo, theta_gt]], columns=['task', 'xo_idx', 'xo_specified', 'xo_known', 'xo', 'theta_gt'])\n",
    "\n",
    "\n",
    "\n",
    "\n",
    "\n",
    "for b_idx, beta in enumerate(betas):\n",
    "    task = task_classes[task_name](beta=float(beta), x_o=xo)\n",
    "\n",
    "\n",
    "\n",
    "\n",
    "# get GT predictives\n",
    "predictives_gt = compute_predictives(posterior_samples['GT'][f'beta_{beta}'], task, distance_func, gbi_inference)\n",
    "\n",
    "# get GBI predictives\n",
    "predictives_alg = compute_predictives(posterior_samples['GBI'][f'beta_{beta}'], task, distance_func, gbi_inference)\n",
    "\n",
    "\n",
    "\n",
    "summaries_alg = compute_moments(predictives_alg)\n",
    "\n",
    "\n",
    "\n",
    "# # grab GT posterior samples\n",
    "# theta_posterior_gt = posterior_samples['GT'][f'beta_{beta}']\n",
    "# theta_gt_mean, theta_gt_std = theta_posterior_gt.mean(0), theta_posterior_gt.std(0)\n",
    "# x_pred_gt = task.simulate(theta_posterior_gt)\n",
    "# dist_pred_gt = task.distance_fn(theta_posterior_gt)\n",
    "\n",
    "\n",
    "\n",
    "# # compute metrics\n",
    "\n",
    "\n",
    "# theta_posterior_alg = posterior_samples['GBI'][f'beta_{beta}']\n",
    "\n",
    "\n",
    "# # ---C2ST\n",
    "# # c2st = C2ST(theta_gt_posterior, theta_posterior)\n",
    "\n",
    "# # ---posterior moments\n",
    "\n",
    "# theta_alg_mean, theta_alg_std = theta_posterior_alg.mean(0), theta_posterior_alg.std(0)\n",
    "\n",
    "# # posterior predicitive samples\n",
    "\n",
    "# x_pred_alg = task.simulate(theta_posterior_alg)\n",
    "\n",
    "# # posterior predicitive distances\n",
    "# dist_pred_true = task.distance_fn(theta_posterior_alg)\n",
    "\n",
    "# dist_pred_samples = distance_func(x_pred_alg[:,None,:], xo[None,None,:])\n",
    "# with torch.no_grad():\n",
    "#     dist_pred_alg = gbi_inference.distance_net(theta_posterior_alg, xo.repeat((theta_posterior_alg.shape[0], 1))).squeeze(1)\n",
    "\n",
    "\n",
    "# r, pv = stats.pearsonr(dist_pred_true, dist_pred_alg)\n",
    "# dist_error = ((dist_pred_true-dist_pred_alg)**2).mean()**0.5\n",
    "\n",
    "# dist_pred_samples_mean, dist_pred_samples_std = dist_pred_samples.mean(), dist_pred_samples.std()\n",
    "\n",
    "\n",
    "\n",
    "plt.figure(figsize=(4,6))\n",
    "plt.subplot(2,1,1)\n",
    "plt.plot(predictives_alg['theta'], predictives_alg['dist_sample'], 'k.', alpha=0.1, ms=2)\n",
    "plt.plot(predictives_alg['theta'], predictives_alg['dist_gt'], '.', alpha=0.1)\n",
    "plt.plot(predictives_gt['theta'], predictives_gt['dist_gt'], '.', alpha=0.1)\n",
    "plt.plot(predictives_alg['theta'], predictives_alg['dist_estimate'], '.', alpha=0.1)\n",
    "\n",
    "plt.subplot(2,1,2)\n",
    "plt.hist(predictives_alg['theta'].squeeze(), 50, histtype='step');\n",
    "plt.hist(predictives_gt['theta'].squeeze(), 50, histtype='step');\n",
    "plt.axvline(theta_gt.squeeze())\n",
    "plt.tight_layout()\n",
    "print(summaries_alg['r_gt_estimate'], summaries_alg['mse_gt_estimate'])"
   ]
  },
  {
   "cell_type": "code",
   "execution_count": 16,
   "id": "cf96d351-5414-41ae-94e6-56faefae5abf",
   "metadata": {},
   "outputs": [
    {
     "data": {
      "text/html": [
       "<div>\n",
       "<style scoped>\n",
       "    .dataframe tbody tr th:only-of-type {\n",
       "        vertical-align: middle;\n",
       "    }\n",
       "\n",
       "    .dataframe tbody tr th {\n",
       "        vertical-align: top;\n",
       "    }\n",
       "\n",
       "    .dataframe thead th {\n",
       "        text-align: right;\n",
       "    }\n",
       "</style>\n",
       "<table border=\"1\" class=\"dataframe\">\n",
       "  <thead>\n",
       "    <tr style=\"text-align: right;\">\n",
       "      <th></th>\n",
       "      <th>theta_mean</th>\n",
       "      <th>theta_std</th>\n",
       "      <th>x_pred_mean</th>\n",
       "      <th>x_pred_std</th>\n",
       "      <th>dist_gt_mean</th>\n",
       "      <th>dist_gt_std</th>\n",
       "      <th>dist_sample_mean</th>\n",
       "      <th>dist_sample_std</th>\n",
       "      <th>dist_estimate_mean</th>\n",
       "      <th>dist_estimate_std</th>\n",
       "      <th>r_gt_estimate</th>\n",
       "      <th>mse_gt_estimate</th>\n",
       "    </tr>\n",
       "  </thead>\n",
       "  <tbody>\n",
       "    <tr>\n",
       "      <th>0</th>\n",
       "      <td>-0.245922</td>\n",
       "      <td>0.88421</td>\n",
       "      <td>-0.160713</td>\n",
       "      <td>0.207665</td>\n",
       "      <td>0.287423</td>\n",
       "      <td>0.174246</td>\n",
       "      <td>0.28896</td>\n",
       "      <td>0.230889</td>\n",
       "      <td>0.256106</td>\n",
       "      <td>0.166522</td>\n",
       "      <td>0.952436</td>\n",
       "      <td>0.0038</td>\n",
       "    </tr>\n",
       "  </tbody>\n",
       "</table>\n",
       "</div>"
      ],
      "text/plain": [
       "   theta_mean  theta_std  x_pred_mean  x_pred_std  dist_gt_mean  dist_gt_std  \\\n",
       "0   -0.245922    0.88421    -0.160713    0.207665      0.287423     0.174246   \n",
       "\n",
       "   dist_sample_mean  dist_sample_std  dist_estimate_mean  dist_estimate_std  \\\n",
       "0           0.28896         0.230889            0.256106           0.166522   \n",
       "\n",
       "   r_gt_estimate  mse_gt_estimate  \n",
       "0       0.952436           0.0038  "
      ]
     },
     "execution_count": 16,
     "metadata": {},
     "output_type": "execute_result"
    }
   ],
   "source": [
    "pd.DataFrame(summaries_alg, dtype=float)"
   ]
  },
  {
   "cell_type": "code",
   "execution_count": 3,
   "id": "85dce5b6-dbcf-47dc-a4d9-3c4810825643",
   "metadata": {},
   "outputs": [],
   "source": [
    "# %matplotlib inline\n",
    "# import matplotlib.pyplot as plt\n",
    "\n",
    "# import pickle\n",
    "# import os\n",
    "# import torch\n",
    "# from torch import Tensor\n",
    "# import numpy as np\n",
    "# import time\n",
    "\n",
    "# import hydra\n",
    "# from omegaconf import DictConfig, OmegaConf\n",
    "# from hydra.utils import get_original_cwd, to_absolute_path\n",
    "\n",
    "# import logging\n",
    "\n",
    "# from sbi.inference import MCMCPosterior\n",
    "# from sbi.utils import mcmc_transform\n",
    "# from sbi.utils.metrics import c2st as C2ST\n",
    "\n",
    "# from pathlib import Path\n",
    "\n",
    "# # Algorithm imports.\n",
    "# from sbi.inference import SNPE, SNLE, likelihood_estimator_based_potential\n",
    "# from gbi.GBI import GBInference\n",
    "# import gbi.utils.utils as gbi_utils\n",
    "\n",
    "# # Task imports.\n",
    "# from gbi.benchmark.tasks.uniform_1d.task import UniformNoise1D\n",
    "# from gbi.benchmark.tasks.two_moons.task import TwoMoonsGBI\n",
    "# from gbi.benchmark.tasks.linear_gaussian.task import LinearGaussian\n",
    "# from gbi.benchmark.tasks.gaussian_mixture.task import GaussianMixture\n",
    "# from gbi import distances\n",
    "\n",
    "# import pandas as pd"
   ]
  },
  {
   "cell_type": "code",
   "execution_count": 10,
   "id": "1f4577c7-8932-4b7e-b45d-98dc49706487",
   "metadata": {},
   "outputs": [],
   "source": [
    "def sample_GBI(inference, x_o, beta, task, n_samples=10_000):\n",
    "    potential_fn = inference.get_potential(x_o=x_o, beta=beta)\n",
    "    theta_transform = mcmc_transform(task.prior)\n",
    "    posterior = MCMCPosterior(\n",
    "            potential_fn,\n",
    "            theta_transform=theta_transform,\n",
    "            proposal=task.prior,\n",
    "            method=\"slice_np_vectorized\",\n",
    "            thin=10,\n",
    "            warmup_steps=50,\n",
    "            num_chains=100,\n",
    "            init_strategy=\"resample\",\n",
    "        )\n",
    "    posterior_samples = posterior.sample((n_samples,))\n",
    "    return posterior_samples\n",
    "\n",
    "def sample_NPE(inference, x_o, task, n_samples=10_000):\n",
    "    return inference.build_posterior(prior=task.prior).set_default_x(x_o).sample((n_samples,))\n",
    "\n",
    "# inference_nle = gbi_utils.pickle_load(inference_folder + f'NLE.pickle')\n",
    "# def sample_NLE(inference, x_o, beta, task, n_samples=10_000):\n",
    "#     potential_fn, parameter_transform = likelihood_estimator_based_potential(\n",
    "#     inference_nle._neural_net, task.prior, x_o\n",
    "#     )\n",
    "#     potential_fn = inference.get_potential(x_o=x_o, beta=beta)\n",
    "#     theta_transform = mcmc_transform(task.prior)\n",
    "#     posterior = MCMCPosterior(\n",
    "#             potential_fn,\n",
    "#             theta_transform=theta_transform,\n",
    "#             proposal=task.prior,\n",
    "#             method=\"slice_np_vectorized\",\n",
    "#             thin=10,\n",
    "#             warmup_steps=50,\n",
    "#             num_chains=100,\n",
    "#             init_strategy=\"resample\",\n",
    "#         )\n",
    "#     posterior_samples = posterior.sample((n_samples,))\n",
    "#     return posterior_samples"
   ]
  },
  {
   "cell_type": "code",
   "execution_count": 9,
   "id": "1ca4d0fb-857e-4f02-9093-0bc4a43488eb",
   "metadata": {},
   "outputs": [
    {
     "data": {
      "text/plain": [
       "<sbi.inference.snpe.snpe_c.SNPE_C at 0x7f2dcb4f1970>"
      ]
     },
     "execution_count": 9,
     "metadata": {},
     "output_type": "execute_result"
    }
   ],
   "source": [
    "de = posterior_nn(\"nsf\", prior=prior, sigmoid_theta=True)\n",
    "inference = SNPE(prior=prior, density_estimator=de)"
   ]
  },
  {
   "cell_type": "code",
   "execution_count": 13,
   "id": "59fc1352-4dc1-42a5-bba7-d139ab8f52de",
   "metadata": {},
   "outputs": [
    {
     "name": "stdout",
     "output_type": "stream",
     "text": [
      "../gbi/benchmark/run_algorithms//../tasks/two_moons/\n"
     ]
    }
   ],
   "source": [
    "task_name = \"two_moons\"\n",
    "seed = 0\n",
    "# is_specified = 'specified'\n",
    "# is_known = 'known'\n",
    "# xo_idx = 0\n",
    "# beta = 4\n",
    "betas = [10, 100, 1000]\n",
    "n_posterior_samples = 10_000\n",
    "\n",
    "# Get high-level path.\n",
    "# dir_path = get_original_cwd()\n",
    "\n",
    "dir_path = '../gbi/benchmark/run_algorithms/'\n",
    "full_path_prepend = f\"{dir_path}/../tasks/{task_name}/\"\n",
    "print(full_path_prepend)\n",
    "\n",
    "# Get inference directory.\n",
    "inference_folder = full_path_prepend + \"/trained_inference/\"    \n",
    "\n",
    "# Get observation directory.\n",
    "observation_folder = full_path_prepend + \"/xos/\"\n",
    "\n",
    "# Get GT sample directory.\n",
    "# gt_folder = f'../results/benchmark/ground_truths/{task_name}/2023_01_23__17_34_09/'\n",
    "gt_folder = '/mnt/slurm_mnt/neuralgbi/results/benchmark/ground_truths/two_moons/2023_01_24__00_56_40/'"
   ]
  },
  {
   "cell_type": "code",
   "execution_count": null,
   "id": "b13b63b2-c9fd-460a-ae85-b6f07cfe5b31",
   "metadata": {},
   "outputs": [
    {
     "data": {
      "application/vnd.jupyter.widget-view+json": {
       "model_id": "83e1ee2a69164ca9a54c6b1d9771c97b",
       "version_major": 2,
       "version_minor": 0
      },
      "text/plain": [
       "Running vectorized MCMC with 100 chains:   0%|          | 0/150000 [00:00<?, ?it/s]"
      ]
     },
     "metadata": {},
     "output_type": "display_data"
    },
    {
     "data": {
      "application/vnd.jupyter.widget-view+json": {
       "model_id": "fff9e73265c1410288b1b0fc4111c502",
       "version_major": 2,
       "version_minor": 0
      },
      "text/plain": [
       "Running vectorized MCMC with 100 chains:   0%|          | 0/150000 [00:00<?, ?it/s]"
      ]
     },
     "metadata": {},
     "output_type": "display_data"
    },
    {
     "data": {
      "application/vnd.jupyter.widget-view+json": {
       "model_id": "515a81df20874125a4398a092872d473",
       "version_major": 2,
       "version_minor": 0
      },
      "text/plain": [
       "Running vectorized MCMC with 100 chains:   0%|          | 0/150000 [00:00<?, ?it/s]"
      ]
     },
     "metadata": {},
     "output_type": "display_data"
    },
    {
     "data": {
      "application/vnd.jupyter.widget-view+json": {
       "model_id": "0bd560218eee44ca8af407707ea467b2",
       "version_major": 2,
       "version_minor": 0
      },
      "text/plain": [
       "Running vectorized MCMC with 100 chains:   0%|          | 0/150000 [00:00<?, ?it/s]"
      ]
     },
     "metadata": {},
     "output_type": "display_data"
    },
    {
     "data": {
      "application/vnd.jupyter.widget-view+json": {
       "model_id": "2f6d821f20104a76a17f40c2f8cf37ca",
       "version_major": 2,
       "version_minor": 0
      },
      "text/plain": [
       "Running vectorized MCMC with 100 chains:   0%|          | 0/150000 [00:00<?, ?it/s]"
      ]
     },
     "metadata": {},
     "output_type": "display_data"
    },
    {
     "data": {
      "application/vnd.jupyter.widget-view+json": {
       "model_id": "25e6f8a313764c4da2ea73aad10638c2",
       "version_major": 2,
       "version_minor": 0
      },
      "text/plain": [
       "Running vectorized MCMC with 100 chains:   0%|          | 0/150000 [00:00<?, ?it/s]"
      ]
     },
     "metadata": {},
     "output_type": "display_data"
    },
    {
     "data": {
      "application/vnd.jupyter.widget-view+json": {
       "model_id": "cc33ee68dd61440ab86f4408ef3b4aa3",
       "version_major": 2,
       "version_minor": 0
      },
      "text/plain": [
       "Running vectorized MCMC with 100 chains:   0%|          | 0/150000 [00:00<?, ?it/s]"
      ]
     },
     "metadata": {},
     "output_type": "display_data"
    },
    {
     "name": "stdout",
     "output_type": "stream",
     "text": [
      "No GT for beta:100, obs:0, misspecified, known\n"
     ]
    },
    {
     "data": {
      "application/vnd.jupyter.widget-view+json": {
       "model_id": "bee04e7bdc8849378e0c4315241c8b48",
       "version_major": 2,
       "version_minor": 0
      },
      "text/plain": [
       "Running vectorized MCMC with 100 chains:   0%|          | 0/150000 [00:00<?, ?it/s]"
      ]
     },
     "metadata": {},
     "output_type": "display_data"
    },
    {
     "data": {
      "application/vnd.jupyter.widget-view+json": {
       "model_id": "a8d33b6208c1455883e7c2cf2cae1949",
       "version_major": 2,
       "version_minor": 0
      },
      "text/plain": [
       "Running vectorized MCMC with 100 chains:   0%|          | 0/150000 [00:00<?, ?it/s]"
      ]
     },
     "metadata": {},
     "output_type": "display_data"
    },
    {
     "name": "stdout",
     "output_type": "stream",
     "text": [
      "No GT for beta:1000, obs:0, specified, known\n"
     ]
    },
    {
     "data": {
      "application/vnd.jupyter.widget-view+json": {
       "model_id": "0321340392954a1a8c0954255ed3330f",
       "version_major": 2,
       "version_minor": 0
      },
      "text/plain": [
       "Running vectorized MCMC with 100 chains:   0%|          | 0/150000 [00:00<?, ?it/s]"
      ]
     },
     "metadata": {},
     "output_type": "display_data"
    },
    {
     "data": {
      "application/vnd.jupyter.widget-view+json": {
       "model_id": "6fefb78ed6664358a8ae907922d28e7d",
       "version_major": 2,
       "version_minor": 0
      },
      "text/plain": [
       "Running vectorized MCMC with 100 chains:   0%|          | 0/150000 [00:00<?, ?it/s]"
      ]
     },
     "metadata": {},
     "output_type": "display_data"
    },
    {
     "name": "stdout",
     "output_type": "stream",
     "text": [
      "No GT for beta:1000, obs:0, misspecified, known\n"
     ]
    },
    {
     "data": {
      "application/vnd.jupyter.widget-view+json": {
       "model_id": "54a2ad5ed9f042a390451c84332fda84",
       "version_major": 2,
       "version_minor": 0
      },
      "text/plain": [
       "Running vectorized MCMC with 100 chains:   0%|          | 0/150000 [00:00<?, ?it/s]"
      ]
     },
     "metadata": {},
     "output_type": "display_data"
    },
    {
     "name": "stdout",
     "output_type": "stream",
     "text": [
      "No GT for beta:1000, obs:0, misspecified, unknown\n"
     ]
    },
    {
     "data": {
      "application/vnd.jupyter.widget-view+json": {
       "model_id": "2b655253bd15489c904f01dc6094a8d3",
       "version_major": 2,
       "version_minor": 0
      },
      "text/plain": [
       "Running vectorized MCMC with 100 chains:   0%|          | 0/150000 [00:00<?, ?it/s]"
      ]
     },
     "metadata": {},
     "output_type": "display_data"
    },
    {
     "data": {
      "application/vnd.jupyter.widget-view+json": {
       "model_id": "81d4fe71b0bf4bea8362f2ee5afc23ee",
       "version_major": 2,
       "version_minor": 0
      },
      "text/plain": [
       "Running vectorized MCMC with 100 chains:   0%|          | 0/150000 [00:00<?, ?it/s]"
      ]
     },
     "metadata": {},
     "output_type": "display_data"
    },
    {
     "data": {
      "application/vnd.jupyter.widget-view+json": {
       "model_id": "1325e65780854f69a1909ddb757f7769",
       "version_major": 2,
       "version_minor": 0
      },
      "text/plain": [
       "Running vectorized MCMC with 100 chains:   0%|          | 0/150000 [00:00<?, ?it/s]"
      ]
     },
     "metadata": {},
     "output_type": "display_data"
    },
    {
     "data": {
      "application/vnd.jupyter.widget-view+json": {
       "model_id": "97e5dbde338a49d68f738e11a047d320",
       "version_major": 2,
       "version_minor": 0
      },
      "text/plain": [
       "Running vectorized MCMC with 100 chains:   0%|          | 0/150000 [00:00<?, ?it/s]"
      ]
     },
     "metadata": {},
     "output_type": "display_data"
    },
    {
     "data": {
      "application/vnd.jupyter.widget-view+json": {
       "model_id": "e75b3293d76844e5ad8a326834e0413a",
       "version_major": 2,
       "version_minor": 0
      },
      "text/plain": [
       "Running vectorized MCMC with 100 chains:   0%|          | 0/150000 [00:00<?, ?it/s]"
      ]
     },
     "metadata": {},
     "output_type": "display_data"
    },
    {
     "data": {
      "application/vnd.jupyter.widget-view+json": {
       "model_id": "ef1fb81c17ad4ff5b44af1d927a01d6e",
       "version_major": 2,
       "version_minor": 0
      },
      "text/plain": [
       "Running vectorized MCMC with 100 chains:   0%|          | 0/150000 [00:00<?, ?it/s]"
      ]
     },
     "metadata": {},
     "output_type": "display_data"
    },
    {
     "data": {
      "application/vnd.jupyter.widget-view+json": {
       "model_id": "21adca61f6d7453a97ab32981713f272",
       "version_major": 2,
       "version_minor": 0
      },
      "text/plain": [
       "Running vectorized MCMC with 100 chains:   0%|          | 0/150000 [00:00<?, ?it/s]"
      ]
     },
     "metadata": {},
     "output_type": "display_data"
    },
    {
     "data": {
      "application/vnd.jupyter.widget-view+json": {
       "model_id": "1a6597fb28e64f5188c5ca783c60e29c",
       "version_major": 2,
       "version_minor": 0
      },
      "text/plain": [
       "Running vectorized MCMC with 100 chains:   0%|          | 0/150000 [00:00<?, ?it/s]"
      ]
     },
     "metadata": {},
     "output_type": "display_data"
    },
    {
     "data": {
      "application/vnd.jupyter.widget-view+json": {
       "model_id": "54810081377247aabbdcef013da2dc81",
       "version_major": 2,
       "version_minor": 0
      },
      "text/plain": [
       "Running vectorized MCMC with 100 chains:   0%|          | 0/150000 [00:00<?, ?it/s]"
      ]
     },
     "metadata": {},
     "output_type": "display_data"
    },
    {
     "data": {
      "application/vnd.jupyter.widget-view+json": {
       "model_id": "d10037140aa548aeaa2057eead69bd24",
       "version_major": 2,
       "version_minor": 0
      },
      "text/plain": [
       "Running vectorized MCMC with 100 chains:   0%|          | 0/150000 [00:00<?, ?it/s]"
      ]
     },
     "metadata": {},
     "output_type": "display_data"
    },
    {
     "name": "stdout",
     "output_type": "stream",
     "text": [
      "No GT for beta:1000, obs:1, specified, unknown\n"
     ]
    },
    {
     "data": {
      "application/vnd.jupyter.widget-view+json": {
       "model_id": "0504b18832bc4f4687899d1265040b99",
       "version_major": 2,
       "version_minor": 0
      },
      "text/plain": [
       "Running vectorized MCMC with 100 chains:   0%|          | 0/150000 [00:00<?, ?it/s]"
      ]
     },
     "metadata": {},
     "output_type": "display_data"
    },
    {
     "data": {
      "application/vnd.jupyter.widget-view+json": {
       "model_id": "32b4b1cb4e274bc3b2972379021e367b",
       "version_major": 2,
       "version_minor": 0
      },
      "text/plain": [
       "Running vectorized MCMC with 100 chains:   0%|          | 0/150000 [00:00<?, ?it/s]"
      ]
     },
     "metadata": {},
     "output_type": "display_data"
    },
    {
     "name": "stdout",
     "output_type": "stream",
     "text": [
      "No GT for beta:1000, obs:1, misspecified, unknown\n"
     ]
    },
    {
     "data": {
      "application/vnd.jupyter.widget-view+json": {
       "model_id": "bff4a18c6a3d45bba440f68812315cb6",
       "version_major": 2,
       "version_minor": 0
      },
      "text/plain": [
       "Running vectorized MCMC with 100 chains:   0%|          | 0/150000 [00:00<?, ?it/s]"
      ]
     },
     "metadata": {},
     "output_type": "display_data"
    },
    {
     "data": {
      "application/vnd.jupyter.widget-view+json": {
       "model_id": "6f4037501259448c8e8a990b97122012",
       "version_major": 2,
       "version_minor": 0
      },
      "text/plain": [
       "Running vectorized MCMC with 100 chains:   0%|          | 0/150000 [00:00<?, ?it/s]"
      ]
     },
     "metadata": {},
     "output_type": "display_data"
    },
    {
     "data": {
      "application/vnd.jupyter.widget-view+json": {
       "model_id": "565c1506acf346ceb0a281eb639dbeb5",
       "version_major": 2,
       "version_minor": 0
      },
      "text/plain": [
       "Running vectorized MCMC with 100 chains:   0%|          | 0/150000 [00:00<?, ?it/s]"
      ]
     },
     "metadata": {},
     "output_type": "display_data"
    },
    {
     "data": {
      "application/vnd.jupyter.widget-view+json": {
       "model_id": "a8f5b7bc5969461489ac5cc6e97eadc3",
       "version_major": 2,
       "version_minor": 0
      },
      "text/plain": [
       "Running vectorized MCMC with 100 chains:   0%|          | 0/150000 [00:00<?, ?it/s]"
      ]
     },
     "metadata": {},
     "output_type": "display_data"
    },
    {
     "data": {
      "application/vnd.jupyter.widget-view+json": {
       "model_id": "b7e0c221bb4548d49c80a09d4e06df7c",
       "version_major": 2,
       "version_minor": 0
      },
      "text/plain": [
       "Running vectorized MCMC with 100 chains:   0%|          | 0/150000 [00:00<?, ?it/s]"
      ]
     },
     "metadata": {},
     "output_type": "display_data"
    },
    {
     "data": {
      "application/vnd.jupyter.widget-view+json": {
       "model_id": "a22ab00ebe0141beb21d3e8f06908162",
       "version_major": 2,
       "version_minor": 0
      },
      "text/plain": [
       "Running vectorized MCMC with 100 chains:   0%|          | 0/150000 [00:00<?, ?it/s]"
      ]
     },
     "metadata": {},
     "output_type": "display_data"
    },
    {
     "name": "stdout",
     "output_type": "stream",
     "text": [
      "No GT for beta:100, obs:2, misspecified, known\n"
     ]
    },
    {
     "data": {
      "application/vnd.jupyter.widget-view+json": {
       "model_id": "64ace82e90344b7ea94f276df0ee2773",
       "version_major": 2,
       "version_minor": 0
      },
      "text/plain": [
       "Running vectorized MCMC with 100 chains:   0%|          | 0/150000 [00:00<?, ?it/s]"
      ]
     },
     "metadata": {},
     "output_type": "display_data"
    },
    {
     "data": {
      "application/vnd.jupyter.widget-view+json": {
       "model_id": "bcdadfaf6fb941ff829f99d45ca64872",
       "version_major": 2,
       "version_minor": 0
      },
      "text/plain": [
       "Running vectorized MCMC with 100 chains:   0%|          | 0/150000 [00:00<?, ?it/s]"
      ]
     },
     "metadata": {},
     "output_type": "display_data"
    },
    {
     "name": "stdout",
     "output_type": "stream",
     "text": [
      "No GT for beta:1000, obs:2, specified, known\n"
     ]
    },
    {
     "data": {
      "application/vnd.jupyter.widget-view+json": {
       "model_id": "e9bbce163f524cc1ba0a760ce92bc5b3",
       "version_major": 2,
       "version_minor": 0
      },
      "text/plain": [
       "Running vectorized MCMC with 100 chains:   0%|          | 0/150000 [00:00<?, ?it/s]"
      ]
     },
     "metadata": {},
     "output_type": "display_data"
    },
    {
     "data": {
      "application/vnd.jupyter.widget-view+json": {
       "model_id": "58ef8cefd4d94072944e9e53e674fd89",
       "version_major": 2,
       "version_minor": 0
      },
      "text/plain": [
       "Running vectorized MCMC with 100 chains:   0%|          | 0/150000 [00:00<?, ?it/s]"
      ]
     },
     "metadata": {},
     "output_type": "display_data"
    },
    {
     "name": "stdout",
     "output_type": "stream",
     "text": [
      "No GT for beta:1000, obs:2, misspecified, known\n"
     ]
    },
    {
     "data": {
      "application/vnd.jupyter.widget-view+json": {
       "model_id": "ea091c28b38c4424918e143ffa4d1657",
       "version_major": 2,
       "version_minor": 0
      },
      "text/plain": [
       "Running vectorized MCMC with 100 chains:   0%|          | 0/150000 [00:00<?, ?it/s]"
      ]
     },
     "metadata": {},
     "output_type": "display_data"
    },
    {
     "name": "stdout",
     "output_type": "stream",
     "text": [
      "No GT for beta:1000, obs:2, misspecified, unknown\n"
     ]
    },
    {
     "data": {
      "application/vnd.jupyter.widget-view+json": {
       "model_id": "7ac83fbf69cd47b3b6a83f5fde597d49",
       "version_major": 2,
       "version_minor": 0
      },
      "text/plain": [
       "Running vectorized MCMC with 100 chains:   0%|          | 0/150000 [00:00<?, ?it/s]"
      ]
     },
     "metadata": {},
     "output_type": "display_data"
    },
    {
     "data": {
      "application/vnd.jupyter.widget-view+json": {
       "model_id": "9e41fe4fffc7445eac9e1bd98df57e1a",
       "version_major": 2,
       "version_minor": 0
      },
      "text/plain": [
       "Running vectorized MCMC with 100 chains:   0%|          | 0/150000 [00:00<?, ?it/s]"
      ]
     },
     "metadata": {},
     "output_type": "display_data"
    },
    {
     "data": {
      "application/vnd.jupyter.widget-view+json": {
       "model_id": "75f04be475d648609a64b7e08f523f3d",
       "version_major": 2,
       "version_minor": 0
      },
      "text/plain": [
       "Running vectorized MCMC with 100 chains:   0%|          | 0/150000 [00:00<?, ?it/s]"
      ]
     },
     "metadata": {},
     "output_type": "display_data"
    },
    {
     "data": {
      "application/vnd.jupyter.widget-view+json": {
       "model_id": "cc3a18d45e4b4431892d284df021e6b5",
       "version_major": 2,
       "version_minor": 0
      },
      "text/plain": [
       "Running vectorized MCMC with 100 chains:   0%|          | 0/150000 [00:00<?, ?it/s]"
      ]
     },
     "metadata": {},
     "output_type": "display_data"
    },
    {
     "data": {
      "application/vnd.jupyter.widget-view+json": {
       "model_id": "f2e9e80d39e84c66be02613a3d3bf147",
       "version_major": 2,
       "version_minor": 0
      },
      "text/plain": [
       "Running vectorized MCMC with 100 chains:   0%|          | 0/150000 [00:00<?, ?it/s]"
      ]
     },
     "metadata": {},
     "output_type": "display_data"
    }
   ],
   "source": [
    "\n",
    "\n",
    "### Define task and distance function.\n",
    "distance_func = distances.mse_dist\n",
    "if task_name == \"linear_gaussian\":\n",
    "    Task = LinearGaussian\n",
    "elif task_name == \"two_moons\":\n",
    "    Task = TwoMoonsGBI\n",
    "elif task_name == \"uniform_1d\":\n",
    "    Task = UniformNoise1D\n",
    "elif task_name == \"gaussian_mixture\":\n",
    "    Task = GaussianMixture\n",
    "    distance_func = distances.mmd_dist\n",
    "else:\n",
    "    raise NameError\n",
    "\n",
    "### Sample and simulate from task.\n",
    "# Set seed\n",
    "if seed is None:\n",
    "    seed = int((time.time() % 1) * 1e7)\n",
    "else:\n",
    "    seed = seed\n",
    "# np.savetxt(full_path_prepend + \"seed.txt\", np.asarray([seed]))\n",
    "\n",
    "collector = []\n",
    "for xo_idx in range(10):\n",
    "    for beta in betas:\n",
    "        for is_specified in ['specified', 'misspecified']:\n",
    "            for is_known in ['known', 'unknown']:\n",
    "                # Sample and simulate.\n",
    "                _ = torch.manual_seed(seed)\n",
    "                _ = np.random.seed(seed=seed)\n",
    "\n",
    "\n",
    "                # Set ground-truth task.\n",
    "                x_os = gbi_utils.pickle_load(observation_folder + f'/xo_{is_specified}_{is_known}.pkl')\n",
    "                x_o = x_os[xo_idx]\n",
    "                task = Task(seed=seed, x_o=x_o, beta=beta)\n",
    "\n",
    "                # Load inference object.\n",
    "                inference_gbi = gbi_utils.pickle_load(inference_folder + f'GBI.pickle')\n",
    "                inference_npe = gbi_utils.pickle_load(inference_folder + f'NPE.pickle')\n",
    "\n",
    "                # Sample.\n",
    "                posterior_samples_gbi = sample_GBI(inference_gbi, x_o, beta, task, n_posterior_samples)\n",
    "                # posterior_samples_npe = sample_NPE(inference_npe, x_o, task, n_posterior_samples)\n",
    "                posterior_samples_npe = posterior_samples_gbi\n",
    "                \n",
    "                # Ground-truth samples.\n",
    "                try:\n",
    "                    posterior_samples_gt = gbi_utils.pickle_load(gt_folder + f'/beta_{beta}/obs_{xo_idx}_{is_specified}_{is_known}/rejection_samples.pkl')\n",
    "                    posterior_samples_gt = posterior_samples_gt[:n_posterior_samples]\n",
    "                except:\n",
    "                    print(f\"No GT for beta:{beta}, obs:{xo_idx}, {is_specified}, {is_known}\")\n",
    "                    posterior_samples_gt = torch.zeros(posterior_samples_npe.size())\n",
    "\n",
    "\n",
    "                # Evaluate.\n",
    "                # C2ST GBI vs. GT\n",
    "                c2st = C2ST(posterior_samples_gbi, posterior_samples_gt)\n",
    "\n",
    "                # Posterior predictive distance.\n",
    "                ppd_gt = distance_func(task.simulate(posterior_samples_gt).unsqueeze(1), x_o)\n",
    "                ppd_gbi = distance_func(task.simulate(posterior_samples_gbi).unsqueeze(1), x_o)\n",
    "                ppd_npe = distance_func(task.simulate(posterior_samples_npe).unsqueeze(1), x_o)\n",
    "\n",
    "                # Collect.\n",
    "                summary = [task_name, is_specified, is_known, xo_idx, beta, \n",
    "                           float(c2st.squeeze()), float(ppd_gt.mean()), float(ppd_gt.std()), float(ppd_npe.mean()), float(ppd_npe.std()), float(ppd_gbi.mean()), float(ppd_gbi.std())]\n",
    "                collector.append(summary)\n",
    "\n",
    "            \n",
    "col_names = ['task', 'is_specified', 'is_known', 'obs_idx', 'beta', 'c2st', 'ppd_gt_mean', 'ppd_gt_std','ppd_npe_mean', 'ppd_npe_std','ppd_gbi_mean', 'ppd_gbi_std']\n",
    "dtypes = [str, str, str, int, float, float, float, float, float, float, float, float]\n",
    "df_summary = pd.DataFrame(np.array(collector), columns=col_names)\n",
    "df_summary = df_summary.astype({col_names[i]: dtypes[i] for i in range(len(col_names))})\n",
    "df_summary.to_csv(f'./df_{task_name}.csv')"
   ]
  },
  {
   "cell_type": "code",
   "execution_count": 16,
   "id": "3249e7b5-1377-44e6-9c13-45a03c2e1f1c",
   "metadata": {},
   "outputs": [],
   "source": [
    "col_names = ['task', 'is_specified', 'is_known', 'obs_idx', 'beta', 'c2st', 'ppd_gt_mean', 'ppd_gt_std','ppd_npe_mean', 'ppd_npe_std','ppd_gbi_mean', 'ppd_gbi_std']\n",
    "dtypes = [str, str, str, int, float, float, float, float, float, float, float, float]\n",
    "df_summary = pd.DataFrame(np.array(collector), columns=col_names)\n",
    "df_summary = df_summary.astype({col_names[i]: dtypes[i] for i in range(len(col_names))})\n",
    "df_summary.to_csv(f'./df_{task_name}.csv')"
   ]
  },
  {
   "cell_type": "code",
   "execution_count": 15,
   "id": "4670b7e9-0eb1-4fc5-938e-3e07896fe3e9",
   "metadata": {},
   "outputs": [
    {
     "data": {
      "text/plain": [
       "120"
      ]
     },
     "execution_count": 15,
     "metadata": {},
     "output_type": "execute_result"
    }
   ],
   "source": [
    "len(collector)"
   ]
  },
  {
   "cell_type": "code",
   "execution_count": 282,
   "id": "022510ec-9d24-4e69-97b5-62ad6521bc0d",
   "metadata": {},
   "outputs": [],
   "source": [
    "\n",
    "\n",
    "\n",
    "# plt.hist(ppd_gbi.squeeze(), 100);\n",
    "# plt.hist(ppd_npe.squeeze(), 100);\n",
    "# c2st"
   ]
  },
  {
   "cell_type": "code",
   "execution_count": 17,
   "id": "be3dbc41-cea1-4ed6-83b7-a8d2a4c1c7ce",
   "metadata": {},
   "outputs": [
    {
     "name": "stdout",
     "output_type": "stream",
     "text": [
      "specified known\n",
      "specified unknown\n",
      "misspecified known\n",
      "misspecified unknown\n"
     ]
    },
    {
     "data": {
      "image/png": "[encoded data removed]",
      "text/plain": [
       "<Figure size 800x400 with 2 Axes>"
      ]
     },
     "metadata": {},
     "output_type": "display_data"
    }
   ],
   "source": [
    "# with plt.rc_context(fname=\"../.matplotlibrc\"):\n",
    "plt.figure(figsize=(8,4))\n",
    "markers = ['*', 'o', 's', '^']\n",
    "ctr = 0\n",
    "for i_s, is_specified in enumerate(['specified', 'misspecified']):\n",
    "    for i_k, is_known in enumerate(['known', 'unknown']):\n",
    "        print(is_specified, is_known)\n",
    "        df_curr = df_summary[(df_summary['is_specified']==is_specified) & (df_summary['is_known']==is_known)]\n",
    "        \n",
    "        \n",
    "        for i_r, (beta, rows) in enumerate(df_curr.groupby('beta')):\n",
    "            plt.subplot(1,2,1)\n",
    "            plt.errorbar(rows['ppd_npe_mean'].values, rows['ppd_gbi_mean'].values, \n",
    "                         xerr=rows['ppd_npe_std'].values/100*3, yerr=rows['ppd_gbi_std'].values/100*3, fmt=f'k', ls='', alpha=0.5)\n",
    "\n",
    "            plt.plot(rows['ppd_npe_mean'].values, rows['ppd_gbi_mean'].values, \n",
    "                     f'C{i_r}', \n",
    "                     mfc='k' if i_s==1 else 'w', \n",
    "                     marker='o' if i_k==0 else 's',\n",
    "                     mew=1,\n",
    "                     ls='',\n",
    "                     alpha=0.5)\n",
    "        \n",
    "            plt.subplot(1,2,2)\n",
    "            plt.plot(i_r*np.ones_like(rows['c2st'])+np.random.randn(len(rows))*0.05, rows['c2st'], f'C{i_r}', \n",
    "                     mfc='k' if i_s==1 else 'w', \n",
    "                     marker='o' if i_k==0 else 's',\n",
    "                     mew=1,\n",
    "                     ls='',\n",
    "                     alpha=0.5\n",
    "                    )\n",
    "        ctr+=1\n",
    "\n",
    "plt.subplot(1,2,1)\n",
    "plt.plot([0,.5], [0,.5], 'r--')\n",
    "plt.xlabel('mean post. pred. distance (NPE)'); plt.ylabel('mean post. pred. distance (GBI)'); \n",
    "plt.xlim([0, None]);    plt.ylim([0, None]);\n",
    "plt.xticks([0,0.25]);plt.yticks([0,0.25, 0.5]);\n",
    "plt.gca().spines[['right', 'top']].set_visible(False)\n",
    "\n",
    "plt.subplot(1,2,2)\n",
    "plt.axhline(0.5, color='r', ls='--')\n",
    "plt.gca().spines[['right', 'top']].set_visible(False)\n",
    "plt.xlabel('beta');plt.ylabel('C2ST'); \n",
    "plt.xticks([0,1,2], labels=betas);plt.yticks([0.5, 0.55, 0.6, 0.65]);\n",
    "\n",
    "plt.tight_layout()"
   ]
  },
  {
   "cell_type": "code",
   "execution_count": null,
   "id": "06c848d1-8355-4d25-833a-51d522115dac",
   "metadata": {},
   "outputs": [],
   "source": []
  },
  {
   "cell_type": "code",
   "execution_count": null,
   "id": "30430b68-b25c-425d-aa77-7427a95b9e52",
   "metadata": {},
   "outputs": [],
   "source": []
  },
  {
   "cell_type": "code",
   "execution_count": null,
   "id": "c916c744-3f81-4acf-8438-d4b9716cdb18",
   "metadata": {},
   "outputs": [],
   "source": []
  },
  {
   "cell_type": "code",
   "execution_count": null,
   "id": "68b52aaa-0b82-4bbe-bf31-8865c2d82967",
   "metadata": {},
   "outputs": [],
   "source": []
  },
  {
   "cell_type": "code",
   "execution_count": null,
   "id": "1641bae6-1a31-4c81-8549-189114fbbb25",
   "metadata": {},
   "outputs": [],
   "source": []
  },
  {
   "cell_type": "code",
   "execution_count": 117,
   "id": "c7df7f3e-081c-42fc-b4b7-1124b90c2dd2",
   "metadata": {},
   "outputs": [
    {
     "data": {
      "text/plain": [
       "tensor([-0.4540, -0.4283, -0.3058,  ..., -0.3525, -0.3588, -0.6657],\n",
       "       grad_fn=<AddBackward0>)"
      ]
     },
     "execution_count": 117,
     "metadata": {},
     "output_type": "execute_result"
    }
   ],
   "source": [
    "\n",
    "def tempered_potential(potential_fn, beta):\n",
    "    return potential_fn(posterior_samples)"
   ]
  },
  {
   "cell_type": "code",
   "execution_count": 94,
   "id": "09b57a96-2386-45ba-93f2-5b048b7cb33e",
   "metadata": {},
   "outputs": [],
   "source": [
    "posterior_predictives = task.simulate(posterior_samples)"
   ]
  },
  {
   "cell_type": "code",
   "execution_count": 97,
   "id": "067020ef-6001-4913-aa04-89fe585e8a23",
   "metadata": {},
   "outputs": [
    {
     "data": {
      "text/plain": [
       "(tensor([0.0069, 0.0276, 0.0002,  ..., 0.0494, 0.0203, 0.0225]),\n",
       " tensor([0.0069, 0.0276, 0.0002,  ..., 0.0494, 0.0203, 0.0225]))"
      ]
     },
     "execution_count": 97,
     "metadata": {},
     "output_type": "execute_result"
    },
    {
     "data": {
      "image/png": "[encoded data removed]",
      "text/plain": [
       "<Figure size 640x480 with 1 Axes>"
      ]
     },
     "metadata": {},
     "output_type": "display_data"
    }
   ],
   "source": [
    "\n",
    "ppd = distance_func(posterior_predictives.unsqueeze(1), x_o)\n",
    "\n",
    "plt.loglog(ppd, (posterior_predictives-x_o).pow(2).mean(1), '.')\n",
    "ppd, (posterior_predictives-x_o).pow(2).mean(1)"
   ]
  },
  {
   "cell_type": "code",
   "execution_count": 69,
   "id": "359d1822-f66f-4c7c-980f-879c3fe2255a",
   "metadata": {},
   "outputs": [
    {
     "data": {
      "text/plain": [
       "tensor([0.8349])"
      ]
     },
     "execution_count": 69,
     "metadata": {},
     "output_type": "execute_result"
    }
   ],
   "source": [
    "c2st(posterior_samples, gt_samples)"
   ]
  },
  {
   "cell_type": "code",
   "execution_count": 107,
   "id": "70cbc4d7-5c3b-450f-8971-57ea740c96e3",
   "metadata": {},
   "outputs": [
    {
     "data": {
      "image/png": "[encoded data removed]",
      "text/plain": [
       "<Figure size 640x480 with 1 Axes>"
      ]
     },
     "metadata": {},
     "output_type": "display_data"
    }
   ],
   "source": [
    "# plt.plot(gt_samples, torch.ones(gt_samples.size()), '.', alpha=0.1)\n",
    "plt.hist(gt_samples.numpy().squeeze(), 50, histtype='step');\n",
    "plt.hist(posterior_samples.numpy().squeeze(), 50, histtype='step');\n",
    "plt.hist(posterior_samples_npe.numpy().squeeze(), 50, histtype='step');\n",
    "\n",
    "# c2st(posterior_samples, gt_samples)"
   ]
  },
  {
   "cell_type": "code",
   "execution_count": null,
   "id": "3ccc3162-5caa-4e95-ba9e-70f17ef21576",
   "metadata": {},
   "outputs": [],
   "source": [
    "task = UniformNoise1D()\n",
    "\n",
    "# Train inference algorithms.\n",
    "task.dist_func_gbi = distance_func\n",
    "\n",
    "# Get trained inference object.\n",
    "inference = gbi_utils.pickle_load(inference_folder + 'NPE.pickle')\n",
    "print(inference)"
   ]
  },
  {
   "cell_type": "code",
   "execution_count": null,
   "id": "cfe5b19a-9fd5-43bf-a725-3023bd313298",
   "metadata": {},
   "outputs": [],
   "source": []
  }
 ],
 "metadata": {
  "kernelspec": {
   "display_name": "Python 3",
   "language": "python",
   "name": "python3"
  },
  "language_info": {
   "codemirror_mode": {
    "name": "ipython",
    "version": 3
   },
   "file_extension": ".py",
   "mimetype": "text/x-python",
   "name": "python",
   "nbconvert_exporter": "python",
   "pygments_lexer": "ipython3",
   "version": "3.8.13"
  }
 },
 "nbformat": 4,
 "nbformat_minor": 5
}
