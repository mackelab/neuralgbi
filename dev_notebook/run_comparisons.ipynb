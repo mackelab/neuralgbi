{
 "cells": [
  {
   "cell_type": "code",
   "execution_count": 2,
   "id": "5d99f12f-f145-4990-b330-dfec24c29d5b",
   "metadata": {},
   "outputs": [],
   "source": [
    "import torch\n",
    "# from torch import ones, zeros, eye, as_tensor, tensor, float32, Tensor\n",
    "import pickle\n",
    "import matplotlib.pyplot as plt\n",
    "import matplotlib as mpl\n",
    "import numpy as np\n",
    "from os import listdir, path\n",
    "from sbi.analysis import pairplot\n",
    "from sbi.utils.metrics import c2st as C2ST\n",
    "from scipy import stats\n",
    "import itertools\n",
    "\n",
    "from gbi import distances\n",
    "from gbi.benchmark.tasks.uniform_1d.task import UniformNoise1D\n",
    "from gbi.benchmark.tasks.two_moons.task import TwoMoonsGBI\n",
    "from gbi.benchmark.tasks.linear_gaussian.task import LinearGaussian\n",
    "from gbi.benchmark.tasks.gaussian_mixture.task import GaussianMixture\n",
    "\n",
    "import gbi.utils.utils as gbi_utils\n"
   ]
  },
  {
   "cell_type": "code",
   "execution_count": 14,
   "id": "4c1c82d1-b043-449c-be0d-21fe9968fbff",
   "metadata": {},
   "outputs": [],
   "source": [
    "gt_dir = \"../results/benchmark/ground_truths/\"\n",
    "inference_dir = \"../results/benchmark/algorithms/\"\n",
    "xo_dir = \"../gbi/benchmark/tasks/\"\n",
    "\n",
    "inference_dir = \"../results/benchmark/algorithms/\"\n",
    "task_classes = {\n",
    "    \"uniform_1d\": UniformNoise1D,\n",
    "    \"two_moons\": TwoMoonsGBI,\n",
    "    \"linear_gaussian\": LinearGaussian,\n",
    "    \"gaussian_mixture\": GaussianMixture\n",
    "}\n",
    "\n",
    "# task_betas = {\n",
    "#     \"uniform_1d\": [\"4\",\"20\",\"100\"],\n",
    "#     \"two_moons\": [\"10\",\"100\",\"1000\"],\n",
    "#     \"linear_gaussian\": [\"0.1\",\"1.0\",\"10.0\"],\n",
    "#     \"gaussian_mixture\": [\"2.0\",\"10.0\",\"50.0\"],    \n",
    "# }\n",
    "\n",
    "algos = ['GBI', 'NPE', 'NLE']"
   ]
  },
  {
   "cell_type": "code",
   "execution_count": 10,
   "id": "09075159-a2c9-4d5b-b4a8-c4519ec2a259",
   "metadata": {},
   "outputs": [],
   "source": [
    "# load xo, gt posterior samples, and inference samples\n",
    "task_name = \"uniform_1d\"\n",
    "if task_name == \"gaussian_mixture\":\n",
    "    distance_func = distances.mmd_dist\n",
    "else:\n",
    "    distance_func = distances.mse_dist\n",
    "\n",
    "betas = task_betas[task_name]\n",
    "xo_path = f\"{xo_dir}/{task_name}/xos/\"\n",
    "gt_datetime = np.sort(listdir(f\"{gt_dir}/{task_name}/\"))[-1]\n",
    "\n",
    "inference_dir = \"../results/benchmark/algorithms/\"\n",
    "inference_datetime = np.sort(listdir(f\"{inference_dir}/{task_name}/\"))[-1]"
   ]
  },
  {
   "cell_type": "code",
   "execution_count": 11,
   "id": "7234c949-b87d-418a-aa0f-74004f14f704",
   "metadata": {},
   "outputs": [],
   "source": [
    "xo_combs = [range(10), ['specified', 'misspecified'], ['known', 'unknown']]\n",
    "xo_info_combs = list(itertools.product(*xo_combs))"
   ]
  },
  {
   "cell_type": "code",
   "execution_count": 32,
   "id": "c5249aac-436d-4c12-89ae-db36d6a5a621",
   "metadata": {},
   "outputs": [],
   "source": [
    "posterior_samples_collected = []\n",
    "\n",
    "\n",
    "for xo_info in xo_info_combs:\n",
    "    # load xos and gt theta\n",
    "    with open(f\"{xo_path}/xo_{xo_info[1]}_{xo_info[2]}.pkl\", 'rb') as handle:\n",
    "        xos = pickle.load(handle)\n",
    "\n",
    "    if xo_info[1]=='specified':\n",
    "        with open(f\"{xo_path}/theta_gt_{xo_info[2]}.pkl\", 'rb') as handle:\n",
    "            theta_gt = pickle.load(handle)\n",
    "    else:\n",
    "        theta_gt = torch.ones_like(xos)*torch.nan\n",
    "\n",
    "    xo = xos[xo_info[0]]\n",
    "    theta = theta_gt[xo_info[0]]\n",
    "\n",
    "    # load gt posterior samples\n",
    "    posterior_samples = {}\n",
    "\n",
    "    # Take the latest run\n",
    "    posterior_samples['GT'] = {}\n",
    "    for beta in betas:\n",
    "        gt_path = f\"{gt_dir}/{task_name}/{gt_datetime}/beta_{beta}/obs_{xo_info[0]}_{xo_info[1]}_{xo_info[2]}\"\n",
    "        with open(gt_path + \"/rejection_samples.pkl\", \"rb\") as handle:\n",
    "            posterior_samples['GT'][f\"beta_{beta}\"] = pickle.load(handle)\n",
    "\n",
    "\n",
    "    # load inference samples\n",
    "    for algo in algos:\n",
    "        posterior_dir = f\"{inference_dir}/{task_name}/{inference_datetime}/{algo}/posterior_inference/\"    \n",
    "        if algo == \"GBI\":\n",
    "            with open(f\"{inference_dir}/{task_name}/{inference_datetime}/{algo}/inference.pickle\", 'rb') as handle:\n",
    "                gbi_inference = pickle.load(handle)\n",
    "\n",
    "        # Take the latest run\n",
    "        if path.isdir(posterior_dir):\n",
    "            posterior_datetime = np.sort(listdir(posterior_dir))[-1]\n",
    "            # print(algo)\n",
    "            posterior_samples[algo] = {}\n",
    "\n",
    "            for beta in betas:\n",
    "                ps_path = f\"{posterior_dir}/{posterior_datetime}/beta_{beta}/obs_{xo_info[0]}_{xo_info[1]}_{xo_info[2]}/posterior_samples.pkl\"\n",
    "                # print(ps_path)\n",
    "                if path.exists(ps_path):\n",
    "                    # posterior sample exists, load\n",
    "                    with open(ps_path, 'rb') as handle:\n",
    "                        if algo == \"GBI\":\n",
    "                            posterior_samples[algo][f\"beta_{beta}\"] = pickle.load(handle)                    \n",
    "                        else:\n",
    "                            posterior_samples[algo] = pickle.load(handle)\n",
    "                # else:\n",
    "                    # print(f\"{ps_path} does not exist.\")\n",
    "\n",
    "    posterior_samples_collected.append([xo_info, {\"xo\": xo, \"theta_gt\": theta,}, posterior_samples])"
   ]
  },
  {
   "cell_type": "code",
   "execution_count": null,
   "id": "c64f5407-6f71-4c8e-bef8-25405c9ad8d3",
   "metadata": {},
   "outputs": [],
   "source": []
  },
  {
   "cell_type": "code",
   "execution_count": 5,
   "id": "15ceaa3d-6c63-4aec-9f50-653545a75e18",
   "metadata": {},
   "outputs": [],
   "source": [
    "inference_dir = \"../results/benchmark/algorithms/\"\n",
    "task_classes = {\n",
    "    \"uniform_1d\": UniformNoise1D,\n",
    "    \"two_moons\": TwoMoonsGBI,\n",
    "    \"linear_gaussian\": LinearGaussian,\n",
    "    \"gaussian_mixture\": GaussianMixture\n",
    "}\n"
   ]
  },
  {
   "cell_type": "code",
   "execution_count": 6,
   "id": "87ad9524-ae80-45b6-98b9-d4e4c9099312",
   "metadata": {},
   "outputs": [],
   "source": [
    "task_name = 'uniform_1d'\n",
    "posterior_samples_collected = gbi_utils.pickle_load(f'../results/benchmark/algorithms/{task_name}/2023_02_06__19_18_26/posterior_samples_all.pkl')\n",
    "if task_name == \"gaussian_mixture\":\n",
    "    distance_func = distances.mmd_dist\n",
    "else:\n",
    "    distance_func = distances.mse_dist\n",
    "\n",
    "inference_dir = \"../results/benchmark/algorithms/\"\n",
    "inference_datetime = np.sort(listdir(f\"{inference_dir}/{task_name}/\"))[-1]\n",
    "\n",
    "gbi_inference = gbi_utils.pickle_load(f\"{inference_dir}/{task_name}/{inference_datetime}/GBI/inference.pickle\")"
   ]
  },
  {
   "cell_type": "code",
   "execution_count": 16,
   "id": "0519fb39-0f4d-4fda-8d00-3b79b2260f04",
   "metadata": {},
   "outputs": [],
   "source": [
    "# metrics to compute\n",
    "\n",
    "## GBI evals:\n",
    "# C2ST against GT posterior \n",
    "# posterior moments mean / std\n",
    "# distance estimate vs. true distance (i.e., task.distance_fn)\n",
    "\n",
    "\n",
    "## all alg evals\n",
    "# posterior predictive distance mean / std\n",
    "\n"
   ]
  },
  {
   "cell_type": "code",
   "execution_count": 47,
   "id": "d5d35029-0aee-4448-b21d-07245c6af8a4",
   "metadata": {},
   "outputs": [],
   "source": [
    "def compute_predictives(theta_samples, task, distance_fn_empirical, inference_obj=None):\n",
    "    predictives = {}\n",
    "    predictives['theta'] = theta_samples\n",
    "    # simulate posterior predictives\n",
    "    predictives['x_pred'] = task.simulate(theta_samples)\n",
    "    \n",
    "    # compute posterior predictive distances\n",
    "    predictives['dist_gt'] = task.distance_fn(theta_samples) # true average distance\n",
    "    predictives['dist_sample'] = distance_fn_empirical(predictives['x_pred'][:,None,:], task.x_o[None,None,:]) # sample-based estimate\n",
    "    if inference_obj:\n",
    "        with torch.no_grad():\n",
    "            predictives['dist_estimate'] = inference_obj.distance_net(theta_samples, task.x_o.repeat((theta_samples.shape[0], 1))).squeeze(1)\n",
    "            # predictives['dist_estimate'] = inference_obj.predict_distance(theta_samples, task.x_o) # doesn't exist yet\n",
    "    else: \n",
    "        predictives['dist_estimate'] = None\n",
    "    return predictives\n",
    "\n",
    "def compute_moments(predictives):\n",
    "    summaries = {}\n",
    "    for k,v in predictives.items():\n",
    "        print(k)\n",
    "        summaries[f\"{k}_mean\"], summaries[f\"{k}_std\"] = v.mean(0), v.std(0)\n",
    "\n",
    "    # compute correlation and error between true and estimated distances\n",
    "    # summaries['r_gt_estimate'], _ = torch.Tensor(stats.pearsonr(predictives['dist_gt'], predictives['dist_estimate']))\n",
    "    summaries['r_gt_estimate'] = torch.corrcoef(torch.vstack((predictives['dist_gt'], predictives['dist_estimate'])))[0,1]\n",
    "    summaries['mse_gt_estimate'] = ((predictives['dist_gt']-predictives['dist_estimate'])**2).mean()\n",
    "    return summaries\n",
    "\n",
    "\n",
    "\n",
    "# c2st = C2ST(posterior_samples['GT'][f'beta_{beta}'], posterior_samples['GBI'][f'beta_{beta}'])\n",
    "# print(c2st)\n"
   ]
  },
  {
   "cell_type": "code",
   "execution_count": 49,
   "id": "adda80bc-5edd-4f65-bda5-ca6aa7523870",
   "metadata": {},
   "outputs": [
    {
     "name": "stdout",
     "output_type": "stream",
     "text": [
      "theta\n",
      "x_pred\n",
      "dist_gt\n",
      "dist_sample\n",
      "dist_estimate\n",
      "theta\n",
      "x_pred\n",
      "dist_gt\n",
      "dist_sample\n",
      "dist_estimate\n"
     ]
    },
    {
     "data": {
      "text/html": [
       "<div>\n",
       "<style scoped>\n",
       "    .dataframe tbody tr th:only-of-type {\n",
       "        vertical-align: middle;\n",
       "    }\n",
       "\n",
       "    .dataframe tbody tr th {\n",
       "        vertical-align: top;\n",
       "    }\n",
       "\n",
       "    .dataframe thead th {\n",
       "        text-align: right;\n",
       "    }\n",
       "</style>\n",
       "<table border=\"1\" class=\"dataframe\">\n",
       "  <thead>\n",
       "    <tr style=\"text-align: right;\">\n",
       "      <th></th>\n",
       "      <th>theta_mean</th>\n",
       "      <th>theta_std</th>\n",
       "      <th>x_pred_mean</th>\n",
       "      <th>x_pred_std</th>\n",
       "      <th>dist_gt_mean</th>\n",
       "      <th>dist_gt_std</th>\n",
       "      <th>dist_sample_mean</th>\n",
       "      <th>dist_sample_std</th>\n",
       "      <th>dist_estimate_mean</th>\n",
       "      <th>dist_estimate_std</th>\n",
       "      <th>r_gt_estimate</th>\n",
       "      <th>mse_gt_estimate</th>\n",
       "    </tr>\n",
       "  </thead>\n",
       "  <tbody>\n",
       "    <tr>\n",
       "      <th>0</th>\n",
       "      <td>-0.245922</td>\n",
       "      <td>0.88421</td>\n",
       "      <td>-0.162265</td>\n",
       "      <td>0.208604</td>\n",
       "      <td>tensor(0.2874)</td>\n",
       "      <td>tensor(0.1742)</td>\n",
       "      <td>tensor(0.2878)</td>\n",
       "      <td>tensor(0.2316)</td>\n",
       "      <td>tensor(0.2561)</td>\n",
       "      <td>tensor(0.1665)</td>\n",
       "      <td>tensor(0.9524)</td>\n",
       "      <td>tensor(0.0038)</td>\n",
       "    </tr>\n",
       "  </tbody>\n",
       "</table>\n",
       "</div>"
      ],
      "text/plain": [
       "   theta_mean  theta_std  x_pred_mean  x_pred_std    dist_gt_mean  \\\n",
       "0   -0.245922    0.88421    -0.162265    0.208604  tensor(0.2874)   \n",
       "\n",
       "      dist_gt_std dist_sample_mean dist_sample_std dist_estimate_mean  \\\n",
       "0  tensor(0.1742)   tensor(0.2878)  tensor(0.2316)     tensor(0.2561)   \n",
       "\n",
       "  dist_estimate_std   r_gt_estimate mse_gt_estimate  \n",
       "0    tensor(0.1665)  tensor(0.9524)  tensor(0.0038)  "
      ]
     },
     "execution_count": 49,
     "metadata": {},
     "output_type": "execute_result"
    }
   ],
   "source": [
    "# import pandas as pd\n",
    "\n",
    "predictives_alg = compute_predictives(posterior_samples['GBI'][f'beta_{beta}'], task, distance_func, gbi_inference)\n",
    "compute_moments(predictives_alg)\n",
    "pd.DataFrame(compute_moments(predictives_alg))"
   ]
  },
  {
   "cell_type": "code",
   "execution_count": 15,
   "id": "b12bbda3-e0ec-494e-a765-13362d207155",
   "metadata": {},
   "outputs": [
    {
     "name": "stdout",
     "output_type": "stream",
     "text": [
      "0.9524357793320253 0.0 tensor(0.0616)\n"
     ]
    },
    {
     "data": {
      "image/png": "[encoded data removed]",
      "text/plain": [
       "<Figure size 288x432 with 2 Axes>"
      ]
     },
     "metadata": {
      "needs_background": "light"
     },
     "output_type": "display_data"
    }
   ],
   "source": [
    "\n",
    "\n",
    "xo_info, xo_theta, posterior_samples = posterior_samples_collected[3+12]\n",
    "betas = [b.split('_')[-1] for b in posterior_samples['GT'].keys()]\n",
    "\n",
    "beta_idx = 0\n",
    "\n",
    "xo, theta_gt = xo_theta['xo'], xo_theta['theta_gt']\n",
    "beta = betas[beta_idx]\n",
    "task = task_classes[task_name](beta=beta, x_o=xo)\n",
    "\n",
    "# get GT predictives\n",
    "predictives_gt = compute_predictives(posterior_samples['GT'][f'beta_{beta}'], task, distance_func, gbi_inference)\n",
    "\n",
    "# get GBI predictives\n",
    "predictives_alg = compute_predictives(posterior_samples['GBI'][f'beta_{beta}'], task, distance_func, gbi_inference)\n",
    "\n",
    "\n",
    "# # grab GT posterior samples\n",
    "# theta_posterior_gt = posterior_samples['GT'][f'beta_{beta}']\n",
    "# theta_gt_mean, theta_gt_std = theta_posterior_gt.mean(0), theta_posterior_gt.std(0)\n",
    "# x_pred_gt = task.simulate(theta_posterior_gt)\n",
    "# dist_pred_gt = task.distance_fn(theta_posterior_gt)\n",
    "\n",
    "\n",
    "\n",
    "# # compute metrics\n",
    "\n",
    "\n",
    "# theta_posterior_alg = posterior_samples['GBI'][f'beta_{beta}']\n",
    "\n",
    "\n",
    "# # ---C2ST\n",
    "# # c2st = C2ST(theta_gt_posterior, theta_posterior)\n",
    "\n",
    "# # ---posterior moments\n",
    "\n",
    "# theta_alg_mean, theta_alg_std = theta_posterior_alg.mean(0), theta_posterior_alg.std(0)\n",
    "\n",
    "# # posterior predicitive samples\n",
    "\n",
    "# x_pred_alg = task.simulate(theta_posterior_alg)\n",
    "\n",
    "# # posterior predicitive distances\n",
    "# dist_pred_true = task.distance_fn(theta_posterior_alg)\n",
    "\n",
    "# dist_pred_samples = distance_func(x_pred_alg[:,None,:], xo[None,None,:])\n",
    "# with torch.no_grad():\n",
    "#     dist_pred_alg = gbi_inference.distance_net(theta_posterior_alg, xo.repeat((theta_posterior_alg.shape[0], 1))).squeeze(1)\n",
    "\n",
    "\n",
    "# r, pv = stats.pearsonr(dist_pred_true, dist_pred_alg)\n",
    "# dist_error = ((dist_pred_true-dist_pred_alg)**2).mean()**0.5\n",
    "\n",
    "# dist_pred_samples_mean, dist_pred_samples_std = dist_pred_samples.mean(), dist_pred_samples.std()\n",
    "\n",
    "\n",
    "\n",
    "plt.figure(figsize=(4,6))\n",
    "plt.subplot(2,1,1)\n",
    "plt.plot(theta_posterior_alg, dist_pred_samples, 'k.', alpha=0.1, ms=2)\n",
    "plt.plot(theta_posterior_alg, dist_pred_true, '.', alpha=0.1)\n",
    "plt.plot(theta_posterior_gt, dist_pred_gt, '.', alpha=0.1)\n",
    "plt.plot(theta_posterior_alg, dist_pred_alg, '.', alpha=0.1)\n",
    "\n",
    "plt.subplot(2,1,2)\n",
    "plt.hist(theta_posterior_alg.squeeze(), 50, histtype='step');\n",
    "plt.hist(theta_posterior_gt.squeeze(), 50, histtype='step');\n",
    "plt.axvline(theta_gt.squeeze())\n",
    "plt.tight_layout()\n",
    "print(r, pv, dist_error)"
   ]
  },
  {
   "cell_type": "code",
   "execution_count": 3,
   "id": "85dce5b6-dbcf-47dc-a4d9-3c4810825643",
   "metadata": {},
   "outputs": [],
   "source": [
    "# %matplotlib inline\n",
    "# import matplotlib.pyplot as plt\n",
    "\n",
    "# import pickle\n",
    "# import os\n",
    "# import torch\n",
    "# from torch import Tensor\n",
    "# import numpy as np\n",
    "# import time\n",
    "\n",
    "# import hydra\n",
    "# from omegaconf import DictConfig, OmegaConf\n",
    "# from hydra.utils import get_original_cwd, to_absolute_path\n",
    "\n",
    "# import logging\n",
    "\n",
    "# from sbi.inference import MCMCPosterior\n",
    "# from sbi.utils import mcmc_transform\n",
    "# from sbi.utils.metrics import c2st as C2ST\n",
    "\n",
    "# from pathlib import Path\n",
    "\n",
    "# # Algorithm imports.\n",
    "# from sbi.inference import SNPE, SNLE, likelihood_estimator_based_potential\n",
    "# from gbi.GBI import GBInference\n",
    "# import gbi.utils.utils as gbi_utils\n",
    "\n",
    "# # Task imports.\n",
    "# from gbi.benchmark.tasks.uniform_1d.task import UniformNoise1D\n",
    "# from gbi.benchmark.tasks.two_moons.task import TwoMoonsGBI\n",
    "# from gbi.benchmark.tasks.linear_gaussian.task import LinearGaussian\n",
    "# from gbi.benchmark.tasks.gaussian_mixture.task import GaussianMixture\n",
    "# from gbi import distances\n",
    "\n",
    "# import pandas as pd"
   ]
  },
  {
   "cell_type": "code",
   "execution_count": 10,
   "id": "1f4577c7-8932-4b7e-b45d-98dc49706487",
   "metadata": {},
   "outputs": [],
   "source": [
    "def sample_GBI(inference, x_o, beta, task, n_samples=10_000):\n",
    "    potential_fn = inference.get_potential(x_o=x_o, beta=beta)\n",
    "    theta_transform = mcmc_transform(task.prior)\n",
    "    posterior = MCMCPosterior(\n",
    "            potential_fn,\n",
    "            theta_transform=theta_transform,\n",
    "            proposal=task.prior,\n",
    "            method=\"slice_np_vectorized\",\n",
    "            thin=10,\n",
    "            warmup_steps=50,\n",
    "            num_chains=100,\n",
    "            init_strategy=\"resample\",\n",
    "        )\n",
    "    posterior_samples = posterior.sample((n_samples,))\n",
    "    return posterior_samples\n",
    "\n",
    "def sample_NPE(inference, x_o, task, n_samples=10_000):\n",
    "    return inference.build_posterior(prior=task.prior).set_default_x(x_o).sample((n_samples,))\n",
    "\n",
    "# inference_nle = gbi_utils.pickle_load(inference_folder + f'NLE.pickle')\n",
    "# def sample_NLE(inference, x_o, beta, task, n_samples=10_000):\n",
    "#     potential_fn, parameter_transform = likelihood_estimator_based_potential(\n",
    "#     inference_nle._neural_net, task.prior, x_o\n",
    "#     )\n",
    "#     potential_fn = inference.get_potential(x_o=x_o, beta=beta)\n",
    "#     theta_transform = mcmc_transform(task.prior)\n",
    "#     posterior = MCMCPosterior(\n",
    "#             potential_fn,\n",
    "#             theta_transform=theta_transform,\n",
    "#             proposal=task.prior,\n",
    "#             method=\"slice_np_vectorized\",\n",
    "#             thin=10,\n",
    "#             warmup_steps=50,\n",
    "#             num_chains=100,\n",
    "#             init_strategy=\"resample\",\n",
    "#         )\n",
    "#     posterior_samples = posterior.sample((n_samples,))\n",
    "#     return posterior_samples"
   ]
  },
  {
   "cell_type": "code",
   "execution_count": 9,
   "id": "1ca4d0fb-857e-4f02-9093-0bc4a43488eb",
   "metadata": {},
   "outputs": [
    {
     "data": {
      "text/plain": [
       "<sbi.inference.snpe.snpe_c.SNPE_C at 0x7f2dcb4f1970>"
      ]
     },
     "execution_count": 9,
     "metadata": {},
     "output_type": "execute_result"
    }
   ],
   "source": [
    "de = posterior_nn(\"nsf\", prior=prior, sigmoid_theta=True)\n",
    "inference = SNPE(prior=prior, density_estimator=de)"
   ]
  },
  {
   "cell_type": "code",
   "execution_count": 13,
   "id": "59fc1352-4dc1-42a5-bba7-d139ab8f52de",
   "metadata": {},
   "outputs": [
    {
     "name": "stdout",
     "output_type": "stream",
     "text": [
      "../gbi/benchmark/run_algorithms//../tasks/two_moons/\n"
     ]
    }
   ],
   "source": [
    "task_name = \"two_moons\"\n",
    "seed = 0\n",
    "# is_specified = 'specified'\n",
    "# is_known = 'known'\n",
    "# xo_idx = 0\n",
    "# beta = 4\n",
    "betas = [10, 100, 1000]\n",
    "n_posterior_samples = 10_000\n",
    "\n",
    "# Get high-level path.\n",
    "# dir_path = get_original_cwd()\n",
    "\n",
    "dir_path = '../gbi/benchmark/run_algorithms/'\n",
    "full_path_prepend = f\"{dir_path}/../tasks/{task_name}/\"\n",
    "print(full_path_prepend)\n",
    "\n",
    "# Get inference directory.\n",
    "inference_folder = full_path_prepend + \"/trained_inference/\"    \n",
    "\n",
    "# Get observation directory.\n",
    "observation_folder = full_path_prepend + \"/xos/\"\n",
    "\n",
    "# Get GT sample directory.\n",
    "# gt_folder = f'../results/benchmark/ground_truths/{task_name}/2023_01_23__17_34_09/'\n",
    "gt_folder = '/mnt/slurm_mnt/neuralgbi/results/benchmark/ground_truths/two_moons/2023_01_24__00_56_40/'"
   ]
  },
  {
   "cell_type": "code",
   "execution_count": null,
   "id": "b13b63b2-c9fd-460a-ae85-b6f07cfe5b31",
   "metadata": {},
   "outputs": [
    {
     "data": {
      "application/vnd.jupyter.widget-view+json": {
       "model_id": "83e1ee2a69164ca9a54c6b1d9771c97b",
       "version_major": 2,
       "version_minor": 0
      },
      "text/plain": [
       "Running vectorized MCMC with 100 chains:   0%|          | 0/150000 [00:00<?, ?it/s]"
      ]
     },
     "metadata": {},
     "output_type": "display_data"
    },
    {
     "data": {
      "application/vnd.jupyter.widget-view+json": {
       "model_id": "fff9e73265c1410288b1b0fc4111c502",
       "version_major": 2,
       "version_minor": 0
      },
      "text/plain": [
       "Running vectorized MCMC with 100 chains:   0%|          | 0/150000 [00:00<?, ?it/s]"
      ]
     },
     "metadata": {},
     "output_type": "display_data"
    },
    {
     "data": {
      "application/vnd.jupyter.widget-view+json": {
       "model_id": "515a81df20874125a4398a092872d473",
       "version_major": 2,
       "version_minor": 0
      },
      "text/plain": [
       "Running vectorized MCMC with 100 chains:   0%|          | 0/150000 [00:00<?, ?it/s]"
      ]
     },
     "metadata": {},
     "output_type": "display_data"
    },
    {
     "data": {
      "application/vnd.jupyter.widget-view+json": {
       "model_id": "0bd560218eee44ca8af407707ea467b2",
       "version_major": 2,
       "version_minor": 0
      },
      "text/plain": [
       "Running vectorized MCMC with 100 chains:   0%|          | 0/150000 [00:00<?, ?it/s]"
      ]
     },
     "metadata": {},
     "output_type": "display_data"
    },
    {
     "data": {
      "application/vnd.jupyter.widget-view+json": {
       "model_id": "2f6d821f20104a76a17f40c2f8cf37ca",
       "version_major": 2,
       "version_minor": 0
      },
      "text/plain": [
       "Running vectorized MCMC with 100 chains:   0%|          | 0/150000 [00:00<?, ?it/s]"
      ]
     },
     "metadata": {},
     "output_type": "display_data"
    },
    {
     "data": {
      "application/vnd.jupyter.widget-view+json": {
       "model_id": "25e6f8a313764c4da2ea73aad10638c2",
       "version_major": 2,
       "version_minor": 0
      },
      "text/plain": [
       "Running vectorized MCMC with 100 chains:   0%|          | 0/150000 [00:00<?, ?it/s]"
      ]
     },
     "metadata": {},
     "output_type": "display_data"
    },
    {
     "data": {
      "application/vnd.jupyter.widget-view+json": {
       "model_id": "cc33ee68dd61440ab86f4408ef3b4aa3",
       "version_major": 2,
       "version_minor": 0
      },
      "text/plain": [
       "Running vectorized MCMC with 100 chains:   0%|          | 0/150000 [00:00<?, ?it/s]"
      ]
     },
     "metadata": {},
     "output_type": "display_data"
    },
    {
     "name": "stdout",
     "output_type": "stream",
     "text": [
      "No GT for beta:100, obs:0, misspecified, known\n"
     ]
    },
    {
     "data": {
      "application/vnd.jupyter.widget-view+json": {
       "model_id": "bee04e7bdc8849378e0c4315241c8b48",
       "version_major": 2,
       "version_minor": 0
      },
      "text/plain": [
       "Running vectorized MCMC with 100 chains:   0%|          | 0/150000 [00:00<?, ?it/s]"
      ]
     },
     "metadata": {},
     "output_type": "display_data"
    },
    {
     "data": {
      "application/vnd.jupyter.widget-view+json": {
       "model_id": "a8d33b6208c1455883e7c2cf2cae1949",
       "version_major": 2,
       "version_minor": 0
      },
      "text/plain": [
       "Running vectorized MCMC with 100 chains:   0%|          | 0/150000 [00:00<?, ?it/s]"
      ]
     },
     "metadata": {},
     "output_type": "display_data"
    },
    {
     "name": "stdout",
     "output_type": "stream",
     "text": [
      "No GT for beta:1000, obs:0, specified, known\n"
     ]
    },
    {
     "data": {
      "application/vnd.jupyter.widget-view+json": {
       "model_id": "0321340392954a1a8c0954255ed3330f",
       "version_major": 2,
       "version_minor": 0
      },
      "text/plain": [
       "Running vectorized MCMC with 100 chains:   0%|          | 0/150000 [00:00<?, ?it/s]"
      ]
     },
     "metadata": {},
     "output_type": "display_data"
    },
    {
     "data": {
      "application/vnd.jupyter.widget-view+json": {
       "model_id": "6fefb78ed6664358a8ae907922d28e7d",
       "version_major": 2,
       "version_minor": 0
      },
      "text/plain": [
       "Running vectorized MCMC with 100 chains:   0%|          | 0/150000 [00:00<?, ?it/s]"
      ]
     },
     "metadata": {},
     "output_type": "display_data"
    },
    {
     "name": "stdout",
     "output_type": "stream",
     "text": [
      "No GT for beta:1000, obs:0, misspecified, known\n"
     ]
    },
    {
     "data": {
      "application/vnd.jupyter.widget-view+json": {
       "model_id": "54a2ad5ed9f042a390451c84332fda84",
       "version_major": 2,
       "version_minor": 0
      },
      "text/plain": [
       "Running vectorized MCMC with 100 chains:   0%|          | 0/150000 [00:00<?, ?it/s]"
      ]
     },
     "metadata": {},
     "output_type": "display_data"
    },
    {
     "name": "stdout",
     "output_type": "stream",
     "text": [
      "No GT for beta:1000, obs:0, misspecified, unknown\n"
     ]
    },
    {
     "data": {
      "application/vnd.jupyter.widget-view+json": {
       "model_id": "2b655253bd15489c904f01dc6094a8d3",
       "version_major": 2,
       "version_minor": 0
      },
      "text/plain": [
       "Running vectorized MCMC with 100 chains:   0%|          | 0/150000 [00:00<?, ?it/s]"
      ]
     },
     "metadata": {},
     "output_type": "display_data"
    },
    {
     "data": {
      "application/vnd.jupyter.widget-view+json": {
       "model_id": "81d4fe71b0bf4bea8362f2ee5afc23ee",
       "version_major": 2,
       "version_minor": 0
      },
      "text/plain": [
       "Running vectorized MCMC with 100 chains:   0%|          | 0/150000 [00:00<?, ?it/s]"
      ]
     },
     "metadata": {},
     "output_type": "display_data"
    },
    {
     "data": {
      "application/vnd.jupyter.widget-view+json": {
       "model_id": "1325e65780854f69a1909ddb757f7769",
       "version_major": 2,
       "version_minor": 0
      },
      "text/plain": [
       "Running vectorized MCMC with 100 chains:   0%|          | 0/150000 [00:00<?, ?it/s]"
      ]
     },
     "metadata": {},
     "output_type": "display_data"
    },
    {
     "data": {
      "application/vnd.jupyter.widget-view+json": {
       "model_id": "97e5dbde338a49d68f738e11a047d320",
       "version_major": 2,
       "version_minor": 0
      },
      "text/plain": [
       "Running vectorized MCMC with 100 chains:   0%|          | 0/150000 [00:00<?, ?it/s]"
      ]
     },
     "metadata": {},
     "output_type": "display_data"
    },
    {
     "data": {
      "application/vnd.jupyter.widget-view+json": {
       "model_id": "e75b3293d76844e5ad8a326834e0413a",
       "version_major": 2,
       "version_minor": 0
      },
      "text/plain": [
       "Running vectorized MCMC with 100 chains:   0%|          | 0/150000 [00:00<?, ?it/s]"
      ]
     },
     "metadata": {},
     "output_type": "display_data"
    },
    {
     "data": {
      "application/vnd.jupyter.widget-view+json": {
       "model_id": "ef1fb81c17ad4ff5b44af1d927a01d6e",
       "version_major": 2,
       "version_minor": 0
      },
      "text/plain": [
       "Running vectorized MCMC with 100 chains:   0%|          | 0/150000 [00:00<?, ?it/s]"
      ]
     },
     "metadata": {},
     "output_type": "display_data"
    },
    {
     "data": {
      "application/vnd.jupyter.widget-view+json": {
       "model_id": "21adca61f6d7453a97ab32981713f272",
       "version_major": 2,
       "version_minor": 0
      },
      "text/plain": [
       "Running vectorized MCMC with 100 chains:   0%|          | 0/150000 [00:00<?, ?it/s]"
      ]
     },
     "metadata": {},
     "output_type": "display_data"
    },
    {
     "data": {
      "application/vnd.jupyter.widget-view+json": {
       "model_id": "1a6597fb28e64f5188c5ca783c60e29c",
       "version_major": 2,
       "version_minor": 0
      },
      "text/plain": [
       "Running vectorized MCMC with 100 chains:   0%|          | 0/150000 [00:00<?, ?it/s]"
      ]
     },
     "metadata": {},
     "output_type": "display_data"
    },
    {
     "data": {
      "application/vnd.jupyter.widget-view+json": {
       "model_id": "54810081377247aabbdcef013da2dc81",
       "version_major": 2,
       "version_minor": 0
      },
      "text/plain": [
       "Running vectorized MCMC with 100 chains:   0%|          | 0/150000 [00:00<?, ?it/s]"
      ]
     },
     "metadata": {},
     "output_type": "display_data"
    },
    {
     "data": {
      "application/vnd.jupyter.widget-view+json": {
       "model_id": "d10037140aa548aeaa2057eead69bd24",
       "version_major": 2,
       "version_minor": 0
      },
      "text/plain": [
       "Running vectorized MCMC with 100 chains:   0%|          | 0/150000 [00:00<?, ?it/s]"
      ]
     },
     "metadata": {},
     "output_type": "display_data"
    },
    {
     "name": "stdout",
     "output_type": "stream",
     "text": [
      "No GT for beta:1000, obs:1, specified, unknown\n"
     ]
    },
    {
     "data": {
      "application/vnd.jupyter.widget-view+json": {
       "model_id": "0504b18832bc4f4687899d1265040b99",
       "version_major": 2,
       "version_minor": 0
      },
      "text/plain": [
       "Running vectorized MCMC with 100 chains:   0%|          | 0/150000 [00:00<?, ?it/s]"
      ]
     },
     "metadata": {},
     "output_type": "display_data"
    },
    {
     "data": {
      "application/vnd.jupyter.widget-view+json": {
       "model_id": "32b4b1cb4e274bc3b2972379021e367b",
       "version_major": 2,
       "version_minor": 0
      },
      "text/plain": [
       "Running vectorized MCMC with 100 chains:   0%|          | 0/150000 [00:00<?, ?it/s]"
      ]
     },
     "metadata": {},
     "output_type": "display_data"
    },
    {
     "name": "stdout",
     "output_type": "stream",
     "text": [
      "No GT for beta:1000, obs:1, misspecified, unknown\n"
     ]
    },
    {
     "data": {
      "application/vnd.jupyter.widget-view+json": {
       "model_id": "bff4a18c6a3d45bba440f68812315cb6",
       "version_major": 2,
       "version_minor": 0
      },
      "text/plain": [
       "Running vectorized MCMC with 100 chains:   0%|          | 0/150000 [00:00<?, ?it/s]"
      ]
     },
     "metadata": {},
     "output_type": "display_data"
    },
    {
     "data": {
      "application/vnd.jupyter.widget-view+json": {
       "model_id": "6f4037501259448c8e8a990b97122012",
       "version_major": 2,
       "version_minor": 0
      },
      "text/plain": [
       "Running vectorized MCMC with 100 chains:   0%|          | 0/150000 [00:00<?, ?it/s]"
      ]
     },
     "metadata": {},
     "output_type": "display_data"
    },
    {
     "data": {
      "application/vnd.jupyter.widget-view+json": {
       "model_id": "565c1506acf346ceb0a281eb639dbeb5",
       "version_major": 2,
       "version_minor": 0
      },
      "text/plain": [
       "Running vectorized MCMC with 100 chains:   0%|          | 0/150000 [00:00<?, ?it/s]"
      ]
     },
     "metadata": {},
     "output_type": "display_data"
    },
    {
     "data": {
      "application/vnd.jupyter.widget-view+json": {
       "model_id": "a8f5b7bc5969461489ac5cc6e97eadc3",
       "version_major": 2,
       "version_minor": 0
      },
      "text/plain": [
       "Running vectorized MCMC with 100 chains:   0%|          | 0/150000 [00:00<?, ?it/s]"
      ]
     },
     "metadata": {},
     "output_type": "display_data"
    },
    {
     "data": {
      "application/vnd.jupyter.widget-view+json": {
       "model_id": "b7e0c221bb4548d49c80a09d4e06df7c",
       "version_major": 2,
       "version_minor": 0
      },
      "text/plain": [
       "Running vectorized MCMC with 100 chains:   0%|          | 0/150000 [00:00<?, ?it/s]"
      ]
     },
     "metadata": {},
     "output_type": "display_data"
    },
    {
     "data": {
      "application/vnd.jupyter.widget-view+json": {
       "model_id": "a22ab00ebe0141beb21d3e8f06908162",
       "version_major": 2,
       "version_minor": 0
      },
      "text/plain": [
       "Running vectorized MCMC with 100 chains:   0%|          | 0/150000 [00:00<?, ?it/s]"
      ]
     },
     "metadata": {},
     "output_type": "display_data"
    },
    {
     "name": "stdout",
     "output_type": "stream",
     "text": [
      "No GT for beta:100, obs:2, misspecified, known\n"
     ]
    },
    {
     "data": {
      "application/vnd.jupyter.widget-view+json": {
       "model_id": "64ace82e90344b7ea94f276df0ee2773",
       "version_major": 2,
       "version_minor": 0
      },
      "text/plain": [
       "Running vectorized MCMC with 100 chains:   0%|          | 0/150000 [00:00<?, ?it/s]"
      ]
     },
     "metadata": {},
     "output_type": "display_data"
    },
    {
     "data": {
      "application/vnd.jupyter.widget-view+json": {
       "model_id": "bcdadfaf6fb941ff829f99d45ca64872",
       "version_major": 2,
       "version_minor": 0
      },
      "text/plain": [
       "Running vectorized MCMC with 100 chains:   0%|          | 0/150000 [00:00<?, ?it/s]"
      ]
     },
     "metadata": {},
     "output_type": "display_data"
    },
    {
     "name": "stdout",
     "output_type": "stream",
     "text": [
      "No GT for beta:1000, obs:2, specified, known\n"
     ]
    },
    {
     "data": {
      "application/vnd.jupyter.widget-view+json": {
       "model_id": "e9bbce163f524cc1ba0a760ce92bc5b3",
       "version_major": 2,
       "version_minor": 0
      },
      "text/plain": [
       "Running vectorized MCMC with 100 chains:   0%|          | 0/150000 [00:00<?, ?it/s]"
      ]
     },
     "metadata": {},
     "output_type": "display_data"
    },
    {
     "data": {
      "application/vnd.jupyter.widget-view+json": {
       "model_id": "58ef8cefd4d94072944e9e53e674fd89",
       "version_major": 2,
       "version_minor": 0
      },
      "text/plain": [
       "Running vectorized MCMC with 100 chains:   0%|          | 0/150000 [00:00<?, ?it/s]"
      ]
     },
     "metadata": {},
     "output_type": "display_data"
    },
    {
     "name": "stdout",
     "output_type": "stream",
     "text": [
      "No GT for beta:1000, obs:2, misspecified, known\n"
     ]
    },
    {
     "data": {
      "application/vnd.jupyter.widget-view+json": {
       "model_id": "ea091c28b38c4424918e143ffa4d1657",
       "version_major": 2,
       "version_minor": 0
      },
      "text/plain": [
       "Running vectorized MCMC with 100 chains:   0%|          | 0/150000 [00:00<?, ?it/s]"
      ]
     },
     "metadata": {},
     "output_type": "display_data"
    },
    {
     "name": "stdout",
     "output_type": "stream",
     "text": [
      "No GT for beta:1000, obs:2, misspecified, unknown\n"
     ]
    },
    {
     "data": {
      "application/vnd.jupyter.widget-view+json": {
       "model_id": "7ac83fbf69cd47b3b6a83f5fde597d49",
       "version_major": 2,
       "version_minor": 0
      },
      "text/plain": [
       "Running vectorized MCMC with 100 chains:   0%|          | 0/150000 [00:00<?, ?it/s]"
      ]
     },
     "metadata": {},
     "output_type": "display_data"
    },
    {
     "data": {
      "application/vnd.jupyter.widget-view+json": {
       "model_id": "9e41fe4fffc7445eac9e1bd98df57e1a",
       "version_major": 2,
       "version_minor": 0
      },
      "text/plain": [
       "Running vectorized MCMC with 100 chains:   0%|          | 0/150000 [00:00<?, ?it/s]"
      ]
     },
     "metadata": {},
     "output_type": "display_data"
    },
    {
     "data": {
      "application/vnd.jupyter.widget-view+json": {
       "model_id": "75f04be475d648609a64b7e08f523f3d",
       "version_major": 2,
       "version_minor": 0
      },
      "text/plain": [
       "Running vectorized MCMC with 100 chains:   0%|          | 0/150000 [00:00<?, ?it/s]"
      ]
     },
     "metadata": {},
     "output_type": "display_data"
    },
    {
     "data": {
      "application/vnd.jupyter.widget-view+json": {
       "model_id": "cc3a18d45e4b4431892d284df021e6b5",
       "version_major": 2,
       "version_minor": 0
      },
      "text/plain": [
       "Running vectorized MCMC with 100 chains:   0%|          | 0/150000 [00:00<?, ?it/s]"
      ]
     },
     "metadata": {},
     "output_type": "display_data"
    },
    {
     "data": {
      "application/vnd.jupyter.widget-view+json": {
       "model_id": "f2e9e80d39e84c66be02613a3d3bf147",
       "version_major": 2,
       "version_minor": 0
      },
      "text/plain": [
       "Running vectorized MCMC with 100 chains:   0%|          | 0/150000 [00:00<?, ?it/s]"
      ]
     },
     "metadata": {},
     "output_type": "display_data"
    }
   ],
   "source": [
    "\n",
    "\n",
    "### Define task and distance function.\n",
    "distance_func = distances.mse_dist\n",
    "if task_name == \"linear_gaussian\":\n",
    "    Task = LinearGaussian\n",
    "elif task_name == \"two_moons\":\n",
    "    Task = TwoMoonsGBI\n",
    "elif task_name == \"uniform_1d\":\n",
    "    Task = UniformNoise1D\n",
    "elif task_name == \"gaussian_mixture\":\n",
    "    Task = GaussianMixture\n",
    "    distance_func = distances.mmd_dist\n",
    "else:\n",
    "    raise NameError\n",
    "\n",
    "### Sample and simulate from task.\n",
    "# Set seed\n",
    "if seed is None:\n",
    "    seed = int((time.time() % 1) * 1e7)\n",
    "else:\n",
    "    seed = seed\n",
    "# np.savetxt(full_path_prepend + \"seed.txt\", np.asarray([seed]))\n",
    "\n",
    "collector = []\n",
    "for xo_idx in range(10):\n",
    "    for beta in betas:\n",
    "        for is_specified in ['specified', 'misspecified']:\n",
    "            for is_known in ['known', 'unknown']:\n",
    "                # Sample and simulate.\n",
    "                _ = torch.manual_seed(seed)\n",
    "                _ = np.random.seed(seed=seed)\n",
    "\n",
    "\n",
    "                # Set ground-truth task.\n",
    "                x_os = gbi_utils.pickle_load(observation_folder + f'/xo_{is_specified}_{is_known}.pkl')\n",
    "                x_o = x_os[xo_idx]\n",
    "                task = Task(seed=seed, x_o=x_o, beta=beta)\n",
    "\n",
    "                # Load inference object.\n",
    "                inference_gbi = gbi_utils.pickle_load(inference_folder + f'GBI.pickle')\n",
    "                inference_npe = gbi_utils.pickle_load(inference_folder + f'NPE.pickle')\n",
    "\n",
    "                # Sample.\n",
    "                posterior_samples_gbi = sample_GBI(inference_gbi, x_o, beta, task, n_posterior_samples)\n",
    "                # posterior_samples_npe = sample_NPE(inference_npe, x_o, task, n_posterior_samples)\n",
    "                posterior_samples_npe = posterior_samples_gbi\n",
    "                \n",
    "                # Ground-truth samples.\n",
    "                try:\n",
    "                    posterior_samples_gt = gbi_utils.pickle_load(gt_folder + f'/beta_{beta}/obs_{xo_idx}_{is_specified}_{is_known}/rejection_samples.pkl')\n",
    "                    posterior_samples_gt = posterior_samples_gt[:n_posterior_samples]\n",
    "                except:\n",
    "                    print(f\"No GT for beta:{beta}, obs:{xo_idx}, {is_specified}, {is_known}\")\n",
    "                    posterior_samples_gt = torch.zeros(posterior_samples_npe.size())\n",
    "\n",
    "\n",
    "                # Evaluate.\n",
    "                # C2ST GBI vs. GT\n",
    "                c2st = C2ST(posterior_samples_gbi, posterior_samples_gt)\n",
    "\n",
    "                # Posterior predictive distance.\n",
    "                ppd_gt = distance_func(task.simulate(posterior_samples_gt).unsqueeze(1), x_o)\n",
    "                ppd_gbi = distance_func(task.simulate(posterior_samples_gbi).unsqueeze(1), x_o)\n",
    "                ppd_npe = distance_func(task.simulate(posterior_samples_npe).unsqueeze(1), x_o)\n",
    "\n",
    "                # Collect.\n",
    "                summary = [task_name, is_specified, is_known, xo_idx, beta, \n",
    "                           float(c2st.squeeze()), float(ppd_gt.mean()), float(ppd_gt.std()), float(ppd_npe.mean()), float(ppd_npe.std()), float(ppd_gbi.mean()), float(ppd_gbi.std())]\n",
    "                collector.append(summary)\n",
    "\n",
    "            \n",
    "col_names = ['task', 'is_specified', 'is_known', 'obs_idx', 'beta', 'c2st', 'ppd_gt_mean', 'ppd_gt_std','ppd_npe_mean', 'ppd_npe_std','ppd_gbi_mean', 'ppd_gbi_std']\n",
    "dtypes = [str, str, str, int, float, float, float, float, float, float, float, float]\n",
    "df_summary = pd.DataFrame(np.array(collector), columns=col_names)\n",
    "df_summary = df_summary.astype({col_names[i]: dtypes[i] for i in range(len(col_names))})\n",
    "df_summary.to_csv(f'./df_{task_name}.csv')"
   ]
  },
  {
   "cell_type": "code",
   "execution_count": 16,
   "id": "3249e7b5-1377-44e6-9c13-45a03c2e1f1c",
   "metadata": {},
   "outputs": [],
   "source": [
    "col_names = ['task', 'is_specified', 'is_known', 'obs_idx', 'beta', 'c2st', 'ppd_gt_mean', 'ppd_gt_std','ppd_npe_mean', 'ppd_npe_std','ppd_gbi_mean', 'ppd_gbi_std']\n",
    "dtypes = [str, str, str, int, float, float, float, float, float, float, float, float]\n",
    "df_summary = pd.DataFrame(np.array(collector), columns=col_names)\n",
    "df_summary = df_summary.astype({col_names[i]: dtypes[i] for i in range(len(col_names))})\n",
    "df_summary.to_csv(f'./df_{task_name}.csv')"
   ]
  },
  {
   "cell_type": "code",
   "execution_count": 15,
   "id": "4670b7e9-0eb1-4fc5-938e-3e07896fe3e9",
   "metadata": {},
   "outputs": [
    {
     "data": {
      "text/plain": [
       "120"
      ]
     },
     "execution_count": 15,
     "metadata": {},
     "output_type": "execute_result"
    }
   ],
   "source": [
    "len(collector)"
   ]
  },
  {
   "cell_type": "code",
   "execution_count": 282,
   "id": "022510ec-9d24-4e69-97b5-62ad6521bc0d",
   "metadata": {},
   "outputs": [],
   "source": [
    "\n",
    "\n",
    "\n",
    "# plt.hist(ppd_gbi.squeeze(), 100);\n",
    "# plt.hist(ppd_npe.squeeze(), 100);\n",
    "# c2st"
   ]
  },
  {
   "cell_type": "code",
   "execution_count": 17,
   "id": "be3dbc41-cea1-4ed6-83b7-a8d2a4c1c7ce",
   "metadata": {},
   "outputs": [
    {
     "name": "stdout",
     "output_type": "stream",
     "text": [
      "specified known\n",
      "specified unknown\n",
      "misspecified known\n",
      "misspecified unknown\n"
     ]
    },
    {
     "data": {
      "image/png": "[encoded data removed]",
      "text/plain": [
       "<Figure size 800x400 with 2 Axes>"
      ]
     },
     "metadata": {},
     "output_type": "display_data"
    }
   ],
   "source": [
    "# with plt.rc_context(fname=\"../.matplotlibrc\"):\n",
    "plt.figure(figsize=(8,4))\n",
    "markers = ['*', 'o', 's', '^']\n",
    "ctr = 0\n",
    "for i_s, is_specified in enumerate(['specified', 'misspecified']):\n",
    "    for i_k, is_known in enumerate(['known', 'unknown']):\n",
    "        print(is_specified, is_known)\n",
    "        df_curr = df_summary[(df_summary['is_specified']==is_specified) & (df_summary['is_known']==is_known)]\n",
    "        \n",
    "        \n",
    "        for i_r, (beta, rows) in enumerate(df_curr.groupby('beta')):\n",
    "            plt.subplot(1,2,1)\n",
    "            plt.errorbar(rows['ppd_npe_mean'].values, rows['ppd_gbi_mean'].values, \n",
    "                         xerr=rows['ppd_npe_std'].values/100*3, yerr=rows['ppd_gbi_std'].values/100*3, fmt=f'k', ls='', alpha=0.5)\n",
    "\n",
    "            plt.plot(rows['ppd_npe_mean'].values, rows['ppd_gbi_mean'].values, \n",
    "                     f'C{i_r}', \n",
    "                     mfc='k' if i_s==1 else 'w', \n",
    "                     marker='o' if i_k==0 else 's',\n",
    "                     mew=1,\n",
    "                     ls='',\n",
    "                     alpha=0.5)\n",
    "        \n",
    "            plt.subplot(1,2,2)\n",
    "            plt.plot(i_r*np.ones_like(rows['c2st'])+np.random.randn(len(rows))*0.05, rows['c2st'], f'C{i_r}', \n",
    "                     mfc='k' if i_s==1 else 'w', \n",
    "                     marker='o' if i_k==0 else 's',\n",
    "                     mew=1,\n",
    "                     ls='',\n",
    "                     alpha=0.5\n",
    "                    )\n",
    "        ctr+=1\n",
    "\n",
    "plt.subplot(1,2,1)\n",
    "plt.plot([0,.5], [0,.5], 'r--')\n",
    "plt.xlabel('mean post. pred. distance (NPE)'); plt.ylabel('mean post. pred. distance (GBI)'); \n",
    "plt.xlim([0, None]);    plt.ylim([0, None]);\n",
    "plt.xticks([0,0.25]);plt.yticks([0,0.25, 0.5]);\n",
    "plt.gca().spines[['right', 'top']].set_visible(False)\n",
    "\n",
    "plt.subplot(1,2,2)\n",
    "plt.axhline(0.5, color='r', ls='--')\n",
    "plt.gca().spines[['right', 'top']].set_visible(False)\n",
    "plt.xlabel('beta');plt.ylabel('C2ST'); \n",
    "plt.xticks([0,1,2], labels=betas);plt.yticks([0.5, 0.55, 0.6, 0.65]);\n",
    "\n",
    "plt.tight_layout()"
   ]
  },
  {
   "cell_type": "code",
   "execution_count": null,
   "id": "06c848d1-8355-4d25-833a-51d522115dac",
   "metadata": {},
   "outputs": [],
   "source": []
  },
  {
   "cell_type": "code",
   "execution_count": null,
   "id": "30430b68-b25c-425d-aa77-7427a95b9e52",
   "metadata": {},
   "outputs": [],
   "source": []
  },
  {
   "cell_type": "code",
   "execution_count": null,
   "id": "c916c744-3f81-4acf-8438-d4b9716cdb18",
   "metadata": {},
   "outputs": [],
   "source": []
  },
  {
   "cell_type": "code",
   "execution_count": null,
   "id": "68b52aaa-0b82-4bbe-bf31-8865c2d82967",
   "metadata": {},
   "outputs": [],
   "source": []
  },
  {
   "cell_type": "code",
   "execution_count": null,
   "id": "1641bae6-1a31-4c81-8549-189114fbbb25",
   "metadata": {},
   "outputs": [],
   "source": []
  },
  {
   "cell_type": "code",
   "execution_count": 117,
   "id": "c7df7f3e-081c-42fc-b4b7-1124b90c2dd2",
   "metadata": {},
   "outputs": [
    {
     "data": {
      "text/plain": [
       "tensor([-0.4540, -0.4283, -0.3058,  ..., -0.3525, -0.3588, -0.6657],\n",
       "       grad_fn=<AddBackward0>)"
      ]
     },
     "execution_count": 117,
     "metadata": {},
     "output_type": "execute_result"
    }
   ],
   "source": [
    "\n",
    "def tempered_potential(potential_fn, beta):\n",
    "    return potential_fn(posterior_samples)"
   ]
  },
  {
   "cell_type": "code",
   "execution_count": 94,
   "id": "09b57a96-2386-45ba-93f2-5b048b7cb33e",
   "metadata": {},
   "outputs": [],
   "source": [
    "posterior_predictives = task.simulate(posterior_samples)"
   ]
  },
  {
   "cell_type": "code",
   "execution_count": 97,
   "id": "067020ef-6001-4913-aa04-89fe585e8a23",
   "metadata": {},
   "outputs": [
    {
     "data": {
      "text/plain": [
       "(tensor([0.0069, 0.0276, 0.0002,  ..., 0.0494, 0.0203, 0.0225]),\n",
       " tensor([0.0069, 0.0276, 0.0002,  ..., 0.0494, 0.0203, 0.0225]))"
      ]
     },
     "execution_count": 97,
     "metadata": {},
     "output_type": "execute_result"
    },
    {
     "data": {
      "image/png": "[encoded data removed]",
      "text/plain": [
       "<Figure size 640x480 with 1 Axes>"
      ]
     },
     "metadata": {},
     "output_type": "display_data"
    }
   ],
   "source": [
    "\n",
    "ppd = distance_func(posterior_predictives.unsqueeze(1), x_o)\n",
    "\n",
    "plt.loglog(ppd, (posterior_predictives-x_o).pow(2).mean(1), '.')\n",
    "ppd, (posterior_predictives-x_o).pow(2).mean(1)"
   ]
  },
  {
   "cell_type": "code",
   "execution_count": 69,
   "id": "359d1822-f66f-4c7c-980f-879c3fe2255a",
   "metadata": {},
   "outputs": [
    {
     "data": {
      "text/plain": [
       "tensor([0.8349])"
      ]
     },
     "execution_count": 69,
     "metadata": {},
     "output_type": "execute_result"
    }
   ],
   "source": [
    "c2st(posterior_samples, gt_samples)"
   ]
  },
  {
   "cell_type": "code",
   "execution_count": 107,
   "id": "70cbc4d7-5c3b-450f-8971-57ea740c96e3",
   "metadata": {},
   "outputs": [
    {
     "data": {
      "image/png": "[encoded data removed]",
      "text/plain": [
       "<Figure size 640x480 with 1 Axes>"
      ]
     },
     "metadata": {},
     "output_type": "display_data"
    }
   ],
   "source": [
    "# plt.plot(gt_samples, torch.ones(gt_samples.size()), '.', alpha=0.1)\n",
    "plt.hist(gt_samples.numpy().squeeze(), 50, histtype='step');\n",
    "plt.hist(posterior_samples.numpy().squeeze(), 50, histtype='step');\n",
    "plt.hist(posterior_samples_npe.numpy().squeeze(), 50, histtype='step');\n",
    "\n",
    "# c2st(posterior_samples, gt_samples)"
   ]
  },
  {
   "cell_type": "code",
   "execution_count": null,
   "id": "3ccc3162-5caa-4e95-ba9e-70f17ef21576",
   "metadata": {},
   "outputs": [],
   "source": [
    "task = UniformNoise1D()\n",
    "\n",
    "# Train inference algorithms.\n",
    "task.dist_func_gbi = distance_func\n",
    "\n",
    "# Get trained inference object.\n",
    "inference = gbi_utils.pickle_load(inference_folder + 'NPE.pickle')\n",
    "print(inference)"
   ]
  },
  {
   "cell_type": "code",
   "execution_count": null,
   "id": "cfe5b19a-9fd5-43bf-a725-3023bd313298",
   "metadata": {},
   "outputs": [],
   "source": []
  }
 ],
 "metadata": {
  "kernelspec": {
   "display_name": "Python 3",
   "language": "python",
   "name": "python3"
  },
  "language_info": {
   "codemirror_mode": {
    "name": "ipython",
    "version": 3
   },
   "file_extension": ".py",
   "mimetype": "text/x-python",
   "name": "python",
   "nbconvert_exporter": "python",
   "pygments_lexer": "ipython3",
   "version": "3.8.13"
  }
 },
 "nbformat": 4,
 "nbformat_minor": 5
}
