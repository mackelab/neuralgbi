{
 "cells": [
  {
   "cell_type": "code",
   "execution_count": 145,
   "id": "85dce5b6-dbcf-47dc-a4d9-3c4810825643",
   "metadata": {},
   "outputs": [],
   "source": [
    "%matplotlib inline\n",
    "import matplotlib.pyplot as plt\n",
    "\n",
    "import pickle\n",
    "import os\n",
    "import torch\n",
    "from torch import Tensor\n",
    "import numpy as np\n",
    "import time\n",
    "\n",
    "import hydra\n",
    "from omegaconf import DictConfig, OmegaConf\n",
    "from hydra.utils import get_original_cwd, to_absolute_path\n",
    "\n",
    "import logging\n",
    "\n",
    "from sbi.inference import MCMCPosterior\n",
    "from sbi.utils import mcmc_transform\n",
    "from sbi.utils.metrics import c2st as C2ST\n",
    "\n",
    "from pathlib import Path\n",
    "\n",
    "# Algorithm imports.\n",
    "from sbi.inference import SNPE, SNLE, likelihood_estimator_based_potential\n",
    "from gbi.GBI import GBInference\n",
    "import gbi.utils.utils as gbi_utils\n",
    "\n",
    "# Task imports.\n",
    "from gbi.benchmark.tasks.uniform_1d.task import UniformNoise1D\n",
    "from gbi.benchmark.tasks.two_moons.task import TwoMoonsGBI\n",
    "from gbi.benchmark.tasks.linear_gaussian.task import LinearGaussian\n",
    "from gbi.benchmark.tasks.gaussian_mixture.task import GaussianMixture\n",
    "from gbi import distances\n",
    "\n",
    "import pandas as pd"
   ]
  },
  {
   "cell_type": "code",
   "execution_count": 118,
   "id": "1f4577c7-8932-4b7e-b45d-98dc49706487",
   "metadata": {},
   "outputs": [],
   "source": [
    "def sample_GBI(inference, x_o, beta, task, n_samples=10_000):\n",
    "    potential_fn = inference.get_potential(x_o=x_o, beta=beta)\n",
    "    theta_transform = mcmc_transform(task.prior)\n",
    "    posterior = MCMCPosterior(\n",
    "            potential_fn,\n",
    "            theta_transform=theta_transform,\n",
    "            proposal=task.prior,\n",
    "            method=\"slice_np_vectorized\",\n",
    "            thin=10,\n",
    "            warmup_steps=50,\n",
    "            num_chains=100,\n",
    "            init_strategy=\"resample\",\n",
    "        )\n",
    "    posterior_samples = posterior.sample((n_samples,))\n",
    "    return posterior_samples\n",
    "\n",
    "def sample_NPE(inference, x_o, task, n_samples=10_000):\n",
    "    return inference.build_posterior(prior=task.prior).set_default_x(x_o).sample((n_samples,))\n",
    "\n",
    "# inference_nle = gbi_utils.pickle_load(inference_folder + f'NLE.pickle')\n",
    "# def sample_NLE(inference, x_o, beta, task, n_samples=10_000):\n",
    "#     potential_fn, parameter_transform = likelihood_estimator_based_potential(\n",
    "#     inference_nle._neural_net, task.prior, x_o\n",
    "#     )\n",
    "#     potential_fn = inference.get_potential(x_o=x_o, beta=beta)\n",
    "#     theta_transform = mcmc_transform(task.prior)\n",
    "#     posterior = MCMCPosterior(\n",
    "#             potential_fn,\n",
    "#             theta_transform=theta_transform,\n",
    "#             proposal=task.prior,\n",
    "#             method=\"slice_np_vectorized\",\n",
    "#             thin=10,\n",
    "#             warmup_steps=50,\n",
    "#             num_chains=100,\n",
    "#             init_strategy=\"resample\",\n",
    "#         )\n",
    "#     posterior_samples = posterior.sample((n_samples,))\n",
    "#     return posterior_samples"
   ]
  },
  {
   "cell_type": "code",
   "execution_count": 32,
   "id": "59fc1352-4dc1-42a5-bba7-d139ab8f52de",
   "metadata": {},
   "outputs": [],
   "source": [
    "task_name = \"uniform_1d\"\n",
    "seed = 0\n",
    "is_specified = 'specified'\n",
    "is_known = 'known'\n",
    "xo_idx = 0\n",
    "beta = 4\n"
   ]
  },
  {
   "cell_type": "code",
   "execution_count": 185,
   "id": "b13b63b2-c9fd-460a-ae85-b6f07cfe5b31",
   "metadata": {},
   "outputs": [
    {
     "name": "stdout",
     "output_type": "stream",
     "text": [
      "../gbi/benchmark/run_algorithms//../tasks/uniform_1d/\n"
     ]
    },
    {
     "data": {
      "application/vnd.jupyter.widget-view+json": {
       "model_id": "4ac453a492464502bcfbd342367083dd",
       "version_major": 2,
       "version_minor": 0
      },
      "text/plain": [
       "Running vectorized MCMC with 100 chains:   0%|          | 0/150000 [00:00<?, ?it/s]"
      ]
     },
     "metadata": {},
     "output_type": "display_data"
    },
    {
     "data": {
      "application/vnd.jupyter.widget-view+json": {
       "model_id": "09cafbe5a6b442cfa79b9d60c706c997",
       "version_major": 2,
       "version_minor": 0
      },
      "text/plain": [
       "Drawing 10000 posterior samples:   0%|          | 0/10000 [00:00<?, ?it/s]"
      ]
     },
     "metadata": {},
     "output_type": "display_data"
    },
    {
     "data": {
      "application/vnd.jupyter.widget-view+json": {
       "model_id": "ca5d227552fa4d6fb79d79a3d41abeeb",
       "version_major": 2,
       "version_minor": 0
      },
      "text/plain": [
       "Running vectorized MCMC with 100 chains:   0%|          | 0/150000 [00:00<?, ?it/s]"
      ]
     },
     "metadata": {},
     "output_type": "display_data"
    },
    {
     "data": {
      "application/vnd.jupyter.widget-view+json": {
       "model_id": "209f1ed101a04cb48f0a7587a09c1643",
       "version_major": 2,
       "version_minor": 0
      },
      "text/plain": [
       "Drawing 10000 posterior samples:   0%|          | 0/10000 [00:00<?, ?it/s]"
      ]
     },
     "metadata": {},
     "output_type": "display_data"
    },
    {
     "data": {
      "application/vnd.jupyter.widget-view+json": {
       "model_id": "363463e8f3b44e91b362cd2cc8adaac2",
       "version_major": 2,
       "version_minor": 0
      },
      "text/plain": [
       "Running vectorized MCMC with 100 chains:   0%|          | 0/150000 [00:00<?, ?it/s]"
      ]
     },
     "metadata": {},
     "output_type": "display_data"
    },
    {
     "data": {
      "application/vnd.jupyter.widget-view+json": {
       "model_id": "c22ac1ebe2834b63a6fa55b97616f6bc",
       "version_major": 2,
       "version_minor": 0
      },
      "text/plain": [
       "Drawing 10000 posterior samples:   0%|          | 0/10000 [00:00<?, ?it/s]"
      ]
     },
     "metadata": {},
     "output_type": "display_data"
    },
    {
     "data": {
      "application/vnd.jupyter.widget-view+json": {
       "model_id": "4408d611f97e4446a9e3233bcb1ec828",
       "version_major": 2,
       "version_minor": 0
      },
      "text/plain": [
       "Running vectorized MCMC with 100 chains:   0%|          | 0/150000 [00:00<?, ?it/s]"
      ]
     },
     "metadata": {},
     "output_type": "display_data"
    },
    {
     "data": {
      "application/vnd.jupyter.widget-view+json": {
       "model_id": "5938e22c4b584ed0bc01d8a7d1f21f61",
       "version_major": 2,
       "version_minor": 0
      },
      "text/plain": [
       "Drawing 10000 posterior samples:   0%|          | 0/10000 [00:00<?, ?it/s]"
      ]
     },
     "metadata": {},
     "output_type": "display_data"
    },
    {
     "data": {
      "application/vnd.jupyter.widget-view+json": {
       "model_id": "831c308b486d4ff681292a0a85402816",
       "version_major": 2,
       "version_minor": 0
      },
      "text/plain": [
       "Running vectorized MCMC with 100 chains:   0%|          | 0/150000 [00:00<?, ?it/s]"
      ]
     },
     "metadata": {},
     "output_type": "display_data"
    },
    {
     "data": {
      "application/vnd.jupyter.widget-view+json": {
       "model_id": "1089f11a28a448d1b105ae1535f1c11b",
       "version_major": 2,
       "version_minor": 0
      },
      "text/plain": [
       "Drawing 10000 posterior samples:   0%|          | 0/10000 [00:00<?, ?it/s]"
      ]
     },
     "metadata": {},
     "output_type": "display_data"
    },
    {
     "data": {
      "application/vnd.jupyter.widget-view+json": {
       "model_id": "983d8f15d3f4493ba65b33cebfd10abd",
       "version_major": 2,
       "version_minor": 0
      },
      "text/plain": [
       "Running vectorized MCMC with 100 chains:   0%|          | 0/150000 [00:00<?, ?it/s]"
      ]
     },
     "metadata": {},
     "output_type": "display_data"
    },
    {
     "data": {
      "application/vnd.jupyter.widget-view+json": {
       "model_id": "e0e582d2572a451e96f8e0431ede4c4f",
       "version_major": 2,
       "version_minor": 0
      },
      "text/plain": [
       "Drawing 10000 posterior samples:   0%|          | 0/10000 [00:00<?, ?it/s]"
      ]
     },
     "metadata": {},
     "output_type": "display_data"
    },
    {
     "data": {
      "application/vnd.jupyter.widget-view+json": {
       "model_id": "8a245abb25094967b732b2f749bb07e7",
       "version_major": 2,
       "version_minor": 0
      },
      "text/plain": [
       "Running vectorized MCMC with 100 chains:   0%|          | 0/150000 [00:00<?, ?it/s]"
      ]
     },
     "metadata": {},
     "output_type": "display_data"
    },
    {
     "data": {
      "application/vnd.jupyter.widget-view+json": {
       "model_id": "92b4f063080e49418edf329a1a1bb529",
       "version_major": 2,
       "version_minor": 0
      },
      "text/plain": [
       "Drawing 10000 posterior samples:   0%|          | 0/10000 [00:00<?, ?it/s]"
      ]
     },
     "metadata": {},
     "output_type": "display_data"
    },
    {
     "data": {
      "application/vnd.jupyter.widget-view+json": {
       "model_id": "422d91e4d8324376baefa89977e8f0aa",
       "version_major": 2,
       "version_minor": 0
      },
      "text/plain": [
       "Running vectorized MCMC with 100 chains:   0%|          | 0/150000 [00:00<?, ?it/s]"
      ]
     },
     "metadata": {},
     "output_type": "display_data"
    },
    {
     "data": {
      "application/vnd.jupyter.widget-view+json": {
       "model_id": "cc7e4edb4706460496e612ab4525416b",
       "version_major": 2,
       "version_minor": 0
      },
      "text/plain": [
       "Drawing 10000 posterior samples:   0%|          | 0/10000 [00:00<?, ?it/s]"
      ]
     },
     "metadata": {},
     "output_type": "display_data"
    }
   ],
   "source": [
    "\n",
    "# Get high-level path.\n",
    "# dir_path = get_original_cwd()\n",
    "\n",
    "dir_path = '../gbi/benchmark/run_algorithms/'\n",
    "full_path_prepend = f\"{dir_path}/../tasks/{task_name}/\"\n",
    "print(full_path_prepend)\n",
    "\n",
    "# Get inference directory.\n",
    "inference_folder = full_path_prepend + \"/trained_inference/\"    \n",
    "\n",
    "# Get observation directory.\n",
    "observation_folder = full_path_prepend + \"/xos/\"\n",
    "\n",
    "# Get GT sample directory.\n",
    "gt_folder = f'../results/benchmark/ground_truths/{task_name}/2023_01_23__17_34_09/'\n",
    "\n",
    "### Define task and distance function.\n",
    "distance_func = distances.mse_dist\n",
    "if task_name == \"linear_gaussian\":\n",
    "    Task = LinearGaussian\n",
    "elif task_name == \"two_moons\":\n",
    "    Task = TwoMoonsGBI\n",
    "elif task_name == \"uniform_1d\":\n",
    "    Task = UniformNoise1D\n",
    "elif task_name == \"gaussian_mixture\":\n",
    "    Task = GaussianMixture\n",
    "    distance_func = distances.mmd_dist\n",
    "else:\n",
    "    raise NameError\n",
    "\n",
    "### Sample and simulate from task.\n",
    "# Set seed\n",
    "if seed is None:\n",
    "    seed = int((time.time() % 1) * 1e7)\n",
    "else:\n",
    "    seed = seed\n",
    "# np.savetxt(full_path_prepend + \"seed.txt\", np.asarray([seed]))\n",
    "\n",
    "collector = []\n",
    "for xo_idx in range(2):\n",
    "    for is_specified in ['specified', 'misspecified']:\n",
    "        for is_known in ['known', 'unknown']:\n",
    "            # Sample and simulate.\n",
    "            _ = torch.manual_seed(seed)\n",
    "            _ = np.random.seed(seed=seed)\n",
    "\n",
    "            # Ground-truth samples.\n",
    "            posterior_samples_gt = gbi_utils.pickle_load(gt_folder + f'/beta_{beta}/obs_{xo_idx}_{is_specified}_{is_known}/rejection_samples.pkl')\n",
    "\n",
    "            # Set ground-truth task.\n",
    "            x_os = gbi_utils.pickle_load(observation_folder + f'/xo_{is_specified}_{is_known}.pkl')\n",
    "            x_o = x_os[xo_idx]\n",
    "            task = Task(seed=seed, x_o=x_o, beta=beta)\n",
    "\n",
    "            # Load inference object.\n",
    "            inference_gbi = gbi_utils.pickle_load(inference_folder + f'GBI.pickle')\n",
    "            inference_npe = gbi_utils.pickle_load(inference_folder + f'NPE.pickle')\n",
    "\n",
    "            # Sample.\n",
    "            posterior_samples_gbi = sample_GBI(inference_gbi, x_o, beta, task, 10_000)\n",
    "            posterior_samples_npe = sample_NPE(inference_npe, x_o, task, 10_000)\n",
    "\n",
    "            # Evaluate.\n",
    "            # C2ST GBI vs. GT\n",
    "            c2st = C2ST(posterior_samples_gbi, posterior_samples_gt)\n",
    "\n",
    "            # Posterior predictive distance.\n",
    "            ppd_gt = distance_func(task.simulate(posterior_samples_gt).unsqueeze(1), x_o)\n",
    "            ppd_gbi = distance_func(task.simulate(posterior_samples_gbi).unsqueeze(1), x_o)\n",
    "            ppd_npe = distance_func(task.simulate(posterior_samples_npe).unsqueeze(1), x_o)\n",
    "\n",
    "            # Collect.\n",
    "            summary = [task_name, is_specified, is_known, xo_idx, beta, \n",
    "                       float(c2st.squeeze()), float(ppd_gt.mean()), float(ppd_gt.std()), float(ppd_npe.mean()), float(ppd_npe.std()), float(ppd_gbi.mean()), float(ppd_gbi.std())]\n",
    "            collector.append(summary)"
   ]
  },
  {
   "cell_type": "code",
   "execution_count": 186,
   "id": "022510ec-9d24-4e69-97b5-62ad6521bc0d",
   "metadata": {},
   "outputs": [
    {
     "data": {
      "text/html": [
       "<div>\n",
       "<style scoped>\n",
       "    .dataframe tbody tr th:only-of-type {\n",
       "        vertical-align: middle;\n",
       "    }\n",
       "\n",
       "    .dataframe tbody tr th {\n",
       "        vertical-align: top;\n",
       "    }\n",
       "\n",
       "    .dataframe thead th {\n",
       "        text-align: right;\n",
       "    }\n",
       "</style>\n",
       "<table border=\"1\" class=\"dataframe\">\n",
       "  <thead>\n",
       "    <tr style=\"text-align: right;\">\n",
       "      <th></th>\n",
       "      <th>task</th>\n",
       "      <th>is_specified</th>\n",
       "      <th>is_known</th>\n",
       "      <th>obs_idx</th>\n",
       "      <th>beta</th>\n",
       "      <th>c2st</th>\n",
       "      <th>ppd_gt_mean</th>\n",
       "      <th>ppd_gt_std</th>\n",
       "      <th>ppd_npe_mean</th>\n",
       "      <th>ppd_npe_std</th>\n",
       "      <th>ppd_gbi_mean</th>\n",
       "      <th>ppd_gbi_std</th>\n",
       "    </tr>\n",
       "  </thead>\n",
       "  <tbody>\n",
       "    <tr>\n",
       "      <th>0</th>\n",
       "      <td>uniform_1d</td>\n",
       "      <td>specified</td>\n",
       "      <td>known</td>\n",
       "      <td>0</td>\n",
       "      <td>4.0</td>\n",
       "      <td>0.50015</td>\n",
       "      <td>0.063430</td>\n",
       "      <td>0.079582</td>\n",
       "      <td>0.045597</td>\n",
       "      <td>0.056811</td>\n",
       "      <td>0.064272</td>\n",
       "      <td>0.081837</td>\n",
       "    </tr>\n",
       "    <tr>\n",
       "      <th>1</th>\n",
       "      <td>uniform_1d</td>\n",
       "      <td>specified</td>\n",
       "      <td>unknown</td>\n",
       "      <td>0</td>\n",
       "      <td>4.0</td>\n",
       "      <td>0.50245</td>\n",
       "      <td>0.080202</td>\n",
       "      <td>0.105871</td>\n",
       "      <td>0.039740</td>\n",
       "      <td>0.054657</td>\n",
       "      <td>0.080935</td>\n",
       "      <td>0.108326</td>\n",
       "    </tr>\n",
       "    <tr>\n",
       "      <th>2</th>\n",
       "      <td>uniform_1d</td>\n",
       "      <td>misspecified</td>\n",
       "      <td>known</td>\n",
       "      <td>0</td>\n",
       "      <td>4.0</td>\n",
       "      <td>0.50220</td>\n",
       "      <td>0.307024</td>\n",
       "      <td>0.237235</td>\n",
       "      <td>0.159092</td>\n",
       "      <td>0.115393</td>\n",
       "      <td>0.308767</td>\n",
       "      <td>0.240647</td>\n",
       "    </tr>\n",
       "    <tr>\n",
       "      <th>3</th>\n",
       "      <td>uniform_1d</td>\n",
       "      <td>misspecified</td>\n",
       "      <td>unknown</td>\n",
       "      <td>0</td>\n",
       "      <td>4.0</td>\n",
       "      <td>0.50560</td>\n",
       "      <td>0.563630</td>\n",
       "      <td>0.439623</td>\n",
       "      <td>0.139157</td>\n",
       "      <td>0.161939</td>\n",
       "      <td>0.570207</td>\n",
       "      <td>0.448708</td>\n",
       "    </tr>\n",
       "    <tr>\n",
       "      <th>4</th>\n",
       "      <td>uniform_1d</td>\n",
       "      <td>specified</td>\n",
       "      <td>known</td>\n",
       "      <td>1</td>\n",
       "      <td>4.0</td>\n",
       "      <td>0.49585</td>\n",
       "      <td>0.060649</td>\n",
       "      <td>0.076807</td>\n",
       "      <td>0.043905</td>\n",
       "      <td>0.054379</td>\n",
       "      <td>0.061604</td>\n",
       "      <td>0.078120</td>\n",
       "    </tr>\n",
       "    <tr>\n",
       "      <th>5</th>\n",
       "      <td>uniform_1d</td>\n",
       "      <td>specified</td>\n",
       "      <td>unknown</td>\n",
       "      <td>1</td>\n",
       "      <td>4.0</td>\n",
       "      <td>0.50425</td>\n",
       "      <td>0.103584</td>\n",
       "      <td>0.132468</td>\n",
       "      <td>0.042284</td>\n",
       "      <td>0.057984</td>\n",
       "      <td>0.106954</td>\n",
       "      <td>0.136641</td>\n",
       "    </tr>\n",
       "    <tr>\n",
       "      <th>6</th>\n",
       "      <td>uniform_1d</td>\n",
       "      <td>misspecified</td>\n",
       "      <td>known</td>\n",
       "      <td>1</td>\n",
       "      <td>4.0</td>\n",
       "      <td>0.51115</td>\n",
       "      <td>0.244901</td>\n",
       "      <td>0.216994</td>\n",
       "      <td>0.110299</td>\n",
       "      <td>0.095536</td>\n",
       "      <td>0.246576</td>\n",
       "      <td>0.220462</td>\n",
       "    </tr>\n",
       "    <tr>\n",
       "      <th>7</th>\n",
       "      <td>uniform_1d</td>\n",
       "      <td>misspecified</td>\n",
       "      <td>unknown</td>\n",
       "      <td>1</td>\n",
       "      <td>4.0</td>\n",
       "      <td>0.50205</td>\n",
       "      <td>0.248264</td>\n",
       "      <td>0.219048</td>\n",
       "      <td>0.112151</td>\n",
       "      <td>0.095462</td>\n",
       "      <td>0.248766</td>\n",
       "      <td>0.218832</td>\n",
       "    </tr>\n",
       "  </tbody>\n",
       "</table>\n",
       "</div>"
      ],
      "text/plain": [
       "         task  is_specified is_known  obs_idx  beta     c2st  ppd_gt_mean  \\\n",
       "0  uniform_1d     specified    known        0   4.0  0.50015     0.063430   \n",
       "1  uniform_1d     specified  unknown        0   4.0  0.50245     0.080202   \n",
       "2  uniform_1d  misspecified    known        0   4.0  0.50220     0.307024   \n",
       "3  uniform_1d  misspecified  unknown        0   4.0  0.50560     0.563630   \n",
       "4  uniform_1d     specified    known        1   4.0  0.49585     0.060649   \n",
       "5  uniform_1d     specified  unknown        1   4.0  0.50425     0.103584   \n",
       "6  uniform_1d  misspecified    known        1   4.0  0.51115     0.244901   \n",
       "7  uniform_1d  misspecified  unknown        1   4.0  0.50205     0.248264   \n",
       "\n",
       "   ppd_gt_std  ppd_npe_mean  ppd_npe_std  ppd_gbi_mean  ppd_gbi_std  \n",
       "0    0.079582      0.045597     0.056811      0.064272     0.081837  \n",
       "1    0.105871      0.039740     0.054657      0.080935     0.108326  \n",
       "2    0.237235      0.159092     0.115393      0.308767     0.240647  \n",
       "3    0.439623      0.139157     0.161939      0.570207     0.448708  \n",
       "4    0.076807      0.043905     0.054379      0.061604     0.078120  \n",
       "5    0.132468      0.042284     0.057984      0.106954     0.136641  \n",
       "6    0.216994      0.110299     0.095536      0.246576     0.220462  \n",
       "7    0.219048      0.112151     0.095462      0.248766     0.218832  "
      ]
     },
     "execution_count": 186,
     "metadata": {},
     "output_type": "execute_result"
    }
   ],
   "source": [
    "col_names = ['task', 'is_specified', 'is_known', 'obs_idx', 'beta', 'c2st', 'ppd_gt_mean', 'ppd_gt_std','ppd_npe_mean', 'ppd_npe_std','ppd_gbi_mean', 'ppd_gbi_std']\n",
    "dtypes = [str, str, str, int, float, float, float, float, float, float, float, float]\n",
    "df_summary = pd.DataFrame(np.array(collector), columns=col_names)\n",
    "df_summary = df_summary.astype({col_names[i]: dtypes[i] for i in range(len(col_names))})\n",
    "df_summary\n",
    "\n",
    "\n",
    "# plt.hist(ppd_gbi.squeeze(), 100);\n",
    "# plt.hist(ppd_npe.squeeze(), 100);\n",
    "# c2st"
   ]
  },
  {
   "cell_type": "code",
   "execution_count": 176,
   "id": "468d5f8c-6d7b-4836-a60c-9e01d36024f5",
   "metadata": {},
   "outputs": [],
   "source": []
  },
  {
   "cell_type": "code",
   "execution_count": 170,
   "id": "be3dbc41-cea1-4ed6-83b7-a8d2a4c1c7ce",
   "metadata": {},
   "outputs": [
    {
     "data": {
      "text/plain": [
       "[<matplotlib.lines.Line2D at 0x7f94a9167610>]"
      ]
     },
     "execution_count": 170,
     "metadata": {},
     "output_type": "execute_result"
    },
    {
     "data": {
      "image/png": "[encoded data removed]",
      "text/plain": [
       "<Figure size 640x480 with 1 Axes>"
      ]
     },
     "metadata": {},
     "output_type": "display_data"
    }
   ],
   "source": [
    "plt.plot(df_summary['ppd_npe_mean'].values, df_summary['ppd_gbi_mean'].values, '.')"
   ]
  },
  {
   "cell_type": "code",
   "execution_count": 117,
   "id": "c7df7f3e-081c-42fc-b4b7-1124b90c2dd2",
   "metadata": {},
   "outputs": [
    {
     "data": {
      "text/plain": [
       "tensor([-0.4540, -0.4283, -0.3058,  ..., -0.3525, -0.3588, -0.6657],\n",
       "       grad_fn=<AddBackward0>)"
      ]
     },
     "execution_count": 117,
     "metadata": {},
     "output_type": "execute_result"
    }
   ],
   "source": [
    "\n",
    "def tempered_potential(potential_fn, beta):\n",
    "    return potential_fn(posterior_samples)"
   ]
  },
  {
   "cell_type": "code",
   "execution_count": 94,
   "id": "09b57a96-2386-45ba-93f2-5b048b7cb33e",
   "metadata": {},
   "outputs": [],
   "source": [
    "posterior_predictives = task.simulate(posterior_samples)"
   ]
  },
  {
   "cell_type": "code",
   "execution_count": 97,
   "id": "067020ef-6001-4913-aa04-89fe585e8a23",
   "metadata": {},
   "outputs": [
    {
     "data": {
      "text/plain": [
       "(tensor([0.0069, 0.0276, 0.0002,  ..., 0.0494, 0.0203, 0.0225]),\n",
       " tensor([0.0069, 0.0276, 0.0002,  ..., 0.0494, 0.0203, 0.0225]))"
      ]
     },
     "execution_count": 97,
     "metadata": {},
     "output_type": "execute_result"
    },
    {
     "data": {
      "image/png": "[encoded data removed]",
      "text/plain": [
       "<Figure size 640x480 with 1 Axes>"
      ]
     },
     "metadata": {},
     "output_type": "display_data"
    }
   ],
   "source": [
    "\n",
    "ppd = distance_func(posterior_predictives.unsqueeze(1), x_o)\n",
    "\n",
    "plt.loglog(ppd, (posterior_predictives-x_o).pow(2).mean(1), '.')\n",
    "ppd, (posterior_predictives-x_o).pow(2).mean(1)"
   ]
  },
  {
   "cell_type": "code",
   "execution_count": 69,
   "id": "359d1822-f66f-4c7c-980f-879c3fe2255a",
   "metadata": {},
   "outputs": [
    {
     "data": {
      "text/plain": [
       "tensor([0.8349])"
      ]
     },
     "execution_count": 69,
     "metadata": {},
     "output_type": "execute_result"
    }
   ],
   "source": [
    "c2st(posterior_samples, gt_samples)"
   ]
  },
  {
   "cell_type": "code",
   "execution_count": 107,
   "id": "70cbc4d7-5c3b-450f-8971-57ea740c96e3",
   "metadata": {},
   "outputs": [
    {
     "data": {
      "image/png": "[encoded data removed]",
      "text/plain": [
       "<Figure size 640x480 with 1 Axes>"
      ]
     },
     "metadata": {},
     "output_type": "display_data"
    }
   ],
   "source": [
    "# plt.plot(gt_samples, torch.ones(gt_samples.size()), '.', alpha=0.1)\n",
    "plt.hist(gt_samples.numpy().squeeze(), 50, histtype='step');\n",
    "plt.hist(posterior_samples.numpy().squeeze(), 50, histtype='step');\n",
    "plt.hist(posterior_samples_npe.numpy().squeeze(), 50, histtype='step');\n",
    "\n",
    "# c2st(posterior_samples, gt_samples)"
   ]
  },
  {
   "cell_type": "code",
   "execution_count": null,
   "id": "3ccc3162-5caa-4e95-ba9e-70f17ef21576",
   "metadata": {},
   "outputs": [],
   "source": [
    "task = UniformNoise1D()\n",
    "\n",
    "# Train inference algorithms.\n",
    "task.dist_func_gbi = distance_func\n",
    "\n",
    "# Get trained inference object.\n",
    "inference = gbi_utils.pickle_load(inference_folder + 'NPE.pickle')\n",
    "print(inference)"
   ]
  },
  {
   "cell_type": "code",
   "execution_count": null,
   "id": "cfe5b19a-9fd5-43bf-a725-3023bd313298",
   "metadata": {},
   "outputs": [],
   "source": []
  }
 ],
 "metadata": {
  "kernelspec": {
   "display_name": "Python 3",
   "language": "python",
   "name": "python3"
  },
  "language_info": {
   "codemirror_mode": {
    "name": "ipython",
    "version": 3
   },
   "file_extension": ".py",
   "mimetype": "text/x-python",
   "name": "python",
   "nbconvert_exporter": "python",
   "pygments_lexer": "ipython3",
   "version": "3.8.13"
  }
 },
 "nbformat": 4,
 "nbformat_minor": 5
}
