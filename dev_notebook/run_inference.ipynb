{
 "cells": [
  {
   "cell_type": "code",
   "execution_count": 145,
   "id": "85dce5b6-dbcf-47dc-a4d9-3c4810825643",
   "metadata": {},
   "outputs": [],
   "source": [
    "%matplotlib inline\n",
    "import matplotlib.pyplot as plt\n",
    "\n",
    "import pickle\n",
    "import os\n",
    "import torch\n",
    "from torch import Tensor\n",
    "import numpy as np\n",
    "import time\n",
    "\n",
    "import hydra\n",
    "from omegaconf import DictConfig, OmegaConf\n",
    "from hydra.utils import get_original_cwd, to_absolute_path\n",
    "\n",
    "import logging\n",
    "\n",
    "from sbi.inference import MCMCPosterior\n",
    "from sbi.utils import mcmc_transform\n",
    "from sbi.utils.metrics import c2st as C2ST\n",
    "\n",
    "from pathlib import Path\n",
    "\n",
    "# Algorithm imports.\n",
    "from sbi.inference import SNPE, SNLE, likelihood_estimator_based_potential\n",
    "from gbi.GBI import GBInference\n",
    "import gbi.utils.utils as gbi_utils\n",
    "\n",
    "# Task imports.\n",
    "from gbi.benchmark.tasks.uniform_1d.task import UniformNoise1D\n",
    "from gbi.benchmark.tasks.two_moons.task import TwoMoonsGBI\n",
    "from gbi.benchmark.tasks.linear_gaussian.task import LinearGaussian\n",
    "from gbi.benchmark.tasks.gaussian_mixture.task import GaussianMixture\n",
    "from gbi import distances\n",
    "\n",
    "import pandas as pd"
   ]
  },
  {
   "cell_type": "code",
   "execution_count": 118,
   "id": "1f4577c7-8932-4b7e-b45d-98dc49706487",
   "metadata": {},
   "outputs": [],
   "source": [
    "def sample_GBI(inference, x_o, beta, task, n_samples=10_000):\n",
    "    potential_fn = inference.get_potential(x_o=x_o, beta=beta)\n",
    "    theta_transform = mcmc_transform(task.prior)\n",
    "    posterior = MCMCPosterior(\n",
    "            potential_fn,\n",
    "            theta_transform=theta_transform,\n",
    "            proposal=task.prior,\n",
    "            method=\"slice_np_vectorized\",\n",
    "            thin=10,\n",
    "            warmup_steps=50,\n",
    "            num_chains=100,\n",
    "            init_strategy=\"resample\",\n",
    "        )\n",
    "    posterior_samples = posterior.sample((n_samples,))\n",
    "    return posterior_samples\n",
    "\n",
    "def sample_NPE(inference, x_o, task, n_samples=10_000):\n",
    "    return inference.build_posterior(prior=task.prior).set_default_x(x_o).sample((n_samples,))\n",
    "\n",
    "# inference_nle = gbi_utils.pickle_load(inference_folder + f'NLE.pickle')\n",
    "# def sample_NLE(inference, x_o, beta, task, n_samples=10_000):\n",
    "#     potential_fn, parameter_transform = likelihood_estimator_based_potential(\n",
    "#     inference_nle._neural_net, task.prior, x_o\n",
    "#     )\n",
    "#     potential_fn = inference.get_potential(x_o=x_o, beta=beta)\n",
    "#     theta_transform = mcmc_transform(task.prior)\n",
    "#     posterior = MCMCPosterior(\n",
    "#             potential_fn,\n",
    "#             theta_transform=theta_transform,\n",
    "#             proposal=task.prior,\n",
    "#             method=\"slice_np_vectorized\",\n",
    "#             thin=10,\n",
    "#             warmup_steps=50,\n",
    "#             num_chains=100,\n",
    "#             init_strategy=\"resample\",\n",
    "#         )\n",
    "#     posterior_samples = posterior.sample((n_samples,))\n",
    "#     return posterior_samples"
   ]
  },
  {
   "cell_type": "code",
   "execution_count": 32,
   "id": "59fc1352-4dc1-42a5-bba7-d139ab8f52de",
   "metadata": {},
   "outputs": [],
   "source": [
    "task_name = \"uniform_1d\"\n",
    "seed = 0\n",
    "is_specified = 'specified'\n",
    "is_known = 'known'\n",
    "xo_idx = 0\n",
    "beta = 4\n"
   ]
  },
  {
   "cell_type": "code",
   "execution_count": null,
   "id": "b13b63b2-c9fd-460a-ae85-b6f07cfe5b31",
   "metadata": {},
   "outputs": [
    {
     "name": "stdout",
     "output_type": "stream",
     "text": [
      "../gbi/benchmark/run_algorithms//../tasks/uniform_1d/\n"
     ]
    },
    {
     "data": {
      "application/vnd.jupyter.widget-view+json": {
       "model_id": "58616045d8694989b16164f94e4b4c99",
       "version_major": 2,
       "version_minor": 0
      },
      "text/plain": [
       "Running vectorized MCMC with 100 chains:   0%|          | 0/150000 [00:00<?, ?it/s]"
      ]
     },
     "metadata": {},
     "output_type": "display_data"
    },
    {
     "data": {
      "application/vnd.jupyter.widget-view+json": {
       "model_id": "112fc1d842d74aee83971d5d0b4e58fc",
       "version_major": 2,
       "version_minor": 0
      },
      "text/plain": [
       "Drawing 10000 posterior samples:   0%|          | 0/10000 [00:00<?, ?it/s]"
      ]
     },
     "metadata": {},
     "output_type": "display_data"
    },
    {
     "data": {
      "application/vnd.jupyter.widget-view+json": {
       "model_id": "4b33ea81ad0046e4ab6542e0522bab20",
       "version_major": 2,
       "version_minor": 0
      },
      "text/plain": [
       "Running vectorized MCMC with 100 chains:   0%|          | 0/150000 [00:00<?, ?it/s]"
      ]
     },
     "metadata": {},
     "output_type": "display_data"
    },
    {
     "data": {
      "application/vnd.jupyter.widget-view+json": {
       "model_id": "a2cebdda5fc64805aeee9cfb490841bb",
       "version_major": 2,
       "version_minor": 0
      },
      "text/plain": [
       "Drawing 10000 posterior samples:   0%|          | 0/10000 [00:00<?, ?it/s]"
      ]
     },
     "metadata": {},
     "output_type": "display_data"
    },
    {
     "data": {
      "application/vnd.jupyter.widget-view+json": {
       "model_id": "dcf60d3629be466cb4630c14c835170b",
       "version_major": 2,
       "version_minor": 0
      },
      "text/plain": [
       "Running vectorized MCMC with 100 chains:   0%|          | 0/150000 [00:00<?, ?it/s]"
      ]
     },
     "metadata": {},
     "output_type": "display_data"
    },
    {
     "data": {
      "application/vnd.jupyter.widget-view+json": {
       "model_id": "103a3cbf7e804a3b8b9f0c72249938d3",
       "version_major": 2,
       "version_minor": 0
      },
      "text/plain": [
       "Drawing 10000 posterior samples:   0%|          | 0/10000 [00:00<?, ?it/s]"
      ]
     },
     "metadata": {},
     "output_type": "display_data"
    },
    {
     "data": {
      "application/vnd.jupyter.widget-view+json": {
       "model_id": "c972d347aebf491085ad537c31550354",
       "version_major": 2,
       "version_minor": 0
      },
      "text/plain": [
       "Running vectorized MCMC with 100 chains:   0%|          | 0/150000 [00:00<?, ?it/s]"
      ]
     },
     "metadata": {},
     "output_type": "display_data"
    },
    {
     "data": {
      "application/vnd.jupyter.widget-view+json": {
       "model_id": "4999fba6a27a478e87c95785f47da296",
       "version_major": 2,
       "version_minor": 0
      },
      "text/plain": [
       "Drawing 10000 posterior samples:   0%|          | 0/10000 [00:00<?, ?it/s]"
      ]
     },
     "metadata": {},
     "output_type": "display_data"
    },
    {
     "data": {
      "application/vnd.jupyter.widget-view+json": {
       "model_id": "d98db29192664c9c89e62c8c1e982b21",
       "version_major": 2,
       "version_minor": 0
      },
      "text/plain": [
       "Running vectorized MCMC with 100 chains:   0%|          | 0/150000 [00:00<?, ?it/s]"
      ]
     },
     "metadata": {},
     "output_type": "display_data"
    },
    {
     "data": {
      "application/vnd.jupyter.widget-view+json": {
       "model_id": "afb46d56bc2b495989d24262d05e3076",
       "version_major": 2,
       "version_minor": 0
      },
      "text/plain": [
       "Drawing 10000 posterior samples:   0%|          | 0/10000 [00:00<?, ?it/s]"
      ]
     },
     "metadata": {},
     "output_type": "display_data"
    },
    {
     "data": {
      "application/vnd.jupyter.widget-view+json": {
       "model_id": "2cf2eacac1c9406591ea6685cc98311d",
       "version_major": 2,
       "version_minor": 0
      },
      "text/plain": [
       "Running vectorized MCMC with 100 chains:   0%|          | 0/150000 [00:00<?, ?it/s]"
      ]
     },
     "metadata": {},
     "output_type": "display_data"
    },
    {
     "data": {
      "application/vnd.jupyter.widget-view+json": {
       "model_id": "8aa23ae57d6d4603b71c6823c70ec458",
       "version_major": 2,
       "version_minor": 0
      },
      "text/plain": [
       "Drawing 10000 posterior samples:   0%|          | 0/10000 [00:00<?, ?it/s]"
      ]
     },
     "metadata": {},
     "output_type": "display_data"
    },
    {
     "data": {
      "application/vnd.jupyter.widget-view+json": {
       "model_id": "a902047e6e0d402498392f987f0158e6",
       "version_major": 2,
       "version_minor": 0
      },
      "text/plain": [
       "Running vectorized MCMC with 100 chains:   0%|          | 0/150000 [00:00<?, ?it/s]"
      ]
     },
     "metadata": {},
     "output_type": "display_data"
    },
    {
     "data": {
      "application/vnd.jupyter.widget-view+json": {
       "model_id": "7f8c3356d96d444cb5be338a567c5b1a",
       "version_major": 2,
       "version_minor": 0
      },
      "text/plain": [
       "Drawing 10000 posterior samples:   0%|          | 0/10000 [00:00<?, ?it/s]"
      ]
     },
     "metadata": {},
     "output_type": "display_data"
    },
    {
     "data": {
      "application/vnd.jupyter.widget-view+json": {
       "model_id": "14cac608055e472babf401c17a0cad9c",
       "version_major": 2,
       "version_minor": 0
      },
      "text/plain": [
       "Running vectorized MCMC with 100 chains:   0%|          | 0/150000 [00:00<?, ?it/s]"
      ]
     },
     "metadata": {},
     "output_type": "display_data"
    },
    {
     "data": {
      "application/vnd.jupyter.widget-view+json": {
       "model_id": "0f09e0daffed4ce4908993f39fbc2a99",
       "version_major": 2,
       "version_minor": 0
      },
      "text/plain": [
       "Drawing 10000 posterior samples:   0%|          | 0/10000 [00:00<?, ?it/s]"
      ]
     },
     "metadata": {},
     "output_type": "display_data"
    },
    {
     "data": {
      "application/vnd.jupyter.widget-view+json": {
       "model_id": "0ae49853f006497483ff401e65ddb1b2",
       "version_major": 2,
       "version_minor": 0
      },
      "text/plain": [
       "Running vectorized MCMC with 100 chains:   0%|          | 0/150000 [00:00<?, ?it/s]"
      ]
     },
     "metadata": {},
     "output_type": "display_data"
    },
    {
     "data": {
      "application/vnd.jupyter.widget-view+json": {
       "model_id": "da919f226472410fbcd140dc59712f1e",
       "version_major": 2,
       "version_minor": 0
      },
      "text/plain": [
       "Drawing 10000 posterior samples:   0%|          | 0/10000 [00:00<?, ?it/s]"
      ]
     },
     "metadata": {},
     "output_type": "display_data"
    },
    {
     "data": {
      "application/vnd.jupyter.widget-view+json": {
       "model_id": "6c393097ad9846bb9c23918fe6af6586",
       "version_major": 2,
       "version_minor": 0
      },
      "text/plain": [
       "Running vectorized MCMC with 100 chains:   0%|          | 0/150000 [00:00<?, ?it/s]"
      ]
     },
     "metadata": {},
     "output_type": "display_data"
    },
    {
     "data": {
      "application/vnd.jupyter.widget-view+json": {
       "model_id": "d8f31fdff2f34f909cae295b0d6b9f80",
       "version_major": 2,
       "version_minor": 0
      },
      "text/plain": [
       "Drawing 10000 posterior samples:   0%|          | 0/10000 [00:00<?, ?it/s]"
      ]
     },
     "metadata": {},
     "output_type": "display_data"
    },
    {
     "data": {
      "application/vnd.jupyter.widget-view+json": {
       "model_id": "9ee20dd77fa944ee9cda91cc8c587dfa",
       "version_major": 2,
       "version_minor": 0
      },
      "text/plain": [
       "Running vectorized MCMC with 100 chains:   0%|          | 0/150000 [00:00<?, ?it/s]"
      ]
     },
     "metadata": {},
     "output_type": "display_data"
    },
    {
     "data": {
      "application/vnd.jupyter.widget-view+json": {
       "model_id": "3f9e250673ab4f849ceb471a60be7b9f",
       "version_major": 2,
       "version_minor": 0
      },
      "text/plain": [
       "Drawing 10000 posterior samples:   0%|          | 0/10000 [00:00<?, ?it/s]"
      ]
     },
     "metadata": {},
     "output_type": "display_data"
    },
    {
     "data": {
      "application/vnd.jupyter.widget-view+json": {
       "model_id": "31ff265c19314578974a5800829e6b81",
       "version_major": 2,
       "version_minor": 0
      },
      "text/plain": [
       "Running vectorized MCMC with 100 chains:   0%|          | 0/150000 [00:00<?, ?it/s]"
      ]
     },
     "metadata": {},
     "output_type": "display_data"
    },
    {
     "data": {
      "application/vnd.jupyter.widget-view+json": {
       "model_id": "51d6cb680d5d4a039f137a69624ff87a",
       "version_major": 2,
       "version_minor": 0
      },
      "text/plain": [
       "Drawing 10000 posterior samples:   0%|          | 0/10000 [00:00<?, ?it/s]"
      ]
     },
     "metadata": {},
     "output_type": "display_data"
    },
    {
     "data": {
      "application/vnd.jupyter.widget-view+json": {
       "model_id": "298eea73ddd449b489638a8b96d89779",
       "version_major": 2,
       "version_minor": 0
      },
      "text/plain": [
       "Running vectorized MCMC with 100 chains:   0%|          | 0/150000 [00:00<?, ?it/s]"
      ]
     },
     "metadata": {},
     "output_type": "display_data"
    },
    {
     "data": {
      "application/vnd.jupyter.widget-view+json": {
       "model_id": "eb2192abb96149d0bc0e67a54726266b",
       "version_major": 2,
       "version_minor": 0
      },
      "text/plain": [
       "Drawing 10000 posterior samples:   0%|          | 0/10000 [00:00<?, ?it/s]"
      ]
     },
     "metadata": {},
     "output_type": "display_data"
    },
    {
     "data": {
      "application/vnd.jupyter.widget-view+json": {
       "model_id": "e3290abb18894f49b4e1c5f52b684403",
       "version_major": 2,
       "version_minor": 0
      },
      "text/plain": [
       "Running vectorized MCMC with 100 chains:   0%|          | 0/150000 [00:00<?, ?it/s]"
      ]
     },
     "metadata": {},
     "output_type": "display_data"
    },
    {
     "data": {
      "application/vnd.jupyter.widget-view+json": {
       "model_id": "40ffb474579f40abb5f2ec72a5098772",
       "version_major": 2,
       "version_minor": 0
      },
      "text/plain": [
       "Drawing 10000 posterior samples:   0%|          | 0/10000 [00:00<?, ?it/s]"
      ]
     },
     "metadata": {},
     "output_type": "display_data"
    },
    {
     "data": {
      "application/vnd.jupyter.widget-view+json": {
       "model_id": "7861d89332d745efac33c03871e8f308",
       "version_major": 2,
       "version_minor": 0
      },
      "text/plain": [
       "Running vectorized MCMC with 100 chains:   0%|          | 0/150000 [00:00<?, ?it/s]"
      ]
     },
     "metadata": {},
     "output_type": "display_data"
    },
    {
     "data": {
      "application/vnd.jupyter.widget-view+json": {
       "model_id": "8fd5d483a34641f786fde22e82aa8ca9",
       "version_major": 2,
       "version_minor": 0
      },
      "text/plain": [
       "Drawing 10000 posterior samples:   0%|          | 0/10000 [00:00<?, ?it/s]"
      ]
     },
     "metadata": {},
     "output_type": "display_data"
    },
    {
     "data": {
      "application/vnd.jupyter.widget-view+json": {
       "model_id": "66f6deced6464d069264171c3f07c204",
       "version_major": 2,
       "version_minor": 0
      },
      "text/plain": [
       "Running vectorized MCMC with 100 chains:   0%|          | 0/150000 [00:00<?, ?it/s]"
      ]
     },
     "metadata": {},
     "output_type": "display_data"
    },
    {
     "data": {
      "application/vnd.jupyter.widget-view+json": {
       "model_id": "1442e750495641ccb7360da23a4ec059",
       "version_major": 2,
       "version_minor": 0
      },
      "text/plain": [
       "Drawing 10000 posterior samples:   0%|          | 0/10000 [00:00<?, ?it/s]"
      ]
     },
     "metadata": {},
     "output_type": "display_data"
    },
    {
     "data": {
      "application/vnd.jupyter.widget-view+json": {
       "model_id": "670e900e3b274ed6a6113435fc19320f",
       "version_major": 2,
       "version_minor": 0
      },
      "text/plain": [
       "Running vectorized MCMC with 100 chains:   0%|          | 0/150000 [00:00<?, ?it/s]"
      ]
     },
     "metadata": {},
     "output_type": "display_data"
    }
   ],
   "source": [
    "\n",
    "# Get high-level path.\n",
    "# dir_path = get_original_cwd()\n",
    "\n",
    "dir_path = '../gbi/benchmark/run_algorithms/'\n",
    "full_path_prepend = f\"{dir_path}/../tasks/{task_name}/\"\n",
    "print(full_path_prepend)\n",
    "\n",
    "# Get inference directory.\n",
    "inference_folder = full_path_prepend + \"/trained_inference/\"    \n",
    "\n",
    "# Get observation directory.\n",
    "observation_folder = full_path_prepend + \"/xos/\"\n",
    "\n",
    "# Get GT sample directory.\n",
    "gt_folder = f'../results/benchmark/ground_truths/{task_name}/2023_01_23__17_34_09/'\n",
    "\n",
    "### Define task and distance function.\n",
    "distance_func = distances.mse_dist\n",
    "if task_name == \"linear_gaussian\":\n",
    "    Task = LinearGaussian\n",
    "elif task_name == \"two_moons\":\n",
    "    Task = TwoMoonsGBI\n",
    "elif task_name == \"uniform_1d\":\n",
    "    Task = UniformNoise1D\n",
    "elif task_name == \"gaussian_mixture\":\n",
    "    Task = GaussianMixture\n",
    "    distance_func = distances.mmd_dist\n",
    "else:\n",
    "    raise NameError\n",
    "\n",
    "### Sample and simulate from task.\n",
    "# Set seed\n",
    "if seed is None:\n",
    "    seed = int((time.time() % 1) * 1e7)\n",
    "else:\n",
    "    seed = seed\n",
    "# np.savetxt(full_path_prepend + \"seed.txt\", np.asarray([seed]))\n",
    "\n",
    "collector = []\n",
    "for xo_idx in range(10):\n",
    "    for beta in [4,20,100]:\n",
    "        for is_specified in ['specified', 'misspecified']:\n",
    "            for is_known in ['known', 'unknown']:\n",
    "                # Sample and simulate.\n",
    "                _ = torch.manual_seed(seed)\n",
    "                _ = np.random.seed(seed=seed)\n",
    "\n",
    "                # Ground-truth samples.\n",
    "                posterior_samples_gt = gbi_utils.pickle_load(gt_folder + f'/beta_{beta}/obs_{xo_idx}_{is_specified}_{is_known}/rejection_samples.pkl')\n",
    "\n",
    "                # Set ground-truth task.\n",
    "                x_os = gbi_utils.pickle_load(observation_folder + f'/xo_{is_specified}_{is_known}.pkl')\n",
    "                x_o = x_os[xo_idx]\n",
    "                task = Task(seed=seed, x_o=x_o, beta=beta)\n",
    "\n",
    "                # Load inference object.\n",
    "                inference_gbi = gbi_utils.pickle_load(inference_folder + f'GBI.pickle')\n",
    "                inference_npe = gbi_utils.pickle_load(inference_folder + f'NPE.pickle')\n",
    "\n",
    "                # Sample.\n",
    "                posterior_samples_gbi = sample_GBI(inference_gbi, x_o, beta, task, 10_000)\n",
    "                posterior_samples_npe = sample_NPE(inference_npe, x_o, task, 10_000)\n",
    "\n",
    "                # Evaluate.\n",
    "                # C2ST GBI vs. GT\n",
    "                c2st = C2ST(posterior_samples_gbi, posterior_samples_gt)\n",
    "\n",
    "                # Posterior predictive distance.\n",
    "                ppd_gt = distance_func(task.simulate(posterior_samples_gt).unsqueeze(1), x_o)\n",
    "                ppd_gbi = distance_func(task.simulate(posterior_samples_gbi).unsqueeze(1), x_o)\n",
    "                ppd_npe = distance_func(task.simulate(posterior_samples_npe).unsqueeze(1), x_o)\n",
    "\n",
    "                # Collect.\n",
    "                summary = [task_name, is_specified, is_known, xo_idx, beta, \n",
    "                           float(c2st.squeeze()), float(ppd_gt.mean()), float(ppd_gt.std()), float(ppd_npe.mean()), float(ppd_npe.std()), float(ppd_gbi.mean()), float(ppd_gbi.std())]\n",
    "                collector.append(summary)"
   ]
  },
  {
   "cell_type": "code",
   "execution_count": 189,
   "id": "4670b7e9-0eb1-4fc5-938e-3e07896fe3e9",
   "metadata": {},
   "outputs": [
    {
     "data": {
      "text/plain": [
       "120"
      ]
     },
     "execution_count": 189,
     "metadata": {},
     "output_type": "execute_result"
    }
   ],
   "source": [
    "len(collector)"
   ]
  },
  {
   "cell_type": "code",
   "execution_count": 191,
   "id": "022510ec-9d24-4e69-97b5-62ad6521bc0d",
   "metadata": {},
   "outputs": [],
   "source": [
    "col_names = ['task', 'is_specified', 'is_known', 'obs_idx', 'beta', 'c2st', 'ppd_gt_mean', 'ppd_gt_std','ppd_npe_mean', 'ppd_npe_std','ppd_gbi_mean', 'ppd_gbi_std']\n",
    "dtypes = [str, str, str, int, float, float, float, float, float, float, float, float]\n",
    "df_summary = pd.DataFrame(np.array(collector), columns=col_names)\n",
    "df_summary = df_summary.astype({col_names[i]: dtypes[i] for i in range(len(col_names))})\n",
    "df_summary.to_csv('./df_uniform_1d.csv')\n",
    "\n",
    "\n",
    "# plt.hist(ppd_gbi.squeeze(), 100);\n",
    "# plt.hist(ppd_npe.squeeze(), 100);\n",
    "# c2st"
   ]
  },
  {
   "cell_type": "code",
   "execution_count": 281,
   "id": "be3dbc41-cea1-4ed6-83b7-a8d2a4c1c7ce",
   "metadata": {},
   "outputs": [
    {
     "name": "stdout",
     "output_type": "stream",
     "text": [
      "specified known\n",
      "specified unknown\n",
      "misspecified known\n",
      "misspecified unknown\n"
     ]
    },
    {
     "data": {
      "image/png": "[encoded data removed]",
      "text/plain": [
       "<Figure size 800x400 with 2 Axes>"
      ]
     },
     "metadata": {},
     "output_type": "display_data"
    }
   ],
   "source": [
    "# with plt.rc_context(fname=\"../.matplotlibrc\"):\n",
    "plt.figure(figsize=(8,4))\n",
    "markers = ['*', 'o', 's', '^']\n",
    "ctr = 0\n",
    "for i_s, is_specified in enumerate(['specified', 'misspecified']):\n",
    "    for i_k, is_known in enumerate(['known', 'unknown']):\n",
    "        print(is_specified, is_known)\n",
    "        df_curr = df_summary[(df_summary['is_specified']==is_specified) & (df_summary['is_known']==is_known)]\n",
    "        \n",
    "        \n",
    "        for i_r, (beta, rows) in enumerate(df_curr.groupby('beta')):\n",
    "            plt.subplot(1,2,1)\n",
    "            plt.errorbar(rows['ppd_npe_mean'].values, rows['ppd_gbi_mean'].values, \n",
    "                         xerr=rows['ppd_npe_std'].values/100*3, yerr=rows['ppd_gbi_std'].values/100*3, fmt=f'k', ls='', alpha=0.5)\n",
    "\n",
    "            plt.plot(rows['ppd_npe_mean'].values, rows['ppd_gbi_mean'].values, \n",
    "                     f'C{i_r}', \n",
    "                     mfc='k' if i_s==1 else 'w', \n",
    "                     marker='o' if i_k==0 else 's',\n",
    "                     mew=1,\n",
    "                     ls='',\n",
    "                     alpha=0.5)\n",
    "        \n",
    "            plt.subplot(1,2,2)\n",
    "            plt.plot(i_r*np.ones_like(rows['c2st'])+np.random.randn(len(rows))*0.05, rows['c2st'], f'C{i_r}', \n",
    "                     mfc='k' if i_s==1 else 'w', \n",
    "                     marker='o' if i_k==0 else 's',\n",
    "                     mew=1,\n",
    "                     ls='',\n",
    "                     alpha=0.5\n",
    "                    )\n",
    "        ctr+=1\n",
    "\n",
    "plt.subplot(1,2,1)\n",
    "plt.plot([0,.25], [0,.25], 'r--')\n",
    "plt.xlabel('mean post. pred. distance (NPE)'); plt.ylabel('mean post. pred. distance (GBI)'); \n",
    "plt.xlim([0, None]);    plt.ylim([0, None]);\n",
    "plt.xticks([0,0.25]);plt.yticks([0,0.25, 0.5]);\n",
    "plt.gca().spines[['right', 'top']].set_visible(False)\n",
    "\n",
    "plt.subplot(1,2,2)\n",
    "plt.axhline(0.5, color='r', ls='--')\n",
    "plt.gca().spines[['right', 'top']].set_visible(False)\n",
    "plt.xlabel('beta');plt.ylabel('C2ST'); \n",
    "plt.xticks([0,1,2], labels=[4,20,100]);plt.yticks([0.5, 0.55, 0.6, 0.65]);\n",
    "\n",
    "plt.tight_layout()"
   ]
  },
  {
   "cell_type": "code",
   "execution_count": null,
   "id": "68b52aaa-0b82-4bbe-bf31-8865c2d82967",
   "metadata": {},
   "outputs": [],
   "source": []
  },
  {
   "cell_type": "code",
   "execution_count": null,
   "id": "1641bae6-1a31-4c81-8549-189114fbbb25",
   "metadata": {},
   "outputs": [],
   "source": []
  },
  {
   "cell_type": "code",
   "execution_count": 117,
   "id": "c7df7f3e-081c-42fc-b4b7-1124b90c2dd2",
   "metadata": {},
   "outputs": [
    {
     "data": {
      "text/plain": [
       "tensor([-0.4540, -0.4283, -0.3058,  ..., -0.3525, -0.3588, -0.6657],\n",
       "       grad_fn=<AddBackward0>)"
      ]
     },
     "execution_count": 117,
     "metadata": {},
     "output_type": "execute_result"
    }
   ],
   "source": [
    "\n",
    "def tempered_potential(potential_fn, beta):\n",
    "    return potential_fn(posterior_samples)"
   ]
  },
  {
   "cell_type": "code",
   "execution_count": 94,
   "id": "09b57a96-2386-45ba-93f2-5b048b7cb33e",
   "metadata": {},
   "outputs": [],
   "source": [
    "posterior_predictives = task.simulate(posterior_samples)"
   ]
  },
  {
   "cell_type": "code",
   "execution_count": 97,
   "id": "067020ef-6001-4913-aa04-89fe585e8a23",
   "metadata": {},
   "outputs": [
    {
     "data": {
      "text/plain": [
       "(tensor([0.0069, 0.0276, 0.0002,  ..., 0.0494, 0.0203, 0.0225]),\n",
       " tensor([0.0069, 0.0276, 0.0002,  ..., 0.0494, 0.0203, 0.0225]))"
      ]
     },
     "execution_count": 97,
     "metadata": {},
     "output_type": "execute_result"
    },
    {
     "data": {
      "image/png": "[encoded data removed]",
      "text/plain": [
       "<Figure size 640x480 with 1 Axes>"
      ]
     },
     "metadata": {},
     "output_type": "display_data"
    }
   ],
   "source": [
    "\n",
    "ppd = distance_func(posterior_predictives.unsqueeze(1), x_o)\n",
    "\n",
    "plt.loglog(ppd, (posterior_predictives-x_o).pow(2).mean(1), '.')\n",
    "ppd, (posterior_predictives-x_o).pow(2).mean(1)"
   ]
  },
  {
   "cell_type": "code",
   "execution_count": 69,
   "id": "359d1822-f66f-4c7c-980f-879c3fe2255a",
   "metadata": {},
   "outputs": [
    {
     "data": {
      "text/plain": [
       "tensor([0.8349])"
      ]
     },
     "execution_count": 69,
     "metadata": {},
     "output_type": "execute_result"
    }
   ],
   "source": [
    "c2st(posterior_samples, gt_samples)"
   ]
  },
  {
   "cell_type": "code",
   "execution_count": 107,
   "id": "70cbc4d7-5c3b-450f-8971-57ea740c96e3",
   "metadata": {},
   "outputs": [
    {
     "data": {
      "image/png": "[encoded data removed]",
      "text/plain": [
       "<Figure size 640x480 with 1 Axes>"
      ]
     },
     "metadata": {},
     "output_type": "display_data"
    }
   ],
   "source": [
    "# plt.plot(gt_samples, torch.ones(gt_samples.size()), '.', alpha=0.1)\n",
    "plt.hist(gt_samples.numpy().squeeze(), 50, histtype='step');\n",
    "plt.hist(posterior_samples.numpy().squeeze(), 50, histtype='step');\n",
    "plt.hist(posterior_samples_npe.numpy().squeeze(), 50, histtype='step');\n",
    "\n",
    "# c2st(posterior_samples, gt_samples)"
   ]
  },
  {
   "cell_type": "code",
   "execution_count": null,
   "id": "3ccc3162-5caa-4e95-ba9e-70f17ef21576",
   "metadata": {},
   "outputs": [],
   "source": [
    "task = UniformNoise1D()\n",
    "\n",
    "# Train inference algorithms.\n",
    "task.dist_func_gbi = distance_func\n",
    "\n",
    "# Get trained inference object.\n",
    "inference = gbi_utils.pickle_load(inference_folder + 'NPE.pickle')\n",
    "print(inference)"
   ]
  },
  {
   "cell_type": "code",
   "execution_count": null,
   "id": "cfe5b19a-9fd5-43bf-a725-3023bd313298",
   "metadata": {},
   "outputs": [],
   "source": []
  }
 ],
 "metadata": {
  "kernelspec": {
   "display_name": "Python 3",
   "language": "python",
   "name": "python3"
  },
  "language_info": {
   "codemirror_mode": {
    "name": "ipython",
    "version": 3
   },
   "file_extension": ".py",
   "mimetype": "text/x-python",
   "name": "python",
   "nbconvert_exporter": "python",
   "pygments_lexer": "ipython3",
   "version": "3.8.13"
  }
 },
 "nbformat": 4,
 "nbformat_minor": 5
}
