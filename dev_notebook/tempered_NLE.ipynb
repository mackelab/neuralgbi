{
 "cells": [
  {
   "cell_type": "code",
   "execution_count": 1,
   "id": "dd54d4c6-a1ba-478c-8b76-8ce1fc212f16",
   "metadata": {},
   "outputs": [],
   "source": [
    "# %matplotlib inline\n",
    "# import matplotlib.pyplot as plt\n",
    "\n",
    "# import pickle\n",
    "# import os\n",
    "# import torch\n",
    "# from torch import Tensor\n",
    "# import numpy as np\n",
    "# import time\n",
    "\n",
    "# # import hydra\n",
    "# # from omegaconf import DictConfig, OmegaConf\n",
    "# # from hydra.utils import get_original_cwd, to_absolute_path\n",
    "\n",
    "# # import logging\n",
    "\n",
    "# from sbi.inference import MCMCPosterior\n",
    "# from sbi.utils import mcmc_transform\n",
    "# # from sbi.utils.metrics import c2st as C2ST\n",
    "\n",
    "# # from pathlib import Path\n",
    "\n",
    "# # # Algorithm imports.\n",
    "# # from sbi.inference import SNPE, SNLE, likelihood_estimator_based_potential\n",
    "# # from gbi.GBI import GBInference, GBInferenceEmulator\n",
    "# import gbi.utils.utils as gbi_utils\n",
    "\n",
    "# # # Task imports.\n",
    "# from gbi.benchmark.tasks.uniform_1d.task import UniformNoise1D\n",
    "# # from gbi.benchmark.tasks.two_moons.task import TwoMoonsGBI\n",
    "# # from gbi.benchmark.tasks.linear_gaussian.task import LinearGaussian\n",
    "# # from gbi.benchmark.tasks.gaussian_mixture.task import GaussianMixture\n",
    "# from gbi import distances\n",
    "\n",
    "# # import pandas as pd"
   ]
  },
  {
   "cell_type": "code",
   "execution_count": 2,
   "id": "7e38fc2b-acf5-46c9-adaa-2ae9cb86669b",
   "metadata": {},
   "outputs": [],
   "source": [
    "%matplotlib inline\n",
    "import matplotlib.pyplot as plt\n",
    "\n",
    "import numpy as np\n",
    "from sbi.inference import MCMCPosterior\n",
    "from sbi.utils import mcmc_transform\n",
    "from sbi.inference.potentials.likelihood_based_potential import TemperedLikelihoodBasedPotential\n",
    "from gbi.benchmark.tasks.uniform_1d.task import UniformNoise1D\n",
    "import gbi.utils.utils as gbi_utils"
   ]
  },
  {
   "cell_type": "code",
   "execution_count": 3,
   "id": "77667ec3-6020-4b7b-9292-71198764a003",
   "metadata": {},
   "outputs": [],
   "source": [
    "xos = gbi_utils.pickle_load('../gbi/benchmark/tasks/uniform_1d/xos/xo_specified_known.pkl')\n",
    "task = UniformNoise1D()\n",
    "NLE = gbi_utils.pickle_load('../results/benchmark/algorithms/uniform_1d/2023_02_03__19_24_25/NLE/inference.pickle')"
   ]
  },
  {
   "cell_type": "code",
   "execution_count": 11,
   "id": "ca24a096-f9fc-4cd9-92ad-53924ffe642c",
   "metadata": {},
   "outputs": [
    {
     "data": {
      "application/vnd.jupyter.widget-view+json": {
       "model_id": "52d970b2729e488a9b57fdbdc42fe46a",
       "version_major": 2,
       "version_minor": 0
      },
      "text/plain": [
       "Running vectorized MCMC with 100 chains:   0%|          | 0/161200 [00:00<?, ?it/s]"
      ]
     },
     "metadata": {},
     "output_type": "display_data"
    },
    {
     "data": {
      "application/vnd.jupyter.widget-view+json": {
       "model_id": "3f645d55624247cfbf4a652a83347f52",
       "version_major": 2,
       "version_minor": 0
      },
      "text/plain": [
       "Running vectorized MCMC with 100 chains:   0%|          | 0/161200 [00:00<?, ?it/s]"
      ]
     },
     "metadata": {},
     "output_type": "display_data"
    },
    {
     "data": {
      "application/vnd.jupyter.widget-view+json": {
       "model_id": "b395d53b5c7440f3a90b0c0337bcd092",
       "version_major": 2,
       "version_minor": 0
      },
      "text/plain": [
       "Running vectorized MCMC with 100 chains:   0%|          | 0/161200 [00:00<?, ?it/s]"
      ]
     },
     "metadata": {},
     "output_type": "display_data"
    },
    {
     "data": {
      "application/vnd.jupyter.widget-view+json": {
       "model_id": "11cc31dd720c439b86a3aa823d4240a2",
       "version_major": 2,
       "version_minor": 0
      },
      "text/plain": [
       "Running vectorized MCMC with 100 chains:   0%|          | 0/161200 [00:00<?, ?it/s]"
      ]
     },
     "metadata": {},
     "output_type": "display_data"
    },
    {
     "data": {
      "application/vnd.jupyter.widget-view+json": {
       "model_id": "ac96576f33174b89964ccbff018f7233",
       "version_major": 2,
       "version_minor": 0
      },
      "text/plain": [
       "Running vectorized MCMC with 100 chains:   0%|          | 0/161200 [00:00<?, ?it/s]"
      ]
     },
     "metadata": {},
     "output_type": "display_data"
    }
   ],
   "source": [
    "betas = [0.1, 1., 4., 20., 100.]\n",
    "n_samples = 10000\n",
    "x_o = xos[7]\n",
    "\n",
    "posterior_samples = []\n",
    "for beta in betas:\n",
    "    potential_fn = TemperedLikelihoodBasedPotential(NLE._neural_net, task.prior, x_o, beta)\n",
    "    theta_transform = mcmc_transform(task.prior)\n",
    "    posterior = MCMCPosterior(\n",
    "        potential_fn,\n",
    "        theta_transform=theta_transform,\n",
    "        proposal=task.prior,\n",
    "        method=\"slice_np_vectorized\",\n",
    "        thin=10,\n",
    "        warmup_steps=50,\n",
    "        num_chains=100,\n",
    "        init_strategy=\"resample\",\n",
    "        frac_chains_to_finish=0.9,\n",
    "    )\n",
    "    posterior_samples.append(posterior.sample((n_samples,)).numpy())\n",
    "    "
   ]
  },
  {
   "cell_type": "code",
   "execution_count": 15,
   "id": "cb6547b8-f943-452e-a747-4c7a474f3cea",
   "metadata": {},
   "outputs": [
    {
     "data": {
      "text/plain": [
       "<matplotlib.legend.Legend at 0x7f50294f7910>"
      ]
     },
     "execution_count": 15,
     "metadata": {},
     "output_type": "execute_result"
    },
    {
     "data": {
      "image/png": "[encoded data removed]",
      "text/plain": [
       "<Figure size 400x400 with 1 Axes>"
      ]
     },
     "metadata": {},
     "output_type": "display_data"
    }
   ],
   "source": [
    "plt.figure(figsize=(4,4))\n",
    "[plt.hist(ps, np.arange(-1.7,1.7,0.02), histtype='step', label=f'beta {betas[i_p]}', log=True) for i_p,ps in enumerate(posterior_samples)];\n",
    "plt.legend(loc='upper left')"
   ]
  },
  {
   "cell_type": "code",
   "execution_count": null,
   "id": "71ff6648-b5a0-40ea-a695-0959180316f0",
   "metadata": {},
   "outputs": [],
   "source": []
  }
 ],
 "metadata": {
  "kernelspec": {
   "display_name": "Python 3",
   "language": "python",
   "name": "python3"
  },
  "language_info": {
   "codemirror_mode": {
    "name": "ipython",
    "version": 3
   },
   "file_extension": ".py",
   "mimetype": "text/x-python",
   "name": "python",
   "nbconvert_exporter": "python",
   "pygments_lexer": "ipython3",
   "version": "3.8.13"
  }
 },
 "nbformat": 4,
 "nbformat_minor": 5
}
