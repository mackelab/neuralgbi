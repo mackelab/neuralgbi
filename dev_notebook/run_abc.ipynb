{
 "cells": [
  {
   "cell_type": "code",
   "execution_count": 1,
   "id": "c3d817be-5453-47bd-901a-cce865ea522f",
   "metadata": {},
   "outputs": [
    {
     "name": "stderr",
     "output_type": "stream",
     "text": [
      "/home/michael/anaconda3/envs/gbi/lib/python3.8/site-packages/tqdm/auto.py:22: TqdmWarning: IProgress not found. Please update jupyter and ipywidgets. See https://ipywidgets.readthedocs.io/en/stable/user_install.html\n",
      "  from .autonotebook import tqdm as notebook_tqdm\n"
     ]
    }
   ],
   "source": [
    "from gbi.ABC import ABC\n",
    "import torch"
   ]
  },
  {
   "cell_type": "code",
   "execution_count": 118,
   "id": "5241d16d-cb25-4625-bb3b-4b5981ebff72",
   "metadata": {},
   "outputs": [],
   "source": [
    "from gbi.benchmark.tasks.uniform_1d.task import UniformNoise1D\n",
    "import pickle\n",
    "from sbi.utils.metrics import c2st\n",
    "import numpy as np\n",
    "import matplotlib.pyplot as plt"
   ]
  },
  {
   "cell_type": "code",
   "execution_count": 119,
   "id": "ab834823-9458-4cf6-b626-603cf2967dad",
   "metadata": {},
   "outputs": [],
   "source": [
    "with open(\"../gbi/benchmark/tasks/uniform_1d/xo.pkl\", \"rb\") as handle:\n",
    "    x_os = pickle.load(handle)"
   ]
  },
  {
   "cell_type": "code",
   "execution_count": 187,
   "id": "d9ff5d0d-47b9-4fde-aa87-0c2ef830c506",
   "metadata": {},
   "outputs": [],
   "source": [
    "beta = 100.0\n",
    "xo_ind = 1"
   ]
  },
  {
   "cell_type": "code",
   "execution_count": 188,
   "id": "60ea31fd-da5b-482b-9466-1997b05b8454",
   "metadata": {},
   "outputs": [],
   "source": [
    "x_o = x_os[xo_ind:xo_ind+1]"
   ]
  },
  {
   "cell_type": "code",
   "execution_count": 189,
   "id": "ba692424-e05d-4b1e-b795-cc5f29607673",
   "metadata": {},
   "outputs": [],
   "source": [
    "task = UniformNoise1D(beta=beta, x_o=x_o)"
   ]
  },
  {
   "cell_type": "code",
   "execution_count": 190,
   "id": "42cf9912-28de-4cb0-8579-6f1ccb15593c",
   "metadata": {},
   "outputs": [],
   "source": [
    "theta = task.prior.sample((200_000,))\n",
    "x = task.simulate(theta)"
   ]
  },
  {
   "cell_type": "code",
   "execution_count": 191,
   "id": "b7ab3bc8-1737-4ec6-b612-a5a4bcc95c0e",
   "metadata": {},
   "outputs": [],
   "source": [
    "inference = ABC()"
   ]
  },
  {
   "cell_type": "code",
   "execution_count": 192,
   "id": "f479d509-c465-4cc2-a716-d890586ac890",
   "metadata": {},
   "outputs": [],
   "source": [
    "inference.append_simulations(theta, x)"
   ]
  },
  {
   "cell_type": "code",
   "execution_count": 193,
   "id": "f0e92dda-d7e4-4b16-8910-ba5ff0744735",
   "metadata": {},
   "outputs": [],
   "source": [
    "def mse(x, x_o):\n",
    "    return torch.mean((x - x_o)**2, dim=1)"
   ]
  },
  {
   "cell_type": "code",
   "execution_count": 194,
   "id": "3da597d6-35e2-4c97-b548-44f06221eeb4",
   "metadata": {},
   "outputs": [],
   "source": [
    "samples = inference.sample(mse, beta=beta, x=x_o)"
   ]
  },
  {
   "cell_type": "code",
   "execution_count": 195,
   "id": "1d978f1c-a76d-4b82-a74f-b27198e126ee",
   "metadata": {},
   "outputs": [
    {
     "data": {
      "text/plain": [
       "torch.Size([41489, 1])"
      ]
     },
     "execution_count": 195,
     "metadata": {},
     "output_type": "execute_result"
    }
   ],
   "source": [
    "samples.shape"
   ]
  },
  {
   "cell_type": "code",
   "execution_count": 196,
   "id": "40ce4883-03a6-4879-bdb7-ee195999a8d5",
   "metadata": {},
   "outputs": [],
   "source": [
    "samples_cut = samples[:10_000]"
   ]
  },
  {
   "cell_type": "code",
   "execution_count": 197,
   "id": "f897c79c-b1a5-4088-87db-afd7c031d578",
   "metadata": {},
   "outputs": [],
   "source": [
    "with open(f\"../results/benchmark/ground_truths/uniform_1d/2023_01_19__09_44_22/beta_{int(beta)}.0/obs_{xo_ind}/rejection_samples.pkl\", \"rb\") as handle:\n",
    "    gt_samples = pickle.load(handle)"
   ]
  },
  {
   "cell_type": "markdown",
   "id": "11c22b52-334f-42bc-a41e-cc746726dcb4",
   "metadata": {},
   "source": [
    "### Plot histograms"
   ]
  },
  {
   "cell_type": "code",
   "execution_count": 200,
   "id": "50f0c1e6-8fd8-4678-b2ee-3232d201caa8",
   "metadata": {},
   "outputs": [],
   "source": [
    "hist_gt, bins_gt = np.histogram(gt_samples.numpy(), bins=30, range=(-1.5, 1.5))\n",
    "hist_estimate, bins_estimate = np.histogram(samples_cut.numpy(), bins=30, range=(-1.5, 1.5))"
   ]
  },
  {
   "cell_type": "code",
   "execution_count": 201,
   "id": "9af82099-a9fa-4425-a45a-bc90326560bf",
   "metadata": {},
   "outputs": [
    {
     "data": {
      "image/png": "[encoded data removed]",
      "text/plain": [
       "<Figure size 300x300 with 1 Axes>"
      ]
     },
     "metadata": {},
     "output_type": "display_data"
    }
   ],
   "source": [
    "fig, ax = plt.subplots(1, 1, figsize=(3, 3))\n",
    "_ = ax.plot(bins_gt[:-1] + 0.5 * (bins_gt[1] - bins_gt[0]), hist_gt)\n",
    "_ = ax.plot(bins_estimate[:-1] + 0.5 * (bins_estimate[1] - bins_estimate[0]), hist_estimate)"
   ]
  },
  {
   "cell_type": "markdown",
   "id": "311309fa-bd5d-4bfd-9d5e-6085cef7b426",
   "metadata": {},
   "source": [
    "### Compute c2st"
   ]
  },
  {
   "cell_type": "code",
   "execution_count": 113,
   "id": "413feab3-004a-46d6-9894-f032c2c0a2ef",
   "metadata": {},
   "outputs": [],
   "source": [
    "c2st_val = c2st(samples_cut, gt_samples)"
   ]
  },
  {
   "cell_type": "code",
   "execution_count": 114,
   "id": "b7a4992b-dcbd-4b2c-b47f-8ecbb31a71f3",
   "metadata": {},
   "outputs": [
    {
     "data": {
      "text/plain": [
       "torch.Size([10000, 1])"
      ]
     },
     "execution_count": 114,
     "metadata": {},
     "output_type": "execute_result"
    }
   ],
   "source": [
    "gt_samples.shape"
   ]
  },
  {
   "cell_type": "code",
   "execution_count": 115,
   "id": "3a9137e3-6d5d-42c9-ad7e-64d43c3ce0c1",
   "metadata": {},
   "outputs": [
    {
     "data": {
      "text/plain": [
       "torch.Size([10000, 1])"
      ]
     },
     "execution_count": 115,
     "metadata": {},
     "output_type": "execute_result"
    }
   ],
   "source": [
    "samples_cut.shape"
   ]
  },
  {
   "cell_type": "code",
   "execution_count": 116,
   "id": "83c30ca1-e020-4a42-a889-642be4c6999c",
   "metadata": {},
   "outputs": [
    {
     "name": "stdout",
     "output_type": "stream",
     "text": [
      "tensor([0.4271])\n"
     ]
    }
   ],
   "source": [
    "print(c2st_val)"
   ]
  },
  {
   "cell_type": "code",
   "execution_count": null,
   "id": "d9a62f9a-31b0-4b6e-8a6b-92f59b85996d",
   "metadata": {},
   "outputs": [],
   "source": []
  }
 ],
 "metadata": {
  "kernelspec": {
   "display_name": "Python 3 (ipykernel)",
   "language": "python",
   "name": "python3"
  },
  "language_info": {
   "codemirror_mode": {
    "name": "ipython",
    "version": 3
   },
   "file_extension": ".py",
   "mimetype": "text/x-python",
   "name": "python",
   "nbconvert_exporter": "python",
   "pygments_lexer": "ipython3",
   "version": "3.8.13"
  }
 },
 "nbformat": 4,
 "nbformat_minor": 5
}
